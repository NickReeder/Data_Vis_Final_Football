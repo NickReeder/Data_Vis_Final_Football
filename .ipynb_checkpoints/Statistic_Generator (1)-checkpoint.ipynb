{
  "nbformat": 4,
  "nbformat_minor": 0,
  "metadata": {
    "colab": {
      "provenance": []
    },
    "kernelspec": {
      "name": "python3",
      "display_name": "Python 3"
    },
    "language_info": {
      "name": "python"
    }
  },
  "cells": [
    {
      "cell_type": "code",
      "source": [
        "from google.colab import drive\n",
        "drive.mount('/content/drive')"
      ],
      "metadata": {
        "colab": {
          "base_uri": "https://localhost:8080/"
        },
        "id": "LRke-dFFZlO7",
        "outputId": "fab16fcb-3747-4d00-d430-a0b1c50edbe8"
      },
      "execution_count": 1,
      "outputs": [
        {
          "output_type": "stream",
          "name": "stdout",
          "text": [
            "Mounted at /content/drive\n"
          ]
        }
      ]
    },
    {
      "cell_type": "code",
      "execution_count": 2,
      "metadata": {
        "id": "UH7wNMAsZLcE"
      },
      "outputs": [],
      "source": [
        "### IMPORTS AND GETTING DATA\n",
        "import pandas as pd\n",
        "import numpy as np\n",
        "import matplotlib.pyplot as plt\n",
        "import os\n",
        "from __future__ import annotations"
      ]
    },
    {
      "cell_type": "code",
      "source": [
        "\n",
        "\n",
        "path = '/content/drive/My Drive/WM_Football_Independent_Study'\n",
        "\n",
        "os.chdir(path)\n",
        "\n",
        "\n",
        "from src.football_viz import FBField\n",
        "from src.football_db import FootballDB\n",
        "import src.dropdown_lists as dropdown\n",
        "\n"
      ],
      "metadata": {
        "id": "Kalql8HTgg09"
      },
      "execution_count": 3,
      "outputs": []
    },
    {
      "cell_type": "code",
      "source": [
        "FDB = FootballDB()"
      ],
      "metadata": {
        "colab": {
          "base_uri": "https://localhost:8080/"
        },
        "id": "e3nRsmqE8pRu",
        "outputId": "b0fb7d30-e664-4f61-e51e-1c899991caa5"
      },
      "execution_count": 4,
      "outputs": [
        {
          "output_type": "stream",
          "name": "stdout",
          "text": [
            "Creating the database\n"
          ]
        }
      ]
    },
    {
      "cell_type": "code",
      "source": [
        "### Functions\n",
        "\n",
        "def get_defensive_stats(team, df, verbose = False):\n",
        "  import numpy as np\n",
        "\n",
        "  '''\n",
        "  Inputs: DataFrame, Team, Verbose (optional)\n",
        "    If verbose = True, prints number of plays to analyze\n",
        "  Outputs: Dictionary of stats\n",
        "\n",
        "  Takes a dataframe, subsets it, and devlops defensive stats for the specified team. Stats returned are:\n",
        "  avg_yards_conceded: average yards conceded per play\n",
        "  median_yards_conceded: median yards conceded per play\n",
        "  first_down_efficency: 1 - (first downs allowed / number of plays)\n",
        "  first_down_on_fourth_effic: 1 - (first downs allowed on fourth down / number of of fourth downs)\n",
        "  '''\n",
        "\n",
        "\n",
        "  if team not in df['defense'].unique():\n",
        "      print('Input defense is not in our data, please check spelling at try again')\n",
        "      return()\n",
        "\n",
        "  team_df = df[df['defense'] == team]\n",
        "\n",
        "  num_plays = len(team_df)\n",
        "  if verbose == True:\n",
        "    print('there are', num_plays, 'to analyze')\n",
        "\n",
        "  avg_yards_conceded = np.mean(team_df['yards_gained'])\n",
        "  median_yards_conceded = np.median(team_df['yards_gained'])\n",
        "  try:\n",
        "    first_down_efficency = team_df['first_down_conv'].value_counts()['Y'] / num_plays\n",
        "  except KeyError:\n",
        "    first_down_efficency = 0\n",
        "\n",
        "\n",
        "\n",
        "  four_d = team_df[team_df['down'] == 4]\n",
        "  num_four_d = len(four_d)\n",
        "  try:\n",
        "    first_down_on_fourth_effic = four_d['first_down_conv'].value_counts()['Y'] / num_four_d\n",
        "  except KeyError:\n",
        "    first_down_on_fourth_effic = 0\n",
        "\n",
        "  stats_dict = {'avg_yards_conceded': round(avg_yards_conceded, 3),\n",
        "                'median_yards_conceded': median_yards_conceded,\n",
        "                'first_down_efficency': round(1 - first_down_efficency, 5),\n",
        "                'first_down_on_fourth_effic': round(1 - first_down_on_fourth_effic, 5)\n",
        "                }\n",
        "\n",
        "  return(stats_dict)\n",
        "\n",
        "\n",
        "\n",
        "\n",
        "  ######################################################################################\n",
        "\n",
        "\n",
        "def get_offensive_stats(team, df, verbose = False):\n",
        "  import numpy as np\n",
        "\n",
        "\n",
        "  '''\n",
        "  Inputs: DataFrame, Team, Verbose (optional)\n",
        "    If verbose = True, prints number of plays to analyze\n",
        "  Outputs: Dictionary of stats\n",
        "\n",
        "  Takes a dataframe, subsets it, and devlops offensive stats for the specified team. Stats returned are:\n",
        "  avg_yards: average yards gained per play\n",
        "  first_down_efficency: first downs / number of plays\n",
        "  first_down_on_fourth_effic: first downs allowed on fourth down / number of of fourth downs\n",
        "\n",
        "  '''\n",
        "\n",
        "\n",
        "  if team not in df['offense'].unique():\n",
        "      print('Input offense is not in our data, please check spelling at try again')\n",
        "      return()\n",
        "  rush_team = df[df['offense'] == team]\n",
        "\n",
        "  if 'yards_gained' not in rush_team.columns:\n",
        "      print('No yards gained found, please ensure you are using the correct dataframe')\n",
        "      return()\n",
        "\n",
        "  num_plays = len(rush_team)\n",
        "  if verbose == True:\n",
        "    print('there are', num_plays, 'to analyze')\n",
        "\n",
        "  avg_yard = np.mean(rush_team['yards_gained'])\n",
        "\n",
        "  median_yard = np.median(rush_team['yards_gained'])\n",
        "  try:\n",
        "    fd_effic = rush_team['first_down_conv'].value_counts()['Y'] / num_plays\n",
        "  except KeyError:\n",
        "    fd_effic = 0\n",
        "  avg_yard = np.mean(rush_team['yards_gained'])\n",
        "\n",
        "\n",
        "  four_d = rush_team[rush_team['down'] == 4]\n",
        "  num_four_d = len(four_d)\n",
        "  try:\n",
        "    first_down_on_fourth_effic = four_d['first_down_conv'].value_counts()['Y'] / num_four_d\n",
        "  except KeyError:\n",
        "    first_down_on_fourth_effic = 0\n",
        "\n",
        "\n",
        "  stats_dict = {'avg_yard': np.round(avg_yard, 3),\n",
        "                'median_yard': median_yard,\n",
        "                'fd_effic': np.round(fd_effic, 5),\n",
        "                'first_down_on_fourth_effic': np.round(first_down_on_fourth_effic, 5)\n",
        "              }\n",
        "  return(stats_dict)\n",
        "\n",
        "\n",
        "##################################################\n",
        "\n",
        "def get_offensive_dict(df):\n",
        "\n",
        "  '''\n",
        "  Inputs: a pandas dataframe\n",
        "  Outputs: a dictionary of offensive stats for each team\n",
        "\n",
        "  Generates a dictionary of offensive stats for each team in the dataset\n",
        "  '''\n",
        "  output = {}\n",
        "\n",
        "  for team in df['offense'].unique():\n",
        "    output[team] = get_offensive_stats(team, df)\n",
        "\n",
        "  return(output)\n",
        "\n",
        "\n",
        "####################################\n",
        "\n",
        "\n",
        "def get_defensive_dict(df):\n",
        "  output = {}\n",
        "\n",
        "  for team in df['defense'].unique():\n",
        "    output[team] = get_defensive_stats(team, df)\n",
        "\n",
        "  return(output)\n",
        "\n",
        "###################################\n",
        "\n",
        "\n",
        "def get_off_stats_against(offense, defense, df, verbose = False):\n",
        "  '''\n",
        "  Inputs: offense, defense, dataframe\n",
        "  Outputs: dictionary of offensive stats against that specfic team\n",
        "  '''\n",
        "\n",
        "  if offense not in df['offense'].unique():\n",
        "      print('Input offense is not in our data, please check spelling at try again')\n",
        "      return()\n",
        "  if defense not in df['defense'].unique():\n",
        "      print('Input defense is not in our data, please check spelling at try again')\n",
        "      return()\n",
        "\n",
        "\n",
        "\n",
        "  df_off = df[df['offense'] == offense]\n",
        "\n",
        "  df_combo = df[(df['offense'] == offense) & (df['defense'] == defense)]\n",
        "\n",
        "  if len(df_combo) == 0:\n",
        "    if verbose:\n",
        "      print('No data for', offense, 'against', defense)\n",
        "    return()\n",
        "  else:\n",
        "    stats_dict = get_offensive_stats(offense, df_combo)\n",
        "\n",
        "  return(stats_dict)\n",
        "\n",
        "\n",
        "#########################\n",
        "\n",
        "def get_def_stats_against(offense, defense, df, verbose = False):\n",
        "  '''\n",
        "  Inputs: offense, defense, dataframe\n",
        "  Outputs: dictionary of defensive stats against that specfic team\n",
        "  '''\n",
        "\n",
        "  if offense not in df['offense'].unique():\n",
        "      print('Input offense is not in our data, please check spelling at try again')\n",
        "      return()\n",
        "  if defense not in df['defense'].unique():\n",
        "      print('Input defense is not in our data, please check spelling at try again')\n",
        "      return()\n",
        "\n",
        "\n",
        "\n",
        "  df_combo = df[(df['offense'] == offense) & (df['defense'] == defense)]\n",
        "\n",
        "  if len(df_combo) == 0:\n",
        "    if verbose:\n",
        "      print('No data for', offense, 'against', defense)\n",
        "    return()\n",
        "  else:\n",
        "    stats_dict = get_defensive_stats(defense, df_combo)\n",
        "\n",
        "  return(stats_dict)\n",
        "\n",
        "#########################################\n",
        "\n",
        "\n",
        "def get_offensive_dict_against(offense, df):\n",
        "  '''\n",
        "  Inputs: offense, dataframe\n",
        "  Outputs: dictionary of offensive stats against each team\n",
        "  '''\n",
        "\n",
        "  if offense not in df['offense'].unique():\n",
        "      print('Input offense is not in our data, please check spelling at try again')\n",
        "      return()\n",
        "\n",
        "\n",
        "  output = {}\n",
        "\n",
        "  for team in df['defense'].unique():\n",
        "    output[team] = get_off_stats_against(offense, team, df)\n",
        "\n",
        "  return(output)\n",
        "\n",
        "\n",
        "####################################\n",
        "\n",
        "\n",
        "def get_defensive_dict_against(defense, df):\n",
        "  '''\n",
        "  Inputs: defense, dataframe\n",
        "  Outputs: dictionary of defensive stats against each team\n",
        "  '''\n",
        "\n",
        "  if defense not in df['defense'].unique():\n",
        "      print('Input defense is not in our data, please check spelling at try again')\n",
        "      return()\n",
        "\n",
        "  output = {}\n",
        "\n",
        "  for team in df['offense'].unique():\n",
        "    output[team] = get_def_stats_against(team, defense, df)\n",
        "\n",
        "  return(output)\n",
        "\n",
        "\n"
      ],
      "metadata": {
        "id": "8MRS9C4kZt3G"
      },
      "execution_count": 94,
      "outputs": []
    },
    {
      "cell_type": "markdown",
      "source": [
        "Testing the functions.\n",
        "\n",
        "Timing:\n",
        "  - get_defensive_stats/get_offensive_stats: Trivially Fast\n",
        "  - get_defensive_dict/get_offensive_dict: ~5.5 seconds\n",
        "  - get_defensive_stats_against/get_offensve_stats_against: Trivially Fast\n",
        "  - get_defensive_dict_against/get_offensive_dict_against: ~16s\n"
      ],
      "metadata": {
        "id": "732up8RVtE1_"
      }
    },
    {
      "cell_type": "code",
      "source": [
        "rush = FDB.get_tRush()\n",
        "throw = FDB.get_tPass()"
      ],
      "metadata": {
        "id": "_Bc936F21R2a"
      },
      "execution_count": 6,
      "outputs": []
    },
    {
      "cell_type": "code",
      "source": [
        "rush_off = rush['offense'].unique()\n",
        "rush_def = rush['defense'].unique()\n",
        "throw_off = throw['offense'].unique()\n",
        "throw_def = throw['defense'].unique()"
      ],
      "metadata": {
        "id": "axmhcvUy81DA"
      },
      "execution_count": 7,
      "outputs": []
    },
    {
      "cell_type": "code",
      "source": [
        "#Checking every team is in every data frame\n",
        "\n",
        "print('Checking rush offense')\n",
        "for team in rush_off:\n",
        "  if team not in throw_off:\n",
        "    print(team, 'not in passing offense')\n",
        "  if team not in throw_def:\n",
        "    print(team, 'not in passing defense')\n",
        "  if team not in rush_def:\n",
        "    print(team, 'not in rushing defense')\n",
        "\n",
        "print('Checking rush defense')\n",
        "for team in rush_def:\n",
        "  if team not in throw_off:\n",
        "    print(team, 'not in passing offense')\n",
        "  if team not in throw_def:\n",
        "    print(team, 'not in passing defense')\n",
        "  if team not in rush_off:\n",
        "    print(team, 'not in rushing offense')\n",
        "\n",
        "print('Checking passing offense')\n",
        "for team in throw_off:\n",
        "  if team not in rush_off:\n",
        "    print(team, 'not in rushing offense')\n",
        "  if team not in throw_def:\n",
        "    print(team, 'not in passing defense')\n",
        "  if team not in rush_def:\n",
        "    print(team, 'not in rushing defense')\n",
        "\n",
        "print('Checking passing offense')\n",
        "for team in throw_def:\n",
        "  if team not in rush_off:\n",
        "    print(team, 'not in rushing offense')\n",
        "  if team not in throw_off:\n",
        "    print(team, 'not in passing offense')\n",
        "  if team not in rush_def:\n",
        "    print(team, 'not in rushing defense')\n",
        "\n"
      ],
      "metadata": {
        "colab": {
          "base_uri": "https://localhost:8080/"
        },
        "id": "88FhCUhq9BGv",
        "outputId": "0385bb3b-1cbb-43c9-f9a9-b104f08cc652"
      },
      "execution_count": 9,
      "outputs": [
        {
          "output_type": "stream",
          "name": "stdout",
          "text": [
            "Checking rush offense\n",
            "Checking rush defense\n",
            "Checking passing offense\n",
            "Checking passing offense\n"
          ]
        }
      ]
    },
    {
      "cell_type": "code",
      "source": [
        "%%time\n",
        "test = get_offensive_dict(rush)"
      ],
      "metadata": {
        "colab": {
          "base_uri": "https://localhost:8080/"
        },
        "id": "YRWAhvU2AGQR",
        "outputId": "62d422e7-a44b-4be2-8507-7fc650b59b5d"
      },
      "execution_count": 10,
      "outputs": [
        {
          "output_type": "stream",
          "name": "stdout",
          "text": [
            "CPU times: user 6.48 s, sys: 0 ns, total: 6.48 s\n",
            "Wall time: 6.64 s\n"
          ]
        }
      ]
    },
    {
      "cell_type": "markdown",
      "source": [],
      "metadata": {
        "id": "mm3Ts8hNAYWQ"
      }
    },
    {
      "cell_type": "code",
      "source": [],
      "metadata": {
        "id": "eA3lNl94GPVc"
      },
      "execution_count": 10,
      "outputs": []
    },
    {
      "cell_type": "code",
      "source": [
        "WM_pass_off = throw[throw['offense'] == 'VAWM']\n",
        "WM_pass_off['yards_gained'].fillna(0, inplace = True)\n",
        "WM_rush_off= rush[rush['offense'] == 'VAWM']\n",
        "WM_rush_off['yards_gained'].fillna(0, inplace = True)\n"
      ],
      "metadata": {
        "id": "VRhsAvYK85WV"
      },
      "execution_count": 11,
      "outputs": []
    },
    {
      "cell_type": "code",
      "source": [
        "%%time\n",
        "WM_Rushing_stats_overall = get_offensive_stats('VAWM', rush)"
      ],
      "metadata": {
        "colab": {
          "base_uri": "https://localhost:8080/"
        },
        "id": "fljaCkr7-kWP",
        "outputId": "2d73fe30-fbf3-4cf5-b809-ffa49a08664c"
      },
      "execution_count": 12,
      "outputs": [
        {
          "output_type": "stream",
          "name": "stdout",
          "text": [
            "CPU times: user 39.8 ms, sys: 0 ns, total: 39.8 ms\n",
            "Wall time: 40.5 ms\n"
          ]
        }
      ]
    },
    {
      "cell_type": "code",
      "source": [
        "test['VAWM'] == WM_Rushing_stats_overall"
      ],
      "metadata": {
        "colab": {
          "base_uri": "https://localhost:8080/"
        },
        "id": "dmp_A18o-48z",
        "outputId": "e9cf4482-a9a8-4fbe-fd84-a886bdd5ef21"
      },
      "execution_count": 13,
      "outputs": [
        {
          "output_type": "execute_result",
          "data": {
            "text/plain": [
              "True"
            ]
          },
          "metadata": {},
          "execution_count": 13
        }
      ]
    },
    {
      "cell_type": "code",
      "source": [
        "WM_Rushing_stats_overall"
      ],
      "metadata": {
        "colab": {
          "base_uri": "https://localhost:8080/"
        },
        "id": "gVLNo-8SEkKz",
        "outputId": "4b2f2ca6-4817-4155-8d8b-9d8969eae02b"
      },
      "execution_count": 14,
      "outputs": [
        {
          "output_type": "execute_result",
          "data": {
            "text/plain": [
              "{'avg_yard': 9.236,\n",
              " 'median_yard': 6.0,\n",
              " 'fd_effic': 301,\n",
              " 'first_down_on_fourth_effic': 0.5}"
            ]
          },
          "metadata": {},
          "execution_count": 14
        }
      ]
    },
    {
      "cell_type": "code",
      "source": [
        "test['VAWM']"
      ],
      "metadata": {
        "colab": {
          "base_uri": "https://localhost:8080/"
        },
        "id": "dtMJ238XEkQX",
        "outputId": "952d1caf-7411-4d21-afe0-0a5ae95fe21f"
      },
      "execution_count": 15,
      "outputs": [
        {
          "output_type": "execute_result",
          "data": {
            "text/plain": [
              "{'avg_yard': 9.236,\n",
              " 'median_yard': 6.0,\n",
              " 'fd_effic': 301,\n",
              " 'first_down_on_fourth_effic': 0.5}"
            ]
          },
          "metadata": {},
          "execution_count": 15
        }
      ]
    },
    {
      "cell_type": "code",
      "source": [
        "%%time\n",
        "test_2 = get_offensive_dict(throw)"
      ],
      "metadata": {
        "colab": {
          "base_uri": "https://localhost:8080/"
        },
        "outputId": "b0eb40e1-35b5-43e3-ea7c-6ea15fb829de",
        "id": "Lhz9PAZPDh2b"
      },
      "execution_count": 16,
      "outputs": [
        {
          "output_type": "stream",
          "name": "stdout",
          "text": [
            "CPU times: user 5.34 s, sys: 0 ns, total: 5.34 s\n",
            "Wall time: 5.37 s\n"
          ]
        }
      ]
    },
    {
      "cell_type": "code",
      "source": [
        "%%time\n",
        "WM_passing_stats_overall = get_offensive_stats('VAWM', throw)"
      ],
      "metadata": {
        "colab": {
          "base_uri": "https://localhost:8080/"
        },
        "outputId": "04d3aa0f-501b-46d2-f619-ecbb96be4868",
        "id": "a0efT1BUDh2c"
      },
      "execution_count": 17,
      "outputs": [
        {
          "output_type": "stream",
          "name": "stdout",
          "text": [
            "CPU times: user 38 ms, sys: 0 ns, total: 38 ms\n",
            "Wall time: 38.5 ms\n"
          ]
        }
      ]
    },
    {
      "cell_type": "code",
      "source": [
        "WM_passing_stats_overall"
      ],
      "metadata": {
        "colab": {
          "base_uri": "https://localhost:8080/"
        },
        "id": "2Mssy3jCDxO0",
        "outputId": "ef8cc2c0-53c1-4b30-a7c1-e69c0b424987"
      },
      "execution_count": 18,
      "outputs": [
        {
          "output_type": "execute_result",
          "data": {
            "text/plain": [
              "{'avg_yard': 19.464,\n",
              " 'median_yard': nan,\n",
              " 'fd_effic': 234,\n",
              " 'first_down_on_fourth_effic': 0.57692}"
            ]
          },
          "metadata": {},
          "execution_count": 18
        }
      ]
    },
    {
      "cell_type": "code",
      "source": [
        "test_2['VAWM']"
      ],
      "metadata": {
        "colab": {
          "base_uri": "https://localhost:8080/"
        },
        "id": "5M7rk9leDy55",
        "outputId": "d11609b3-c3bb-4eac-9941-503c1aa0ac6d"
      },
      "execution_count": 19,
      "outputs": [
        {
          "output_type": "execute_result",
          "data": {
            "text/plain": [
              "{'avg_yard': 19.464,\n",
              " 'median_yard': nan,\n",
              " 'fd_effic': 234,\n",
              " 'first_down_on_fourth_effic': 0.57692}"
            ]
          },
          "metadata": {},
          "execution_count": 19
        }
      ]
    },
    {
      "cell_type": "code",
      "source": [
        "test_2['VAWM'] == WM_passing_stats_overall"
      ],
      "metadata": {
        "colab": {
          "base_uri": "https://localhost:8080/"
        },
        "outputId": "3153032f-24e7-4592-efde-25156bf827be",
        "id": "ep3cQgaNDh2c"
      },
      "execution_count": 20,
      "outputs": [
        {
          "output_type": "execute_result",
          "data": {
            "text/plain": [
              "False"
            ]
          },
          "metadata": {},
          "execution_count": 20
        }
      ]
    },
    {
      "cell_type": "code",
      "source": [
        "WM_pass_off['defense'].unique()"
      ],
      "metadata": {
        "colab": {
          "base_uri": "https://localhost:8080/"
        },
        "id": "L-rOxqOODbsa",
        "outputId": "68ffbca3-2e84-43b0-9da0-feaddf38b5e4"
      },
      "execution_count": 27,
      "outputs": [
        {
          "output_type": "execute_result",
          "data": {
            "text/plain": [
              "array(['RIUN', 'VAJM', 'MEUN', 'PAVI', 'VARI', 'NCEL', 'PALF', 'NYCG',\n",
              "       'NYAB', 'MDTO', 'DEUN', 'NCCM', 'NYST', 'VAHI', 'NCGW', 'MTST'],\n",
              "      dtype=object)"
            ]
          },
          "metadata": {},
          "execution_count": 27
        }
      ]
    },
    {
      "cell_type": "code",
      "source": [
        "%%time\n",
        "get_off_stats_against(offense = 'VAWM', defense = 'MEUN', df = rush)"
      ],
      "metadata": {
        "colab": {
          "base_uri": "https://localhost:8080/"
        },
        "id": "PYfgkLxw85pz",
        "outputId": "87f8c53e-27c8-4950-c74e-78c24dfcde98"
      },
      "execution_count": 99,
      "outputs": [
        {
          "output_type": "stream",
          "name": "stdout",
          "text": [
            "CPU times: user 121 ms, sys: 962 µs, total: 122 ms\n",
            "Wall time: 128 ms\n"
          ]
        },
        {
          "output_type": "execute_result",
          "data": {
            "text/plain": [
              "{'avg_yard': 9.75,\n",
              " 'median_yard': 6.0,\n",
              " 'fd_effic': 0.33333,\n",
              " 'first_down_on_fourth_effic': 0.5}"
            ]
          },
          "metadata": {},
          "execution_count": 99
        }
      ]
    },
    {
      "cell_type": "code",
      "source": [
        "get_def_stats_against(offense = 'VAWM', defense = 'MEUN', df = rush)"
      ],
      "metadata": {
        "colab": {
          "base_uri": "https://localhost:8080/"
        },
        "id": "E5qm3qxYGcKR",
        "outputId": "3a262a17-ae95-4824-b70a-d07aeae9c796"
      },
      "execution_count": 91,
      "outputs": [
        {
          "output_type": "execute_result",
          "data": {
            "text/plain": [
              "{'avg_yards_conceded': 9.75,\n",
              " 'median_yards_conceded': 6.0,\n",
              " 'first_down_efficency': 0.66667,\n",
              " 'first_down_on_fourth_effic': 0.5}"
            ]
          },
          "metadata": {},
          "execution_count": 91
        }
      ]
    },
    {
      "cell_type": "code",
      "source": [
        "rush['offense'].unique()"
      ],
      "metadata": {
        "colab": {
          "base_uri": "https://localhost:8080/"
        },
        "id": "xfHBAGvtqAdD",
        "outputId": "1bdec813-9288-40b0-d58a-542c617523c9"
      },
      "execution_count": 73,
      "outputs": [
        {
          "output_type": "execute_result",
          "data": {
            "text/plain": [
              "array(['MOSW', 'ILSO', 'ILWE', 'DEUN', 'RIUN', 'NHUN', 'NYST', 'NYAB',\n",
              "       'NCEL', 'VAWM', 'MEUN', 'ILST', 'AZNO', 'VAJM', 'OHYO', 'TNMR',\n",
              "       'PADU', 'OHDA', 'RIBR', 'MOSE', 'MAMK', 'PARM', 'INVA', 'SDST',\n",
              "       'IADR', 'CADA', 'ORPS', 'NYMR', 'INBU', 'NDST', 'IANO', 'FLSS',\n",
              "       'CASU', 'INST', 'IDST', 'WAEA', 'KYMO', 'ARCE', 'MTUN', 'CASA',\n",
              "       'UTSO', 'IDUN', 'LASE', 'ILEA', 'CONO', 'TNCH', 'LANI', 'NCCE',\n",
              "       'SCST', 'PAVI', 'SDVE', 'CTSH', 'PABU', 'DEST', 'MTST', 'MDMO',\n",
              "       'NDUN', 'SCWO', 'UTWB', 'NCAT', 'ALNO', 'DCHO', 'NJMO', 'FLBC',\n",
              "       'TNAI', 'FLAM', 'VANO', 'VARI', 'NJPR', 'PASF', 'MAHA', 'TNTC',\n",
              "       'MDTO', 'MSJA', 'ARPB', 'PALF', 'CASL', 'KYEA', 'NYCW', 'MSVA',\n",
              "       'TNAP', 'NYCG', 'NYCN', 'NHDA', 'NYCL', 'ALJA', 'CTYA', 'PAUN',\n",
              "       'KYMU', 'MAHC', 'NYFO', 'PALE', 'NYWA', 'RIBT', 'DCGT', 'MSAL',\n",
              "       'LAGR', 'LASO', 'TXAC', 'SCCH', 'TXPV', 'LAMC', 'ALST', 'ALAM',\n",
              "       'TXLA', 'TXIW', 'TXSF', 'TXHT', 'SCCI', 'GAME', 'NCWE', 'SCFU',\n",
              "       'ALSM', 'TNEA', 'NCDA', 'NCGW', 'VAMI', 'SCPR', 'TXSO', 'LANW',\n",
              "       'GAKS', 'VAHI', 'NCCM', 'CTCE'], dtype=object)"
            ]
          },
          "metadata": {},
          "execution_count": 73
        }
      ]
    },
    {
      "cell_type": "code",
      "source": [
        "WM_rush_off['defense'].unique()"
      ],
      "metadata": {
        "colab": {
          "base_uri": "https://localhost:8080/"
        },
        "id": "RDMPbt89rt-0",
        "outputId": "bbb98092-0054-4851-8ad1-dec685b03878"
      },
      "execution_count": 88,
      "outputs": [
        {
          "output_type": "execute_result",
          "data": {
            "text/plain": [
              "array(['RIUN', 'VAJM', 'MEUN', 'PAVI', 'VARI', 'NCEL', 'PALF', 'NYCG',\n",
              "       'NYAB', 'MDTO', 'DEUN', 'NCCM', 'NYST', 'VAHI', 'NCGW', 'MTST'],\n",
              "      dtype=object)"
            ]
          },
          "metadata": {},
          "execution_count": 88
        }
      ]
    },
    {
      "cell_type": "code",
      "source": [
        "%%time\n",
        "foo = get_offensive_dict_against(offense = 'VAWM', df = rush)"
      ],
      "metadata": {
        "colab": {
          "base_uri": "https://localhost:8080/"
        },
        "id": "3xp94Dkqjhzs",
        "outputId": "af5cb7fa-0352-42c9-b6c2-d07f247aef5f"
      },
      "execution_count": 97,
      "outputs": [
        {
          "output_type": "stream",
          "name": "stdout",
          "text": [
            "CPU times: user 13.8 s, sys: 35.2 ms, total: 13.8 s\n",
            "Wall time: 15.8 s\n"
          ]
        }
      ]
    },
    {
      "cell_type": "code",
      "source": [
        "foo['MEUN']"
      ],
      "metadata": {
        "colab": {
          "base_uri": "https://localhost:8080/"
        },
        "id": "d268nfpvpZjH",
        "outputId": "92cdd23d-d89f-41f5-f6db-00aec8f08bf7"
      },
      "execution_count": 98,
      "outputs": [
        {
          "output_type": "execute_result",
          "data": {
            "text/plain": [
              "{'avg_yard': 9.75,\n",
              " 'median_yard': 6.0,\n",
              " 'fd_effic': 0.33333,\n",
              " 'first_down_on_fourth_effic': 0.5}"
            ]
          },
          "metadata": {},
          "execution_count": 98
        }
      ]
    },
    {
      "cell_type": "code",
      "source": [],
      "metadata": {
        "id": "VwKenpuxs-ph"
      },
      "execution_count": null,
      "outputs": []
    }
  ]
}