{
 "cells": [
  {
   "cell_type": "code",
   "execution_count": 60,
   "metadata": {},
   "outputs": [
    {
     "name": "stdout",
     "output_type": "stream",
     "text": [
      "Requirement already satisfied: nbformat in c:\\users\\reede\\appdata\\local\\packages\\pythonsoftwarefoundation.python.3.11_qbz5n2kfra8p0\\localcache\\local-packages\\python311\\site-packages (5.9.2)Note: you may need to restart the kernel to use updated packages.\n"
     ]
    },
    {
     "name": "stderr",
     "output_type": "stream",
     "text": [
      "\n",
      "[notice] A new release of pip is available: 23.2.1 -> 23.3.1\n",
      "[notice] To update, run: C:\\Users\\reede\\AppData\\Local\\Microsoft\\WindowsApps\\PythonSoftwareFoundation.Python.3.11_qbz5n2kfra8p0\\python.exe -m pip install --upgrade pip\n"
     ]
    },
    {
     "name": "stdout",
     "output_type": "stream",
     "text": [
      "\n",
      "Requirement already satisfied: fastjsonschema in c:\\users\\reede\\appdata\\local\\packages\\pythonsoftwarefoundation.python.3.11_qbz5n2kfra8p0\\localcache\\local-packages\\python311\\site-packages (from nbformat) (2.19.0)\n",
      "Requirement already satisfied: jsonschema>=2.6 in c:\\users\\reede\\appdata\\local\\packages\\pythonsoftwarefoundation.python.3.11_qbz5n2kfra8p0\\localcache\\local-packages\\python311\\site-packages (from nbformat) (4.20.0)\n",
      "Requirement already satisfied: jupyter-core in c:\\users\\reede\\appdata\\local\\packages\\pythonsoftwarefoundation.python.3.11_qbz5n2kfra8p0\\localcache\\local-packages\\python311\\site-packages (from nbformat) (5.5.0)\n",
      "Requirement already satisfied: traitlets>=5.1 in c:\\users\\reede\\appdata\\local\\packages\\pythonsoftwarefoundation.python.3.11_qbz5n2kfra8p0\\localcache\\local-packages\\python311\\site-packages (from nbformat) (5.14.0)\n",
      "Requirement already satisfied: attrs>=22.2.0 in c:\\users\\reede\\appdata\\local\\packages\\pythonsoftwarefoundation.python.3.11_qbz5n2kfra8p0\\localcache\\local-packages\\python311\\site-packages (from jsonschema>=2.6->nbformat) (23.1.0)\n",
      "Requirement already satisfied: jsonschema-specifications>=2023.03.6 in c:\\users\\reede\\appdata\\local\\packages\\pythonsoftwarefoundation.python.3.11_qbz5n2kfra8p0\\localcache\\local-packages\\python311\\site-packages (from jsonschema>=2.6->nbformat) (2023.11.2)\n",
      "Requirement already satisfied: referencing>=0.28.4 in c:\\users\\reede\\appdata\\local\\packages\\pythonsoftwarefoundation.python.3.11_qbz5n2kfra8p0\\localcache\\local-packages\\python311\\site-packages (from jsonschema>=2.6->nbformat) (0.31.1)\n",
      "Requirement already satisfied: rpds-py>=0.7.1 in c:\\users\\reede\\appdata\\local\\packages\\pythonsoftwarefoundation.python.3.11_qbz5n2kfra8p0\\localcache\\local-packages\\python311\\site-packages (from jsonschema>=2.6->nbformat) (0.13.2)\n",
      "Requirement already satisfied: platformdirs>=2.5 in c:\\users\\reede\\appdata\\local\\packages\\pythonsoftwarefoundation.python.3.11_qbz5n2kfra8p0\\localcache\\local-packages\\python311\\site-packages (from jupyter-core->nbformat) (4.0.0)\n",
      "Requirement already satisfied: pywin32>=300 in c:\\users\\reede\\appdata\\local\\packages\\pythonsoftwarefoundation.python.3.11_qbz5n2kfra8p0\\localcache\\local-packages\\python311\\site-packages (from jupyter-core->nbformat) (306)\n",
      "Note: you may need to restart the kernel to use updated packages.\n"
     ]
    },
    {
     "name": "stderr",
     "output_type": "stream",
     "text": [
      "ERROR: Invalid requirement: '%upgrade'\n",
      "\n",
      "[notice] A new release of pip is available: 23.2.1 -> 23.3.1\n",
      "[notice] To update, run: C:\\Users\\reede\\AppData\\Local\\Microsoft\\WindowsApps\\PythonSoftwareFoundation.Python.3.11_qbz5n2kfra8p0\\python.exe -m pip install --upgrade pip\n"
     ]
    }
   ],
   "source": [
    "try: \n",
    "    import plotly.graph_objects as go\n",
    "except:\n",
    "    %pip install plotly\n",
    "    import plotly.graph_objects as go\n",
    "import pandas as pd\n",
    "import numpy as np\n",
    "import plotly.express as px\n",
    "import plotly.subplots as sp\n",
    "\n",
    "import os\n",
    "import json\n",
    "try:\n",
    "    import seaborn as sns\n",
    "except:\n",
    "    %pip install seaborn\n",
    "    import seaborn as sns\n",
    "\n",
    "%pip install nbformat\n",
    "\n",
    "%pip install %upgrade pip"
   ]
  },
  {
   "cell_type": "code",
   "execution_count": 73,
   "metadata": {},
   "outputs": [],
   "source": [
    "cwd = os.getcwd()\n",
    "os.chdir('C:\\\\Users\\\\reede\\\\OneDrive\\\\Documents\\\\GitHub\\\\Data_Vis_Final_Football\\\\data')\n",
    "#os.chdir('c:\\\\Users\\\\Nick\\\\Dropbox\\\\PC\\\\Documents\\\\GitHub\\\\Data_Vis_Final_Football\\\\data')\n",
    "with open('NFL_Stats.json', 'r') as f:\n",
    "  data = json.load(f)\n",
    "\n",
    "os.chdir('C:\\\\Users\\\\reede\\\\OneDrive\\\\Documents\\\\GitHub\\\\Data_Vis_Final_Football\\\\viz_testing_notebooks')\n",
    "#os.chdir('c:\\\\Users\\\\Nick\\\\Dropbox\\\\PC\\\\Documents\\\\GitHub\\\\Data_Vis_Final_Football\\\\viz_testing_notebooks')\n"
   ]
  },
  {
   "cell_type": "code",
   "execution_count": 75,
   "metadata": {},
   "outputs": [
    {
     "name": "stdout",
     "output_type": "stream",
     "text": [
      "dict_keys(['BLT', 'DEN', 'NE', 'BUF', 'CAR', 'SEA', 'CHI', 'CIN', 'CLV', 'MIA', 'DET', 'MIN', 'LV', 'IND', 'KC', 'JAX', 'ATL', 'NO', 'TB', 'NYJ', 'PIT', 'TEN', 'GB', 'SF', 'LA', 'ARZ', 'DAL', 'NYG', 'PHI', 'WAS', 'LAC', 'HST'])\n",
      "32\n"
     ]
    }
   ],
   "source": [
    "print(data.keys())\n",
    "print(len(data))"
   ]
  },
  {
   "cell_type": "markdown",
   "metadata": {},
   "source": []
  },
  {
   "cell_type": "code",
   "execution_count": 4,
   "metadata": {},
   "outputs": [
    {
     "name": "stdout",
     "output_type": "stream",
     "text": [
      "dict_keys(['rush_off_general', 'rush_def_general', 'pass_off_general', 'pass_def_general', 'rush_off_by_team', 'rush_def_by_team', 'pass_off_by_team', 'pass_def_by_team'])\n"
     ]
    }
   ],
   "source": [
    "print(data['BLT'].keys())"
   ]
  },
  {
   "cell_type": "markdown",
   "metadata": {},
   "source": [
    "### Looking at the league overall\n",
    "\n",
    "# Two scatter plots consisting of a team offensive and defensive efficencies"
   ]
  },
  {
   "cell_type": "code",
   "execution_count": 5,
   "metadata": {},
   "outputs": [
    {
     "data": {
      "text/plain": [
       "dict_keys(['BLT', 'DEN', 'NE', 'BUF', 'CAR', 'SEA', 'CHI', 'CIN', 'CLV', 'MIA', 'DET', 'MIN', 'OAK', 'IND', 'KC', 'JAX', 'ATL', 'NO', 'TB', 'NYJ', 'PIT', 'TEN', 'GB', 'SF', 'SL', 'ARZ', 'DAL', 'NYG', 'PHI', 'WAS', 'SD', 'HST', 'LA', 'LAC', 'LV'])"
      ]
     },
     "execution_count": 5,
     "metadata": {},
     "output_type": "execute_result"
    }
   ],
   "source": [
    "data.keys()"
   ]
  },
  {
   "cell_type": "code",
   "execution_count": 64,
   "metadata": {},
   "outputs": [],
   "source": [
    "AFC_E = ['NE', 'BUF', 'MIA', 'NYJ']\n",
    "AFC_W = ['DEN', 'OAK', 'KC', 'LAC', 'SD', 'LV']\n",
    "AFC_N = ['BLT', 'CIN', 'CLV', 'PIT'] \n",
    "AFC_S = ['IND', 'JAX', 'TEN', 'HST']\n",
    "\n",
    "NFC_E = ['PHI', 'WAS', 'DAL', 'NYG']\n",
    "NFC_W = ['SEA', 'LA', 'SF', 'ARZ', 'SL']\n",
    "NFC_N = ['CHI', 'DET', 'MIN', 'GB']\n",
    "NFC_S = ['CAR', 'ATL', 'TB', 'NO']\n",
    "\n",
    "afc = AFC_E + AFC_N + AFC_S + AFC_W\n",
    "nfc = NFC_E +NFC_N + NFC_S + NFC_W"
   ]
  },
  {
   "cell_type": "code",
   "execution_count": 65,
   "metadata": {},
   "outputs": [],
   "source": [
    "team_code_dict = {\n",
    "'ARZ':\t'Arizona Cardinals',\n",
    "'ATL':\t'Atlanta Falcons',\n",
    "'BLT':\t'Baltimore Ravens',\n",
    "'BUF':\t'Buffalo Bills',\n",
    "'CAR':\t'Carolina Panthers',\n",
    "'CHI':\t'Chicago Bears',\n",
    "'CIN':\t'Cincinnati Bengals',\n",
    "'CLV':\t'Cleveland Browns',\n",
    "'DAL':\t'Dallas Cowboys',\n",
    "'DEN':\t'Denver Broncos',\n",
    "'DET':\t'Detroit Lions',\n",
    "'GB':\t'Green Bay Packers',\n",
    "'HST':\t'Houston Texans',\n",
    "'IND':\t'Indianapolis Colts',\n",
    "'JAX':\t'Jacksonville Jaguars',\n",
    "'KC':\t'Kansas City Chiefs',\n",
    "'LV':\t'Las Vegas Raiders',\n",
    "'LAC':\t'Los Angeles Chargers',\n",
    "'LA':\t'Los Angeles Rams',\n",
    "'MIA':\t'Miami Dolphins',\n",
    "'MIN':\t'Minnesota Vikings',\n",
    "'NE':\t'New England Patriots',\n",
    "'NO':\t'New Orleans Saints',\n",
    "'NYG':\t'New York Giants',\n",
    "'NYJ':\t'New York Jets',\n",
    "'PHI':\t'Philadelphia Eagles',\n",
    "'PIT':\t'Pittsburgh Steelers',\n",
    "'SF':\t'San Francisco 49ers',\n",
    "'SEA':\t'Seattle Seahawks',\n",
    "'TB':\t'Tampa Bay Buccaneers',\n",
    "'TEN':'Tennessee Titans',\n",
    "'WAS':\t'Washington Commanders'\n",
    "}"
   ]
  },
  {
   "cell_type": "code",
   "execution_count": 66,
   "metadata": {},
   "outputs": [],
   "source": [
    "divs = []\n",
    "symbol = []\n",
    "full_name = []\n",
    "for team in data.keys():\n",
    "    full_name.append(team_code_dict[team])\n",
    "    if team in AFC_E:\n",
    "        divs.append('AFC East')\n",
    "        symbol.append('circle')\n",
    "    elif team in AFC_N:\n",
    "        divs.append('AFC North')\n",
    "        symbol.append('circle')\n",
    "    elif team in AFC_S:\n",
    "        divs.append('AFC South')\n",
    "        symbol.append('circle')\n",
    "    elif team in AFC_W:\n",
    "        divs.append('AFC West')\n",
    "        symbol.append('circle')\n",
    "    elif team in NFC_E:\n",
    "        divs.append('NFC East')\n",
    "        symbol.append('diamond')\n",
    "    elif team in NFC_N:\n",
    "        divs.append('NFC North')\n",
    "        symbol.append('diamond')\n",
    "    elif team in NFC_S:\n",
    "        divs.append('NFC South')\n",
    "        symbol.append('diamond')\n",
    "    elif team in NFC_W:\n",
    "        symbol.append('diamond')\n",
    "        divs.append('NFC West')\n",
    "    else:\n",
    "        print(team)"
   ]
  },
  {
   "cell_type": "code",
   "execution_count": null,
   "metadata": {},
   "outputs": [],
   "source": []
  },
  {
   "cell_type": "code",
   "execution_count": 86,
   "metadata": {},
   "outputs": [],
   "source": [
    "rush_off = []\n",
    "rush_def = []\n",
    "pass_off = []\n",
    "pass_def = []\n",
    "for team in data.keys():\n",
    "    rush_off.append(data[team]['rush_off_general']['avg_yard'])\n",
    "    rush_def.append(data[team]['rush_def_general']['avg_yards_conceded'])\n",
    "    pass_off.append(data[team]['pass_off_general']['avg_yard'])\n",
    "    pass_def.append(data[team]['pass_def_general']['avg_yards_conceded'])\n",
    "\n",
    "plotting_data = pd.DataFrame(columns=['team', 'rush_off', 'rush_def', 'pass_off', 'pass_def', 'Divs'])\n",
    "\n",
    "plotting_data['team'] = data.keys()\n",
    "plotting_data['rush_off'] = [float(x) for x in rush_off]\n",
    "plotting_data['rush_def'] = [float(x) for x in rush_def]\n",
    "plotting_data['pass_off'] = [float(x) for x in pass_off]\n",
    "plotting_data['pass_def'] = [float(x) for x in pass_def]\n",
    "plotting_data['Divs'] = divs\n",
    "plotting_data['Symbol'] = symbol\n",
    "plotting_data['team_full'] = full_name\n",
    "\n",
    "\n"
   ]
  },
  {
   "cell_type": "code",
   "execution_count": 68,
   "metadata": {},
   "outputs": [],
   "source": [
    "plotting_data.sort_values(by=['Divs'], inplace= True)\n",
    "plotting_data.reset_index(inplace = True, drop = True)"
   ]
  },
  {
   "cell_type": "markdown",
   "metadata": {},
   "source": []
  },
  {
   "cell_type": "code",
   "execution_count": 69,
   "metadata": {},
   "outputs": [],
   "source": [
    "rush_off_avg = np.mean(plotting_data['rush_off'])\n",
    "rush_def_avg = np.mean(plotting_data['rush_def'])\n",
    "pass_off_avg = np.mean(plotting_data['pass_off'])\n",
    "pass_def_avg = np.mean(plotting_data['pass_def'])\n",
    "\n",
    "offense_groups = []\n",
    "defense_groups = []\n",
    "for index, row in plotting_data.iterrows():\n",
    "    if row['rush_off'] > rush_off_avg and row['pass_off'] > pass_off_avg: #Both above average\n",
    "        offense_groups.append('Both above average')\n",
    "    elif row['rush_off'] > rush_off_avg: #Only rush offense is above average\n",
    "        offense_groups.append('Rushing above average')\n",
    "    elif row['pass_off'] > pass_off_avg: #Only pass offense is above average\n",
    "        offense_groups.append('Passing above average')\n",
    "    else: #Both are below average\n",
    "        offense_groups.append('Both below average')\n",
    "\n",
    "    if row['rush_def'] > rush_def_avg and row['pass_def'] > pass_def_avg: #Both above average\n",
    "        defense_groups.append('Both above average')\n",
    "    elif row['rush_def'] > rush_def_avg: #Only rush offense is above average\n",
    "        defense_groups.append('Rushing above average')\n",
    "    elif row['pass_def'] > pass_def_avg: #Only pass offense is above average\n",
    "        defense_groups.append('Passing above average')\n",
    "    else: #Both are below average\n",
    "        defense_groups.append('Both below average')\n",
    "\n",
    "\n",
    "plotting_data['offense_groups'] = offense_groups\n",
    "plotting_data['defense_groups'] = defense_groups\n",
    "    \n",
    "\n"
   ]
  },
  {
   "cell_type": "code",
   "execution_count": 87,
   "metadata": {},
   "outputs": [
    {
     "data": {
      "application/vnd.plotly.v1+json": {
       "config": {
        "plotlyServerURL": "https://plot.ly"
       },
       "data": [
        {
         "customdata": [
          [
           "BLT",
           6.167,
           16.426,
           "AFC North",
           "circle"
          ],
          [
           "CIN",
           6.914,
           16.419,
           "AFC North",
           "circle"
          ],
          [
           "CLV",
           6.797,
           16.493,
           "AFC North",
           "circle"
          ],
          [
           "PIT",
           6.535,
           16.52,
           "AFC North",
           "circle"
          ]
         ],
         "hovertemplate": "Division=%{customdata[3]}<br>Rushing Output=%{x}<br>Passing Output=%{y}<br>Team Code=%{customdata[0]}<extra></extra>",
         "legendgroup": "AFC North, circle",
         "marker": {
          "color": "#ff0000",
          "size": 8,
          "symbol": "circle"
         },
         "mode": "markers",
         "name": "AFC North, circle",
         "orientation": "v",
         "showlegend": true,
         "type": "scatter",
         "x": [
          6.848,
          6.31,
          7.219,
          6.415
         ],
         "xaxis": "x",
         "y": [
          15.508,
          16.733,
          16.854,
          16.214
         ],
         "yaxis": "y"
        },
        {
         "customdata": [
          [
           "DEN",
           6.269,
           16.229,
           "AFC West",
           "circle"
          ],
          [
           "LV",
           6.597,
           17.181,
           "AFC West",
           "circle"
          ],
          [
           "KC",
           6.98,
           16.736,
           "AFC West",
           "circle"
          ],
          [
           "LAC",
           7.115,
           16.667,
           "AFC West",
           "circle"
          ]
         ],
         "hovertemplate": "Division=%{customdata[3]}<br>Rushing Output=%{x}<br>Passing Output=%{y}<br>Team Code=%{customdata[0]}<extra></extra>",
         "legendgroup": "AFC West, circle",
         "marker": {
          "color": "#0000ff",
          "size": 8,
          "symbol": "circle"
         },
         "mode": "markers",
         "name": "AFC West, circle",
         "orientation": "v",
         "showlegend": true,
         "type": "scatter",
         "x": [
          6.592,
          6.837,
          6.684,
          6.277
         ],
         "xaxis": "x",
         "y": [
          16.505,
          16.443,
          17.701,
          17.108
         ],
         "yaxis": "y"
        },
        {
         "customdata": [
          [
           "NE",
           6.584,
           16.406,
           "AFC East",
           "circle"
          ],
          [
           "BUF",
           6.915,
           16.03,
           "AFC East",
           "circle"
          ],
          [
           "MIA",
           6.767,
           17.25,
           "AFC East",
           "circle"
          ],
          [
           "NYJ",
           6.126,
           16.663,
           "AFC East",
           "circle"
          ]
         ],
         "hovertemplate": "Division=%{customdata[3]}<br>Rushing Output=%{x}<br>Passing Output=%{y}<br>Team Code=%{customdata[0]}<extra></extra>",
         "legendgroup": "AFC East, circle",
         "marker": {
          "color": "#00802b",
          "size": 8,
          "symbol": "circle"
         },
         "mode": "markers",
         "name": "AFC East, circle",
         "orientation": "v",
         "showlegend": true,
         "type": "scatter",
         "x": [
          6.521,
          6.526,
          6.552,
          6.497
         ],
         "xaxis": "x",
         "y": [
          16.921,
          16.119,
          15.948,
          16.567
         ],
         "yaxis": "y"
        },
        {
         "customdata": [
          [
           "CAR",
           6.829,
           15.842,
           "NFC South",
           "diamond"
          ],
          [
           "ATL",
           6.806,
           16.462,
           "NFC South",
           "diamond"
          ],
          [
           "NO",
           6.557,
           16.957,
           "NFC South",
           "diamond"
          ],
          [
           "TB",
           6.39,
           15.924,
           "NFC South",
           "diamond"
          ]
         ],
         "hovertemplate": "Division=%{customdata[3]}<br>Rushing Output=%{x}<br>Passing Output=%{y}<br>Team Code=%{customdata[0]}<extra></extra>",
         "legendgroup": "NFC South, diamond",
         "marker": {
          "color": "#cc7a00",
          "size": 8,
          "symbol": "diamond"
         },
         "mode": "markers",
         "name": "NFC South, diamond",
         "orientation": "v",
         "showlegend": true,
         "type": "scatter",
         "x": [
          6.598,
          6.511,
          6.74,
          6.327
         ],
         "xaxis": "x",
         "y": [
          16.896,
          16.275,
          16.41,
          16.488
         ],
         "yaxis": "y"
        },
        {
         "customdata": [
          [
           "SEA",
           6.272,
           16.078,
           "NFC West",
           "diamond"
          ],
          [
           "SF",
           6.253,
           16.078,
           "NFC West",
           "diamond"
          ],
          [
           "LA",
           6.548,
           16.586,
           "NFC West",
           "diamond"
          ],
          [
           "ARZ",
           6.722,
           16.618,
           "NFC West",
           "diamond"
          ]
         ],
         "hovertemplate": "Division=%{customdata[3]}<br>Rushing Output=%{x}<br>Passing Output=%{y}<br>Team Code=%{customdata[0]}<extra></extra>",
         "legendgroup": "NFC West, diamond",
         "marker": {
          "color": "#ff0000",
          "size": 8,
          "symbol": "diamond"
         },
         "mode": "markers",
         "name": "NFC West, diamond",
         "orientation": "v",
         "showlegend": true,
         "type": "scatter",
         "x": [
          6.986,
          6.718,
          6.571,
          6.219
         ],
         "xaxis": "x",
         "y": [
          17.195,
          18.058,
          17.061,
          16.207
         ],
         "yaxis": "y"
        },
        {
         "customdata": [
          [
           "CHI",
           6.689,
           16.482,
           "NFC North",
           "diamond"
          ],
          [
           "DET",
           6.771,
           16.879,
           "NFC North",
           "diamond"
          ],
          [
           "MIN",
           6.571,
           16.397,
           "NFC North",
           "diamond"
          ],
          [
           "GB",
           6.836,
           17.409,
           "NFC North",
           "diamond"
          ]
         ],
         "hovertemplate": "Division=%{customdata[3]}<br>Rushing Output=%{x}<br>Passing Output=%{y}<br>Team Code=%{customdata[0]}<extra></extra>",
         "legendgroup": "NFC North, diamond",
         "marker": {
          "color": "#0000ff",
          "size": 8,
          "symbol": "diamond"
         },
         "mode": "markers",
         "name": "NFC North, diamond",
         "orientation": "v",
         "showlegend": true,
         "type": "scatter",
         "x": [
          6.456,
          6.339,
          6.801,
          6.951
         ],
         "xaxis": "x",
         "y": [
          15.743,
          16.998,
          16.148,
          17.113
         ],
         "yaxis": "y"
        },
        {
         "customdata": [
          [
           "IND",
           6.454,
           16.614,
           "AFC South",
           "circle"
          ],
          [
           "JAX",
           6.545,
           16.65,
           "AFC South",
           "circle"
          ],
          [
           "TEN",
           6.318,
           16.482,
           "AFC South",
           "circle"
          ],
          [
           "HST",
           6.933,
           16.979,
           "AFC South",
           "circle"
          ]
         ],
         "hovertemplate": "Division=%{customdata[3]}<br>Rushing Output=%{x}<br>Passing Output=%{y}<br>Team Code=%{customdata[0]}<extra></extra>",
         "legendgroup": "AFC South, circle",
         "marker": {
          "color": "#00802b",
          "size": 8,
          "symbol": "circle"
         },
         "mode": "markers",
         "name": "AFC South, circle",
         "orientation": "v",
         "showlegend": true,
         "type": "scatter",
         "x": [
          6.516,
          6.486,
          7.133,
          6.192
         ],
         "xaxis": "x",
         "y": [
          16.371,
          16.136,
          16.717,
          16.017
         ],
         "yaxis": "y"
        },
        {
         "customdata": [
          [
           "DAL",
           6.78,
           16.594,
           "NFC East",
           "diamond"
          ],
          [
           "NYG",
           6.589,
           16.765,
           "NFC East",
           "diamond"
          ],
          [
           "PHI",
           6.608,
           16.666,
           "NFC East",
           "diamond"
          ],
          [
           "WAS",
           6.74,
           16.872,
           "NFC East",
           "diamond"
          ]
         ],
         "hovertemplate": "Division=%{customdata[3]}<br>Rushing Output=%{x}<br>Passing Output=%{y}<br>Team Code=%{customdata[0]}<extra></extra>",
         "legendgroup": "NFC East, diamond",
         "marker": {
          "color": "#cc7a00",
          "size": 8,
          "symbol": "diamond"
         },
         "mode": "markers",
         "name": "NFC East, diamond",
         "orientation": "v",
         "showlegend": true,
         "type": "scatter",
         "x": [
          7.215,
          6.452,
          6.725,
          6.593
         ],
         "xaxis": "x",
         "y": [
          16.457,
          15.906,
          16.717,
          16.551
         ],
         "yaxis": "y"
        }
       ],
       "layout": {
        "annotations": [
         {
          "showarrow": false,
          "text": "average passing output",
          "x": 0,
          "xanchor": "left",
          "xref": "x domain",
          "y": 16.56515625,
          "yanchor": "bottom",
          "yref": "y"
         },
         {
          "showarrow": false,
          "text": "average rushing output",
          "x": 6.6189687500000005,
          "xanchor": "right",
          "xref": "x",
          "y": 1,
          "yanchor": "top",
          "yref": "y domain"
         }
        ],
        "legend": {
         "title": {
          "text": "Division, Symbol"
         },
         "tracegroupgap": 0
        },
        "margin": {
         "b": 30,
         "l": 30,
         "r": 30,
         "t": 30
        },
        "shapes": [
         {
          "line": {
           "color": "gray",
           "dash": "dash"
          },
          "opacity": 0.7,
          "type": "line",
          "x0": 0,
          "x1": 1,
          "xref": "x domain",
          "y0": 16.56515625,
          "y1": 16.56515625,
          "yref": "y"
         },
         {
          "line": {
           "color": "gray",
           "dash": "dash"
          },
          "opacity": 0.7,
          "type": "line",
          "x0": 6.6189687500000005,
          "x1": 6.6189687500000005,
          "xref": "x",
          "y0": 0,
          "y1": 1,
          "yref": "y domain"
         }
        ],
        "template": {
         "data": {
          "bar": [
           {
            "error_x": {
             "color": "#2a3f5f"
            },
            "error_y": {
             "color": "#2a3f5f"
            },
            "marker": {
             "line": {
              "color": "white",
              "width": 0.5
             },
             "pattern": {
              "fillmode": "overlay",
              "size": 10,
              "solidity": 0.2
             }
            },
            "type": "bar"
           }
          ],
          "barpolar": [
           {
            "marker": {
             "line": {
              "color": "white",
              "width": 0.5
             },
             "pattern": {
              "fillmode": "overlay",
              "size": 10,
              "solidity": 0.2
             }
            },
            "type": "barpolar"
           }
          ],
          "carpet": [
           {
            "aaxis": {
             "endlinecolor": "#2a3f5f",
             "gridcolor": "#C8D4E3",
             "linecolor": "#C8D4E3",
             "minorgridcolor": "#C8D4E3",
             "startlinecolor": "#2a3f5f"
            },
            "baxis": {
             "endlinecolor": "#2a3f5f",
             "gridcolor": "#C8D4E3",
             "linecolor": "#C8D4E3",
             "minorgridcolor": "#C8D4E3",
             "startlinecolor": "#2a3f5f"
            },
            "type": "carpet"
           }
          ],
          "choropleth": [
           {
            "colorbar": {
             "outlinewidth": 0,
             "ticks": ""
            },
            "type": "choropleth"
           }
          ],
          "contour": [
           {
            "colorbar": {
             "outlinewidth": 0,
             "ticks": ""
            },
            "colorscale": [
             [
              0,
              "#0d0887"
             ],
             [
              0.1111111111111111,
              "#46039f"
             ],
             [
              0.2222222222222222,
              "#7201a8"
             ],
             [
              0.3333333333333333,
              "#9c179e"
             ],
             [
              0.4444444444444444,
              "#bd3786"
             ],
             [
              0.5555555555555556,
              "#d8576b"
             ],
             [
              0.6666666666666666,
              "#ed7953"
             ],
             [
              0.7777777777777778,
              "#fb9f3a"
             ],
             [
              0.8888888888888888,
              "#fdca26"
             ],
             [
              1,
              "#f0f921"
             ]
            ],
            "type": "contour"
           }
          ],
          "contourcarpet": [
           {
            "colorbar": {
             "outlinewidth": 0,
             "ticks": ""
            },
            "type": "contourcarpet"
           }
          ],
          "heatmap": [
           {
            "colorbar": {
             "outlinewidth": 0,
             "ticks": ""
            },
            "colorscale": [
             [
              0,
              "#0d0887"
             ],
             [
              0.1111111111111111,
              "#46039f"
             ],
             [
              0.2222222222222222,
              "#7201a8"
             ],
             [
              0.3333333333333333,
              "#9c179e"
             ],
             [
              0.4444444444444444,
              "#bd3786"
             ],
             [
              0.5555555555555556,
              "#d8576b"
             ],
             [
              0.6666666666666666,
              "#ed7953"
             ],
             [
              0.7777777777777778,
              "#fb9f3a"
             ],
             [
              0.8888888888888888,
              "#fdca26"
             ],
             [
              1,
              "#f0f921"
             ]
            ],
            "type": "heatmap"
           }
          ],
          "heatmapgl": [
           {
            "colorbar": {
             "outlinewidth": 0,
             "ticks": ""
            },
            "colorscale": [
             [
              0,
              "#0d0887"
             ],
             [
              0.1111111111111111,
              "#46039f"
             ],
             [
              0.2222222222222222,
              "#7201a8"
             ],
             [
              0.3333333333333333,
              "#9c179e"
             ],
             [
              0.4444444444444444,
              "#bd3786"
             ],
             [
              0.5555555555555556,
              "#d8576b"
             ],
             [
              0.6666666666666666,
              "#ed7953"
             ],
             [
              0.7777777777777778,
              "#fb9f3a"
             ],
             [
              0.8888888888888888,
              "#fdca26"
             ],
             [
              1,
              "#f0f921"
             ]
            ],
            "type": "heatmapgl"
           }
          ],
          "histogram": [
           {
            "marker": {
             "pattern": {
              "fillmode": "overlay",
              "size": 10,
              "solidity": 0.2
             }
            },
            "type": "histogram"
           }
          ],
          "histogram2d": [
           {
            "colorbar": {
             "outlinewidth": 0,
             "ticks": ""
            },
            "colorscale": [
             [
              0,
              "#0d0887"
             ],
             [
              0.1111111111111111,
              "#46039f"
             ],
             [
              0.2222222222222222,
              "#7201a8"
             ],
             [
              0.3333333333333333,
              "#9c179e"
             ],
             [
              0.4444444444444444,
              "#bd3786"
             ],
             [
              0.5555555555555556,
              "#d8576b"
             ],
             [
              0.6666666666666666,
              "#ed7953"
             ],
             [
              0.7777777777777778,
              "#fb9f3a"
             ],
             [
              0.8888888888888888,
              "#fdca26"
             ],
             [
              1,
              "#f0f921"
             ]
            ],
            "type": "histogram2d"
           }
          ],
          "histogram2dcontour": [
           {
            "colorbar": {
             "outlinewidth": 0,
             "ticks": ""
            },
            "colorscale": [
             [
              0,
              "#0d0887"
             ],
             [
              0.1111111111111111,
              "#46039f"
             ],
             [
              0.2222222222222222,
              "#7201a8"
             ],
             [
              0.3333333333333333,
              "#9c179e"
             ],
             [
              0.4444444444444444,
              "#bd3786"
             ],
             [
              0.5555555555555556,
              "#d8576b"
             ],
             [
              0.6666666666666666,
              "#ed7953"
             ],
             [
              0.7777777777777778,
              "#fb9f3a"
             ],
             [
              0.8888888888888888,
              "#fdca26"
             ],
             [
              1,
              "#f0f921"
             ]
            ],
            "type": "histogram2dcontour"
           }
          ],
          "mesh3d": [
           {
            "colorbar": {
             "outlinewidth": 0,
             "ticks": ""
            },
            "type": "mesh3d"
           }
          ],
          "parcoords": [
           {
            "line": {
             "colorbar": {
              "outlinewidth": 0,
              "ticks": ""
             }
            },
            "type": "parcoords"
           }
          ],
          "pie": [
           {
            "automargin": true,
            "type": "pie"
           }
          ],
          "scatter": [
           {
            "fillpattern": {
             "fillmode": "overlay",
             "size": 10,
             "solidity": 0.2
            },
            "type": "scatter"
           }
          ],
          "scatter3d": [
           {
            "line": {
             "colorbar": {
              "outlinewidth": 0,
              "ticks": ""
             }
            },
            "marker": {
             "colorbar": {
              "outlinewidth": 0,
              "ticks": ""
             }
            },
            "type": "scatter3d"
           }
          ],
          "scattercarpet": [
           {
            "marker": {
             "colorbar": {
              "outlinewidth": 0,
              "ticks": ""
             }
            },
            "type": "scattercarpet"
           }
          ],
          "scattergeo": [
           {
            "marker": {
             "colorbar": {
              "outlinewidth": 0,
              "ticks": ""
             }
            },
            "type": "scattergeo"
           }
          ],
          "scattergl": [
           {
            "marker": {
             "colorbar": {
              "outlinewidth": 0,
              "ticks": ""
             }
            },
            "type": "scattergl"
           }
          ],
          "scattermapbox": [
           {
            "marker": {
             "colorbar": {
              "outlinewidth": 0,
              "ticks": ""
             }
            },
            "type": "scattermapbox"
           }
          ],
          "scatterpolar": [
           {
            "marker": {
             "colorbar": {
              "outlinewidth": 0,
              "ticks": ""
             }
            },
            "type": "scatterpolar"
           }
          ],
          "scatterpolargl": [
           {
            "marker": {
             "colorbar": {
              "outlinewidth": 0,
              "ticks": ""
             }
            },
            "type": "scatterpolargl"
           }
          ],
          "scatterternary": [
           {
            "marker": {
             "colorbar": {
              "outlinewidth": 0,
              "ticks": ""
             }
            },
            "type": "scatterternary"
           }
          ],
          "surface": [
           {
            "colorbar": {
             "outlinewidth": 0,
             "ticks": ""
            },
            "colorscale": [
             [
              0,
              "#0d0887"
             ],
             [
              0.1111111111111111,
              "#46039f"
             ],
             [
              0.2222222222222222,
              "#7201a8"
             ],
             [
              0.3333333333333333,
              "#9c179e"
             ],
             [
              0.4444444444444444,
              "#bd3786"
             ],
             [
              0.5555555555555556,
              "#d8576b"
             ],
             [
              0.6666666666666666,
              "#ed7953"
             ],
             [
              0.7777777777777778,
              "#fb9f3a"
             ],
             [
              0.8888888888888888,
              "#fdca26"
             ],
             [
              1,
              "#f0f921"
             ]
            ],
            "type": "surface"
           }
          ],
          "table": [
           {
            "cells": {
             "fill": {
              "color": "#EBF0F8"
             },
             "line": {
              "color": "white"
             }
            },
            "header": {
             "fill": {
              "color": "#C8D4E3"
             },
             "line": {
              "color": "white"
             }
            },
            "type": "table"
           }
          ]
         },
         "layout": {
          "annotationdefaults": {
           "arrowcolor": "#2a3f5f",
           "arrowhead": 0,
           "arrowwidth": 1
          },
          "autotypenumbers": "strict",
          "coloraxis": {
           "colorbar": {
            "outlinewidth": 0,
            "ticks": ""
           }
          },
          "colorscale": {
           "diverging": [
            [
             0,
             "#8e0152"
            ],
            [
             0.1,
             "#c51b7d"
            ],
            [
             0.2,
             "#de77ae"
            ],
            [
             0.3,
             "#f1b6da"
            ],
            [
             0.4,
             "#fde0ef"
            ],
            [
             0.5,
             "#f7f7f7"
            ],
            [
             0.6,
             "#e6f5d0"
            ],
            [
             0.7,
             "#b8e186"
            ],
            [
             0.8,
             "#7fbc41"
            ],
            [
             0.9,
             "#4d9221"
            ],
            [
             1,
             "#276419"
            ]
           ],
           "sequential": [
            [
             0,
             "#0d0887"
            ],
            [
             0.1111111111111111,
             "#46039f"
            ],
            [
             0.2222222222222222,
             "#7201a8"
            ],
            [
             0.3333333333333333,
             "#9c179e"
            ],
            [
             0.4444444444444444,
             "#bd3786"
            ],
            [
             0.5555555555555556,
             "#d8576b"
            ],
            [
             0.6666666666666666,
             "#ed7953"
            ],
            [
             0.7777777777777778,
             "#fb9f3a"
            ],
            [
             0.8888888888888888,
             "#fdca26"
            ],
            [
             1,
             "#f0f921"
            ]
           ],
           "sequentialminus": [
            [
             0,
             "#0d0887"
            ],
            [
             0.1111111111111111,
             "#46039f"
            ],
            [
             0.2222222222222222,
             "#7201a8"
            ],
            [
             0.3333333333333333,
             "#9c179e"
            ],
            [
             0.4444444444444444,
             "#bd3786"
            ],
            [
             0.5555555555555556,
             "#d8576b"
            ],
            [
             0.6666666666666666,
             "#ed7953"
            ],
            [
             0.7777777777777778,
             "#fb9f3a"
            ],
            [
             0.8888888888888888,
             "#fdca26"
            ],
            [
             1,
             "#f0f921"
            ]
           ]
          },
          "colorway": [
           "#636efa",
           "#EF553B",
           "#00cc96",
           "#ab63fa",
           "#FFA15A",
           "#19d3f3",
           "#FF6692",
           "#B6E880",
           "#FF97FF",
           "#FECB52"
          ],
          "font": {
           "color": "#2a3f5f"
          },
          "geo": {
           "bgcolor": "white",
           "lakecolor": "white",
           "landcolor": "white",
           "showlakes": true,
           "showland": true,
           "subunitcolor": "#C8D4E3"
          },
          "hoverlabel": {
           "align": "left"
          },
          "hovermode": "closest",
          "mapbox": {
           "style": "light"
          },
          "paper_bgcolor": "white",
          "plot_bgcolor": "white",
          "polar": {
           "angularaxis": {
            "gridcolor": "#EBF0F8",
            "linecolor": "#EBF0F8",
            "ticks": ""
           },
           "bgcolor": "white",
           "radialaxis": {
            "gridcolor": "#EBF0F8",
            "linecolor": "#EBF0F8",
            "ticks": ""
           }
          },
          "scene": {
           "xaxis": {
            "backgroundcolor": "white",
            "gridcolor": "#DFE8F3",
            "gridwidth": 2,
            "linecolor": "#EBF0F8",
            "showbackground": true,
            "ticks": "",
            "zerolinecolor": "#EBF0F8"
           },
           "yaxis": {
            "backgroundcolor": "white",
            "gridcolor": "#DFE8F3",
            "gridwidth": 2,
            "linecolor": "#EBF0F8",
            "showbackground": true,
            "ticks": "",
            "zerolinecolor": "#EBF0F8"
           },
           "zaxis": {
            "backgroundcolor": "white",
            "gridcolor": "#DFE8F3",
            "gridwidth": 2,
            "linecolor": "#EBF0F8",
            "showbackground": true,
            "ticks": "",
            "zerolinecolor": "#EBF0F8"
           }
          },
          "shapedefaults": {
           "line": {
            "color": "#2a3f5f"
           }
          },
          "ternary": {
           "aaxis": {
            "gridcolor": "#DFE8F3",
            "linecolor": "#A2B1C6",
            "ticks": ""
           },
           "baxis": {
            "gridcolor": "#DFE8F3",
            "linecolor": "#A2B1C6",
            "ticks": ""
           },
           "bgcolor": "white",
           "caxis": {
            "gridcolor": "#DFE8F3",
            "linecolor": "#A2B1C6",
            "ticks": ""
           }
          },
          "title": {
           "x": 0.05
          },
          "xaxis": {
           "automargin": true,
           "gridcolor": "#EBF0F8",
           "linecolor": "#EBF0F8",
           "ticks": "",
           "title": {
            "standoff": 15
           },
           "zerolinecolor": "#EBF0F8",
           "zerolinewidth": 2
          },
          "yaxis": {
           "automargin": true,
           "gridcolor": "#EBF0F8",
           "linecolor": "#EBF0F8",
           "ticks": "",
           "title": {
            "standoff": 15
           },
           "zerolinecolor": "#EBF0F8",
           "zerolinewidth": 2
          }
         }
        },
        "title": {
         "text": "Offensive output"
        },
        "xaxis": {
         "anchor": "y",
         "domain": [
          0,
          1
         ],
         "title": {
          "text": "Rushing Output"
         }
        },
        "yaxis": {
         "anchor": "x",
         "domain": [
          0,
          1
         ],
         "title": {
          "text": "Passing Output"
         }
        }
       }
      }
     },
     "metadata": {},
     "output_type": "display_data"
    }
   ],
   "source": [
    "sns.set_theme(style = 'white')\n",
    "sns.set_style('ticks')\n",
    "sns.set_style({'font.family':'serif', 'font.serif':['Helvetica']})\n",
    "\n",
    "custom_colors = [\n",
    "                '#ff0000', # AFC E, red\n",
    "                '#0000ff', # AFC N, blue \n",
    "                '#00802b', # AFC S, green\n",
    "                '#cc7a00', # AFC W, orange\n",
    "                \n",
    "                '#ff0000', # NFC E, red\n",
    "                '#0000ff', # NFC N, blue \n",
    "                '#00802b', # NFC S, green\n",
    "                '#cc7a00', # NFC W, orange\n",
    "        \n",
    "                ]\n",
    "\n",
    "\n",
    "\n",
    "\n",
    "fig = px.scatter(plotting_data, x = 'rush_off', y='pass_off',\n",
    "                 color = 'Divs', \n",
    "                 color_discrete_sequence= custom_colors, \n",
    "                 symbol= 'Symbol',\n",
    "                 \n",
    "                 hover_data={\n",
    "                     'team':True,\n",
    "                     'rush_off': True,\n",
    "                     'pass_off': True,\n",
    "                     'rush_def': False,\n",
    "                     'pass_def': False,\n",
    "                     'Divs': True,\n",
    "                     'Symbol' : False\n",
    "                 },\n",
    "                 labels={\n",
    "                     'team': 'Team Code',\n",
    "                     'Divs': 'Division',\n",
    "                     'rush_off': 'Rushing Output',\n",
    "                     'pass_off': 'Passing Output'\n",
    "                 },\n",
    "                 template = 'plotly_white')\n",
    "\n",
    "fig.update_traces(\n",
    "    marker = dict(size = 8)\n",
    ")\n",
    "\n",
    "\n",
    "fig.add_hline(y = pass_off_avg, line_color = 'gray', line_dash = 'dash',\n",
    "              annotation_text = 'average passing output',\n",
    "              annotation_position = 'top left', opacity = 0.7)\n",
    "fig.add_vline(x = rush_off_avg, line_color = 'gray', line_dash = 'dash',\n",
    "              annotation_text = 'average rushing output',\n",
    "              annotation_position = 'top left', opacity = 0.7)\n",
    "\n",
    "\n",
    "fig.update_layout(margin=dict(l=30, r=30, t=30, b=30),\n",
    "                    title = 'Offensive output')"
   ]
  },
  {
   "cell_type": "code",
   "execution_count": 88,
   "metadata": {},
   "outputs": [
    {
     "data": {
      "application/vnd.plotly.v1+json": {
       "config": {
        "plotlyServerURL": "https://plot.ly"
       },
       "data": [
        {
         "customdata": [
          [
           "BLT",
           6.848,
           15.508,
           "AFC North",
           "circle",
           "Baltimore Ravens"
          ],
          [
           "CIN",
           6.31,
           16.733,
           "AFC North",
           "circle",
           "Cincinnati Bengals"
          ],
          [
           "CLV",
           7.219,
           16.854,
           "AFC North",
           "circle",
           "Cleveland Browns"
          ],
          [
           "PIT",
           6.415,
           16.214,
           "AFC North",
           "circle",
           "Pittsburgh Steelers"
          ]
         ],
         "hovertemplate": "Division=%{customdata[3]}<br>Rushing Concession=%{customdata[1]}<br>Passing Concession=%{customdata[2]}<br>Team Name=%{customdata[5]}<extra></extra>",
         "legendgroup": "AFC North, circle",
         "marker": {
          "color": "#ff0000",
          "size": 8,
          "symbol": "circle"
         },
         "mode": "markers",
         "name": "AFC North",
         "orientation": "v",
         "showlegend": true,
         "type": "scatter",
         "x": [
          6.167,
          6.914,
          6.797,
          6.535
         ],
         "xaxis": "x",
         "y": [
          16.426,
          16.419,
          16.493,
          16.52
         ],
         "yaxis": "y"
        },
        {
         "customdata": [
          [
           "DEN",
           6.592,
           16.505,
           "AFC West",
           "circle",
           "Denver Broncos"
          ],
          [
           "LV",
           6.837,
           16.443,
           "AFC West",
           "circle",
           "Las Vegas Raiders"
          ],
          [
           "KC",
           6.684,
           17.701,
           "AFC West",
           "circle",
           "Kansas City Chiefs"
          ],
          [
           "LAC",
           6.277,
           17.108,
           "AFC West",
           "circle",
           "Los Angeles Chargers"
          ]
         ],
         "hovertemplate": "Division=%{customdata[3]}<br>Rushing Concession=%{customdata[1]}<br>Passing Concession=%{customdata[2]}<br>Team Name=%{customdata[5]}<extra></extra>",
         "legendgroup": "AFC West, circle",
         "marker": {
          "color": "#0000ff",
          "size": 8,
          "symbol": "circle"
         },
         "mode": "markers",
         "name": "AFC West",
         "orientation": "v",
         "showlegend": true,
         "type": "scatter",
         "x": [
          6.269,
          6.597,
          6.98,
          7.115
         ],
         "xaxis": "x",
         "y": [
          16.229,
          17.181,
          16.736,
          16.667
         ],
         "yaxis": "y"
        },
        {
         "customdata": [
          [
           "NE",
           6.521,
           16.921,
           "AFC East",
           "circle",
           "New England Patriots"
          ],
          [
           "BUF",
           6.526,
           16.119,
           "AFC East",
           "circle",
           "Buffalo Bills"
          ],
          [
           "MIA",
           6.552,
           15.948,
           "AFC East",
           "circle",
           "Miami Dolphins"
          ],
          [
           "NYJ",
           6.497,
           16.567,
           "AFC East",
           "circle",
           "New York Jets"
          ]
         ],
         "hovertemplate": "Division=%{customdata[3]}<br>Rushing Concession=%{customdata[1]}<br>Passing Concession=%{customdata[2]}<br>Team Name=%{customdata[5]}<extra></extra>",
         "legendgroup": "AFC East, circle",
         "marker": {
          "color": "#00802b",
          "size": 8,
          "symbol": "circle"
         },
         "mode": "markers",
         "name": "AFC East",
         "orientation": "v",
         "showlegend": true,
         "type": "scatter",
         "x": [
          6.584,
          6.915,
          6.767,
          6.126
         ],
         "xaxis": "x",
         "y": [
          16.406,
          16.03,
          17.25,
          16.663
         ],
         "yaxis": "y"
        },
        {
         "customdata": [
          [
           "CAR",
           6.598,
           16.896,
           "NFC South",
           "diamond",
           "Carolina Panthers"
          ],
          [
           "ATL",
           6.511,
           16.275,
           "NFC South",
           "diamond",
           "Atlanta Falcons"
          ],
          [
           "NO",
           6.74,
           16.41,
           "NFC South",
           "diamond",
           "New Orleans Saints"
          ],
          [
           "TB",
           6.327,
           16.488,
           "NFC South",
           "diamond",
           "Tampa Bay Buccaneers"
          ]
         ],
         "hovertemplate": "Division=%{customdata[3]}<br>Rushing Concession=%{customdata[1]}<br>Passing Concession=%{customdata[2]}<br>Team Name=%{customdata[5]}<extra></extra>",
         "legendgroup": "NFC South, diamond",
         "marker": {
          "color": "#cc7a00",
          "size": 8,
          "symbol": "diamond"
         },
         "mode": "markers",
         "name": "NFC South",
         "orientation": "v",
         "showlegend": true,
         "type": "scatter",
         "x": [
          6.829,
          6.806,
          6.557,
          6.39
         ],
         "xaxis": "x",
         "y": [
          15.842,
          16.462,
          16.957,
          15.924
         ],
         "yaxis": "y"
        },
        {
         "customdata": [
          [
           "SEA",
           6.986,
           17.195,
           "NFC West",
           "diamond",
           "Seattle Seahawks"
          ],
          [
           "SF",
           6.718,
           18.058,
           "NFC West",
           "diamond",
           "San Francisco 49ers"
          ],
          [
           "LA",
           6.571,
           17.061,
           "NFC West",
           "diamond",
           "Los Angeles Rams"
          ],
          [
           "ARZ",
           6.219,
           16.207,
           "NFC West",
           "diamond",
           "Arizona Cardinals"
          ]
         ],
         "hovertemplate": "Division=%{customdata[3]}<br>Rushing Concession=%{customdata[1]}<br>Passing Concession=%{customdata[2]}<br>Team Name=%{customdata[5]}<extra></extra>",
         "legendgroup": "NFC West, diamond",
         "marker": {
          "color": "#ff0000",
          "size": 8,
          "symbol": "diamond"
         },
         "mode": "markers",
         "name": "NFC West",
         "orientation": "v",
         "showlegend": true,
         "type": "scatter",
         "x": [
          6.272,
          6.253,
          6.548,
          6.722
         ],
         "xaxis": "x",
         "y": [
          16.078,
          16.078,
          16.586,
          16.618
         ],
         "yaxis": "y"
        },
        {
         "customdata": [
          [
           "CHI",
           6.456,
           15.743,
           "NFC North",
           "diamond",
           "Chicago Bears"
          ],
          [
           "DET",
           6.339,
           16.998,
           "NFC North",
           "diamond",
           "Detroit Lions"
          ],
          [
           "MIN",
           6.801,
           16.148,
           "NFC North",
           "diamond",
           "Minnesota Vikings"
          ],
          [
           "GB",
           6.951,
           17.113,
           "NFC North",
           "diamond",
           "Green Bay Packers"
          ]
         ],
         "hovertemplate": "Division=%{customdata[3]}<br>Rushing Concession=%{customdata[1]}<br>Passing Concession=%{customdata[2]}<br>Team Name=%{customdata[5]}<extra></extra>",
         "legendgroup": "NFC North, diamond",
         "marker": {
          "color": "#0000ff",
          "size": 8,
          "symbol": "diamond"
         },
         "mode": "markers",
         "name": "NFC North",
         "orientation": "v",
         "showlegend": true,
         "type": "scatter",
         "x": [
          6.689,
          6.771,
          6.571,
          6.836
         ],
         "xaxis": "x",
         "y": [
          16.482,
          16.879,
          16.397,
          17.409
         ],
         "yaxis": "y"
        },
        {
         "customdata": [
          [
           "IND",
           6.516,
           16.371,
           "AFC South",
           "circle",
           "Indianapolis Colts"
          ],
          [
           "JAX",
           6.486,
           16.136,
           "AFC South",
           "circle",
           "Jacksonville Jaguars"
          ],
          [
           "TEN",
           7.133,
           16.717,
           "AFC South",
           "circle",
           "Tennessee Titans"
          ],
          [
           "HST",
           6.192,
           16.017,
           "AFC South",
           "circle",
           "Houston Texans"
          ]
         ],
         "hovertemplate": "Division=%{customdata[3]}<br>Rushing Concession=%{customdata[1]}<br>Passing Concession=%{customdata[2]}<br>Team Name=%{customdata[5]}<extra></extra>",
         "legendgroup": "AFC South, circle",
         "marker": {
          "color": "#00802b",
          "size": 8,
          "symbol": "circle"
         },
         "mode": "markers",
         "name": "AFC South",
         "orientation": "v",
         "showlegend": true,
         "type": "scatter",
         "x": [
          6.454,
          6.545,
          6.318,
          6.933
         ],
         "xaxis": "x",
         "y": [
          16.614,
          16.65,
          16.482,
          16.979
         ],
         "yaxis": "y"
        },
        {
         "customdata": [
          [
           "DAL",
           7.215,
           16.457,
           "NFC East",
           "diamond",
           "Dallas Cowboys"
          ],
          [
           "NYG",
           6.452,
           15.906,
           "NFC East",
           "diamond",
           "New York Giants"
          ],
          [
           "PHI",
           6.725,
           16.717,
           "NFC East",
           "diamond",
           "Philadelphia Eagles"
          ],
          [
           "WAS",
           6.593,
           16.551,
           "NFC East",
           "diamond",
           "Washington Commanders"
          ]
         ],
         "hovertemplate": "Division=%{customdata[3]}<br>Rushing Concession=%{customdata[1]}<br>Passing Concession=%{customdata[2]}<br>Team Name=%{customdata[5]}<extra></extra>",
         "legendgroup": "NFC East, diamond",
         "marker": {
          "color": "#cc7a00",
          "size": 8,
          "symbol": "diamond"
         },
         "mode": "markers",
         "name": "NFC East",
         "orientation": "v",
         "showlegend": true,
         "type": "scatter",
         "x": [
          6.78,
          6.589,
          6.608,
          6.74
         ],
         "xaxis": "x",
         "y": [
          16.594,
          16.765,
          16.666,
          16.872
         ],
         "yaxis": "y"
        }
       ],
       "layout": {
        "annotations": [
         {
          "showarrow": false,
          "text": "average passing concesssion",
          "x": 0,
          "xanchor": "left",
          "xref": "x domain",
          "y": 16.5735625,
          "yanchor": "bottom",
          "yref": "y"
         },
         {
          "showarrow": false,
          "text": "average rushing concesssion",
          "x": 6.62428125,
          "xanchor": "right",
          "xref": "x",
          "y": 1,
          "yanchor": "top",
          "yref": "y domain"
         }
        ],
        "legend": {
         "bgcolor": "LightBlue",
         "bordercolor": "Black",
         "borderwidth": 1,
         "title": {
          "text": "Division"
         },
         "tracegroupgap": 0
        },
        "margin": {
         "b": 30,
         "l": 30,
         "r": 30,
         "t": 30
        },
        "shapes": [
         {
          "line": {
           "color": "gray",
           "dash": "dash"
          },
          "opacity": 0.7,
          "type": "line",
          "x0": 0,
          "x1": 1,
          "xref": "x domain",
          "y0": 16.5735625,
          "y1": 16.5735625,
          "yref": "y"
         },
         {
          "line": {
           "color": "gray",
           "dash": "dash"
          },
          "opacity": 0.7,
          "type": "line",
          "x0": 6.62428125,
          "x1": 6.62428125,
          "xref": "x",
          "y0": 0,
          "y1": 1,
          "yref": "y domain"
         }
        ],
        "template": {
         "data": {
          "bar": [
           {
            "error_x": {
             "color": "#2a3f5f"
            },
            "error_y": {
             "color": "#2a3f5f"
            },
            "marker": {
             "line": {
              "color": "white",
              "width": 0.5
             },
             "pattern": {
              "fillmode": "overlay",
              "size": 10,
              "solidity": 0.2
             }
            },
            "type": "bar"
           }
          ],
          "barpolar": [
           {
            "marker": {
             "line": {
              "color": "white",
              "width": 0.5
             },
             "pattern": {
              "fillmode": "overlay",
              "size": 10,
              "solidity": 0.2
             }
            },
            "type": "barpolar"
           }
          ],
          "carpet": [
           {
            "aaxis": {
             "endlinecolor": "#2a3f5f",
             "gridcolor": "#C8D4E3",
             "linecolor": "#C8D4E3",
             "minorgridcolor": "#C8D4E3",
             "startlinecolor": "#2a3f5f"
            },
            "baxis": {
             "endlinecolor": "#2a3f5f",
             "gridcolor": "#C8D4E3",
             "linecolor": "#C8D4E3",
             "minorgridcolor": "#C8D4E3",
             "startlinecolor": "#2a3f5f"
            },
            "type": "carpet"
           }
          ],
          "choropleth": [
           {
            "colorbar": {
             "outlinewidth": 0,
             "ticks": ""
            },
            "type": "choropleth"
           }
          ],
          "contour": [
           {
            "colorbar": {
             "outlinewidth": 0,
             "ticks": ""
            },
            "colorscale": [
             [
              0,
              "#0d0887"
             ],
             [
              0.1111111111111111,
              "#46039f"
             ],
             [
              0.2222222222222222,
              "#7201a8"
             ],
             [
              0.3333333333333333,
              "#9c179e"
             ],
             [
              0.4444444444444444,
              "#bd3786"
             ],
             [
              0.5555555555555556,
              "#d8576b"
             ],
             [
              0.6666666666666666,
              "#ed7953"
             ],
             [
              0.7777777777777778,
              "#fb9f3a"
             ],
             [
              0.8888888888888888,
              "#fdca26"
             ],
             [
              1,
              "#f0f921"
             ]
            ],
            "type": "contour"
           }
          ],
          "contourcarpet": [
           {
            "colorbar": {
             "outlinewidth": 0,
             "ticks": ""
            },
            "type": "contourcarpet"
           }
          ],
          "heatmap": [
           {
            "colorbar": {
             "outlinewidth": 0,
             "ticks": ""
            },
            "colorscale": [
             [
              0,
              "#0d0887"
             ],
             [
              0.1111111111111111,
              "#46039f"
             ],
             [
              0.2222222222222222,
              "#7201a8"
             ],
             [
              0.3333333333333333,
              "#9c179e"
             ],
             [
              0.4444444444444444,
              "#bd3786"
             ],
             [
              0.5555555555555556,
              "#d8576b"
             ],
             [
              0.6666666666666666,
              "#ed7953"
             ],
             [
              0.7777777777777778,
              "#fb9f3a"
             ],
             [
              0.8888888888888888,
              "#fdca26"
             ],
             [
              1,
              "#f0f921"
             ]
            ],
            "type": "heatmap"
           }
          ],
          "heatmapgl": [
           {
            "colorbar": {
             "outlinewidth": 0,
             "ticks": ""
            },
            "colorscale": [
             [
              0,
              "#0d0887"
             ],
             [
              0.1111111111111111,
              "#46039f"
             ],
             [
              0.2222222222222222,
              "#7201a8"
             ],
             [
              0.3333333333333333,
              "#9c179e"
             ],
             [
              0.4444444444444444,
              "#bd3786"
             ],
             [
              0.5555555555555556,
              "#d8576b"
             ],
             [
              0.6666666666666666,
              "#ed7953"
             ],
             [
              0.7777777777777778,
              "#fb9f3a"
             ],
             [
              0.8888888888888888,
              "#fdca26"
             ],
             [
              1,
              "#f0f921"
             ]
            ],
            "type": "heatmapgl"
           }
          ],
          "histogram": [
           {
            "marker": {
             "pattern": {
              "fillmode": "overlay",
              "size": 10,
              "solidity": 0.2
             }
            },
            "type": "histogram"
           }
          ],
          "histogram2d": [
           {
            "colorbar": {
             "outlinewidth": 0,
             "ticks": ""
            },
            "colorscale": [
             [
              0,
              "#0d0887"
             ],
             [
              0.1111111111111111,
              "#46039f"
             ],
             [
              0.2222222222222222,
              "#7201a8"
             ],
             [
              0.3333333333333333,
              "#9c179e"
             ],
             [
              0.4444444444444444,
              "#bd3786"
             ],
             [
              0.5555555555555556,
              "#d8576b"
             ],
             [
              0.6666666666666666,
              "#ed7953"
             ],
             [
              0.7777777777777778,
              "#fb9f3a"
             ],
             [
              0.8888888888888888,
              "#fdca26"
             ],
             [
              1,
              "#f0f921"
             ]
            ],
            "type": "histogram2d"
           }
          ],
          "histogram2dcontour": [
           {
            "colorbar": {
             "outlinewidth": 0,
             "ticks": ""
            },
            "colorscale": [
             [
              0,
              "#0d0887"
             ],
             [
              0.1111111111111111,
              "#46039f"
             ],
             [
              0.2222222222222222,
              "#7201a8"
             ],
             [
              0.3333333333333333,
              "#9c179e"
             ],
             [
              0.4444444444444444,
              "#bd3786"
             ],
             [
              0.5555555555555556,
              "#d8576b"
             ],
             [
              0.6666666666666666,
              "#ed7953"
             ],
             [
              0.7777777777777778,
              "#fb9f3a"
             ],
             [
              0.8888888888888888,
              "#fdca26"
             ],
             [
              1,
              "#f0f921"
             ]
            ],
            "type": "histogram2dcontour"
           }
          ],
          "mesh3d": [
           {
            "colorbar": {
             "outlinewidth": 0,
             "ticks": ""
            },
            "type": "mesh3d"
           }
          ],
          "parcoords": [
           {
            "line": {
             "colorbar": {
              "outlinewidth": 0,
              "ticks": ""
             }
            },
            "type": "parcoords"
           }
          ],
          "pie": [
           {
            "automargin": true,
            "type": "pie"
           }
          ],
          "scatter": [
           {
            "fillpattern": {
             "fillmode": "overlay",
             "size": 10,
             "solidity": 0.2
            },
            "type": "scatter"
           }
          ],
          "scatter3d": [
           {
            "line": {
             "colorbar": {
              "outlinewidth": 0,
              "ticks": ""
             }
            },
            "marker": {
             "colorbar": {
              "outlinewidth": 0,
              "ticks": ""
             }
            },
            "type": "scatter3d"
           }
          ],
          "scattercarpet": [
           {
            "marker": {
             "colorbar": {
              "outlinewidth": 0,
              "ticks": ""
             }
            },
            "type": "scattercarpet"
           }
          ],
          "scattergeo": [
           {
            "marker": {
             "colorbar": {
              "outlinewidth": 0,
              "ticks": ""
             }
            },
            "type": "scattergeo"
           }
          ],
          "scattergl": [
           {
            "marker": {
             "colorbar": {
              "outlinewidth": 0,
              "ticks": ""
             }
            },
            "type": "scattergl"
           }
          ],
          "scattermapbox": [
           {
            "marker": {
             "colorbar": {
              "outlinewidth": 0,
              "ticks": ""
             }
            },
            "type": "scattermapbox"
           }
          ],
          "scatterpolar": [
           {
            "marker": {
             "colorbar": {
              "outlinewidth": 0,
              "ticks": ""
             }
            },
            "type": "scatterpolar"
           }
          ],
          "scatterpolargl": [
           {
            "marker": {
             "colorbar": {
              "outlinewidth": 0,
              "ticks": ""
             }
            },
            "type": "scatterpolargl"
           }
          ],
          "scatterternary": [
           {
            "marker": {
             "colorbar": {
              "outlinewidth": 0,
              "ticks": ""
             }
            },
            "type": "scatterternary"
           }
          ],
          "surface": [
           {
            "colorbar": {
             "outlinewidth": 0,
             "ticks": ""
            },
            "colorscale": [
             [
              0,
              "#0d0887"
             ],
             [
              0.1111111111111111,
              "#46039f"
             ],
             [
              0.2222222222222222,
              "#7201a8"
             ],
             [
              0.3333333333333333,
              "#9c179e"
             ],
             [
              0.4444444444444444,
              "#bd3786"
             ],
             [
              0.5555555555555556,
              "#d8576b"
             ],
             [
              0.6666666666666666,
              "#ed7953"
             ],
             [
              0.7777777777777778,
              "#fb9f3a"
             ],
             [
              0.8888888888888888,
              "#fdca26"
             ],
             [
              1,
              "#f0f921"
             ]
            ],
            "type": "surface"
           }
          ],
          "table": [
           {
            "cells": {
             "fill": {
              "color": "#EBF0F8"
             },
             "line": {
              "color": "white"
             }
            },
            "header": {
             "fill": {
              "color": "#C8D4E3"
             },
             "line": {
              "color": "white"
             }
            },
            "type": "table"
           }
          ]
         },
         "layout": {
          "annotationdefaults": {
           "arrowcolor": "#2a3f5f",
           "arrowhead": 0,
           "arrowwidth": 1
          },
          "autotypenumbers": "strict",
          "coloraxis": {
           "colorbar": {
            "outlinewidth": 0,
            "ticks": ""
           }
          },
          "colorscale": {
           "diverging": [
            [
             0,
             "#8e0152"
            ],
            [
             0.1,
             "#c51b7d"
            ],
            [
             0.2,
             "#de77ae"
            ],
            [
             0.3,
             "#f1b6da"
            ],
            [
             0.4,
             "#fde0ef"
            ],
            [
             0.5,
             "#f7f7f7"
            ],
            [
             0.6,
             "#e6f5d0"
            ],
            [
             0.7,
             "#b8e186"
            ],
            [
             0.8,
             "#7fbc41"
            ],
            [
             0.9,
             "#4d9221"
            ],
            [
             1,
             "#276419"
            ]
           ],
           "sequential": [
            [
             0,
             "#0d0887"
            ],
            [
             0.1111111111111111,
             "#46039f"
            ],
            [
             0.2222222222222222,
             "#7201a8"
            ],
            [
             0.3333333333333333,
             "#9c179e"
            ],
            [
             0.4444444444444444,
             "#bd3786"
            ],
            [
             0.5555555555555556,
             "#d8576b"
            ],
            [
             0.6666666666666666,
             "#ed7953"
            ],
            [
             0.7777777777777778,
             "#fb9f3a"
            ],
            [
             0.8888888888888888,
             "#fdca26"
            ],
            [
             1,
             "#f0f921"
            ]
           ],
           "sequentialminus": [
            [
             0,
             "#0d0887"
            ],
            [
             0.1111111111111111,
             "#46039f"
            ],
            [
             0.2222222222222222,
             "#7201a8"
            ],
            [
             0.3333333333333333,
             "#9c179e"
            ],
            [
             0.4444444444444444,
             "#bd3786"
            ],
            [
             0.5555555555555556,
             "#d8576b"
            ],
            [
             0.6666666666666666,
             "#ed7953"
            ],
            [
             0.7777777777777778,
             "#fb9f3a"
            ],
            [
             0.8888888888888888,
             "#fdca26"
            ],
            [
             1,
             "#f0f921"
            ]
           ]
          },
          "colorway": [
           "#636efa",
           "#EF553B",
           "#00cc96",
           "#ab63fa",
           "#FFA15A",
           "#19d3f3",
           "#FF6692",
           "#B6E880",
           "#FF97FF",
           "#FECB52"
          ],
          "font": {
           "color": "#2a3f5f"
          },
          "geo": {
           "bgcolor": "white",
           "lakecolor": "white",
           "landcolor": "white",
           "showlakes": true,
           "showland": true,
           "subunitcolor": "#C8D4E3"
          },
          "hoverlabel": {
           "align": "left"
          },
          "hovermode": "closest",
          "mapbox": {
           "style": "light"
          },
          "paper_bgcolor": "white",
          "plot_bgcolor": "white",
          "polar": {
           "angularaxis": {
            "gridcolor": "#EBF0F8",
            "linecolor": "#EBF0F8",
            "ticks": ""
           },
           "bgcolor": "white",
           "radialaxis": {
            "gridcolor": "#EBF0F8",
            "linecolor": "#EBF0F8",
            "ticks": ""
           }
          },
          "scene": {
           "xaxis": {
            "backgroundcolor": "white",
            "gridcolor": "#DFE8F3",
            "gridwidth": 2,
            "linecolor": "#EBF0F8",
            "showbackground": true,
            "ticks": "",
            "zerolinecolor": "#EBF0F8"
           },
           "yaxis": {
            "backgroundcolor": "white",
            "gridcolor": "#DFE8F3",
            "gridwidth": 2,
            "linecolor": "#EBF0F8",
            "showbackground": true,
            "ticks": "",
            "zerolinecolor": "#EBF0F8"
           },
           "zaxis": {
            "backgroundcolor": "white",
            "gridcolor": "#DFE8F3",
            "gridwidth": 2,
            "linecolor": "#EBF0F8",
            "showbackground": true,
            "ticks": "",
            "zerolinecolor": "#EBF0F8"
           }
          },
          "shapedefaults": {
           "line": {
            "color": "#2a3f5f"
           }
          },
          "ternary": {
           "aaxis": {
            "gridcolor": "#DFE8F3",
            "linecolor": "#A2B1C6",
            "ticks": ""
           },
           "baxis": {
            "gridcolor": "#DFE8F3",
            "linecolor": "#A2B1C6",
            "ticks": ""
           },
           "bgcolor": "white",
           "caxis": {
            "gridcolor": "#DFE8F3",
            "linecolor": "#A2B1C6",
            "ticks": ""
           }
          },
          "title": {
           "x": 0.05
          },
          "xaxis": {
           "automargin": true,
           "gridcolor": "#EBF0F8",
           "linecolor": "#EBF0F8",
           "ticks": "",
           "title": {
            "standoff": 15
           },
           "zerolinecolor": "#EBF0F8",
           "zerolinewidth": 2
          },
          "yaxis": {
           "automargin": true,
           "gridcolor": "#EBF0F8",
           "linecolor": "#EBF0F8",
           "ticks": "",
           "title": {
            "standoff": 15
           },
           "zerolinecolor": "#EBF0F8",
           "zerolinewidth": 2
          }
         }
        },
        "title": {
         "text": "Defensive Concessions"
        },
        "xaxis": {
         "anchor": "y",
         "domain": [
          0,
          1
         ],
         "title": {
          "text": "Rushing concessions"
         }
        },
        "yaxis": {
         "anchor": "x",
         "domain": [
          0,
          1
         ],
         "title": {
          "text": "Passing concessions"
         }
        }
       }
      }
     },
     "metadata": {},
     "output_type": "display_data"
    }
   ],
   "source": [
    "sns.set_theme(style = 'white')\n",
    "sns.set_style('ticks')\n",
    "sns.set_style({'font.family':'serif', 'font.serif':['Helvetica']})\n",
    "\n",
    "\n",
    "custom_colors = [\n",
    "                '#ff0000', # AFC E, red\n",
    "                '#0000ff', # AFC N, blue \n",
    "                '#00802b', # AFC S, green\n",
    "                '#cc7a00', # AFC W, orange\n",
    "                \n",
    "                '#ff0000', # NFC E, red\n",
    "                '#0000ff', # NFC N, blue \n",
    "                '#00802b', # NFC S, green\n",
    "                '#cc7a00', # NFC W, orange\n",
    "        \n",
    "                ]\n",
    "\n",
    "\n",
    "fig = px.scatter(plotting_data, x = 'rush_def', y='pass_def',\n",
    "                 color = 'Divs',\n",
    "                 color_discrete_sequence= custom_colors, \n",
    "                 symbol= 'Symbol',\n",
    "                 hover_data={\n",
    "                     'team': False,\n",
    "                     'rush_off': True,\n",
    "                     'pass_off': True,\n",
    "                     'rush_def': False,\n",
    "                     'pass_def': False,\n",
    "                     'Divs': True,\n",
    "                     'Symbol' : False,\n",
    "                     'team_full': True\n",
    "                 },\n",
    "                 labels={\n",
    "                     'team_full': 'Team Name',\n",
    "                     'Divs': 'Division',\n",
    "                     'rush_off': 'Rushing Concession',\n",
    "                     'pass_off': 'Passing Concession'\n",
    "                 },\n",
    "                 template = 'plotly_white')\n",
    "\n",
    "fig.update_traces(\n",
    "    marker = dict(size = 8)\n",
    "\n",
    ")\n",
    "fig.add_hline(y = pass_def_avg, line_color = 'gray', line_dash = 'dash',\n",
    "              annotation_text = 'average passing concesssion',\n",
    "              annotation_position = 'top left', opacity = 0.7)\n",
    "fig.add_vline(x = rush_def_avg, line_color = 'gray', line_dash = 'dash',\n",
    "              annotation_text = 'average rushing concesssion',\n",
    "              annotation_position = 'top left', opacity = 0.7)\n",
    "\n",
    "\n",
    "fig.update_layout(margin=dict(l=30, r=30, t=30, b=30),\n",
    "                    title = 'Defensive Concessions',\n",
    "                    yaxis_title = 'Passing concessions',\n",
    "                    xaxis_title = 'Rushing concessions',\n",
    "                    legend_title = 'Division',\n",
    "                        legend = dict(\n",
    "                                    bgcolor = 'LightBlue',\n",
    "                                    bordercolor = 'Black',\n",
    "                                    borderwidth = 1\n",
    "                                    ),\n",
    "\n",
    "                    )\n",
    "\n",
    "new_names = {'AFC East, circle': 'AFC East', 'AFC North, circle': 'AFC North', \n",
    "             'AFC South, circle': 'AFC South', 'AFC West, circle': 'AFC West',\n",
    "             'NFC East, diamond': 'NFC East', 'NFC North, diamond': 'NFC North', \n",
    "             'NFC South, diamond': 'NFC South', 'NFC West, diamond': 'NFC West',}\n",
    "\n",
    "fig.for_each_trace(lambda t: t.update(name = new_names[t.name]))"
   ]
  },
  {
   "cell_type": "markdown",
   "metadata": {},
   "source": [
    "## To Do 12/6\n",
    "\n",
    "* Defense Scatter\n",
    "* Adjust Scatter\n",
    "* Output over time"
   ]
  },
  {
   "cell_type": "code",
   "execution_count": 72,
   "metadata": {},
   "outputs": [
    {
     "data": {
      "text/plain": [
       "['circle',\n",
       " 'circle',\n",
       " 'circle',\n",
       " 'circle',\n",
       " 'diamond',\n",
       " 'diamond',\n",
       " 'diamond',\n",
       " 'diamond']"
      ]
     },
     "execution_count": 72,
     "metadata": {},
     "output_type": "execute_result"
    }
   ],
   "source": [
    "custom_makers = (['circle']*4) + ['diamond']*4\n",
    "custom_makers"
   ]
  },
  {
   "cell_type": "code",
   "execution_count": null,
   "metadata": {},
   "outputs": [],
   "source": []
  },
  {
   "cell_type": "code",
   "execution_count": null,
   "metadata": {},
   "outputs": [],
   "source": []
  }
 ],
 "metadata": {
  "kernelspec": {
   "display_name": "base",
   "language": "python",
   "name": "python3"
  },
  "language_info": {
   "codemirror_mode": {
    "name": "ipython",
    "version": 3
   },
   "file_extension": ".py",
   "mimetype": "text/x-python",
   "name": "python",
   "nbconvert_exporter": "python",
   "pygments_lexer": "ipython3",
   "version": "3.11.6"
  }
 },
 "nbformat": 4,
 "nbformat_minor": 2
}
