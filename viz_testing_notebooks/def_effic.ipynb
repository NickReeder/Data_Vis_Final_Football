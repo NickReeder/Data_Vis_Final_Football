{
 "cells": [
  {
   "cell_type": "code",
   "execution_count": 44,
   "metadata": {},
   "outputs": [
    {
     "name": "stdout",
     "output_type": "stream",
     "text": [
      "Requirement already satisfied: nbformat in c:\\users\\reede\\appdata\\local\\packages\\pythonsoftwarefoundation.python.3.11_qbz5n2kfra8p0\\localcache\\local-packages\\python311\\site-packages (5.9.2)\n",
      "Requirement already satisfied: fastjsonschema in c:\\users\\reede\\appdata\\local\\packages\\pythonsoftwarefoundation.python.3.11_qbz5n2kfra8p0\\localcache\\local-packages\\python311\\site-packages (from nbformat) (2.19.0)\n",
      "Requirement already satisfied: jsonschema>=2.6 in c:\\users\\reede\\appdata\\local\\packages\\pythonsoftwarefoundation.python.3.11_qbz5n2kfra8p0\\localcache\\local-packages\\python311\\site-packages (from nbformat) (4.20.0)\n",
      "Requirement already satisfied: jupyter-core in c:\\users\\reede\\appdata\\local\\packages\\pythonsoftwarefoundation.python.3.11_qbz5n2kfra8p0\\localcache\\local-packages\\python311\\site-packages (from nbformat) (5.5.0)\n",
      "Requirement already satisfied: traitlets>=5.1 in c:\\users\\reede\\appdata\\local\\packages\\pythonsoftwarefoundation.python.3.11_qbz5n2kfra8p0\\localcache\\local-packages\\python311\\site-packages (from nbformat) (5.14.0)\n",
      "Requirement already satisfied: attrs>=22.2.0 in c:\\users\\reede\\appdata\\local\\packages\\pythonsoftwarefoundation.python.3.11_qbz5n2kfra8p0\\localcache\\local-packages\\python311\\site-packages (from jsonschema>=2.6->nbformat) (23.1.0)\n",
      "Requirement already satisfied: jsonschema-specifications>=2023.03.6 in c:\\users\\reede\\appdata\\local\\packages\\pythonsoftwarefoundation.python.3.11_qbz5n2kfra8p0\\localcache\\local-packages\\python311\\site-packages (from jsonschema>=2.6->nbformat) (2023.11.2)\n",
      "Requirement already satisfied: referencing>=0.28.4 in c:\\users\\reede\\appdata\\local\\packages\\pythonsoftwarefoundation.python.3.11_qbz5n2kfra8p0\\localcache\\local-packages\\python311\\site-packages (from jsonschema>=2.6->nbformat) (0.31.1)\n",
      "Requirement already satisfied: rpds-py>=0.7.1 in c:\\users\\reede\\appdata\\local\\packages\\pythonsoftwarefoundation.python.3.11_qbz5n2kfra8p0\\localcache\\local-packages\\python311\\site-packages (from jsonschema>=2.6->nbformat) (0.13.2)\n",
      "Requirement already satisfied: platformdirs>=2.5 in c:\\users\\reede\\appdata\\local\\packages\\pythonsoftwarefoundation.python.3.11_qbz5n2kfra8p0\\localcache\\local-packages\\python311\\site-packages (from jupyter-core->nbformat) (4.0.0)\n",
      "Requirement already satisfied: pywin32>=300 in c:\\users\\reede\\appdata\\local\\packages\\pythonsoftwarefoundation.python.3.11_qbz5n2kfra8p0\\localcache\\local-packages\\python311\\site-packages (from jupyter-core->nbformat) (306)\n",
      "Note: you may need to restart the kernel to use updated packages.\n"
     ]
    },
    {
     "name": "stderr",
     "output_type": "stream",
     "text": [
      "\n",
      "[notice] A new release of pip is available: 23.2.1 -> 23.3.1\n",
      "[notice] To update, run: C:\\Users\\reede\\AppData\\Local\\Microsoft\\WindowsApps\\PythonSoftwareFoundation.Python.3.11_qbz5n2kfra8p0\\python.exe -m pip install --upgrade pip\n"
     ]
    },
    {
     "name": "stdout",
     "output_type": "stream",
     "text": [
      "Note: you may need to restart the kernel to use updated packages.\n"
     ]
    },
    {
     "name": "stderr",
     "output_type": "stream",
     "text": [
      "ERROR: Invalid requirement: '%upgrade'\n",
      "\n",
      "[notice] A new release of pip is available: 23.2.1 -> 23.3.1\n",
      "[notice] To update, run: C:\\Users\\reede\\AppData\\Local\\Microsoft\\WindowsApps\\PythonSoftwareFoundation.Python.3.11_qbz5n2kfra8p0\\python.exe -m pip install --upgrade pip\n"
     ]
    }
   ],
   "source": [
    "try: \n",
    "    import plotly.graph_objects as go\n",
    "except:\n",
    "    %pip install plotly\n",
    "    import plotly.graph_objects as go\n",
    "import pandas as pd\n",
    "import numpy as np\n",
    "import plotly.express as px\n",
    "import plotly.subplots as sp\n",
    "\n",
    "import os\n",
    "import json\n",
    "try:\n",
    "    import seaborn as sns\n",
    "except:\n",
    "    %pip install seaborn\n",
    "    import seaborn as sns\n",
    "\n",
    "%pip install nbformat\n",
    "\n",
    "%pip install %upgrade pip"
   ]
  },
  {
   "cell_type": "code",
   "execution_count": 13,
   "metadata": {},
   "outputs": [],
   "source": [
    "cwd = os.getcwd()\n",
    "os.chdir('C:\\\\Users\\\\reede\\\\OneDrive\\\\Documents\\\\GitHub\\\\Data_Vis_Final_Football\\\\data')\n",
    "#os.chdir('c:\\\\Users\\\\Nick\\\\Dropbox\\\\PC\\\\Documents\\\\GitHub\\\\Data_Vis_Final_Football\\\\data')\n",
    "with open('NFL_Stats.json', 'r') as f:\n",
    "  data = json.load(f)\n",
    "\n",
    "os.chdir('C:\\\\Users\\\\reede\\\\OneDrive\\\\Documents\\\\GitHub\\\\Data_Vis_Final_Football\\\\viz_testing_notebooks')\n",
    "#os.chdir('c:\\\\Users\\\\Nick\\\\Dropbox\\\\PC\\\\Documents\\\\GitHub\\\\Data_Vis_Final_Football\\\\viz_testing_notebooks')\n"
   ]
  },
  {
   "cell_type": "markdown",
   "metadata": {},
   "source": []
  },
  {
   "cell_type": "code",
   "execution_count": 14,
   "metadata": {},
   "outputs": [
    {
     "name": "stdout",
     "output_type": "stream",
     "text": [
      "dict_keys(['rush_off_general', 'rush_def_general', 'pass_off_general', 'pass_def_general', 'rush_off_by_team', 'rush_def_by_team', 'pass_off_by_team', 'pass_def_by_team'])\n"
     ]
    }
   ],
   "source": [
    "print(data['BLT'].keys())"
   ]
  },
  {
   "cell_type": "markdown",
   "metadata": {},
   "source": [
    "### Looking at the league overall\n",
    "\n",
    "# Two scatter plots consisting of a team offensive and defensive efficencies"
   ]
  },
  {
   "cell_type": "code",
   "execution_count": 23,
   "metadata": {},
   "outputs": [
    {
     "data": {
      "text/plain": [
       "dict_keys(['BLT', 'DEN', 'NE', 'BUF', 'CAR', 'SEA', 'CHI', 'CIN', 'CLV', 'MIA', 'DET', 'MIN', 'OAK', 'IND', 'KC', 'JAX', 'ATL', 'NO', 'TB', 'NYJ', 'PIT', 'TEN', 'GB', 'SF', 'SL', 'ARZ', 'DAL', 'NYG', 'PHI', 'WAS', 'SD', 'HST', 'LA', 'LAC', 'LV'])"
      ]
     },
     "execution_count": 23,
     "metadata": {},
     "output_type": "execute_result"
    }
   ],
   "source": [
    "data.keys()"
   ]
  },
  {
   "cell_type": "code",
   "execution_count": 27,
   "metadata": {},
   "outputs": [],
   "source": [
    "AFC_E = ['NE', 'BUF', 'MIA', 'NYJ']\n",
    "AFC_W = ['DEN', 'OAK', 'KC', 'LAC', 'SD', 'LV']\n",
    "AFC_N = ['BLT', 'CIN', 'CLV', 'PIT'] \n",
    "AFC_S = ['IND', 'JAX', 'TEN', 'HST']\n",
    "\n",
    "NFC_E = ['PHI', 'WAS', 'DAL', 'NYG']\n",
    "NFC_W = ['SEA', 'LA', 'SF', 'ARZ', 'SL']\n",
    "NFC_N = ['CHI', 'DET', 'MIN', 'GB']\n",
    "NFC_S = ['CAR', 'ATL', 'TB', 'NO']\n",
    "\n",
    "afc = AFC_E + AFC_N + AFC_S + AFC_W\n",
    "nfc = NFC_E +NFC_N + NFC_S + NFC_W"
   ]
  },
  {
   "cell_type": "code",
   "execution_count": 32,
   "metadata": {},
   "outputs": [],
   "source": [
    "divs = []\n",
    "for team in data.keys():\n",
    "    if team in AFC_E:\n",
    "        divs.append('AFC East')\n",
    "    elif team in AFC_N:\n",
    "        divs.append('AFC North')\n",
    "    elif team in AFC_S:\n",
    "        divs.append('AFC South')\n",
    "    elif team in AFC_W:\n",
    "        divs.append('AFC West')\n",
    "    elif team in NFC_E:\n",
    "        divs.append('NFC East')\n",
    "    elif team in NFC_N:\n",
    "        divs.append('NFC North')\n",
    "    elif team in NFC_S:\n",
    "        divs.append('NFC South')\n",
    "    elif team in NFC_W:\n",
    "        divs.append('NFC West')\n",
    "    else:\n",
    "        print(team)"
   ]
  },
  {
   "cell_type": "code",
   "execution_count": null,
   "metadata": {},
   "outputs": [],
   "source": []
  },
  {
   "cell_type": "code",
   "execution_count": 35,
   "metadata": {},
   "outputs": [],
   "source": [
    "rush_off = []\n",
    "rush_def = []\n",
    "pass_off = []\n",
    "pass_def = []\n",
    "for team in data.keys():\n",
    "    rush_off.append(data[team]['rush_off_general']['avg_yard'])\n",
    "    rush_def.append(data[team]['rush_def_general']['avg_yards_conceded'])\n",
    "    pass_off.append(data[team]['pass_off_general']['avg_yard'])\n",
    "    pass_def.append(data[team]['pass_def_general']['avg_yards_conceded'])\n",
    "\n",
    "plotting_data = pd.DataFrame(columns=['team', 'rush_off', 'rush_def', 'pass_off', 'pass_def', 'Div'])\n",
    "\n",
    "plotting_data['team'] = data.keys()\n",
    "plotting_data['rush_off'] = [float(x) for x in rush_off]\n",
    "plotting_data['rush_def'] = [float(x) for x in rush_def]\n",
    "plotting_data['pass_off'] = [float(x) for x in pass_off]\n",
    "plotting_data['pass_def'] = [float(x) for x in pass_def]\n",
    "plotting_data['Divs'] = divs\n",
    "\n",
    "\n"
   ]
  },
  {
   "cell_type": "code",
   "execution_count": 36,
   "metadata": {},
   "outputs": [
    {
     "data": {
      "text/html": [
       "<div>\n",
       "<style scoped>\n",
       "    .dataframe tbody tr th:only-of-type {\n",
       "        vertical-align: middle;\n",
       "    }\n",
       "\n",
       "    .dataframe tbody tr th {\n",
       "        vertical-align: top;\n",
       "    }\n",
       "\n",
       "    .dataframe thead th {\n",
       "        text-align: right;\n",
       "    }\n",
       "</style>\n",
       "<table border=\"1\" class=\"dataframe\">\n",
       "  <thead>\n",
       "    <tr style=\"text-align: right;\">\n",
       "      <th></th>\n",
       "      <th>team</th>\n",
       "      <th>rush_off</th>\n",
       "      <th>rush_def</th>\n",
       "      <th>pass_off</th>\n",
       "      <th>pass_def</th>\n",
       "      <th>Div</th>\n",
       "      <th>Divs</th>\n",
       "    </tr>\n",
       "  </thead>\n",
       "  <tbody>\n",
       "    <tr>\n",
       "      <th>0</th>\n",
       "      <td>BLT</td>\n",
       "      <td>6.848</td>\n",
       "      <td>6.167</td>\n",
       "      <td>15.508</td>\n",
       "      <td>16.426</td>\n",
       "      <td>NaN</td>\n",
       "      <td>AFC North</td>\n",
       "    </tr>\n",
       "    <tr>\n",
       "      <th>1</th>\n",
       "      <td>DEN</td>\n",
       "      <td>6.592</td>\n",
       "      <td>6.269</td>\n",
       "      <td>16.505</td>\n",
       "      <td>16.229</td>\n",
       "      <td>NaN</td>\n",
       "      <td>AFC West</td>\n",
       "    </tr>\n",
       "    <tr>\n",
       "      <th>2</th>\n",
       "      <td>NE</td>\n",
       "      <td>6.521</td>\n",
       "      <td>6.584</td>\n",
       "      <td>16.921</td>\n",
       "      <td>16.406</td>\n",
       "      <td>NaN</td>\n",
       "      <td>AFC East</td>\n",
       "    </tr>\n",
       "    <tr>\n",
       "      <th>3</th>\n",
       "      <td>BUF</td>\n",
       "      <td>6.526</td>\n",
       "      <td>6.915</td>\n",
       "      <td>16.119</td>\n",
       "      <td>16.030</td>\n",
       "      <td>NaN</td>\n",
       "      <td>AFC East</td>\n",
       "    </tr>\n",
       "    <tr>\n",
       "      <th>4</th>\n",
       "      <td>CAR</td>\n",
       "      <td>6.598</td>\n",
       "      <td>6.829</td>\n",
       "      <td>16.896</td>\n",
       "      <td>15.842</td>\n",
       "      <td>NaN</td>\n",
       "      <td>NFC South</td>\n",
       "    </tr>\n",
       "    <tr>\n",
       "      <th>5</th>\n",
       "      <td>SEA</td>\n",
       "      <td>6.986</td>\n",
       "      <td>6.272</td>\n",
       "      <td>17.195</td>\n",
       "      <td>16.078</td>\n",
       "      <td>NaN</td>\n",
       "      <td>NFC West</td>\n",
       "    </tr>\n",
       "    <tr>\n",
       "      <th>6</th>\n",
       "      <td>CHI</td>\n",
       "      <td>6.456</td>\n",
       "      <td>6.689</td>\n",
       "      <td>15.743</td>\n",
       "      <td>16.482</td>\n",
       "      <td>NaN</td>\n",
       "      <td>NFC North</td>\n",
       "    </tr>\n",
       "    <tr>\n",
       "      <th>7</th>\n",
       "      <td>CIN</td>\n",
       "      <td>6.310</td>\n",
       "      <td>6.914</td>\n",
       "      <td>16.733</td>\n",
       "      <td>16.419</td>\n",
       "      <td>NaN</td>\n",
       "      <td>AFC North</td>\n",
       "    </tr>\n",
       "    <tr>\n",
       "      <th>8</th>\n",
       "      <td>CLV</td>\n",
       "      <td>7.219</td>\n",
       "      <td>6.797</td>\n",
       "      <td>16.854</td>\n",
       "      <td>16.493</td>\n",
       "      <td>NaN</td>\n",
       "      <td>AFC North</td>\n",
       "    </tr>\n",
       "    <tr>\n",
       "      <th>9</th>\n",
       "      <td>MIA</td>\n",
       "      <td>6.552</td>\n",
       "      <td>6.767</td>\n",
       "      <td>15.948</td>\n",
       "      <td>17.250</td>\n",
       "      <td>NaN</td>\n",
       "      <td>AFC East</td>\n",
       "    </tr>\n",
       "    <tr>\n",
       "      <th>10</th>\n",
       "      <td>DET</td>\n",
       "      <td>6.339</td>\n",
       "      <td>6.771</td>\n",
       "      <td>16.998</td>\n",
       "      <td>16.879</td>\n",
       "      <td>NaN</td>\n",
       "      <td>NFC North</td>\n",
       "    </tr>\n",
       "    <tr>\n",
       "      <th>11</th>\n",
       "      <td>MIN</td>\n",
       "      <td>6.801</td>\n",
       "      <td>6.571</td>\n",
       "      <td>16.148</td>\n",
       "      <td>16.397</td>\n",
       "      <td>NaN</td>\n",
       "      <td>NFC North</td>\n",
       "    </tr>\n",
       "    <tr>\n",
       "      <th>12</th>\n",
       "      <td>OAK</td>\n",
       "      <td>6.674</td>\n",
       "      <td>6.374</td>\n",
       "      <td>16.211</td>\n",
       "      <td>17.862</td>\n",
       "      <td>NaN</td>\n",
       "      <td>AFC West</td>\n",
       "    </tr>\n",
       "    <tr>\n",
       "      <th>13</th>\n",
       "      <td>IND</td>\n",
       "      <td>6.516</td>\n",
       "      <td>6.454</td>\n",
       "      <td>16.371</td>\n",
       "      <td>16.614</td>\n",
       "      <td>NaN</td>\n",
       "      <td>AFC South</td>\n",
       "    </tr>\n",
       "    <tr>\n",
       "      <th>14</th>\n",
       "      <td>KC</td>\n",
       "      <td>6.684</td>\n",
       "      <td>6.980</td>\n",
       "      <td>17.701</td>\n",
       "      <td>16.736</td>\n",
       "      <td>NaN</td>\n",
       "      <td>AFC West</td>\n",
       "    </tr>\n",
       "    <tr>\n",
       "      <th>15</th>\n",
       "      <td>JAX</td>\n",
       "      <td>6.486</td>\n",
       "      <td>6.545</td>\n",
       "      <td>16.136</td>\n",
       "      <td>16.650</td>\n",
       "      <td>NaN</td>\n",
       "      <td>AFC South</td>\n",
       "    </tr>\n",
       "    <tr>\n",
       "      <th>16</th>\n",
       "      <td>ATL</td>\n",
       "      <td>6.511</td>\n",
       "      <td>6.806</td>\n",
       "      <td>16.275</td>\n",
       "      <td>16.462</td>\n",
       "      <td>NaN</td>\n",
       "      <td>NFC South</td>\n",
       "    </tr>\n",
       "    <tr>\n",
       "      <th>17</th>\n",
       "      <td>NO</td>\n",
       "      <td>6.740</td>\n",
       "      <td>6.557</td>\n",
       "      <td>16.410</td>\n",
       "      <td>16.957</td>\n",
       "      <td>NaN</td>\n",
       "      <td>NFC South</td>\n",
       "    </tr>\n",
       "    <tr>\n",
       "      <th>18</th>\n",
       "      <td>TB</td>\n",
       "      <td>6.327</td>\n",
       "      <td>6.390</td>\n",
       "      <td>16.488</td>\n",
       "      <td>15.924</td>\n",
       "      <td>NaN</td>\n",
       "      <td>NFC South</td>\n",
       "    </tr>\n",
       "    <tr>\n",
       "      <th>19</th>\n",
       "      <td>NYJ</td>\n",
       "      <td>6.497</td>\n",
       "      <td>6.126</td>\n",
       "      <td>16.567</td>\n",
       "      <td>16.663</td>\n",
       "      <td>NaN</td>\n",
       "      <td>AFC East</td>\n",
       "    </tr>\n",
       "    <tr>\n",
       "      <th>20</th>\n",
       "      <td>PIT</td>\n",
       "      <td>6.415</td>\n",
       "      <td>6.535</td>\n",
       "      <td>16.214</td>\n",
       "      <td>16.520</td>\n",
       "      <td>NaN</td>\n",
       "      <td>AFC North</td>\n",
       "    </tr>\n",
       "    <tr>\n",
       "      <th>21</th>\n",
       "      <td>TEN</td>\n",
       "      <td>7.133</td>\n",
       "      <td>6.318</td>\n",
       "      <td>16.717</td>\n",
       "      <td>16.482</td>\n",
       "      <td>NaN</td>\n",
       "      <td>AFC South</td>\n",
       "    </tr>\n",
       "    <tr>\n",
       "      <th>22</th>\n",
       "      <td>GB</td>\n",
       "      <td>6.951</td>\n",
       "      <td>6.836</td>\n",
       "      <td>17.113</td>\n",
       "      <td>17.409</td>\n",
       "      <td>NaN</td>\n",
       "      <td>NFC North</td>\n",
       "    </tr>\n",
       "    <tr>\n",
       "      <th>23</th>\n",
       "      <td>SF</td>\n",
       "      <td>6.718</td>\n",
       "      <td>6.253</td>\n",
       "      <td>18.058</td>\n",
       "      <td>16.078</td>\n",
       "      <td>NaN</td>\n",
       "      <td>NFC West</td>\n",
       "    </tr>\n",
       "    <tr>\n",
       "      <th>24</th>\n",
       "      <td>SL</td>\n",
       "      <td>6.451</td>\n",
       "      <td>6.163</td>\n",
       "      <td>16.761</td>\n",
       "      <td>17.309</td>\n",
       "      <td>NaN</td>\n",
       "      <td>NFC West</td>\n",
       "    </tr>\n",
       "    <tr>\n",
       "      <th>25</th>\n",
       "      <td>ARZ</td>\n",
       "      <td>6.219</td>\n",
       "      <td>6.722</td>\n",
       "      <td>16.207</td>\n",
       "      <td>16.618</td>\n",
       "      <td>NaN</td>\n",
       "      <td>NFC West</td>\n",
       "    </tr>\n",
       "    <tr>\n",
       "      <th>26</th>\n",
       "      <td>DAL</td>\n",
       "      <td>7.215</td>\n",
       "      <td>6.780</td>\n",
       "      <td>16.457</td>\n",
       "      <td>16.594</td>\n",
       "      <td>NaN</td>\n",
       "      <td>NFC East</td>\n",
       "    </tr>\n",
       "    <tr>\n",
       "      <th>27</th>\n",
       "      <td>NYG</td>\n",
       "      <td>6.452</td>\n",
       "      <td>6.589</td>\n",
       "      <td>15.906</td>\n",
       "      <td>16.765</td>\n",
       "      <td>NaN</td>\n",
       "      <td>NFC East</td>\n",
       "    </tr>\n",
       "    <tr>\n",
       "      <th>28</th>\n",
       "      <td>PHI</td>\n",
       "      <td>6.725</td>\n",
       "      <td>6.608</td>\n",
       "      <td>16.717</td>\n",
       "      <td>16.666</td>\n",
       "      <td>NaN</td>\n",
       "      <td>NFC East</td>\n",
       "    </tr>\n",
       "    <tr>\n",
       "      <th>29</th>\n",
       "      <td>WAS</td>\n",
       "      <td>6.593</td>\n",
       "      <td>6.740</td>\n",
       "      <td>16.551</td>\n",
       "      <td>16.872</td>\n",
       "      <td>NaN</td>\n",
       "      <td>NFC East</td>\n",
       "    </tr>\n",
       "    <tr>\n",
       "      <th>30</th>\n",
       "      <td>SD</td>\n",
       "      <td>5.886</td>\n",
       "      <td>6.454</td>\n",
       "      <td>17.231</td>\n",
       "      <td>17.640</td>\n",
       "      <td>NaN</td>\n",
       "      <td>AFC West</td>\n",
       "    </tr>\n",
       "    <tr>\n",
       "      <th>31</th>\n",
       "      <td>HST</td>\n",
       "      <td>6.192</td>\n",
       "      <td>6.933</td>\n",
       "      <td>16.017</td>\n",
       "      <td>16.979</td>\n",
       "      <td>NaN</td>\n",
       "      <td>AFC South</td>\n",
       "    </tr>\n",
       "    <tr>\n",
       "      <th>32</th>\n",
       "      <td>LA</td>\n",
       "      <td>6.618</td>\n",
       "      <td>6.707</td>\n",
       "      <td>17.161</td>\n",
       "      <td>16.288</td>\n",
       "      <td>NaN</td>\n",
       "      <td>NFC West</td>\n",
       "    </tr>\n",
       "    <tr>\n",
       "      <th>33</th>\n",
       "      <td>LAC</td>\n",
       "      <td>6.548</td>\n",
       "      <td>7.529</td>\n",
       "      <td>17.030</td>\n",
       "      <td>16.000</td>\n",
       "      <td>NaN</td>\n",
       "      <td>AFC West</td>\n",
       "    </tr>\n",
       "    <tr>\n",
       "      <th>34</th>\n",
       "      <td>LV</td>\n",
       "      <td>7.190</td>\n",
       "      <td>7.110</td>\n",
       "      <td>16.939</td>\n",
       "      <td>15.763</td>\n",
       "      <td>NaN</td>\n",
       "      <td>AFC West</td>\n",
       "    </tr>\n",
       "  </tbody>\n",
       "</table>\n",
       "</div>"
      ],
      "text/plain": [
       "   team  rush_off  rush_def  pass_off  pass_def  Div       Divs\n",
       "0   BLT     6.848     6.167    15.508    16.426  NaN  AFC North\n",
       "1   DEN     6.592     6.269    16.505    16.229  NaN   AFC West\n",
       "2    NE     6.521     6.584    16.921    16.406  NaN   AFC East\n",
       "3   BUF     6.526     6.915    16.119    16.030  NaN   AFC East\n",
       "4   CAR     6.598     6.829    16.896    15.842  NaN  NFC South\n",
       "5   SEA     6.986     6.272    17.195    16.078  NaN   NFC West\n",
       "6   CHI     6.456     6.689    15.743    16.482  NaN  NFC North\n",
       "7   CIN     6.310     6.914    16.733    16.419  NaN  AFC North\n",
       "8   CLV     7.219     6.797    16.854    16.493  NaN  AFC North\n",
       "9   MIA     6.552     6.767    15.948    17.250  NaN   AFC East\n",
       "10  DET     6.339     6.771    16.998    16.879  NaN  NFC North\n",
       "11  MIN     6.801     6.571    16.148    16.397  NaN  NFC North\n",
       "12  OAK     6.674     6.374    16.211    17.862  NaN   AFC West\n",
       "13  IND     6.516     6.454    16.371    16.614  NaN  AFC South\n",
       "14   KC     6.684     6.980    17.701    16.736  NaN   AFC West\n",
       "15  JAX     6.486     6.545    16.136    16.650  NaN  AFC South\n",
       "16  ATL     6.511     6.806    16.275    16.462  NaN  NFC South\n",
       "17   NO     6.740     6.557    16.410    16.957  NaN  NFC South\n",
       "18   TB     6.327     6.390    16.488    15.924  NaN  NFC South\n",
       "19  NYJ     6.497     6.126    16.567    16.663  NaN   AFC East\n",
       "20  PIT     6.415     6.535    16.214    16.520  NaN  AFC North\n",
       "21  TEN     7.133     6.318    16.717    16.482  NaN  AFC South\n",
       "22   GB     6.951     6.836    17.113    17.409  NaN  NFC North\n",
       "23   SF     6.718     6.253    18.058    16.078  NaN   NFC West\n",
       "24   SL     6.451     6.163    16.761    17.309  NaN   NFC West\n",
       "25  ARZ     6.219     6.722    16.207    16.618  NaN   NFC West\n",
       "26  DAL     7.215     6.780    16.457    16.594  NaN   NFC East\n",
       "27  NYG     6.452     6.589    15.906    16.765  NaN   NFC East\n",
       "28  PHI     6.725     6.608    16.717    16.666  NaN   NFC East\n",
       "29  WAS     6.593     6.740    16.551    16.872  NaN   NFC East\n",
       "30   SD     5.886     6.454    17.231    17.640  NaN   AFC West\n",
       "31  HST     6.192     6.933    16.017    16.979  NaN  AFC South\n",
       "32   LA     6.618     6.707    17.161    16.288  NaN   NFC West\n",
       "33  LAC     6.548     7.529    17.030    16.000  NaN   AFC West\n",
       "34   LV     7.190     7.110    16.939    15.763  NaN   AFC West"
      ]
     },
     "execution_count": 36,
     "metadata": {},
     "output_type": "execute_result"
    }
   ],
   "source": [
    "plotting_data"
   ]
  },
  {
   "cell_type": "markdown",
   "metadata": {},
   "source": []
  },
  {
   "cell_type": "code",
   "execution_count": 17,
   "metadata": {},
   "outputs": [],
   "source": [
    "rush_off_avg = np.mean(plotting_data['rush_off'])\n",
    "rush_def_avg = np.mean(plotting_data['rush_def'])\n",
    "pass_off_avg = np.mean(plotting_data['pass_off'])\n",
    "pass_def_avg = np.mean(plotting_data['pass_def'])\n",
    "\n",
    "offense_groups = []\n",
    "defense_groups = []\n",
    "for index, row in plotting_data.iterrows():\n",
    "    if row['rush_off'] > rush_off_avg and row['pass_off'] > pass_off_avg: #Both above average\n",
    "        offense_groups.append('Both above average')\n",
    "    elif row['rush_off'] > rush_off_avg: #Only rush offense is above average\n",
    "        offense_groups.append('Rushing above average')\n",
    "    elif row['pass_off'] > pass_off_avg: #Only pass offense is above average\n",
    "        offense_groups.append('Passing above average')\n",
    "    else: #Both are below average\n",
    "        offense_groups.append('Both below average')\n",
    "\n",
    "    if row['rush_def'] > rush_def_avg and row['pass_def'] > pass_def_avg: #Both above average\n",
    "        defense_groups.append('Both above average')\n",
    "    elif row['rush_def'] > rush_def_avg: #Only rush offense is above average\n",
    "        defense_groups.append('Rushing above average')\n",
    "    elif row['pass_def'] > pass_def_avg: #Only pass offense is above average\n",
    "        defense_groups.append('Passing above average')\n",
    "    else: #Both are below average\n",
    "        defense_groups.append('Both below average')\n",
    "\n",
    "\n",
    "plotting_data['offense_groups'] = offense_groups\n",
    "plotting_data['defense_groups'] = defense_groups\n",
    "    \n",
    "\n"
   ]
  },
  {
   "cell_type": "code",
   "execution_count": 50,
   "metadata": {},
   "outputs": [
    {
     "ename": "ValueError",
     "evalue": "Mime type rendering requires nbformat>=4.2.0 but it is not installed",
     "output_type": "error",
     "traceback": [
      "\u001b[1;31m---------------------------------------------------------------------------\u001b[0m",
      "\u001b[1;31mValueError\u001b[0m                                Traceback (most recent call last)",
      "File \u001b[1;32m~\\AppData\\Local\\Packages\\PythonSoftwareFoundation.Python.3.11_qbz5n2kfra8p0\\LocalCache\\local-packages\\Python311\\site-packages\\IPython\\core\\formatters.py:922\u001b[0m, in \u001b[0;36mIPythonDisplayFormatter.__call__\u001b[1;34m(self, obj)\u001b[0m\n\u001b[0;32m    920\u001b[0m method \u001b[39m=\u001b[39m get_real_method(obj, \u001b[39mself\u001b[39m\u001b[39m.\u001b[39mprint_method)\n\u001b[0;32m    921\u001b[0m \u001b[39mif\u001b[39;00m method \u001b[39mis\u001b[39;00m \u001b[39mnot\u001b[39;00m \u001b[39mNone\u001b[39;00m:\n\u001b[1;32m--> 922\u001b[0m     method()\n\u001b[0;32m    923\u001b[0m     \u001b[39mreturn\u001b[39;00m \u001b[39mTrue\u001b[39;00m\n",
      "File \u001b[1;32m~\\AppData\\Local\\Packages\\PythonSoftwareFoundation.Python.3.11_qbz5n2kfra8p0\\LocalCache\\local-packages\\Python311\\site-packages\\plotly\\basedatatypes.py:832\u001b[0m, in \u001b[0;36mBaseFigure._ipython_display_\u001b[1;34m(self)\u001b[0m\n\u001b[0;32m    829\u001b[0m \u001b[39mimport\u001b[39;00m \u001b[39mplotly\u001b[39;00m\u001b[39m.\u001b[39;00m\u001b[39mio\u001b[39;00m \u001b[39mas\u001b[39;00m \u001b[39mpio\u001b[39;00m\n\u001b[0;32m    831\u001b[0m \u001b[39mif\u001b[39;00m pio\u001b[39m.\u001b[39mrenderers\u001b[39m.\u001b[39mrender_on_display \u001b[39mand\u001b[39;00m pio\u001b[39m.\u001b[39mrenderers\u001b[39m.\u001b[39mdefault:\n\u001b[1;32m--> 832\u001b[0m     pio\u001b[39m.\u001b[39;49mshow(\u001b[39mself\u001b[39;49m)\n\u001b[0;32m    833\u001b[0m \u001b[39melse\u001b[39;00m:\n\u001b[0;32m    834\u001b[0m     \u001b[39mprint\u001b[39m(\u001b[39mrepr\u001b[39m(\u001b[39mself\u001b[39m))\n",
      "File \u001b[1;32m~\\AppData\\Local\\Packages\\PythonSoftwareFoundation.Python.3.11_qbz5n2kfra8p0\\LocalCache\\local-packages\\Python311\\site-packages\\plotly\\io\\_renderers.py:394\u001b[0m, in \u001b[0;36mshow\u001b[1;34m(fig, renderer, validate, **kwargs)\u001b[0m\n\u001b[0;32m    389\u001b[0m         \u001b[39mraise\u001b[39;00m \u001b[39mValueError\u001b[39;00m(\n\u001b[0;32m    390\u001b[0m             \u001b[39m\"\u001b[39m\u001b[39mMime type rendering requires ipython but it is not installed\u001b[39m\u001b[39m\"\u001b[39m\n\u001b[0;32m    391\u001b[0m         )\n\u001b[0;32m    393\u001b[0m     \u001b[39mif\u001b[39;00m \u001b[39mnot\u001b[39;00m nbformat \u001b[39mor\u001b[39;00m Version(nbformat\u001b[39m.\u001b[39m__version__) \u001b[39m<\u001b[39m Version(\u001b[39m\"\u001b[39m\u001b[39m4.2.0\u001b[39m\u001b[39m\"\u001b[39m):\n\u001b[1;32m--> 394\u001b[0m         \u001b[39mraise\u001b[39;00m \u001b[39mValueError\u001b[39;00m(\n\u001b[0;32m    395\u001b[0m             \u001b[39m\"\u001b[39m\u001b[39mMime type rendering requires nbformat>=4.2.0 but it is not installed\u001b[39m\u001b[39m\"\u001b[39m\n\u001b[0;32m    396\u001b[0m         )\n\u001b[0;32m    398\u001b[0m     ipython_display\u001b[39m.\u001b[39mdisplay(bundle, raw\u001b[39m=\u001b[39m\u001b[39mTrue\u001b[39;00m)\n\u001b[0;32m    400\u001b[0m \u001b[39m# external renderers\u001b[39;00m\n",
      "\u001b[1;31mValueError\u001b[0m: Mime type rendering requires nbformat>=4.2.0 but it is not installed"
     ]
    },
    {
     "data": {
      "application/vnd.plotly.v1+json": {
       "config": {
        "plotlyServerURL": "https://plot.ly"
       },
       "data": [
        {
         "customdata": [
          [
           "BLT",
           6.167,
           16.426,
           "AFC North"
          ],
          [
           "CIN",
           6.914,
           16.419,
           "AFC North"
          ],
          [
           "CLV",
           6.797,
           16.493,
           "AFC North"
          ],
          [
           "PIT",
           6.535,
           16.52,
           "AFC North"
          ]
         ],
         "hovertemplate": "Division=%{customdata[3]}<br>Rushing Output=%{x}<br>Passing Output=%{y}<br>Team Code=%{customdata[0]}<extra></extra>",
         "legendgroup": "AFC North",
         "marker": {
          "color": "#636efa",
          "symbol": "circle"
         },
         "mode": "markers",
         "name": "AFC North",
         "orientation": "v",
         "showlegend": true,
         "type": "scatter",
         "x": [
          6.848,
          6.31,
          7.219,
          6.415
         ],
         "xaxis": "x",
         "y": [
          15.508,
          16.733,
          16.854,
          16.214
         ],
         "yaxis": "y"
        },
        {
         "customdata": [
          [
           "DEN",
           6.269,
           16.229,
           "AFC West"
          ],
          [
           "OAK",
           6.374,
           17.862,
           "AFC West"
          ],
          [
           "KC",
           6.98,
           16.736,
           "AFC West"
          ],
          [
           "SD",
           6.454,
           17.64,
           "AFC West"
          ],
          [
           "LAC",
           7.529,
           16,
           "AFC West"
          ],
          [
           "LV",
           7.11,
           15.763,
           "AFC West"
          ]
         ],
         "hovertemplate": "Division=%{customdata[3]}<br>Rushing Output=%{x}<br>Passing Output=%{y}<br>Team Code=%{customdata[0]}<extra></extra>",
         "legendgroup": "AFC West",
         "marker": {
          "color": "#EF553B",
          "symbol": "circle"
         },
         "mode": "markers",
         "name": "AFC West",
         "orientation": "v",
         "showlegend": true,
         "type": "scatter",
         "x": [
          6.592,
          6.674,
          6.684,
          5.886,
          6.548,
          7.19
         ],
         "xaxis": "x",
         "y": [
          16.505,
          16.211,
          17.701,
          17.231,
          17.03,
          16.939
         ],
         "yaxis": "y"
        },
        {
         "customdata": [
          [
           "NE",
           6.584,
           16.406,
           "AFC East"
          ],
          [
           "BUF",
           6.915,
           16.03,
           "AFC East"
          ],
          [
           "MIA",
           6.767,
           17.25,
           "AFC East"
          ],
          [
           "NYJ",
           6.126,
           16.663,
           "AFC East"
          ]
         ],
         "hovertemplate": "Division=%{customdata[3]}<br>Rushing Output=%{x}<br>Passing Output=%{y}<br>Team Code=%{customdata[0]}<extra></extra>",
         "legendgroup": "AFC East",
         "marker": {
          "color": "#00cc96",
          "symbol": "circle"
         },
         "mode": "markers",
         "name": "AFC East",
         "orientation": "v",
         "showlegend": true,
         "type": "scatter",
         "x": [
          6.521,
          6.526,
          6.552,
          6.497
         ],
         "xaxis": "x",
         "y": [
          16.921,
          16.119,
          15.948,
          16.567
         ],
         "yaxis": "y"
        },
        {
         "customdata": [
          [
           "CAR",
           6.829,
           15.842,
           "NFC South"
          ],
          [
           "ATL",
           6.806,
           16.462,
           "NFC South"
          ],
          [
           "NO",
           6.557,
           16.957,
           "NFC South"
          ],
          [
           "TB",
           6.39,
           15.924,
           "NFC South"
          ]
         ],
         "hovertemplate": "Division=%{customdata[3]}<br>Rushing Output=%{x}<br>Passing Output=%{y}<br>Team Code=%{customdata[0]}<extra></extra>",
         "legendgroup": "NFC South",
         "marker": {
          "color": "#ab63fa",
          "symbol": "circle"
         },
         "mode": "markers",
         "name": "NFC South",
         "orientation": "v",
         "showlegend": true,
         "type": "scatter",
         "x": [
          6.598,
          6.511,
          6.74,
          6.327
         ],
         "xaxis": "x",
         "y": [
          16.896,
          16.275,
          16.41,
          16.488
         ],
         "yaxis": "y"
        },
        {
         "customdata": [
          [
           "SEA",
           6.272,
           16.078,
           "NFC West"
          ],
          [
           "SF",
           6.253,
           16.078,
           "NFC West"
          ],
          [
           "SL",
           6.163,
           17.309,
           "NFC West"
          ],
          [
           "ARZ",
           6.722,
           16.618,
           "NFC West"
          ],
          [
           "LA",
           6.707,
           16.288,
           "NFC West"
          ]
         ],
         "hovertemplate": "Division=%{customdata[3]}<br>Rushing Output=%{x}<br>Passing Output=%{y}<br>Team Code=%{customdata[0]}<extra></extra>",
         "legendgroup": "NFC West",
         "marker": {
          "color": "#FFA15A",
          "symbol": "circle"
         },
         "mode": "markers",
         "name": "NFC West",
         "orientation": "v",
         "showlegend": true,
         "type": "scatter",
         "x": [
          6.986,
          6.718,
          6.451,
          6.219,
          6.618
         ],
         "xaxis": "x",
         "y": [
          17.195,
          18.058,
          16.761,
          16.207,
          17.161
         ],
         "yaxis": "y"
        },
        {
         "customdata": [
          [
           "CHI",
           6.689,
           16.482,
           "NFC North"
          ],
          [
           "DET",
           6.771,
           16.879,
           "NFC North"
          ],
          [
           "MIN",
           6.571,
           16.397,
           "NFC North"
          ],
          [
           "GB",
           6.836,
           17.409,
           "NFC North"
          ]
         ],
         "hovertemplate": "Division=%{customdata[3]}<br>Rushing Output=%{x}<br>Passing Output=%{y}<br>Team Code=%{customdata[0]}<extra></extra>",
         "legendgroup": "NFC North",
         "marker": {
          "color": "#19d3f3",
          "symbol": "circle"
         },
         "mode": "markers",
         "name": "NFC North",
         "orientation": "v",
         "showlegend": true,
         "type": "scatter",
         "x": [
          6.456,
          6.339,
          6.801,
          6.951
         ],
         "xaxis": "x",
         "y": [
          15.743,
          16.998,
          16.148,
          17.113
         ],
         "yaxis": "y"
        },
        {
         "customdata": [
          [
           "IND",
           6.454,
           16.614,
           "AFC South"
          ],
          [
           "JAX",
           6.545,
           16.65,
           "AFC South"
          ],
          [
           "TEN",
           6.318,
           16.482,
           "AFC South"
          ],
          [
           "HST",
           6.933,
           16.979,
           "AFC South"
          ]
         ],
         "hovertemplate": "Division=%{customdata[3]}<br>Rushing Output=%{x}<br>Passing Output=%{y}<br>Team Code=%{customdata[0]}<extra></extra>",
         "legendgroup": "AFC South",
         "marker": {
          "color": "#FF6692",
          "symbol": "circle"
         },
         "mode": "markers",
         "name": "AFC South",
         "orientation": "v",
         "showlegend": true,
         "type": "scatter",
         "x": [
          6.516,
          6.486,
          7.133,
          6.192
         ],
         "xaxis": "x",
         "y": [
          16.371,
          16.136,
          16.717,
          16.017
         ],
         "yaxis": "y"
        },
        {
         "customdata": [
          [
           "DAL",
           6.78,
           16.594,
           "NFC East"
          ],
          [
           "NYG",
           6.589,
           16.765,
           "NFC East"
          ],
          [
           "PHI",
           6.608,
           16.666,
           "NFC East"
          ],
          [
           "WAS",
           6.74,
           16.872,
           "NFC East"
          ]
         ],
         "hovertemplate": "Division=%{customdata[3]}<br>Rushing Output=%{x}<br>Passing Output=%{y}<br>Team Code=%{customdata[0]}<extra></extra>",
         "legendgroup": "NFC East",
         "marker": {
          "color": "#B6E880",
          "symbol": "circle"
         },
         "mode": "markers",
         "name": "NFC East",
         "orientation": "v",
         "showlegend": true,
         "type": "scatter",
         "x": [
          7.215,
          6.452,
          6.725,
          6.593
         ],
         "xaxis": "x",
         "y": [
          16.457,
          15.906,
          16.717,
          16.551
         ],
         "yaxis": "y"
        }
       ],
       "layout": {
        "annotations": [
         {
          "showarrow": false,
          "text": "average passing output",
          "x": 0,
          "xanchor": "left",
          "xref": "x domain",
          "y": 16.59445714285714,
          "yanchor": "bottom",
          "yref": "y"
         },
         {
          "showarrow": false,
          "text": "average rushing output",
          "x": 6.613971428571428,
          "xanchor": "right",
          "xref": "x",
          "y": 1,
          "yanchor": "top",
          "yref": "y domain"
         }
        ],
        "legend": {
         "title": {
          "text": "Division"
         },
         "tracegroupgap": 0
        },
        "margin": {
         "b": 30,
         "l": 30,
         "r": 30,
         "t": 30
        },
        "shapes": [
         {
          "line": {
           "color": "gray",
           "dash": "dash"
          },
          "opacity": 0.7,
          "type": "line",
          "x0": 0,
          "x1": 1,
          "xref": "x domain",
          "y0": 16.59445714285714,
          "y1": 16.59445714285714,
          "yref": "y"
         },
         {
          "line": {
           "color": "gray",
           "dash": "dash"
          },
          "opacity": 0.7,
          "type": "line",
          "x0": 6.613971428571428,
          "x1": 6.613971428571428,
          "xref": "x",
          "y0": 0,
          "y1": 1,
          "yref": "y domain"
         }
        ],
        "template": {
         "data": {
          "bar": [
           {
            "error_x": {
             "color": "#2a3f5f"
            },
            "error_y": {
             "color": "#2a3f5f"
            },
            "marker": {
             "line": {
              "color": "white",
              "width": 0.5
             },
             "pattern": {
              "fillmode": "overlay",
              "size": 10,
              "solidity": 0.2
             }
            },
            "type": "bar"
           }
          ],
          "barpolar": [
           {
            "marker": {
             "line": {
              "color": "white",
              "width": 0.5
             },
             "pattern": {
              "fillmode": "overlay",
              "size": 10,
              "solidity": 0.2
             }
            },
            "type": "barpolar"
           }
          ],
          "carpet": [
           {
            "aaxis": {
             "endlinecolor": "#2a3f5f",
             "gridcolor": "#C8D4E3",
             "linecolor": "#C8D4E3",
             "minorgridcolor": "#C8D4E3",
             "startlinecolor": "#2a3f5f"
            },
            "baxis": {
             "endlinecolor": "#2a3f5f",
             "gridcolor": "#C8D4E3",
             "linecolor": "#C8D4E3",
             "minorgridcolor": "#C8D4E3",
             "startlinecolor": "#2a3f5f"
            },
            "type": "carpet"
           }
          ],
          "choropleth": [
           {
            "colorbar": {
             "outlinewidth": 0,
             "ticks": ""
            },
            "type": "choropleth"
           }
          ],
          "contour": [
           {
            "colorbar": {
             "outlinewidth": 0,
             "ticks": ""
            },
            "colorscale": [
             [
              0,
              "#0d0887"
             ],
             [
              0.1111111111111111,
              "#46039f"
             ],
             [
              0.2222222222222222,
              "#7201a8"
             ],
             [
              0.3333333333333333,
              "#9c179e"
             ],
             [
              0.4444444444444444,
              "#bd3786"
             ],
             [
              0.5555555555555556,
              "#d8576b"
             ],
             [
              0.6666666666666666,
              "#ed7953"
             ],
             [
              0.7777777777777778,
              "#fb9f3a"
             ],
             [
              0.8888888888888888,
              "#fdca26"
             ],
             [
              1,
              "#f0f921"
             ]
            ],
            "type": "contour"
           }
          ],
          "contourcarpet": [
           {
            "colorbar": {
             "outlinewidth": 0,
             "ticks": ""
            },
            "type": "contourcarpet"
           }
          ],
          "heatmap": [
           {
            "colorbar": {
             "outlinewidth": 0,
             "ticks": ""
            },
            "colorscale": [
             [
              0,
              "#0d0887"
             ],
             [
              0.1111111111111111,
              "#46039f"
             ],
             [
              0.2222222222222222,
              "#7201a8"
             ],
             [
              0.3333333333333333,
              "#9c179e"
             ],
             [
              0.4444444444444444,
              "#bd3786"
             ],
             [
              0.5555555555555556,
              "#d8576b"
             ],
             [
              0.6666666666666666,
              "#ed7953"
             ],
             [
              0.7777777777777778,
              "#fb9f3a"
             ],
             [
              0.8888888888888888,
              "#fdca26"
             ],
             [
              1,
              "#f0f921"
             ]
            ],
            "type": "heatmap"
           }
          ],
          "heatmapgl": [
           {
            "colorbar": {
             "outlinewidth": 0,
             "ticks": ""
            },
            "colorscale": [
             [
              0,
              "#0d0887"
             ],
             [
              0.1111111111111111,
              "#46039f"
             ],
             [
              0.2222222222222222,
              "#7201a8"
             ],
             [
              0.3333333333333333,
              "#9c179e"
             ],
             [
              0.4444444444444444,
              "#bd3786"
             ],
             [
              0.5555555555555556,
              "#d8576b"
             ],
             [
              0.6666666666666666,
              "#ed7953"
             ],
             [
              0.7777777777777778,
              "#fb9f3a"
             ],
             [
              0.8888888888888888,
              "#fdca26"
             ],
             [
              1,
              "#f0f921"
             ]
            ],
            "type": "heatmapgl"
           }
          ],
          "histogram": [
           {
            "marker": {
             "pattern": {
              "fillmode": "overlay",
              "size": 10,
              "solidity": 0.2
             }
            },
            "type": "histogram"
           }
          ],
          "histogram2d": [
           {
            "colorbar": {
             "outlinewidth": 0,
             "ticks": ""
            },
            "colorscale": [
             [
              0,
              "#0d0887"
             ],
             [
              0.1111111111111111,
              "#46039f"
             ],
             [
              0.2222222222222222,
              "#7201a8"
             ],
             [
              0.3333333333333333,
              "#9c179e"
             ],
             [
              0.4444444444444444,
              "#bd3786"
             ],
             [
              0.5555555555555556,
              "#d8576b"
             ],
             [
              0.6666666666666666,
              "#ed7953"
             ],
             [
              0.7777777777777778,
              "#fb9f3a"
             ],
             [
              0.8888888888888888,
              "#fdca26"
             ],
             [
              1,
              "#f0f921"
             ]
            ],
            "type": "histogram2d"
           }
          ],
          "histogram2dcontour": [
           {
            "colorbar": {
             "outlinewidth": 0,
             "ticks": ""
            },
            "colorscale": [
             [
              0,
              "#0d0887"
             ],
             [
              0.1111111111111111,
              "#46039f"
             ],
             [
              0.2222222222222222,
              "#7201a8"
             ],
             [
              0.3333333333333333,
              "#9c179e"
             ],
             [
              0.4444444444444444,
              "#bd3786"
             ],
             [
              0.5555555555555556,
              "#d8576b"
             ],
             [
              0.6666666666666666,
              "#ed7953"
             ],
             [
              0.7777777777777778,
              "#fb9f3a"
             ],
             [
              0.8888888888888888,
              "#fdca26"
             ],
             [
              1,
              "#f0f921"
             ]
            ],
            "type": "histogram2dcontour"
           }
          ],
          "mesh3d": [
           {
            "colorbar": {
             "outlinewidth": 0,
             "ticks": ""
            },
            "type": "mesh3d"
           }
          ],
          "parcoords": [
           {
            "line": {
             "colorbar": {
              "outlinewidth": 0,
              "ticks": ""
             }
            },
            "type": "parcoords"
           }
          ],
          "pie": [
           {
            "automargin": true,
            "type": "pie"
           }
          ],
          "scatter": [
           {
            "fillpattern": {
             "fillmode": "overlay",
             "size": 10,
             "solidity": 0.2
            },
            "type": "scatter"
           }
          ],
          "scatter3d": [
           {
            "line": {
             "colorbar": {
              "outlinewidth": 0,
              "ticks": ""
             }
            },
            "marker": {
             "colorbar": {
              "outlinewidth": 0,
              "ticks": ""
             }
            },
            "type": "scatter3d"
           }
          ],
          "scattercarpet": [
           {
            "marker": {
             "colorbar": {
              "outlinewidth": 0,
              "ticks": ""
             }
            },
            "type": "scattercarpet"
           }
          ],
          "scattergeo": [
           {
            "marker": {
             "colorbar": {
              "outlinewidth": 0,
              "ticks": ""
             }
            },
            "type": "scattergeo"
           }
          ],
          "scattergl": [
           {
            "marker": {
             "colorbar": {
              "outlinewidth": 0,
              "ticks": ""
             }
            },
            "type": "scattergl"
           }
          ],
          "scattermapbox": [
           {
            "marker": {
             "colorbar": {
              "outlinewidth": 0,
              "ticks": ""
             }
            },
            "type": "scattermapbox"
           }
          ],
          "scatterpolar": [
           {
            "marker": {
             "colorbar": {
              "outlinewidth": 0,
              "ticks": ""
             }
            },
            "type": "scatterpolar"
           }
          ],
          "scatterpolargl": [
           {
            "marker": {
             "colorbar": {
              "outlinewidth": 0,
              "ticks": ""
             }
            },
            "type": "scatterpolargl"
           }
          ],
          "scatterternary": [
           {
            "marker": {
             "colorbar": {
              "outlinewidth": 0,
              "ticks": ""
             }
            },
            "type": "scatterternary"
           }
          ],
          "surface": [
           {
            "colorbar": {
             "outlinewidth": 0,
             "ticks": ""
            },
            "colorscale": [
             [
              0,
              "#0d0887"
             ],
             [
              0.1111111111111111,
              "#46039f"
             ],
             [
              0.2222222222222222,
              "#7201a8"
             ],
             [
              0.3333333333333333,
              "#9c179e"
             ],
             [
              0.4444444444444444,
              "#bd3786"
             ],
             [
              0.5555555555555556,
              "#d8576b"
             ],
             [
              0.6666666666666666,
              "#ed7953"
             ],
             [
              0.7777777777777778,
              "#fb9f3a"
             ],
             [
              0.8888888888888888,
              "#fdca26"
             ],
             [
              1,
              "#f0f921"
             ]
            ],
            "type": "surface"
           }
          ],
          "table": [
           {
            "cells": {
             "fill": {
              "color": "#EBF0F8"
             },
             "line": {
              "color": "white"
             }
            },
            "header": {
             "fill": {
              "color": "#C8D4E3"
             },
             "line": {
              "color": "white"
             }
            },
            "type": "table"
           }
          ]
         },
         "layout": {
          "annotationdefaults": {
           "arrowcolor": "#2a3f5f",
           "arrowhead": 0,
           "arrowwidth": 1
          },
          "autotypenumbers": "strict",
          "coloraxis": {
           "colorbar": {
            "outlinewidth": 0,
            "ticks": ""
           }
          },
          "colorscale": {
           "diverging": [
            [
             0,
             "#8e0152"
            ],
            [
             0.1,
             "#c51b7d"
            ],
            [
             0.2,
             "#de77ae"
            ],
            [
             0.3,
             "#f1b6da"
            ],
            [
             0.4,
             "#fde0ef"
            ],
            [
             0.5,
             "#f7f7f7"
            ],
            [
             0.6,
             "#e6f5d0"
            ],
            [
             0.7,
             "#b8e186"
            ],
            [
             0.8,
             "#7fbc41"
            ],
            [
             0.9,
             "#4d9221"
            ],
            [
             1,
             "#276419"
            ]
           ],
           "sequential": [
            [
             0,
             "#0d0887"
            ],
            [
             0.1111111111111111,
             "#46039f"
            ],
            [
             0.2222222222222222,
             "#7201a8"
            ],
            [
             0.3333333333333333,
             "#9c179e"
            ],
            [
             0.4444444444444444,
             "#bd3786"
            ],
            [
             0.5555555555555556,
             "#d8576b"
            ],
            [
             0.6666666666666666,
             "#ed7953"
            ],
            [
             0.7777777777777778,
             "#fb9f3a"
            ],
            [
             0.8888888888888888,
             "#fdca26"
            ],
            [
             1,
             "#f0f921"
            ]
           ],
           "sequentialminus": [
            [
             0,
             "#0d0887"
            ],
            [
             0.1111111111111111,
             "#46039f"
            ],
            [
             0.2222222222222222,
             "#7201a8"
            ],
            [
             0.3333333333333333,
             "#9c179e"
            ],
            [
             0.4444444444444444,
             "#bd3786"
            ],
            [
             0.5555555555555556,
             "#d8576b"
            ],
            [
             0.6666666666666666,
             "#ed7953"
            ],
            [
             0.7777777777777778,
             "#fb9f3a"
            ],
            [
             0.8888888888888888,
             "#fdca26"
            ],
            [
             1,
             "#f0f921"
            ]
           ]
          },
          "colorway": [
           "#636efa",
           "#EF553B",
           "#00cc96",
           "#ab63fa",
           "#FFA15A",
           "#19d3f3",
           "#FF6692",
           "#B6E880",
           "#FF97FF",
           "#FECB52"
          ],
          "font": {
           "color": "#2a3f5f"
          },
          "geo": {
           "bgcolor": "white",
           "lakecolor": "white",
           "landcolor": "white",
           "showlakes": true,
           "showland": true,
           "subunitcolor": "#C8D4E3"
          },
          "hoverlabel": {
           "align": "left"
          },
          "hovermode": "closest",
          "mapbox": {
           "style": "light"
          },
          "paper_bgcolor": "white",
          "plot_bgcolor": "white",
          "polar": {
           "angularaxis": {
            "gridcolor": "#EBF0F8",
            "linecolor": "#EBF0F8",
            "ticks": ""
           },
           "bgcolor": "white",
           "radialaxis": {
            "gridcolor": "#EBF0F8",
            "linecolor": "#EBF0F8",
            "ticks": ""
           }
          },
          "scene": {
           "xaxis": {
            "backgroundcolor": "white",
            "gridcolor": "#DFE8F3",
            "gridwidth": 2,
            "linecolor": "#EBF0F8",
            "showbackground": true,
            "ticks": "",
            "zerolinecolor": "#EBF0F8"
           },
           "yaxis": {
            "backgroundcolor": "white",
            "gridcolor": "#DFE8F3",
            "gridwidth": 2,
            "linecolor": "#EBF0F8",
            "showbackground": true,
            "ticks": "",
            "zerolinecolor": "#EBF0F8"
           },
           "zaxis": {
            "backgroundcolor": "white",
            "gridcolor": "#DFE8F3",
            "gridwidth": 2,
            "linecolor": "#EBF0F8",
            "showbackground": true,
            "ticks": "",
            "zerolinecolor": "#EBF0F8"
           }
          },
          "shapedefaults": {
           "line": {
            "color": "#2a3f5f"
           }
          },
          "ternary": {
           "aaxis": {
            "gridcolor": "#DFE8F3",
            "linecolor": "#A2B1C6",
            "ticks": ""
           },
           "baxis": {
            "gridcolor": "#DFE8F3",
            "linecolor": "#A2B1C6",
            "ticks": ""
           },
           "bgcolor": "white",
           "caxis": {
            "gridcolor": "#DFE8F3",
            "linecolor": "#A2B1C6",
            "ticks": ""
           }
          },
          "title": {
           "x": 0.05
          },
          "xaxis": {
           "automargin": true,
           "gridcolor": "#EBF0F8",
           "linecolor": "#EBF0F8",
           "ticks": "",
           "title": {
            "standoff": 15
           },
           "zerolinecolor": "#EBF0F8",
           "zerolinewidth": 2
          },
          "yaxis": {
           "automargin": true,
           "gridcolor": "#EBF0F8",
           "linecolor": "#EBF0F8",
           "ticks": "",
           "title": {
            "standoff": 15
           },
           "zerolinecolor": "#EBF0F8",
           "zerolinewidth": 2
          }
         }
        },
        "title": {
         "text": "Offensive output"
        },
        "xaxis": {
         "anchor": "y",
         "domain": [
          0,
          1
         ],
         "title": {
          "text": "Rushing Output"
         }
        },
        "yaxis": {
         "anchor": "x",
         "domain": [
          0,
          1
         ],
         "title": {
          "text": "Passing Output"
         }
        }
       }
      },
      "text/html": [
       "<div>                        <script type=\"text/javascript\">window.PlotlyConfig = {MathJaxConfig: 'local'};</script>\n",
       "        <script charset=\"utf-8\" src=\"https://cdn.plot.ly/plotly-2.27.0.min.js\"></script>                <div id=\"14fcc973-ac01-4e28-8829-71a887793307\" class=\"plotly-graph-div\" style=\"height:100%; width:100%;\"></div>            <script type=\"text/javascript\">                                    window.PLOTLYENV=window.PLOTLYENV || {};                                    if (document.getElementById(\"14fcc973-ac01-4e28-8829-71a887793307\")) {                    Plotly.newPlot(                        \"14fcc973-ac01-4e28-8829-71a887793307\",                        [{\"customdata\":[[\"BLT\",6.167,16.426,\"AFC North\"],[\"CIN\",6.914,16.419,\"AFC North\"],[\"CLV\",6.797,16.493,\"AFC North\"],[\"PIT\",6.535,16.52,\"AFC North\"]],\"hovertemplate\":\"Division=%{customdata[3]}\\u003cbr\\u003eRushing Output=%{x}\\u003cbr\\u003ePassing Output=%{y}\\u003cbr\\u003eTeam Code=%{customdata[0]}\\u003cextra\\u003e\\u003c\\u002fextra\\u003e\",\"legendgroup\":\"AFC North\",\"marker\":{\"color\":\"#636efa\",\"symbol\":\"circle\"},\"mode\":\"markers\",\"name\":\"AFC North\",\"orientation\":\"v\",\"showlegend\":true,\"x\":[6.848,6.31,7.219,6.415],\"xaxis\":\"x\",\"y\":[15.508,16.733,16.854,16.214],\"yaxis\":\"y\",\"type\":\"scatter\"},{\"customdata\":[[\"DEN\",6.269,16.229,\"AFC West\"],[\"OAK\",6.374,17.862,\"AFC West\"],[\"KC\",6.98,16.736,\"AFC West\"],[\"SD\",6.454,17.64,\"AFC West\"],[\"LAC\",7.529,16.0,\"AFC West\"],[\"LV\",7.11,15.763,\"AFC West\"]],\"hovertemplate\":\"Division=%{customdata[3]}\\u003cbr\\u003eRushing Output=%{x}\\u003cbr\\u003ePassing Output=%{y}\\u003cbr\\u003eTeam Code=%{customdata[0]}\\u003cextra\\u003e\\u003c\\u002fextra\\u003e\",\"legendgroup\":\"AFC West\",\"marker\":{\"color\":\"#EF553B\",\"symbol\":\"circle\"},\"mode\":\"markers\",\"name\":\"AFC West\",\"orientation\":\"v\",\"showlegend\":true,\"x\":[6.592,6.674,6.684,5.886,6.548,7.19],\"xaxis\":\"x\",\"y\":[16.505,16.211,17.701,17.231,17.03,16.939],\"yaxis\":\"y\",\"type\":\"scatter\"},{\"customdata\":[[\"NE\",6.584,16.406,\"AFC East\"],[\"BUF\",6.915,16.03,\"AFC East\"],[\"MIA\",6.767,17.25,\"AFC East\"],[\"NYJ\",6.126,16.663,\"AFC East\"]],\"hovertemplate\":\"Division=%{customdata[3]}\\u003cbr\\u003eRushing Output=%{x}\\u003cbr\\u003ePassing Output=%{y}\\u003cbr\\u003eTeam Code=%{customdata[0]}\\u003cextra\\u003e\\u003c\\u002fextra\\u003e\",\"legendgroup\":\"AFC East\",\"marker\":{\"color\":\"#00cc96\",\"symbol\":\"circle\"},\"mode\":\"markers\",\"name\":\"AFC East\",\"orientation\":\"v\",\"showlegend\":true,\"x\":[6.521,6.526,6.552,6.497],\"xaxis\":\"x\",\"y\":[16.921,16.119,15.948,16.567],\"yaxis\":\"y\",\"type\":\"scatter\"},{\"customdata\":[[\"CAR\",6.829,15.842,\"NFC South\"],[\"ATL\",6.806,16.462,\"NFC South\"],[\"NO\",6.557,16.957,\"NFC South\"],[\"TB\",6.39,15.924,\"NFC South\"]],\"hovertemplate\":\"Division=%{customdata[3]}\\u003cbr\\u003eRushing Output=%{x}\\u003cbr\\u003ePassing Output=%{y}\\u003cbr\\u003eTeam Code=%{customdata[0]}\\u003cextra\\u003e\\u003c\\u002fextra\\u003e\",\"legendgroup\":\"NFC South\",\"marker\":{\"color\":\"#ab63fa\",\"symbol\":\"circle\"},\"mode\":\"markers\",\"name\":\"NFC South\",\"orientation\":\"v\",\"showlegend\":true,\"x\":[6.598,6.511,6.74,6.327],\"xaxis\":\"x\",\"y\":[16.896,16.275,16.41,16.488],\"yaxis\":\"y\",\"type\":\"scatter\"},{\"customdata\":[[\"SEA\",6.272,16.078,\"NFC West\"],[\"SF\",6.253,16.078,\"NFC West\"],[\"SL\",6.163,17.309,\"NFC West\"],[\"ARZ\",6.722,16.618,\"NFC West\"],[\"LA\",6.707,16.288,\"NFC West\"]],\"hovertemplate\":\"Division=%{customdata[3]}\\u003cbr\\u003eRushing Output=%{x}\\u003cbr\\u003ePassing Output=%{y}\\u003cbr\\u003eTeam Code=%{customdata[0]}\\u003cextra\\u003e\\u003c\\u002fextra\\u003e\",\"legendgroup\":\"NFC West\",\"marker\":{\"color\":\"#FFA15A\",\"symbol\":\"circle\"},\"mode\":\"markers\",\"name\":\"NFC West\",\"orientation\":\"v\",\"showlegend\":true,\"x\":[6.986,6.718,6.451,6.219,6.618],\"xaxis\":\"x\",\"y\":[17.195,18.058,16.761,16.207,17.161],\"yaxis\":\"y\",\"type\":\"scatter\"},{\"customdata\":[[\"CHI\",6.689,16.482,\"NFC North\"],[\"DET\",6.771,16.879,\"NFC North\"],[\"MIN\",6.571,16.397,\"NFC North\"],[\"GB\",6.836,17.409,\"NFC North\"]],\"hovertemplate\":\"Division=%{customdata[3]}\\u003cbr\\u003eRushing Output=%{x}\\u003cbr\\u003ePassing Output=%{y}\\u003cbr\\u003eTeam Code=%{customdata[0]}\\u003cextra\\u003e\\u003c\\u002fextra\\u003e\",\"legendgroup\":\"NFC North\",\"marker\":{\"color\":\"#19d3f3\",\"symbol\":\"circle\"},\"mode\":\"markers\",\"name\":\"NFC North\",\"orientation\":\"v\",\"showlegend\":true,\"x\":[6.456,6.339,6.801,6.951],\"xaxis\":\"x\",\"y\":[15.743,16.998,16.148,17.113],\"yaxis\":\"y\",\"type\":\"scatter\"},{\"customdata\":[[\"IND\",6.454,16.614,\"AFC South\"],[\"JAX\",6.545,16.65,\"AFC South\"],[\"TEN\",6.318,16.482,\"AFC South\"],[\"HST\",6.933,16.979,\"AFC South\"]],\"hovertemplate\":\"Division=%{customdata[3]}\\u003cbr\\u003eRushing Output=%{x}\\u003cbr\\u003ePassing Output=%{y}\\u003cbr\\u003eTeam Code=%{customdata[0]}\\u003cextra\\u003e\\u003c\\u002fextra\\u003e\",\"legendgroup\":\"AFC South\",\"marker\":{\"color\":\"#FF6692\",\"symbol\":\"circle\"},\"mode\":\"markers\",\"name\":\"AFC South\",\"orientation\":\"v\",\"showlegend\":true,\"x\":[6.516,6.486,7.133,6.192],\"xaxis\":\"x\",\"y\":[16.371,16.136,16.717,16.017],\"yaxis\":\"y\",\"type\":\"scatter\"},{\"customdata\":[[\"DAL\",6.78,16.594,\"NFC East\"],[\"NYG\",6.589,16.765,\"NFC East\"],[\"PHI\",6.608,16.666,\"NFC East\"],[\"WAS\",6.74,16.872,\"NFC East\"]],\"hovertemplate\":\"Division=%{customdata[3]}\\u003cbr\\u003eRushing Output=%{x}\\u003cbr\\u003ePassing Output=%{y}\\u003cbr\\u003eTeam Code=%{customdata[0]}\\u003cextra\\u003e\\u003c\\u002fextra\\u003e\",\"legendgroup\":\"NFC East\",\"marker\":{\"color\":\"#B6E880\",\"symbol\":\"circle\"},\"mode\":\"markers\",\"name\":\"NFC East\",\"orientation\":\"v\",\"showlegend\":true,\"x\":[7.215,6.452,6.725,6.593],\"xaxis\":\"x\",\"y\":[16.457,15.906,16.717,16.551],\"yaxis\":\"y\",\"type\":\"scatter\"}],                        {\"template\":{\"data\":{\"barpolar\":[{\"marker\":{\"line\":{\"color\":\"white\",\"width\":0.5},\"pattern\":{\"fillmode\":\"overlay\",\"size\":10,\"solidity\":0.2}},\"type\":\"barpolar\"}],\"bar\":[{\"error_x\":{\"color\":\"#2a3f5f\"},\"error_y\":{\"color\":\"#2a3f5f\"},\"marker\":{\"line\":{\"color\":\"white\",\"width\":0.5},\"pattern\":{\"fillmode\":\"overlay\",\"size\":10,\"solidity\":0.2}},\"type\":\"bar\"}],\"carpet\":[{\"aaxis\":{\"endlinecolor\":\"#2a3f5f\",\"gridcolor\":\"#C8D4E3\",\"linecolor\":\"#C8D4E3\",\"minorgridcolor\":\"#C8D4E3\",\"startlinecolor\":\"#2a3f5f\"},\"baxis\":{\"endlinecolor\":\"#2a3f5f\",\"gridcolor\":\"#C8D4E3\",\"linecolor\":\"#C8D4E3\",\"minorgridcolor\":\"#C8D4E3\",\"startlinecolor\":\"#2a3f5f\"},\"type\":\"carpet\"}],\"choropleth\":[{\"colorbar\":{\"outlinewidth\":0,\"ticks\":\"\"},\"type\":\"choropleth\"}],\"contourcarpet\":[{\"colorbar\":{\"outlinewidth\":0,\"ticks\":\"\"},\"type\":\"contourcarpet\"}],\"contour\":[{\"colorbar\":{\"outlinewidth\":0,\"ticks\":\"\"},\"colorscale\":[[0.0,\"#0d0887\"],[0.1111111111111111,\"#46039f\"],[0.2222222222222222,\"#7201a8\"],[0.3333333333333333,\"#9c179e\"],[0.4444444444444444,\"#bd3786\"],[0.5555555555555556,\"#d8576b\"],[0.6666666666666666,\"#ed7953\"],[0.7777777777777778,\"#fb9f3a\"],[0.8888888888888888,\"#fdca26\"],[1.0,\"#f0f921\"]],\"type\":\"contour\"}],\"heatmapgl\":[{\"colorbar\":{\"outlinewidth\":0,\"ticks\":\"\"},\"colorscale\":[[0.0,\"#0d0887\"],[0.1111111111111111,\"#46039f\"],[0.2222222222222222,\"#7201a8\"],[0.3333333333333333,\"#9c179e\"],[0.4444444444444444,\"#bd3786\"],[0.5555555555555556,\"#d8576b\"],[0.6666666666666666,\"#ed7953\"],[0.7777777777777778,\"#fb9f3a\"],[0.8888888888888888,\"#fdca26\"],[1.0,\"#f0f921\"]],\"type\":\"heatmapgl\"}],\"heatmap\":[{\"colorbar\":{\"outlinewidth\":0,\"ticks\":\"\"},\"colorscale\":[[0.0,\"#0d0887\"],[0.1111111111111111,\"#46039f\"],[0.2222222222222222,\"#7201a8\"],[0.3333333333333333,\"#9c179e\"],[0.4444444444444444,\"#bd3786\"],[0.5555555555555556,\"#d8576b\"],[0.6666666666666666,\"#ed7953\"],[0.7777777777777778,\"#fb9f3a\"],[0.8888888888888888,\"#fdca26\"],[1.0,\"#f0f921\"]],\"type\":\"heatmap\"}],\"histogram2dcontour\":[{\"colorbar\":{\"outlinewidth\":0,\"ticks\":\"\"},\"colorscale\":[[0.0,\"#0d0887\"],[0.1111111111111111,\"#46039f\"],[0.2222222222222222,\"#7201a8\"],[0.3333333333333333,\"#9c179e\"],[0.4444444444444444,\"#bd3786\"],[0.5555555555555556,\"#d8576b\"],[0.6666666666666666,\"#ed7953\"],[0.7777777777777778,\"#fb9f3a\"],[0.8888888888888888,\"#fdca26\"],[1.0,\"#f0f921\"]],\"type\":\"histogram2dcontour\"}],\"histogram2d\":[{\"colorbar\":{\"outlinewidth\":0,\"ticks\":\"\"},\"colorscale\":[[0.0,\"#0d0887\"],[0.1111111111111111,\"#46039f\"],[0.2222222222222222,\"#7201a8\"],[0.3333333333333333,\"#9c179e\"],[0.4444444444444444,\"#bd3786\"],[0.5555555555555556,\"#d8576b\"],[0.6666666666666666,\"#ed7953\"],[0.7777777777777778,\"#fb9f3a\"],[0.8888888888888888,\"#fdca26\"],[1.0,\"#f0f921\"]],\"type\":\"histogram2d\"}],\"histogram\":[{\"marker\":{\"pattern\":{\"fillmode\":\"overlay\",\"size\":10,\"solidity\":0.2}},\"type\":\"histogram\"}],\"mesh3d\":[{\"colorbar\":{\"outlinewidth\":0,\"ticks\":\"\"},\"type\":\"mesh3d\"}],\"parcoords\":[{\"line\":{\"colorbar\":{\"outlinewidth\":0,\"ticks\":\"\"}},\"type\":\"parcoords\"}],\"pie\":[{\"automargin\":true,\"type\":\"pie\"}],\"scatter3d\":[{\"line\":{\"colorbar\":{\"outlinewidth\":0,\"ticks\":\"\"}},\"marker\":{\"colorbar\":{\"outlinewidth\":0,\"ticks\":\"\"}},\"type\":\"scatter3d\"}],\"scattercarpet\":[{\"marker\":{\"colorbar\":{\"outlinewidth\":0,\"ticks\":\"\"}},\"type\":\"scattercarpet\"}],\"scattergeo\":[{\"marker\":{\"colorbar\":{\"outlinewidth\":0,\"ticks\":\"\"}},\"type\":\"scattergeo\"}],\"scattergl\":[{\"marker\":{\"colorbar\":{\"outlinewidth\":0,\"ticks\":\"\"}},\"type\":\"scattergl\"}],\"scattermapbox\":[{\"marker\":{\"colorbar\":{\"outlinewidth\":0,\"ticks\":\"\"}},\"type\":\"scattermapbox\"}],\"scatterpolargl\":[{\"marker\":{\"colorbar\":{\"outlinewidth\":0,\"ticks\":\"\"}},\"type\":\"scatterpolargl\"}],\"scatterpolar\":[{\"marker\":{\"colorbar\":{\"outlinewidth\":0,\"ticks\":\"\"}},\"type\":\"scatterpolar\"}],\"scatter\":[{\"fillpattern\":{\"fillmode\":\"overlay\",\"size\":10,\"solidity\":0.2},\"type\":\"scatter\"}],\"scatterternary\":[{\"marker\":{\"colorbar\":{\"outlinewidth\":0,\"ticks\":\"\"}},\"type\":\"scatterternary\"}],\"surface\":[{\"colorbar\":{\"outlinewidth\":0,\"ticks\":\"\"},\"colorscale\":[[0.0,\"#0d0887\"],[0.1111111111111111,\"#46039f\"],[0.2222222222222222,\"#7201a8\"],[0.3333333333333333,\"#9c179e\"],[0.4444444444444444,\"#bd3786\"],[0.5555555555555556,\"#d8576b\"],[0.6666666666666666,\"#ed7953\"],[0.7777777777777778,\"#fb9f3a\"],[0.8888888888888888,\"#fdca26\"],[1.0,\"#f0f921\"]],\"type\":\"surface\"}],\"table\":[{\"cells\":{\"fill\":{\"color\":\"#EBF0F8\"},\"line\":{\"color\":\"white\"}},\"header\":{\"fill\":{\"color\":\"#C8D4E3\"},\"line\":{\"color\":\"white\"}},\"type\":\"table\"}]},\"layout\":{\"annotationdefaults\":{\"arrowcolor\":\"#2a3f5f\",\"arrowhead\":0,\"arrowwidth\":1},\"autotypenumbers\":\"strict\",\"coloraxis\":{\"colorbar\":{\"outlinewidth\":0,\"ticks\":\"\"}},\"colorscale\":{\"diverging\":[[0,\"#8e0152\"],[0.1,\"#c51b7d\"],[0.2,\"#de77ae\"],[0.3,\"#f1b6da\"],[0.4,\"#fde0ef\"],[0.5,\"#f7f7f7\"],[0.6,\"#e6f5d0\"],[0.7,\"#b8e186\"],[0.8,\"#7fbc41\"],[0.9,\"#4d9221\"],[1,\"#276419\"]],\"sequential\":[[0.0,\"#0d0887\"],[0.1111111111111111,\"#46039f\"],[0.2222222222222222,\"#7201a8\"],[0.3333333333333333,\"#9c179e\"],[0.4444444444444444,\"#bd3786\"],[0.5555555555555556,\"#d8576b\"],[0.6666666666666666,\"#ed7953\"],[0.7777777777777778,\"#fb9f3a\"],[0.8888888888888888,\"#fdca26\"],[1.0,\"#f0f921\"]],\"sequentialminus\":[[0.0,\"#0d0887\"],[0.1111111111111111,\"#46039f\"],[0.2222222222222222,\"#7201a8\"],[0.3333333333333333,\"#9c179e\"],[0.4444444444444444,\"#bd3786\"],[0.5555555555555556,\"#d8576b\"],[0.6666666666666666,\"#ed7953\"],[0.7777777777777778,\"#fb9f3a\"],[0.8888888888888888,\"#fdca26\"],[1.0,\"#f0f921\"]]},\"colorway\":[\"#636efa\",\"#EF553B\",\"#00cc96\",\"#ab63fa\",\"#FFA15A\",\"#19d3f3\",\"#FF6692\",\"#B6E880\",\"#FF97FF\",\"#FECB52\"],\"font\":{\"color\":\"#2a3f5f\"},\"geo\":{\"bgcolor\":\"white\",\"lakecolor\":\"white\",\"landcolor\":\"white\",\"showlakes\":true,\"showland\":true,\"subunitcolor\":\"#C8D4E3\"},\"hoverlabel\":{\"align\":\"left\"},\"hovermode\":\"closest\",\"mapbox\":{\"style\":\"light\"},\"paper_bgcolor\":\"white\",\"plot_bgcolor\":\"white\",\"polar\":{\"angularaxis\":{\"gridcolor\":\"#EBF0F8\",\"linecolor\":\"#EBF0F8\",\"ticks\":\"\"},\"bgcolor\":\"white\",\"radialaxis\":{\"gridcolor\":\"#EBF0F8\",\"linecolor\":\"#EBF0F8\",\"ticks\":\"\"}},\"scene\":{\"xaxis\":{\"backgroundcolor\":\"white\",\"gridcolor\":\"#DFE8F3\",\"gridwidth\":2,\"linecolor\":\"#EBF0F8\",\"showbackground\":true,\"ticks\":\"\",\"zerolinecolor\":\"#EBF0F8\"},\"yaxis\":{\"backgroundcolor\":\"white\",\"gridcolor\":\"#DFE8F3\",\"gridwidth\":2,\"linecolor\":\"#EBF0F8\",\"showbackground\":true,\"ticks\":\"\",\"zerolinecolor\":\"#EBF0F8\"},\"zaxis\":{\"backgroundcolor\":\"white\",\"gridcolor\":\"#DFE8F3\",\"gridwidth\":2,\"linecolor\":\"#EBF0F8\",\"showbackground\":true,\"ticks\":\"\",\"zerolinecolor\":\"#EBF0F8\"}},\"shapedefaults\":{\"line\":{\"color\":\"#2a3f5f\"}},\"ternary\":{\"aaxis\":{\"gridcolor\":\"#DFE8F3\",\"linecolor\":\"#A2B1C6\",\"ticks\":\"\"},\"baxis\":{\"gridcolor\":\"#DFE8F3\",\"linecolor\":\"#A2B1C6\",\"ticks\":\"\"},\"bgcolor\":\"white\",\"caxis\":{\"gridcolor\":\"#DFE8F3\",\"linecolor\":\"#A2B1C6\",\"ticks\":\"\"}},\"title\":{\"x\":0.05},\"xaxis\":{\"automargin\":true,\"gridcolor\":\"#EBF0F8\",\"linecolor\":\"#EBF0F8\",\"ticks\":\"\",\"title\":{\"standoff\":15},\"zerolinecolor\":\"#EBF0F8\",\"zerolinewidth\":2},\"yaxis\":{\"automargin\":true,\"gridcolor\":\"#EBF0F8\",\"linecolor\":\"#EBF0F8\",\"ticks\":\"\",\"title\":{\"standoff\":15},\"zerolinecolor\":\"#EBF0F8\",\"zerolinewidth\":2}}},\"xaxis\":{\"anchor\":\"y\",\"domain\":[0.0,1.0],\"title\":{\"text\":\"Rushing Output\"}},\"yaxis\":{\"anchor\":\"x\",\"domain\":[0.0,1.0],\"title\":{\"text\":\"Passing Output\"}},\"legend\":{\"title\":{\"text\":\"Division\"},\"tracegroupgap\":0},\"margin\":{\"t\":30,\"l\":30,\"r\":30,\"b\":30},\"shapes\":[{\"line\":{\"color\":\"gray\",\"dash\":\"dash\"},\"opacity\":0.7,\"type\":\"line\",\"x0\":0,\"x1\":1,\"xref\":\"x domain\",\"y0\":16.59445714285714,\"y1\":16.59445714285714,\"yref\":\"y\"},{\"line\":{\"color\":\"gray\",\"dash\":\"dash\"},\"opacity\":0.7,\"type\":\"line\",\"x0\":6.613971428571428,\"x1\":6.613971428571428,\"xref\":\"x\",\"y0\":0,\"y1\":1,\"yref\":\"y domain\"}],\"annotations\":[{\"showarrow\":false,\"text\":\"average passing output\",\"x\":0,\"xanchor\":\"left\",\"xref\":\"x domain\",\"y\":16.59445714285714,\"yanchor\":\"bottom\",\"yref\":\"y\"},{\"showarrow\":false,\"text\":\"average rushing output\",\"x\":6.613971428571428,\"xanchor\":\"right\",\"xref\":\"x\",\"y\":1,\"yanchor\":\"top\",\"yref\":\"y domain\"}],\"title\":{\"text\":\"Offensive output\"}},                        {\"responsive\": true}                    )                };                            </script>        </div>"
      ],
      "text/plain": [
       "Figure({\n",
       "    'data': [{'customdata': array([['BLT', 6.167, 16.426, 'AFC North'],\n",
       "                                   ['CIN', 6.914, 16.419, 'AFC North'],\n",
       "                                   ['CLV', 6.797, 16.493, 'AFC North'],\n",
       "                                   ['PIT', 6.535, 16.52, 'AFC North']], dtype=object),\n",
       "              'hovertemplate': ('Division=%{customdata[3]}<br>R' ... '{customdata[0]}<extra></extra>'),\n",
       "              'legendgroup': 'AFC North',\n",
       "              'marker': {'color': '#636efa', 'symbol': 'circle'},\n",
       "              'mode': 'markers',\n",
       "              'name': 'AFC North',\n",
       "              'orientation': 'v',\n",
       "              'showlegend': True,\n",
       "              'type': 'scatter',\n",
       "              'x': array([6.848, 6.31 , 7.219, 6.415]),\n",
       "              'xaxis': 'x',\n",
       "              'y': array([15.508, 16.733, 16.854, 16.214]),\n",
       "              'yaxis': 'y'},\n",
       "             {'customdata': array([['DEN', 6.269, 16.229, 'AFC West'],\n",
       "                                   ['OAK', 6.374, 17.862, 'AFC West'],\n",
       "                                   ['KC', 6.98, 16.736, 'AFC West'],\n",
       "                                   ['SD', 6.454, 17.64, 'AFC West'],\n",
       "                                   ['LAC', 7.529, 16.0, 'AFC West'],\n",
       "                                   ['LV', 7.11, 15.763, 'AFC West']], dtype=object),\n",
       "              'hovertemplate': ('Division=%{customdata[3]}<br>R' ... '{customdata[0]}<extra></extra>'),\n",
       "              'legendgroup': 'AFC West',\n",
       "              'marker': {'color': '#EF553B', 'symbol': 'circle'},\n",
       "              'mode': 'markers',\n",
       "              'name': 'AFC West',\n",
       "              'orientation': 'v',\n",
       "              'showlegend': True,\n",
       "              'type': 'scatter',\n",
       "              'x': array([6.592, 6.674, 6.684, 5.886, 6.548, 7.19 ]),\n",
       "              'xaxis': 'x',\n",
       "              'y': array([16.505, 16.211, 17.701, 17.231, 17.03 , 16.939]),\n",
       "              'yaxis': 'y'},\n",
       "             {'customdata': array([['NE', 6.584, 16.406, 'AFC East'],\n",
       "                                   ['BUF', 6.915, 16.03, 'AFC East'],\n",
       "                                   ['MIA', 6.767, 17.25, 'AFC East'],\n",
       "                                   ['NYJ', 6.126, 16.663, 'AFC East']], dtype=object),\n",
       "              'hovertemplate': ('Division=%{customdata[3]}<br>R' ... '{customdata[0]}<extra></extra>'),\n",
       "              'legendgroup': 'AFC East',\n",
       "              'marker': {'color': '#00cc96', 'symbol': 'circle'},\n",
       "              'mode': 'markers',\n",
       "              'name': 'AFC East',\n",
       "              'orientation': 'v',\n",
       "              'showlegend': True,\n",
       "              'type': 'scatter',\n",
       "              'x': array([6.521, 6.526, 6.552, 6.497]),\n",
       "              'xaxis': 'x',\n",
       "              'y': array([16.921, 16.119, 15.948, 16.567]),\n",
       "              'yaxis': 'y'},\n",
       "             {'customdata': array([['CAR', 6.829, 15.842, 'NFC South'],\n",
       "                                   ['ATL', 6.806, 16.462, 'NFC South'],\n",
       "                                   ['NO', 6.557, 16.957, 'NFC South'],\n",
       "                                   ['TB', 6.39, 15.924, 'NFC South']], dtype=object),\n",
       "              'hovertemplate': ('Division=%{customdata[3]}<br>R' ... '{customdata[0]}<extra></extra>'),\n",
       "              'legendgroup': 'NFC South',\n",
       "              'marker': {'color': '#ab63fa', 'symbol': 'circle'},\n",
       "              'mode': 'markers',\n",
       "              'name': 'NFC South',\n",
       "              'orientation': 'v',\n",
       "              'showlegend': True,\n",
       "              'type': 'scatter',\n",
       "              'x': array([6.598, 6.511, 6.74 , 6.327]),\n",
       "              'xaxis': 'x',\n",
       "              'y': array([16.896, 16.275, 16.41 , 16.488]),\n",
       "              'yaxis': 'y'},\n",
       "             {'customdata': array([['SEA', 6.272, 16.078, 'NFC West'],\n",
       "                                   ['SF', 6.253, 16.078, 'NFC West'],\n",
       "                                   ['SL', 6.163, 17.309, 'NFC West'],\n",
       "                                   ['ARZ', 6.722, 16.618, 'NFC West'],\n",
       "                                   ['LA', 6.707, 16.288, 'NFC West']], dtype=object),\n",
       "              'hovertemplate': ('Division=%{customdata[3]}<br>R' ... '{customdata[0]}<extra></extra>'),\n",
       "              'legendgroup': 'NFC West',\n",
       "              'marker': {'color': '#FFA15A', 'symbol': 'circle'},\n",
       "              'mode': 'markers',\n",
       "              'name': 'NFC West',\n",
       "              'orientation': 'v',\n",
       "              'showlegend': True,\n",
       "              'type': 'scatter',\n",
       "              'x': array([6.986, 6.718, 6.451, 6.219, 6.618]),\n",
       "              'xaxis': 'x',\n",
       "              'y': array([17.195, 18.058, 16.761, 16.207, 17.161]),\n",
       "              'yaxis': 'y'},\n",
       "             {'customdata': array([['CHI', 6.689, 16.482, 'NFC North'],\n",
       "                                   ['DET', 6.771, 16.879, 'NFC North'],\n",
       "                                   ['MIN', 6.571, 16.397, 'NFC North'],\n",
       "                                   ['GB', 6.836, 17.409, 'NFC North']], dtype=object),\n",
       "              'hovertemplate': ('Division=%{customdata[3]}<br>R' ... '{customdata[0]}<extra></extra>'),\n",
       "              'legendgroup': 'NFC North',\n",
       "              'marker': {'color': '#19d3f3', 'symbol': 'circle'},\n",
       "              'mode': 'markers',\n",
       "              'name': 'NFC North',\n",
       "              'orientation': 'v',\n",
       "              'showlegend': True,\n",
       "              'type': 'scatter',\n",
       "              'x': array([6.456, 6.339, 6.801, 6.951]),\n",
       "              'xaxis': 'x',\n",
       "              'y': array([15.743, 16.998, 16.148, 17.113]),\n",
       "              'yaxis': 'y'},\n",
       "             {'customdata': array([['IND', 6.454, 16.614, 'AFC South'],\n",
       "                                   ['JAX', 6.545, 16.65, 'AFC South'],\n",
       "                                   ['TEN', 6.318, 16.482, 'AFC South'],\n",
       "                                   ['HST', 6.933, 16.979, 'AFC South']], dtype=object),\n",
       "              'hovertemplate': ('Division=%{customdata[3]}<br>R' ... '{customdata[0]}<extra></extra>'),\n",
       "              'legendgroup': 'AFC South',\n",
       "              'marker': {'color': '#FF6692', 'symbol': 'circle'},\n",
       "              'mode': 'markers',\n",
       "              'name': 'AFC South',\n",
       "              'orientation': 'v',\n",
       "              'showlegend': True,\n",
       "              'type': 'scatter',\n",
       "              'x': array([6.516, 6.486, 7.133, 6.192]),\n",
       "              'xaxis': 'x',\n",
       "              'y': array([16.371, 16.136, 16.717, 16.017]),\n",
       "              'yaxis': 'y'},\n",
       "             {'customdata': array([['DAL', 6.78, 16.594, 'NFC East'],\n",
       "                                   ['NYG', 6.589, 16.765, 'NFC East'],\n",
       "                                   ['PHI', 6.608, 16.666, 'NFC East'],\n",
       "                                   ['WAS', 6.74, 16.872, 'NFC East']], dtype=object),\n",
       "              'hovertemplate': ('Division=%{customdata[3]}<br>R' ... '{customdata[0]}<extra></extra>'),\n",
       "              'legendgroup': 'NFC East',\n",
       "              'marker': {'color': '#B6E880', 'symbol': 'circle'},\n",
       "              'mode': 'markers',\n",
       "              'name': 'NFC East',\n",
       "              'orientation': 'v',\n",
       "              'showlegend': True,\n",
       "              'type': 'scatter',\n",
       "              'x': array([7.215, 6.452, 6.725, 6.593]),\n",
       "              'xaxis': 'x',\n",
       "              'y': array([16.457, 15.906, 16.717, 16.551]),\n",
       "              'yaxis': 'y'}],\n",
       "    'layout': {'annotations': [{'showarrow': False,\n",
       "                                'text': 'average passing output',\n",
       "                                'x': 0,\n",
       "                                'xanchor': 'left',\n",
       "                                'xref': 'x domain',\n",
       "                                'y': 16.59445714285714,\n",
       "                                'yanchor': 'bottom',\n",
       "                                'yref': 'y'},\n",
       "                               {'showarrow': False,\n",
       "                                'text': 'average rushing output',\n",
       "                                'x': 6.613971428571428,\n",
       "                                'xanchor': 'right',\n",
       "                                'xref': 'x',\n",
       "                                'y': 1,\n",
       "                                'yanchor': 'top',\n",
       "                                'yref': 'y domain'}],\n",
       "               'legend': {'title': {'text': 'Division'}, 'tracegroupgap': 0},\n",
       "               'margin': {'b': 30, 'l': 30, 'r': 30, 't': 30},\n",
       "               'shapes': [{'line': {'color': 'gray', 'dash': 'dash'},\n",
       "                           'opacity': 0.7,\n",
       "                           'type': 'line',\n",
       "                           'x0': 0,\n",
       "                           'x1': 1,\n",
       "                           'xref': 'x domain',\n",
       "                           'y0': 16.59445714285714,\n",
       "                           'y1': 16.59445714285714,\n",
       "                           'yref': 'y'},\n",
       "                          {'line': {'color': 'gray', 'dash': 'dash'},\n",
       "                           'opacity': 0.7,\n",
       "                           'type': 'line',\n",
       "                           'x0': 6.613971428571428,\n",
       "                           'x1': 6.613971428571428,\n",
       "                           'xref': 'x',\n",
       "                           'y0': 0,\n",
       "                           'y1': 1,\n",
       "                           'yref': 'y domain'}],\n",
       "               'template': '...',\n",
       "               'title': {'text': 'Offensive output'},\n",
       "               'xaxis': {'anchor': 'y', 'domain': [0.0, 1.0], 'title': {'text': 'Rushing Output'}},\n",
       "               'yaxis': {'anchor': 'x', 'domain': [0.0, 1.0], 'title': {'text': 'Passing Output'}}}\n",
       "})"
      ]
     },
     "execution_count": 50,
     "metadata": {},
     "output_type": "execute_result"
    }
   ],
   "source": [
    "sns.set_theme(style = 'white')\n",
    "sns.set_style('ticks')\n",
    "sns.set_style({'font.family':'serif', 'font.serif':['Helvetica']})\n",
    "\n",
    "#                  Blue         Red     Yellow      Green\n",
    "#custom_colors = [  '#000099', '#cc0000','#ffff00',  '#009900']\n",
    "\n",
    "\n",
    "fig = px.scatter(plotting_data, x = 'rush_off', y='pass_off',\n",
    "                 color = 'Divs', \n",
    "                 #color_discrete_sequence= custom_colors,\n",
    "                 hover_data={\n",
    "                     'team':True,\n",
    "                     'rush_off': True,\n",
    "                     'pass_off': True,\n",
    "                     'rush_def': False,\n",
    "                     'pass_def': False,\n",
    "                     'Divs': True\n",
    "                 },\n",
    "                 labels={\n",
    "                     'team': 'Team Code',\n",
    "                     'Divs': 'Division',\n",
    "                     'rush_off': 'Rushing Output',\n",
    "                     'pass_off': 'Passing Output'\n",
    "                 },\n",
    "                 template = 'plotly_white')\n",
    "fig.add_hline(y = pass_off_avg, line_color = 'gray', line_dash = 'dash',\n",
    "              annotation_text = 'average passing output',\n",
    "              annotation_position = 'top left', opacity = 0.7)\n",
    "fig.add_vline(x = rush_off_avg, line_color = 'gray', line_dash = 'dash',\n",
    "              annotation_text = 'average rushing output',\n",
    "              annotation_position = 'top left', opacity = 0.7)\n",
    "\n",
    "\n",
    "fig.update_layout(margin=dict(l=30, r=30, t=30, b=30),\n",
    "                    title = 'Offensive output')"
   ]
  },
  {
   "cell_type": "code",
   "execution_count": 53,
   "metadata": {},
   "outputs": [
    {
     "ename": "ValueError",
     "evalue": "Mime type rendering requires nbformat>=4.2.0 but it is not installed",
     "output_type": "error",
     "traceback": [
      "\u001b[1;31m---------------------------------------------------------------------------\u001b[0m",
      "\u001b[1;31mValueError\u001b[0m                                Traceback (most recent call last)",
      "File \u001b[1;32m~\\AppData\\Local\\Packages\\PythonSoftwareFoundation.Python.3.11_qbz5n2kfra8p0\\LocalCache\\local-packages\\Python311\\site-packages\\IPython\\core\\formatters.py:922\u001b[0m, in \u001b[0;36mIPythonDisplayFormatter.__call__\u001b[1;34m(self, obj)\u001b[0m\n\u001b[0;32m    920\u001b[0m method \u001b[39m=\u001b[39m get_real_method(obj, \u001b[39mself\u001b[39m\u001b[39m.\u001b[39mprint_method)\n\u001b[0;32m    921\u001b[0m \u001b[39mif\u001b[39;00m method \u001b[39mis\u001b[39;00m \u001b[39mnot\u001b[39;00m \u001b[39mNone\u001b[39;00m:\n\u001b[1;32m--> 922\u001b[0m     method()\n\u001b[0;32m    923\u001b[0m     \u001b[39mreturn\u001b[39;00m \u001b[39mTrue\u001b[39;00m\n",
      "File \u001b[1;32m~\\AppData\\Local\\Packages\\PythonSoftwareFoundation.Python.3.11_qbz5n2kfra8p0\\LocalCache\\local-packages\\Python311\\site-packages\\plotly\\basedatatypes.py:832\u001b[0m, in \u001b[0;36mBaseFigure._ipython_display_\u001b[1;34m(self)\u001b[0m\n\u001b[0;32m    829\u001b[0m \u001b[39mimport\u001b[39;00m \u001b[39mplotly\u001b[39;00m\u001b[39m.\u001b[39;00m\u001b[39mio\u001b[39;00m \u001b[39mas\u001b[39;00m \u001b[39mpio\u001b[39;00m\n\u001b[0;32m    831\u001b[0m \u001b[39mif\u001b[39;00m pio\u001b[39m.\u001b[39mrenderers\u001b[39m.\u001b[39mrender_on_display \u001b[39mand\u001b[39;00m pio\u001b[39m.\u001b[39mrenderers\u001b[39m.\u001b[39mdefault:\n\u001b[1;32m--> 832\u001b[0m     pio\u001b[39m.\u001b[39;49mshow(\u001b[39mself\u001b[39;49m)\n\u001b[0;32m    833\u001b[0m \u001b[39melse\u001b[39;00m:\n\u001b[0;32m    834\u001b[0m     \u001b[39mprint\u001b[39m(\u001b[39mrepr\u001b[39m(\u001b[39mself\u001b[39m))\n",
      "File \u001b[1;32m~\\AppData\\Local\\Packages\\PythonSoftwareFoundation.Python.3.11_qbz5n2kfra8p0\\LocalCache\\local-packages\\Python311\\site-packages\\plotly\\io\\_renderers.py:394\u001b[0m, in \u001b[0;36mshow\u001b[1;34m(fig, renderer, validate, **kwargs)\u001b[0m\n\u001b[0;32m    389\u001b[0m         \u001b[39mraise\u001b[39;00m \u001b[39mValueError\u001b[39;00m(\n\u001b[0;32m    390\u001b[0m             \u001b[39m\"\u001b[39m\u001b[39mMime type rendering requires ipython but it is not installed\u001b[39m\u001b[39m\"\u001b[39m\n\u001b[0;32m    391\u001b[0m         )\n\u001b[0;32m    393\u001b[0m     \u001b[39mif\u001b[39;00m \u001b[39mnot\u001b[39;00m nbformat \u001b[39mor\u001b[39;00m Version(nbformat\u001b[39m.\u001b[39m__version__) \u001b[39m<\u001b[39m Version(\u001b[39m\"\u001b[39m\u001b[39m4.2.0\u001b[39m\u001b[39m\"\u001b[39m):\n\u001b[1;32m--> 394\u001b[0m         \u001b[39mraise\u001b[39;00m \u001b[39mValueError\u001b[39;00m(\n\u001b[0;32m    395\u001b[0m             \u001b[39m\"\u001b[39m\u001b[39mMime type rendering requires nbformat>=4.2.0 but it is not installed\u001b[39m\u001b[39m\"\u001b[39m\n\u001b[0;32m    396\u001b[0m         )\n\u001b[0;32m    398\u001b[0m     ipython_display\u001b[39m.\u001b[39mdisplay(bundle, raw\u001b[39m=\u001b[39m\u001b[39mTrue\u001b[39;00m)\n\u001b[0;32m    400\u001b[0m \u001b[39m# external renderers\u001b[39;00m\n",
      "\u001b[1;31mValueError\u001b[0m: Mime type rendering requires nbformat>=4.2.0 but it is not installed"
     ]
    },
    {
     "data": {
      "application/vnd.plotly.v1+json": {
       "config": {
        "plotlyServerURL": "https://plot.ly"
       },
       "data": [
        {
         "customdata": [
          [
           "BLT",
           6.848,
           15.508,
           "AFC North"
          ],
          [
           "CIN",
           6.31,
           16.733,
           "AFC North"
          ],
          [
           "CLV",
           7.219,
           16.854,
           "AFC North"
          ],
          [
           "PIT",
           6.415,
           16.214,
           "AFC North"
          ]
         ],
         "hovertemplate": "Division=%{customdata[3]}<br>Team Code=%{customdata[0]}<br>Rushing Output=%{customdata[1]}<br>Passing Output=%{customdata[2]}<extra></extra>",
         "legendgroup": "AFC North",
         "marker": {
          "color": "#636efa",
          "symbol": "circle"
         },
         "mode": "markers",
         "name": "AFC North",
         "orientation": "v",
         "showlegend": true,
         "type": "scatter",
         "x": [
          6.167,
          6.914,
          6.797,
          6.535
         ],
         "xaxis": "x",
         "y": [
          16.426,
          16.419,
          16.493,
          16.52
         ],
         "yaxis": "y"
        },
        {
         "customdata": [
          [
           "DEN",
           6.592,
           16.505,
           "AFC West"
          ],
          [
           "OAK",
           6.674,
           16.211,
           "AFC West"
          ],
          [
           "KC",
           6.684,
           17.701,
           "AFC West"
          ],
          [
           "SD",
           5.886,
           17.231,
           "AFC West"
          ],
          [
           "LAC",
           6.548,
           17.03,
           "AFC West"
          ],
          [
           "LV",
           7.19,
           16.939,
           "AFC West"
          ]
         ],
         "hovertemplate": "Division=%{customdata[3]}<br>Team Code=%{customdata[0]}<br>Rushing Output=%{customdata[1]}<br>Passing Output=%{customdata[2]}<extra></extra>",
         "legendgroup": "AFC West",
         "marker": {
          "color": "#EF553B",
          "symbol": "circle"
         },
         "mode": "markers",
         "name": "AFC West",
         "orientation": "v",
         "showlegend": true,
         "type": "scatter",
         "x": [
          6.269,
          6.374,
          6.98,
          6.454,
          7.529,
          7.11
         ],
         "xaxis": "x",
         "y": [
          16.229,
          17.862,
          16.736,
          17.64,
          16,
          15.763
         ],
         "yaxis": "y"
        },
        {
         "customdata": [
          [
           "NE",
           6.521,
           16.921,
           "AFC East"
          ],
          [
           "BUF",
           6.526,
           16.119,
           "AFC East"
          ],
          [
           "MIA",
           6.552,
           15.948,
           "AFC East"
          ],
          [
           "NYJ",
           6.497,
           16.567,
           "AFC East"
          ]
         ],
         "hovertemplate": "Division=%{customdata[3]}<br>Team Code=%{customdata[0]}<br>Rushing Output=%{customdata[1]}<br>Passing Output=%{customdata[2]}<extra></extra>",
         "legendgroup": "AFC East",
         "marker": {
          "color": "#00cc96",
          "symbol": "circle"
         },
         "mode": "markers",
         "name": "AFC East",
         "orientation": "v",
         "showlegend": true,
         "type": "scatter",
         "x": [
          6.584,
          6.915,
          6.767,
          6.126
         ],
         "xaxis": "x",
         "y": [
          16.406,
          16.03,
          17.25,
          16.663
         ],
         "yaxis": "y"
        },
        {
         "customdata": [
          [
           "CAR",
           6.598,
           16.896,
           "NFC South"
          ],
          [
           "ATL",
           6.511,
           16.275,
           "NFC South"
          ],
          [
           "NO",
           6.74,
           16.41,
           "NFC South"
          ],
          [
           "TB",
           6.327,
           16.488,
           "NFC South"
          ]
         ],
         "hovertemplate": "Division=%{customdata[3]}<br>Team Code=%{customdata[0]}<br>Rushing Output=%{customdata[1]}<br>Passing Output=%{customdata[2]}<extra></extra>",
         "legendgroup": "NFC South",
         "marker": {
          "color": "#ab63fa",
          "symbol": "circle"
         },
         "mode": "markers",
         "name": "NFC South",
         "orientation": "v",
         "showlegend": true,
         "type": "scatter",
         "x": [
          6.829,
          6.806,
          6.557,
          6.39
         ],
         "xaxis": "x",
         "y": [
          15.842,
          16.462,
          16.957,
          15.924
         ],
         "yaxis": "y"
        },
        {
         "customdata": [
          [
           "SEA",
           6.986,
           17.195,
           "NFC West"
          ],
          [
           "SF",
           6.718,
           18.058,
           "NFC West"
          ],
          [
           "SL",
           6.451,
           16.761,
           "NFC West"
          ],
          [
           "ARZ",
           6.219,
           16.207,
           "NFC West"
          ],
          [
           "LA",
           6.618,
           17.161,
           "NFC West"
          ]
         ],
         "hovertemplate": "Division=%{customdata[3]}<br>Team Code=%{customdata[0]}<br>Rushing Output=%{customdata[1]}<br>Passing Output=%{customdata[2]}<extra></extra>",
         "legendgroup": "NFC West",
         "marker": {
          "color": "#FFA15A",
          "symbol": "circle"
         },
         "mode": "markers",
         "name": "NFC West",
         "orientation": "v",
         "showlegend": true,
         "type": "scatter",
         "x": [
          6.272,
          6.253,
          6.163,
          6.722,
          6.707
         ],
         "xaxis": "x",
         "y": [
          16.078,
          16.078,
          17.309,
          16.618,
          16.288
         ],
         "yaxis": "y"
        },
        {
         "customdata": [
          [
           "CHI",
           6.456,
           15.743,
           "NFC North"
          ],
          [
           "DET",
           6.339,
           16.998,
           "NFC North"
          ],
          [
           "MIN",
           6.801,
           16.148,
           "NFC North"
          ],
          [
           "GB",
           6.951,
           17.113,
           "NFC North"
          ]
         ],
         "hovertemplate": "Division=%{customdata[3]}<br>Team Code=%{customdata[0]}<br>Rushing Output=%{customdata[1]}<br>Passing Output=%{customdata[2]}<extra></extra>",
         "legendgroup": "NFC North",
         "marker": {
          "color": "#19d3f3",
          "symbol": "circle"
         },
         "mode": "markers",
         "name": "NFC North",
         "orientation": "v",
         "showlegend": true,
         "type": "scatter",
         "x": [
          6.689,
          6.771,
          6.571,
          6.836
         ],
         "xaxis": "x",
         "y": [
          16.482,
          16.879,
          16.397,
          17.409
         ],
         "yaxis": "y"
        },
        {
         "customdata": [
          [
           "IND",
           6.516,
           16.371,
           "AFC South"
          ],
          [
           "JAX",
           6.486,
           16.136,
           "AFC South"
          ],
          [
           "TEN",
           7.133,
           16.717,
           "AFC South"
          ],
          [
           "HST",
           6.192,
           16.017,
           "AFC South"
          ]
         ],
         "hovertemplate": "Division=%{customdata[3]}<br>Team Code=%{customdata[0]}<br>Rushing Output=%{customdata[1]}<br>Passing Output=%{customdata[2]}<extra></extra>",
         "legendgroup": "AFC South",
         "marker": {
          "color": "#FF6692",
          "symbol": "circle"
         },
         "mode": "markers",
         "name": "AFC South",
         "orientation": "v",
         "showlegend": true,
         "type": "scatter",
         "x": [
          6.454,
          6.545,
          6.318,
          6.933
         ],
         "xaxis": "x",
         "y": [
          16.614,
          16.65,
          16.482,
          16.979
         ],
         "yaxis": "y"
        },
        {
         "customdata": [
          [
           "DAL",
           7.215,
           16.457,
           "NFC East"
          ],
          [
           "NYG",
           6.452,
           15.906,
           "NFC East"
          ],
          [
           "PHI",
           6.725,
           16.717,
           "NFC East"
          ],
          [
           "WAS",
           6.593,
           16.551,
           "NFC East"
          ]
         ],
         "hovertemplate": "Division=%{customdata[3]}<br>Team Code=%{customdata[0]}<br>Rushing Output=%{customdata[1]}<br>Passing Output=%{customdata[2]}<extra></extra>",
         "legendgroup": "NFC East",
         "marker": {
          "color": "#B6E880",
          "symbol": "circle"
         },
         "mode": "markers",
         "name": "NFC East",
         "orientation": "v",
         "showlegend": true,
         "type": "scatter",
         "x": [
          6.78,
          6.589,
          6.608,
          6.74
         ],
         "xaxis": "x",
         "y": [
          16.594,
          16.765,
          16.666,
          16.872
         ],
         "yaxis": "y"
        }
       ],
       "layout": {
        "annotations": [
         {
          "showarrow": false,
          "text": "average passing concesssion",
          "x": 0,
          "xanchor": "left",
          "xref": "x domain",
          "y": 16.59377142857143,
          "yanchor": "bottom",
          "yref": "y"
         },
         {
          "showarrow": false,
          "text": "average rushing concesssion",
          "x": 6.630114285714286,
          "xanchor": "right",
          "xref": "x",
          "y": 1,
          "yanchor": "top",
          "yref": "y domain"
         }
        ],
        "legend": {
         "title": {
          "text": "Division"
         },
         "tracegroupgap": 0
        },
        "margin": {
         "b": 30,
         "l": 30,
         "r": 30,
         "t": 30
        },
        "shapes": [
         {
          "line": {
           "color": "gray",
           "dash": "dash"
          },
          "opacity": 0.7,
          "type": "line",
          "x0": 0,
          "x1": 1,
          "xref": "x domain",
          "y0": 16.59377142857143,
          "y1": 16.59377142857143,
          "yref": "y"
         },
         {
          "line": {
           "color": "gray",
           "dash": "dash"
          },
          "opacity": 0.7,
          "type": "line",
          "x0": 6.630114285714286,
          "x1": 6.630114285714286,
          "xref": "x",
          "y0": 0,
          "y1": 1,
          "yref": "y domain"
         }
        ],
        "template": {
         "data": {
          "bar": [
           {
            "error_x": {
             "color": "#2a3f5f"
            },
            "error_y": {
             "color": "#2a3f5f"
            },
            "marker": {
             "line": {
              "color": "white",
              "width": 0.5
             },
             "pattern": {
              "fillmode": "overlay",
              "size": 10,
              "solidity": 0.2
             }
            },
            "type": "bar"
           }
          ],
          "barpolar": [
           {
            "marker": {
             "line": {
              "color": "white",
              "width": 0.5
             },
             "pattern": {
              "fillmode": "overlay",
              "size": 10,
              "solidity": 0.2
             }
            },
            "type": "barpolar"
           }
          ],
          "carpet": [
           {
            "aaxis": {
             "endlinecolor": "#2a3f5f",
             "gridcolor": "#C8D4E3",
             "linecolor": "#C8D4E3",
             "minorgridcolor": "#C8D4E3",
             "startlinecolor": "#2a3f5f"
            },
            "baxis": {
             "endlinecolor": "#2a3f5f",
             "gridcolor": "#C8D4E3",
             "linecolor": "#C8D4E3",
             "minorgridcolor": "#C8D4E3",
             "startlinecolor": "#2a3f5f"
            },
            "type": "carpet"
           }
          ],
          "choropleth": [
           {
            "colorbar": {
             "outlinewidth": 0,
             "ticks": ""
            },
            "type": "choropleth"
           }
          ],
          "contour": [
           {
            "colorbar": {
             "outlinewidth": 0,
             "ticks": ""
            },
            "colorscale": [
             [
              0,
              "#0d0887"
             ],
             [
              0.1111111111111111,
              "#46039f"
             ],
             [
              0.2222222222222222,
              "#7201a8"
             ],
             [
              0.3333333333333333,
              "#9c179e"
             ],
             [
              0.4444444444444444,
              "#bd3786"
             ],
             [
              0.5555555555555556,
              "#d8576b"
             ],
             [
              0.6666666666666666,
              "#ed7953"
             ],
             [
              0.7777777777777778,
              "#fb9f3a"
             ],
             [
              0.8888888888888888,
              "#fdca26"
             ],
             [
              1,
              "#f0f921"
             ]
            ],
            "type": "contour"
           }
          ],
          "contourcarpet": [
           {
            "colorbar": {
             "outlinewidth": 0,
             "ticks": ""
            },
            "type": "contourcarpet"
           }
          ],
          "heatmap": [
           {
            "colorbar": {
             "outlinewidth": 0,
             "ticks": ""
            },
            "colorscale": [
             [
              0,
              "#0d0887"
             ],
             [
              0.1111111111111111,
              "#46039f"
             ],
             [
              0.2222222222222222,
              "#7201a8"
             ],
             [
              0.3333333333333333,
              "#9c179e"
             ],
             [
              0.4444444444444444,
              "#bd3786"
             ],
             [
              0.5555555555555556,
              "#d8576b"
             ],
             [
              0.6666666666666666,
              "#ed7953"
             ],
             [
              0.7777777777777778,
              "#fb9f3a"
             ],
             [
              0.8888888888888888,
              "#fdca26"
             ],
             [
              1,
              "#f0f921"
             ]
            ],
            "type": "heatmap"
           }
          ],
          "heatmapgl": [
           {
            "colorbar": {
             "outlinewidth": 0,
             "ticks": ""
            },
            "colorscale": [
             [
              0,
              "#0d0887"
             ],
             [
              0.1111111111111111,
              "#46039f"
             ],
             [
              0.2222222222222222,
              "#7201a8"
             ],
             [
              0.3333333333333333,
              "#9c179e"
             ],
             [
              0.4444444444444444,
              "#bd3786"
             ],
             [
              0.5555555555555556,
              "#d8576b"
             ],
             [
              0.6666666666666666,
              "#ed7953"
             ],
             [
              0.7777777777777778,
              "#fb9f3a"
             ],
             [
              0.8888888888888888,
              "#fdca26"
             ],
             [
              1,
              "#f0f921"
             ]
            ],
            "type": "heatmapgl"
           }
          ],
          "histogram": [
           {
            "marker": {
             "pattern": {
              "fillmode": "overlay",
              "size": 10,
              "solidity": 0.2
             }
            },
            "type": "histogram"
           }
          ],
          "histogram2d": [
           {
            "colorbar": {
             "outlinewidth": 0,
             "ticks": ""
            },
            "colorscale": [
             [
              0,
              "#0d0887"
             ],
             [
              0.1111111111111111,
              "#46039f"
             ],
             [
              0.2222222222222222,
              "#7201a8"
             ],
             [
              0.3333333333333333,
              "#9c179e"
             ],
             [
              0.4444444444444444,
              "#bd3786"
             ],
             [
              0.5555555555555556,
              "#d8576b"
             ],
             [
              0.6666666666666666,
              "#ed7953"
             ],
             [
              0.7777777777777778,
              "#fb9f3a"
             ],
             [
              0.8888888888888888,
              "#fdca26"
             ],
             [
              1,
              "#f0f921"
             ]
            ],
            "type": "histogram2d"
           }
          ],
          "histogram2dcontour": [
           {
            "colorbar": {
             "outlinewidth": 0,
             "ticks": ""
            },
            "colorscale": [
             [
              0,
              "#0d0887"
             ],
             [
              0.1111111111111111,
              "#46039f"
             ],
             [
              0.2222222222222222,
              "#7201a8"
             ],
             [
              0.3333333333333333,
              "#9c179e"
             ],
             [
              0.4444444444444444,
              "#bd3786"
             ],
             [
              0.5555555555555556,
              "#d8576b"
             ],
             [
              0.6666666666666666,
              "#ed7953"
             ],
             [
              0.7777777777777778,
              "#fb9f3a"
             ],
             [
              0.8888888888888888,
              "#fdca26"
             ],
             [
              1,
              "#f0f921"
             ]
            ],
            "type": "histogram2dcontour"
           }
          ],
          "mesh3d": [
           {
            "colorbar": {
             "outlinewidth": 0,
             "ticks": ""
            },
            "type": "mesh3d"
           }
          ],
          "parcoords": [
           {
            "line": {
             "colorbar": {
              "outlinewidth": 0,
              "ticks": ""
             }
            },
            "type": "parcoords"
           }
          ],
          "pie": [
           {
            "automargin": true,
            "type": "pie"
           }
          ],
          "scatter": [
           {
            "fillpattern": {
             "fillmode": "overlay",
             "size": 10,
             "solidity": 0.2
            },
            "type": "scatter"
           }
          ],
          "scatter3d": [
           {
            "line": {
             "colorbar": {
              "outlinewidth": 0,
              "ticks": ""
             }
            },
            "marker": {
             "colorbar": {
              "outlinewidth": 0,
              "ticks": ""
             }
            },
            "type": "scatter3d"
           }
          ],
          "scattercarpet": [
           {
            "marker": {
             "colorbar": {
              "outlinewidth": 0,
              "ticks": ""
             }
            },
            "type": "scattercarpet"
           }
          ],
          "scattergeo": [
           {
            "marker": {
             "colorbar": {
              "outlinewidth": 0,
              "ticks": ""
             }
            },
            "type": "scattergeo"
           }
          ],
          "scattergl": [
           {
            "marker": {
             "colorbar": {
              "outlinewidth": 0,
              "ticks": ""
             }
            },
            "type": "scattergl"
           }
          ],
          "scattermapbox": [
           {
            "marker": {
             "colorbar": {
              "outlinewidth": 0,
              "ticks": ""
             }
            },
            "type": "scattermapbox"
           }
          ],
          "scatterpolar": [
           {
            "marker": {
             "colorbar": {
              "outlinewidth": 0,
              "ticks": ""
             }
            },
            "type": "scatterpolar"
           }
          ],
          "scatterpolargl": [
           {
            "marker": {
             "colorbar": {
              "outlinewidth": 0,
              "ticks": ""
             }
            },
            "type": "scatterpolargl"
           }
          ],
          "scatterternary": [
           {
            "marker": {
             "colorbar": {
              "outlinewidth": 0,
              "ticks": ""
             }
            },
            "type": "scatterternary"
           }
          ],
          "surface": [
           {
            "colorbar": {
             "outlinewidth": 0,
             "ticks": ""
            },
            "colorscale": [
             [
              0,
              "#0d0887"
             ],
             [
              0.1111111111111111,
              "#46039f"
             ],
             [
              0.2222222222222222,
              "#7201a8"
             ],
             [
              0.3333333333333333,
              "#9c179e"
             ],
             [
              0.4444444444444444,
              "#bd3786"
             ],
             [
              0.5555555555555556,
              "#d8576b"
             ],
             [
              0.6666666666666666,
              "#ed7953"
             ],
             [
              0.7777777777777778,
              "#fb9f3a"
             ],
             [
              0.8888888888888888,
              "#fdca26"
             ],
             [
              1,
              "#f0f921"
             ]
            ],
            "type": "surface"
           }
          ],
          "table": [
           {
            "cells": {
             "fill": {
              "color": "#EBF0F8"
             },
             "line": {
              "color": "white"
             }
            },
            "header": {
             "fill": {
              "color": "#C8D4E3"
             },
             "line": {
              "color": "white"
             }
            },
            "type": "table"
           }
          ]
         },
         "layout": {
          "annotationdefaults": {
           "arrowcolor": "#2a3f5f",
           "arrowhead": 0,
           "arrowwidth": 1
          },
          "autotypenumbers": "strict",
          "coloraxis": {
           "colorbar": {
            "outlinewidth": 0,
            "ticks": ""
           }
          },
          "colorscale": {
           "diverging": [
            [
             0,
             "#8e0152"
            ],
            [
             0.1,
             "#c51b7d"
            ],
            [
             0.2,
             "#de77ae"
            ],
            [
             0.3,
             "#f1b6da"
            ],
            [
             0.4,
             "#fde0ef"
            ],
            [
             0.5,
             "#f7f7f7"
            ],
            [
             0.6,
             "#e6f5d0"
            ],
            [
             0.7,
             "#b8e186"
            ],
            [
             0.8,
             "#7fbc41"
            ],
            [
             0.9,
             "#4d9221"
            ],
            [
             1,
             "#276419"
            ]
           ],
           "sequential": [
            [
             0,
             "#0d0887"
            ],
            [
             0.1111111111111111,
             "#46039f"
            ],
            [
             0.2222222222222222,
             "#7201a8"
            ],
            [
             0.3333333333333333,
             "#9c179e"
            ],
            [
             0.4444444444444444,
             "#bd3786"
            ],
            [
             0.5555555555555556,
             "#d8576b"
            ],
            [
             0.6666666666666666,
             "#ed7953"
            ],
            [
             0.7777777777777778,
             "#fb9f3a"
            ],
            [
             0.8888888888888888,
             "#fdca26"
            ],
            [
             1,
             "#f0f921"
            ]
           ],
           "sequentialminus": [
            [
             0,
             "#0d0887"
            ],
            [
             0.1111111111111111,
             "#46039f"
            ],
            [
             0.2222222222222222,
             "#7201a8"
            ],
            [
             0.3333333333333333,
             "#9c179e"
            ],
            [
             0.4444444444444444,
             "#bd3786"
            ],
            [
             0.5555555555555556,
             "#d8576b"
            ],
            [
             0.6666666666666666,
             "#ed7953"
            ],
            [
             0.7777777777777778,
             "#fb9f3a"
            ],
            [
             0.8888888888888888,
             "#fdca26"
            ],
            [
             1,
             "#f0f921"
            ]
           ]
          },
          "colorway": [
           "#636efa",
           "#EF553B",
           "#00cc96",
           "#ab63fa",
           "#FFA15A",
           "#19d3f3",
           "#FF6692",
           "#B6E880",
           "#FF97FF",
           "#FECB52"
          ],
          "font": {
           "color": "#2a3f5f"
          },
          "geo": {
           "bgcolor": "white",
           "lakecolor": "white",
           "landcolor": "white",
           "showlakes": true,
           "showland": true,
           "subunitcolor": "#C8D4E3"
          },
          "hoverlabel": {
           "align": "left"
          },
          "hovermode": "closest",
          "mapbox": {
           "style": "light"
          },
          "paper_bgcolor": "white",
          "plot_bgcolor": "white",
          "polar": {
           "angularaxis": {
            "gridcolor": "#EBF0F8",
            "linecolor": "#EBF0F8",
            "ticks": ""
           },
           "bgcolor": "white",
           "radialaxis": {
            "gridcolor": "#EBF0F8",
            "linecolor": "#EBF0F8",
            "ticks": ""
           }
          },
          "scene": {
           "xaxis": {
            "backgroundcolor": "white",
            "gridcolor": "#DFE8F3",
            "gridwidth": 2,
            "linecolor": "#EBF0F8",
            "showbackground": true,
            "ticks": "",
            "zerolinecolor": "#EBF0F8"
           },
           "yaxis": {
            "backgroundcolor": "white",
            "gridcolor": "#DFE8F3",
            "gridwidth": 2,
            "linecolor": "#EBF0F8",
            "showbackground": true,
            "ticks": "",
            "zerolinecolor": "#EBF0F8"
           },
           "zaxis": {
            "backgroundcolor": "white",
            "gridcolor": "#DFE8F3",
            "gridwidth": 2,
            "linecolor": "#EBF0F8",
            "showbackground": true,
            "ticks": "",
            "zerolinecolor": "#EBF0F8"
           }
          },
          "shapedefaults": {
           "line": {
            "color": "#2a3f5f"
           }
          },
          "ternary": {
           "aaxis": {
            "gridcolor": "#DFE8F3",
            "linecolor": "#A2B1C6",
            "ticks": ""
           },
           "baxis": {
            "gridcolor": "#DFE8F3",
            "linecolor": "#A2B1C6",
            "ticks": ""
           },
           "bgcolor": "white",
           "caxis": {
            "gridcolor": "#DFE8F3",
            "linecolor": "#A2B1C6",
            "ticks": ""
           }
          },
          "title": {
           "x": 0.05
          },
          "xaxis": {
           "automargin": true,
           "gridcolor": "#EBF0F8",
           "linecolor": "#EBF0F8",
           "ticks": "",
           "title": {
            "standoff": 15
           },
           "zerolinecolor": "#EBF0F8",
           "zerolinewidth": 2
          },
          "yaxis": {
           "automargin": true,
           "gridcolor": "#EBF0F8",
           "linecolor": "#EBF0F8",
           "ticks": "",
           "title": {
            "standoff": 15
           },
           "zerolinecolor": "#EBF0F8",
           "zerolinewidth": 2
          }
         }
        },
        "title": {
         "text": "Defensive Concessions"
        },
        "xaxis": {
         "anchor": "y",
         "domain": [
          0,
          1
         ],
         "title": {
          "text": "rush_def"
         }
        },
        "yaxis": {
         "anchor": "x",
         "domain": [
          0,
          1
         ],
         "title": {
          "text": "pass_def"
         }
        }
       }
      },
      "text/html": [
       "<div>                        <script type=\"text/javascript\">window.PlotlyConfig = {MathJaxConfig: 'local'};</script>\n",
       "        <script charset=\"utf-8\" src=\"https://cdn.plot.ly/plotly-2.27.0.min.js\"></script>                <div id=\"1ee77d00-32dd-4907-8542-6e066fd2bbae\" class=\"plotly-graph-div\" style=\"height:100%; width:100%;\"></div>            <script type=\"text/javascript\">                                    window.PLOTLYENV=window.PLOTLYENV || {};                                    if (document.getElementById(\"1ee77d00-32dd-4907-8542-6e066fd2bbae\")) {                    Plotly.newPlot(                        \"1ee77d00-32dd-4907-8542-6e066fd2bbae\",                        [{\"customdata\":[[\"BLT\",6.848,15.508,\"AFC North\"],[\"CIN\",6.31,16.733,\"AFC North\"],[\"CLV\",7.219,16.854,\"AFC North\"],[\"PIT\",6.415,16.214,\"AFC North\"]],\"hovertemplate\":\"Division=%{customdata[3]}\\u003cbr\\u003eTeam Code=%{customdata[0]}\\u003cbr\\u003eRushing Output=%{customdata[1]}\\u003cbr\\u003ePassing Output=%{customdata[2]}\\u003cextra\\u003e\\u003c\\u002fextra\\u003e\",\"legendgroup\":\"AFC North\",\"marker\":{\"color\":\"#636efa\",\"symbol\":\"circle\"},\"mode\":\"markers\",\"name\":\"AFC North\",\"orientation\":\"v\",\"showlegend\":true,\"x\":[6.167,6.914,6.797,6.535],\"xaxis\":\"x\",\"y\":[16.426,16.419,16.493,16.52],\"yaxis\":\"y\",\"type\":\"scatter\"},{\"customdata\":[[\"DEN\",6.592,16.505,\"AFC West\"],[\"OAK\",6.674,16.211,\"AFC West\"],[\"KC\",6.684,17.701,\"AFC West\"],[\"SD\",5.886,17.231,\"AFC West\"],[\"LAC\",6.548,17.03,\"AFC West\"],[\"LV\",7.19,16.939,\"AFC West\"]],\"hovertemplate\":\"Division=%{customdata[3]}\\u003cbr\\u003eTeam Code=%{customdata[0]}\\u003cbr\\u003eRushing Output=%{customdata[1]}\\u003cbr\\u003ePassing Output=%{customdata[2]}\\u003cextra\\u003e\\u003c\\u002fextra\\u003e\",\"legendgroup\":\"AFC West\",\"marker\":{\"color\":\"#EF553B\",\"symbol\":\"circle\"},\"mode\":\"markers\",\"name\":\"AFC West\",\"orientation\":\"v\",\"showlegend\":true,\"x\":[6.269,6.374,6.98,6.454,7.529,7.11],\"xaxis\":\"x\",\"y\":[16.229,17.862,16.736,17.64,16.0,15.763],\"yaxis\":\"y\",\"type\":\"scatter\"},{\"customdata\":[[\"NE\",6.521,16.921,\"AFC East\"],[\"BUF\",6.526,16.119,\"AFC East\"],[\"MIA\",6.552,15.948,\"AFC East\"],[\"NYJ\",6.497,16.567,\"AFC East\"]],\"hovertemplate\":\"Division=%{customdata[3]}\\u003cbr\\u003eTeam Code=%{customdata[0]}\\u003cbr\\u003eRushing Output=%{customdata[1]}\\u003cbr\\u003ePassing Output=%{customdata[2]}\\u003cextra\\u003e\\u003c\\u002fextra\\u003e\",\"legendgroup\":\"AFC East\",\"marker\":{\"color\":\"#00cc96\",\"symbol\":\"circle\"},\"mode\":\"markers\",\"name\":\"AFC East\",\"orientation\":\"v\",\"showlegend\":true,\"x\":[6.584,6.915,6.767,6.126],\"xaxis\":\"x\",\"y\":[16.406,16.03,17.25,16.663],\"yaxis\":\"y\",\"type\":\"scatter\"},{\"customdata\":[[\"CAR\",6.598,16.896,\"NFC South\"],[\"ATL\",6.511,16.275,\"NFC South\"],[\"NO\",6.74,16.41,\"NFC South\"],[\"TB\",6.327,16.488,\"NFC South\"]],\"hovertemplate\":\"Division=%{customdata[3]}\\u003cbr\\u003eTeam Code=%{customdata[0]}\\u003cbr\\u003eRushing Output=%{customdata[1]}\\u003cbr\\u003ePassing Output=%{customdata[2]}\\u003cextra\\u003e\\u003c\\u002fextra\\u003e\",\"legendgroup\":\"NFC South\",\"marker\":{\"color\":\"#ab63fa\",\"symbol\":\"circle\"},\"mode\":\"markers\",\"name\":\"NFC South\",\"orientation\":\"v\",\"showlegend\":true,\"x\":[6.829,6.806,6.557,6.39],\"xaxis\":\"x\",\"y\":[15.842,16.462,16.957,15.924],\"yaxis\":\"y\",\"type\":\"scatter\"},{\"customdata\":[[\"SEA\",6.986,17.195,\"NFC West\"],[\"SF\",6.718,18.058,\"NFC West\"],[\"SL\",6.451,16.761,\"NFC West\"],[\"ARZ\",6.219,16.207,\"NFC West\"],[\"LA\",6.618,17.161,\"NFC West\"]],\"hovertemplate\":\"Division=%{customdata[3]}\\u003cbr\\u003eTeam Code=%{customdata[0]}\\u003cbr\\u003eRushing Output=%{customdata[1]}\\u003cbr\\u003ePassing Output=%{customdata[2]}\\u003cextra\\u003e\\u003c\\u002fextra\\u003e\",\"legendgroup\":\"NFC West\",\"marker\":{\"color\":\"#FFA15A\",\"symbol\":\"circle\"},\"mode\":\"markers\",\"name\":\"NFC West\",\"orientation\":\"v\",\"showlegend\":true,\"x\":[6.272,6.253,6.163,6.722,6.707],\"xaxis\":\"x\",\"y\":[16.078,16.078,17.309,16.618,16.288],\"yaxis\":\"y\",\"type\":\"scatter\"},{\"customdata\":[[\"CHI\",6.456,15.743,\"NFC North\"],[\"DET\",6.339,16.998,\"NFC North\"],[\"MIN\",6.801,16.148,\"NFC North\"],[\"GB\",6.951,17.113,\"NFC North\"]],\"hovertemplate\":\"Division=%{customdata[3]}\\u003cbr\\u003eTeam Code=%{customdata[0]}\\u003cbr\\u003eRushing Output=%{customdata[1]}\\u003cbr\\u003ePassing Output=%{customdata[2]}\\u003cextra\\u003e\\u003c\\u002fextra\\u003e\",\"legendgroup\":\"NFC North\",\"marker\":{\"color\":\"#19d3f3\",\"symbol\":\"circle\"},\"mode\":\"markers\",\"name\":\"NFC North\",\"orientation\":\"v\",\"showlegend\":true,\"x\":[6.689,6.771,6.571,6.836],\"xaxis\":\"x\",\"y\":[16.482,16.879,16.397,17.409],\"yaxis\":\"y\",\"type\":\"scatter\"},{\"customdata\":[[\"IND\",6.516,16.371,\"AFC South\"],[\"JAX\",6.486,16.136,\"AFC South\"],[\"TEN\",7.133,16.717,\"AFC South\"],[\"HST\",6.192,16.017,\"AFC South\"]],\"hovertemplate\":\"Division=%{customdata[3]}\\u003cbr\\u003eTeam Code=%{customdata[0]}\\u003cbr\\u003eRushing Output=%{customdata[1]}\\u003cbr\\u003ePassing Output=%{customdata[2]}\\u003cextra\\u003e\\u003c\\u002fextra\\u003e\",\"legendgroup\":\"AFC South\",\"marker\":{\"color\":\"#FF6692\",\"symbol\":\"circle\"},\"mode\":\"markers\",\"name\":\"AFC South\",\"orientation\":\"v\",\"showlegend\":true,\"x\":[6.454,6.545,6.318,6.933],\"xaxis\":\"x\",\"y\":[16.614,16.65,16.482,16.979],\"yaxis\":\"y\",\"type\":\"scatter\"},{\"customdata\":[[\"DAL\",7.215,16.457,\"NFC East\"],[\"NYG\",6.452,15.906,\"NFC East\"],[\"PHI\",6.725,16.717,\"NFC East\"],[\"WAS\",6.593,16.551,\"NFC East\"]],\"hovertemplate\":\"Division=%{customdata[3]}\\u003cbr\\u003eTeam Code=%{customdata[0]}\\u003cbr\\u003eRushing Output=%{customdata[1]}\\u003cbr\\u003ePassing Output=%{customdata[2]}\\u003cextra\\u003e\\u003c\\u002fextra\\u003e\",\"legendgroup\":\"NFC East\",\"marker\":{\"color\":\"#B6E880\",\"symbol\":\"circle\"},\"mode\":\"markers\",\"name\":\"NFC East\",\"orientation\":\"v\",\"showlegend\":true,\"x\":[6.78,6.589,6.608,6.74],\"xaxis\":\"x\",\"y\":[16.594,16.765,16.666,16.872],\"yaxis\":\"y\",\"type\":\"scatter\"}],                        {\"template\":{\"data\":{\"barpolar\":[{\"marker\":{\"line\":{\"color\":\"white\",\"width\":0.5},\"pattern\":{\"fillmode\":\"overlay\",\"size\":10,\"solidity\":0.2}},\"type\":\"barpolar\"}],\"bar\":[{\"error_x\":{\"color\":\"#2a3f5f\"},\"error_y\":{\"color\":\"#2a3f5f\"},\"marker\":{\"line\":{\"color\":\"white\",\"width\":0.5},\"pattern\":{\"fillmode\":\"overlay\",\"size\":10,\"solidity\":0.2}},\"type\":\"bar\"}],\"carpet\":[{\"aaxis\":{\"endlinecolor\":\"#2a3f5f\",\"gridcolor\":\"#C8D4E3\",\"linecolor\":\"#C8D4E3\",\"minorgridcolor\":\"#C8D4E3\",\"startlinecolor\":\"#2a3f5f\"},\"baxis\":{\"endlinecolor\":\"#2a3f5f\",\"gridcolor\":\"#C8D4E3\",\"linecolor\":\"#C8D4E3\",\"minorgridcolor\":\"#C8D4E3\",\"startlinecolor\":\"#2a3f5f\"},\"type\":\"carpet\"}],\"choropleth\":[{\"colorbar\":{\"outlinewidth\":0,\"ticks\":\"\"},\"type\":\"choropleth\"}],\"contourcarpet\":[{\"colorbar\":{\"outlinewidth\":0,\"ticks\":\"\"},\"type\":\"contourcarpet\"}],\"contour\":[{\"colorbar\":{\"outlinewidth\":0,\"ticks\":\"\"},\"colorscale\":[[0.0,\"#0d0887\"],[0.1111111111111111,\"#46039f\"],[0.2222222222222222,\"#7201a8\"],[0.3333333333333333,\"#9c179e\"],[0.4444444444444444,\"#bd3786\"],[0.5555555555555556,\"#d8576b\"],[0.6666666666666666,\"#ed7953\"],[0.7777777777777778,\"#fb9f3a\"],[0.8888888888888888,\"#fdca26\"],[1.0,\"#f0f921\"]],\"type\":\"contour\"}],\"heatmapgl\":[{\"colorbar\":{\"outlinewidth\":0,\"ticks\":\"\"},\"colorscale\":[[0.0,\"#0d0887\"],[0.1111111111111111,\"#46039f\"],[0.2222222222222222,\"#7201a8\"],[0.3333333333333333,\"#9c179e\"],[0.4444444444444444,\"#bd3786\"],[0.5555555555555556,\"#d8576b\"],[0.6666666666666666,\"#ed7953\"],[0.7777777777777778,\"#fb9f3a\"],[0.8888888888888888,\"#fdca26\"],[1.0,\"#f0f921\"]],\"type\":\"heatmapgl\"}],\"heatmap\":[{\"colorbar\":{\"outlinewidth\":0,\"ticks\":\"\"},\"colorscale\":[[0.0,\"#0d0887\"],[0.1111111111111111,\"#46039f\"],[0.2222222222222222,\"#7201a8\"],[0.3333333333333333,\"#9c179e\"],[0.4444444444444444,\"#bd3786\"],[0.5555555555555556,\"#d8576b\"],[0.6666666666666666,\"#ed7953\"],[0.7777777777777778,\"#fb9f3a\"],[0.8888888888888888,\"#fdca26\"],[1.0,\"#f0f921\"]],\"type\":\"heatmap\"}],\"histogram2dcontour\":[{\"colorbar\":{\"outlinewidth\":0,\"ticks\":\"\"},\"colorscale\":[[0.0,\"#0d0887\"],[0.1111111111111111,\"#46039f\"],[0.2222222222222222,\"#7201a8\"],[0.3333333333333333,\"#9c179e\"],[0.4444444444444444,\"#bd3786\"],[0.5555555555555556,\"#d8576b\"],[0.6666666666666666,\"#ed7953\"],[0.7777777777777778,\"#fb9f3a\"],[0.8888888888888888,\"#fdca26\"],[1.0,\"#f0f921\"]],\"type\":\"histogram2dcontour\"}],\"histogram2d\":[{\"colorbar\":{\"outlinewidth\":0,\"ticks\":\"\"},\"colorscale\":[[0.0,\"#0d0887\"],[0.1111111111111111,\"#46039f\"],[0.2222222222222222,\"#7201a8\"],[0.3333333333333333,\"#9c179e\"],[0.4444444444444444,\"#bd3786\"],[0.5555555555555556,\"#d8576b\"],[0.6666666666666666,\"#ed7953\"],[0.7777777777777778,\"#fb9f3a\"],[0.8888888888888888,\"#fdca26\"],[1.0,\"#f0f921\"]],\"type\":\"histogram2d\"}],\"histogram\":[{\"marker\":{\"pattern\":{\"fillmode\":\"overlay\",\"size\":10,\"solidity\":0.2}},\"type\":\"histogram\"}],\"mesh3d\":[{\"colorbar\":{\"outlinewidth\":0,\"ticks\":\"\"},\"type\":\"mesh3d\"}],\"parcoords\":[{\"line\":{\"colorbar\":{\"outlinewidth\":0,\"ticks\":\"\"}},\"type\":\"parcoords\"}],\"pie\":[{\"automargin\":true,\"type\":\"pie\"}],\"scatter3d\":[{\"line\":{\"colorbar\":{\"outlinewidth\":0,\"ticks\":\"\"}},\"marker\":{\"colorbar\":{\"outlinewidth\":0,\"ticks\":\"\"}},\"type\":\"scatter3d\"}],\"scattercarpet\":[{\"marker\":{\"colorbar\":{\"outlinewidth\":0,\"ticks\":\"\"}},\"type\":\"scattercarpet\"}],\"scattergeo\":[{\"marker\":{\"colorbar\":{\"outlinewidth\":0,\"ticks\":\"\"}},\"type\":\"scattergeo\"}],\"scattergl\":[{\"marker\":{\"colorbar\":{\"outlinewidth\":0,\"ticks\":\"\"}},\"type\":\"scattergl\"}],\"scattermapbox\":[{\"marker\":{\"colorbar\":{\"outlinewidth\":0,\"ticks\":\"\"}},\"type\":\"scattermapbox\"}],\"scatterpolargl\":[{\"marker\":{\"colorbar\":{\"outlinewidth\":0,\"ticks\":\"\"}},\"type\":\"scatterpolargl\"}],\"scatterpolar\":[{\"marker\":{\"colorbar\":{\"outlinewidth\":0,\"ticks\":\"\"}},\"type\":\"scatterpolar\"}],\"scatter\":[{\"fillpattern\":{\"fillmode\":\"overlay\",\"size\":10,\"solidity\":0.2},\"type\":\"scatter\"}],\"scatterternary\":[{\"marker\":{\"colorbar\":{\"outlinewidth\":0,\"ticks\":\"\"}},\"type\":\"scatterternary\"}],\"surface\":[{\"colorbar\":{\"outlinewidth\":0,\"ticks\":\"\"},\"colorscale\":[[0.0,\"#0d0887\"],[0.1111111111111111,\"#46039f\"],[0.2222222222222222,\"#7201a8\"],[0.3333333333333333,\"#9c179e\"],[0.4444444444444444,\"#bd3786\"],[0.5555555555555556,\"#d8576b\"],[0.6666666666666666,\"#ed7953\"],[0.7777777777777778,\"#fb9f3a\"],[0.8888888888888888,\"#fdca26\"],[1.0,\"#f0f921\"]],\"type\":\"surface\"}],\"table\":[{\"cells\":{\"fill\":{\"color\":\"#EBF0F8\"},\"line\":{\"color\":\"white\"}},\"header\":{\"fill\":{\"color\":\"#C8D4E3\"},\"line\":{\"color\":\"white\"}},\"type\":\"table\"}]},\"layout\":{\"annotationdefaults\":{\"arrowcolor\":\"#2a3f5f\",\"arrowhead\":0,\"arrowwidth\":1},\"autotypenumbers\":\"strict\",\"coloraxis\":{\"colorbar\":{\"outlinewidth\":0,\"ticks\":\"\"}},\"colorscale\":{\"diverging\":[[0,\"#8e0152\"],[0.1,\"#c51b7d\"],[0.2,\"#de77ae\"],[0.3,\"#f1b6da\"],[0.4,\"#fde0ef\"],[0.5,\"#f7f7f7\"],[0.6,\"#e6f5d0\"],[0.7,\"#b8e186\"],[0.8,\"#7fbc41\"],[0.9,\"#4d9221\"],[1,\"#276419\"]],\"sequential\":[[0.0,\"#0d0887\"],[0.1111111111111111,\"#46039f\"],[0.2222222222222222,\"#7201a8\"],[0.3333333333333333,\"#9c179e\"],[0.4444444444444444,\"#bd3786\"],[0.5555555555555556,\"#d8576b\"],[0.6666666666666666,\"#ed7953\"],[0.7777777777777778,\"#fb9f3a\"],[0.8888888888888888,\"#fdca26\"],[1.0,\"#f0f921\"]],\"sequentialminus\":[[0.0,\"#0d0887\"],[0.1111111111111111,\"#46039f\"],[0.2222222222222222,\"#7201a8\"],[0.3333333333333333,\"#9c179e\"],[0.4444444444444444,\"#bd3786\"],[0.5555555555555556,\"#d8576b\"],[0.6666666666666666,\"#ed7953\"],[0.7777777777777778,\"#fb9f3a\"],[0.8888888888888888,\"#fdca26\"],[1.0,\"#f0f921\"]]},\"colorway\":[\"#636efa\",\"#EF553B\",\"#00cc96\",\"#ab63fa\",\"#FFA15A\",\"#19d3f3\",\"#FF6692\",\"#B6E880\",\"#FF97FF\",\"#FECB52\"],\"font\":{\"color\":\"#2a3f5f\"},\"geo\":{\"bgcolor\":\"white\",\"lakecolor\":\"white\",\"landcolor\":\"white\",\"showlakes\":true,\"showland\":true,\"subunitcolor\":\"#C8D4E3\"},\"hoverlabel\":{\"align\":\"left\"},\"hovermode\":\"closest\",\"mapbox\":{\"style\":\"light\"},\"paper_bgcolor\":\"white\",\"plot_bgcolor\":\"white\",\"polar\":{\"angularaxis\":{\"gridcolor\":\"#EBF0F8\",\"linecolor\":\"#EBF0F8\",\"ticks\":\"\"},\"bgcolor\":\"white\",\"radialaxis\":{\"gridcolor\":\"#EBF0F8\",\"linecolor\":\"#EBF0F8\",\"ticks\":\"\"}},\"scene\":{\"xaxis\":{\"backgroundcolor\":\"white\",\"gridcolor\":\"#DFE8F3\",\"gridwidth\":2,\"linecolor\":\"#EBF0F8\",\"showbackground\":true,\"ticks\":\"\",\"zerolinecolor\":\"#EBF0F8\"},\"yaxis\":{\"backgroundcolor\":\"white\",\"gridcolor\":\"#DFE8F3\",\"gridwidth\":2,\"linecolor\":\"#EBF0F8\",\"showbackground\":true,\"ticks\":\"\",\"zerolinecolor\":\"#EBF0F8\"},\"zaxis\":{\"backgroundcolor\":\"white\",\"gridcolor\":\"#DFE8F3\",\"gridwidth\":2,\"linecolor\":\"#EBF0F8\",\"showbackground\":true,\"ticks\":\"\",\"zerolinecolor\":\"#EBF0F8\"}},\"shapedefaults\":{\"line\":{\"color\":\"#2a3f5f\"}},\"ternary\":{\"aaxis\":{\"gridcolor\":\"#DFE8F3\",\"linecolor\":\"#A2B1C6\",\"ticks\":\"\"},\"baxis\":{\"gridcolor\":\"#DFE8F3\",\"linecolor\":\"#A2B1C6\",\"ticks\":\"\"},\"bgcolor\":\"white\",\"caxis\":{\"gridcolor\":\"#DFE8F3\",\"linecolor\":\"#A2B1C6\",\"ticks\":\"\"}},\"title\":{\"x\":0.05},\"xaxis\":{\"automargin\":true,\"gridcolor\":\"#EBF0F8\",\"linecolor\":\"#EBF0F8\",\"ticks\":\"\",\"title\":{\"standoff\":15},\"zerolinecolor\":\"#EBF0F8\",\"zerolinewidth\":2},\"yaxis\":{\"automargin\":true,\"gridcolor\":\"#EBF0F8\",\"linecolor\":\"#EBF0F8\",\"ticks\":\"\",\"title\":{\"standoff\":15},\"zerolinecolor\":\"#EBF0F8\",\"zerolinewidth\":2}}},\"xaxis\":{\"anchor\":\"y\",\"domain\":[0.0,1.0],\"title\":{\"text\":\"rush_def\"}},\"yaxis\":{\"anchor\":\"x\",\"domain\":[0.0,1.0],\"title\":{\"text\":\"pass_def\"}},\"legend\":{\"title\":{\"text\":\"Division\"},\"tracegroupgap\":0},\"margin\":{\"t\":30,\"l\":30,\"r\":30,\"b\":30},\"shapes\":[{\"line\":{\"color\":\"gray\",\"dash\":\"dash\"},\"opacity\":0.7,\"type\":\"line\",\"x0\":0,\"x1\":1,\"xref\":\"x domain\",\"y0\":16.59377142857143,\"y1\":16.59377142857143,\"yref\":\"y\"},{\"line\":{\"color\":\"gray\",\"dash\":\"dash\"},\"opacity\":0.7,\"type\":\"line\",\"x0\":6.630114285714286,\"x1\":6.630114285714286,\"xref\":\"x\",\"y0\":0,\"y1\":1,\"yref\":\"y domain\"}],\"annotations\":[{\"showarrow\":false,\"text\":\"average passing concesssion\",\"x\":0,\"xanchor\":\"left\",\"xref\":\"x domain\",\"y\":16.59377142857143,\"yanchor\":\"bottom\",\"yref\":\"y\"},{\"showarrow\":false,\"text\":\"average rushing concesssion\",\"x\":6.630114285714286,\"xanchor\":\"right\",\"xref\":\"x\",\"y\":1,\"yanchor\":\"top\",\"yref\":\"y domain\"}],\"title\":{\"text\":\"Defensive Concessions\"}},                        {\"responsive\": true}                    )                };                            </script>        </div>"
      ],
      "text/plain": [
       "Figure({\n",
       "    'data': [{'customdata': array([['BLT', 6.848, 15.508, 'AFC North'],\n",
       "                                   ['CIN', 6.31, 16.733, 'AFC North'],\n",
       "                                   ['CLV', 7.219, 16.854, 'AFC North'],\n",
       "                                   ['PIT', 6.415, 16.214, 'AFC North']], dtype=object),\n",
       "              'hovertemplate': ('Division=%{customdata[3]}<br>T' ... '{customdata[2]}<extra></extra>'),\n",
       "              'legendgroup': 'AFC North',\n",
       "              'marker': {'color': '#636efa', 'symbol': 'circle'},\n",
       "              'mode': 'markers',\n",
       "              'name': 'AFC North',\n",
       "              'orientation': 'v',\n",
       "              'showlegend': True,\n",
       "              'type': 'scatter',\n",
       "              'x': array([6.167, 6.914, 6.797, 6.535]),\n",
       "              'xaxis': 'x',\n",
       "              'y': array([16.426, 16.419, 16.493, 16.52 ]),\n",
       "              'yaxis': 'y'},\n",
       "             {'customdata': array([['DEN', 6.592, 16.505, 'AFC West'],\n",
       "                                   ['OAK', 6.674, 16.211, 'AFC West'],\n",
       "                                   ['KC', 6.684, 17.701, 'AFC West'],\n",
       "                                   ['SD', 5.886, 17.231, 'AFC West'],\n",
       "                                   ['LAC', 6.548, 17.03, 'AFC West'],\n",
       "                                   ['LV', 7.19, 16.939, 'AFC West']], dtype=object),\n",
       "              'hovertemplate': ('Division=%{customdata[3]}<br>T' ... '{customdata[2]}<extra></extra>'),\n",
       "              'legendgroup': 'AFC West',\n",
       "              'marker': {'color': '#EF553B', 'symbol': 'circle'},\n",
       "              'mode': 'markers',\n",
       "              'name': 'AFC West',\n",
       "              'orientation': 'v',\n",
       "              'showlegend': True,\n",
       "              'type': 'scatter',\n",
       "              'x': array([6.269, 6.374, 6.98 , 6.454, 7.529, 7.11 ]),\n",
       "              'xaxis': 'x',\n",
       "              'y': array([16.229, 17.862, 16.736, 17.64 , 16.   , 15.763]),\n",
       "              'yaxis': 'y'},\n",
       "             {'customdata': array([['NE', 6.521, 16.921, 'AFC East'],\n",
       "                                   ['BUF', 6.526, 16.119, 'AFC East'],\n",
       "                                   ['MIA', 6.552, 15.948, 'AFC East'],\n",
       "                                   ['NYJ', 6.497, 16.567, 'AFC East']], dtype=object),\n",
       "              'hovertemplate': ('Division=%{customdata[3]}<br>T' ... '{customdata[2]}<extra></extra>'),\n",
       "              'legendgroup': 'AFC East',\n",
       "              'marker': {'color': '#00cc96', 'symbol': 'circle'},\n",
       "              'mode': 'markers',\n",
       "              'name': 'AFC East',\n",
       "              'orientation': 'v',\n",
       "              'showlegend': True,\n",
       "              'type': 'scatter',\n",
       "              'x': array([6.584, 6.915, 6.767, 6.126]),\n",
       "              'xaxis': 'x',\n",
       "              'y': array([16.406, 16.03 , 17.25 , 16.663]),\n",
       "              'yaxis': 'y'},\n",
       "             {'customdata': array([['CAR', 6.598, 16.896, 'NFC South'],\n",
       "                                   ['ATL', 6.511, 16.275, 'NFC South'],\n",
       "                                   ['NO', 6.74, 16.41, 'NFC South'],\n",
       "                                   ['TB', 6.327, 16.488, 'NFC South']], dtype=object),\n",
       "              'hovertemplate': ('Division=%{customdata[3]}<br>T' ... '{customdata[2]}<extra></extra>'),\n",
       "              'legendgroup': 'NFC South',\n",
       "              'marker': {'color': '#ab63fa', 'symbol': 'circle'},\n",
       "              'mode': 'markers',\n",
       "              'name': 'NFC South',\n",
       "              'orientation': 'v',\n",
       "              'showlegend': True,\n",
       "              'type': 'scatter',\n",
       "              'x': array([6.829, 6.806, 6.557, 6.39 ]),\n",
       "              'xaxis': 'x',\n",
       "              'y': array([15.842, 16.462, 16.957, 15.924]),\n",
       "              'yaxis': 'y'},\n",
       "             {'customdata': array([['SEA', 6.986, 17.195, 'NFC West'],\n",
       "                                   ['SF', 6.718, 18.058, 'NFC West'],\n",
       "                                   ['SL', 6.451, 16.761, 'NFC West'],\n",
       "                                   ['ARZ', 6.219, 16.207, 'NFC West'],\n",
       "                                   ['LA', 6.618, 17.161, 'NFC West']], dtype=object),\n",
       "              'hovertemplate': ('Division=%{customdata[3]}<br>T' ... '{customdata[2]}<extra></extra>'),\n",
       "              'legendgroup': 'NFC West',\n",
       "              'marker': {'color': '#FFA15A', 'symbol': 'circle'},\n",
       "              'mode': 'markers',\n",
       "              'name': 'NFC West',\n",
       "              'orientation': 'v',\n",
       "              'showlegend': True,\n",
       "              'type': 'scatter',\n",
       "              'x': array([6.272, 6.253, 6.163, 6.722, 6.707]),\n",
       "              'xaxis': 'x',\n",
       "              'y': array([16.078, 16.078, 17.309, 16.618, 16.288]),\n",
       "              'yaxis': 'y'},\n",
       "             {'customdata': array([['CHI', 6.456, 15.743, 'NFC North'],\n",
       "                                   ['DET', 6.339, 16.998, 'NFC North'],\n",
       "                                   ['MIN', 6.801, 16.148, 'NFC North'],\n",
       "                                   ['GB', 6.951, 17.113, 'NFC North']], dtype=object),\n",
       "              'hovertemplate': ('Division=%{customdata[3]}<br>T' ... '{customdata[2]}<extra></extra>'),\n",
       "              'legendgroup': 'NFC North',\n",
       "              'marker': {'color': '#19d3f3', 'symbol': 'circle'},\n",
       "              'mode': 'markers',\n",
       "              'name': 'NFC North',\n",
       "              'orientation': 'v',\n",
       "              'showlegend': True,\n",
       "              'type': 'scatter',\n",
       "              'x': array([6.689, 6.771, 6.571, 6.836]),\n",
       "              'xaxis': 'x',\n",
       "              'y': array([16.482, 16.879, 16.397, 17.409]),\n",
       "              'yaxis': 'y'},\n",
       "             {'customdata': array([['IND', 6.516, 16.371, 'AFC South'],\n",
       "                                   ['JAX', 6.486, 16.136, 'AFC South'],\n",
       "                                   ['TEN', 7.133, 16.717, 'AFC South'],\n",
       "                                   ['HST', 6.192, 16.017, 'AFC South']], dtype=object),\n",
       "              'hovertemplate': ('Division=%{customdata[3]}<br>T' ... '{customdata[2]}<extra></extra>'),\n",
       "              'legendgroup': 'AFC South',\n",
       "              'marker': {'color': '#FF6692', 'symbol': 'circle'},\n",
       "              'mode': 'markers',\n",
       "              'name': 'AFC South',\n",
       "              'orientation': 'v',\n",
       "              'showlegend': True,\n",
       "              'type': 'scatter',\n",
       "              'x': array([6.454, 6.545, 6.318, 6.933]),\n",
       "              'xaxis': 'x',\n",
       "              'y': array([16.614, 16.65 , 16.482, 16.979]),\n",
       "              'yaxis': 'y'},\n",
       "             {'customdata': array([['DAL', 7.215, 16.457, 'NFC East'],\n",
       "                                   ['NYG', 6.452, 15.906, 'NFC East'],\n",
       "                                   ['PHI', 6.725, 16.717, 'NFC East'],\n",
       "                                   ['WAS', 6.593, 16.551, 'NFC East']], dtype=object),\n",
       "              'hovertemplate': ('Division=%{customdata[3]}<br>T' ... '{customdata[2]}<extra></extra>'),\n",
       "              'legendgroup': 'NFC East',\n",
       "              'marker': {'color': '#B6E880', 'symbol': 'circle'},\n",
       "              'mode': 'markers',\n",
       "              'name': 'NFC East',\n",
       "              'orientation': 'v',\n",
       "              'showlegend': True,\n",
       "              'type': 'scatter',\n",
       "              'x': array([6.78 , 6.589, 6.608, 6.74 ]),\n",
       "              'xaxis': 'x',\n",
       "              'y': array([16.594, 16.765, 16.666, 16.872]),\n",
       "              'yaxis': 'y'}],\n",
       "    'layout': {'annotations': [{'showarrow': False,\n",
       "                                'text': 'average passing concesssion',\n",
       "                                'x': 0,\n",
       "                                'xanchor': 'left',\n",
       "                                'xref': 'x domain',\n",
       "                                'y': 16.59377142857143,\n",
       "                                'yanchor': 'bottom',\n",
       "                                'yref': 'y'},\n",
       "                               {'showarrow': False,\n",
       "                                'text': 'average rushing concesssion',\n",
       "                                'x': 6.630114285714286,\n",
       "                                'xanchor': 'right',\n",
       "                                'xref': 'x',\n",
       "                                'y': 1,\n",
       "                                'yanchor': 'top',\n",
       "                                'yref': 'y domain'}],\n",
       "               'legend': {'title': {'text': 'Division'}, 'tracegroupgap': 0},\n",
       "               'margin': {'b': 30, 'l': 30, 'r': 30, 't': 30},\n",
       "               'shapes': [{'line': {'color': 'gray', 'dash': 'dash'},\n",
       "                           'opacity': 0.7,\n",
       "                           'type': 'line',\n",
       "                           'x0': 0,\n",
       "                           'x1': 1,\n",
       "                           'xref': 'x domain',\n",
       "                           'y0': 16.59377142857143,\n",
       "                           'y1': 16.59377142857143,\n",
       "                           'yref': 'y'},\n",
       "                          {'line': {'color': 'gray', 'dash': 'dash'},\n",
       "                           'opacity': 0.7,\n",
       "                           'type': 'line',\n",
       "                           'x0': 6.630114285714286,\n",
       "                           'x1': 6.630114285714286,\n",
       "                           'xref': 'x',\n",
       "                           'y0': 0,\n",
       "                           'y1': 1,\n",
       "                           'yref': 'y domain'}],\n",
       "               'template': '...',\n",
       "               'title': {'text': 'Defensive Concessions'},\n",
       "               'xaxis': {'anchor': 'y', 'domain': [0.0, 1.0], 'title': {'text': 'rush_def'}},\n",
       "               'yaxis': {'anchor': 'x', 'domain': [0.0, 1.0], 'title': {'text': 'pass_def'}}}\n",
       "})"
      ]
     },
     "execution_count": 53,
     "metadata": {},
     "output_type": "execute_result"
    }
   ],
   "source": [
    "sns.set_theme(style = 'white')\n",
    "sns.set_style('ticks')\n",
    "sns.set_style({'font.family':'serif', 'font.serif':['Helvetica']})\n",
    "\n",
    "#                  Blue         Red     Yellow      Green\n",
    "#custom_colors = [  '#000099', '#cc0000','#ffff00',  '#009900']\n",
    "\n",
    "\n",
    "fig = px.scatter(plotting_data, x = 'rush_def', y='pass_def',\n",
    "                 color = 'Divs', \n",
    "                 #color_discrete_sequence= custom_colors,\n",
    "                 hover_data={\n",
    "                     'team':True,\n",
    "                     'rush_off': True,\n",
    "                     'pass_off': True,\n",
    "                     'rush_def': False,\n",
    "                     'pass_def': False,\n",
    "                     'Divs': True\n",
    "                 },\n",
    "                 labels={\n",
    "                     'team': 'Team Code',\n",
    "                     'Divs': 'Division',\n",
    "                     'rush_off': 'Rushing Output',\n",
    "                     'pass_off': 'Passing Output'\n",
    "                 },\n",
    "                 template = 'plotly_white')\n",
    "fig.add_hline(y = pass_def_avg, line_color = 'gray', line_dash = 'dash',\n",
    "              annotation_text = 'average passing concesssion',\n",
    "              annotation_position = 'top left', opacity = 0.7)\n",
    "fig.add_vline(x = rush_def_avg, line_color = 'gray', line_dash = 'dash',\n",
    "              annotation_text = 'average rushing concesssion',\n",
    "              annotation_position = 'top left', opacity = 0.7)\n",
    "\n",
    "\n",
    "fig.update_layout(margin=dict(l=30, r=30, t=30, b=30),\n",
    "                    title = 'Defensive Concessions')"
   ]
  },
  {
   "cell_type": "markdown",
   "metadata": {},
   "source": [
    "## To Do 12/6\n",
    "\n",
    "* Defense Scatter\n",
    "* Adjust Scatter\n",
    "* Output over time"
   ]
  },
  {
   "cell_type": "code",
   "execution_count": null,
   "metadata": {},
   "outputs": [],
   "source": []
  }
 ],
 "metadata": {
  "kernelspec": {
   "display_name": "base",
   "language": "python",
   "name": "python3"
  },
  "language_info": {
   "codemirror_mode": {
    "name": "ipython",
    "version": 3
   },
   "file_extension": ".py",
   "mimetype": "text/x-python",
   "name": "python",
   "nbconvert_exporter": "python",
   "pygments_lexer": "ipython3",
   "version": "3.11.6"
  }
 },
 "nbformat": 4,
 "nbformat_minor": 2
}
