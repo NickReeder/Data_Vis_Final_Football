{
 "cells": [
  {
   "cell_type": "code",
   "execution_count": 2,
   "metadata": {},
   "outputs": [
    {
     "name": "stdout",
     "output_type": "stream",
     "text": [
      "Requirement already satisfied: nbformat in c:\\users\\reede\\appdata\\local\\packages\\pythonsoftwarefoundation.python.3.11_qbz5n2kfra8p0\\localcache\\local-packages\\python311\\site-packages (5.9.2)\n",
      "Requirement already satisfied: fastjsonschema in c:\\users\\reede\\appdata\\local\\packages\\pythonsoftwarefoundation.python.3.11_qbz5n2kfra8p0\\localcache\\local-packages\\python311\\site-packages (from nbformat) (2.19.0)\n",
      "Requirement already satisfied: jsonschema>=2.6 in c:\\users\\reede\\appdata\\local\\packages\\pythonsoftwarefoundation.python.3.11_qbz5n2kfra8p0\\localcache\\local-packages\\python311\\site-packages (from nbformat) (4.20.0)\n",
      "Requirement already satisfied: jupyter-core in c:\\users\\reede\\appdata\\local\\packages\\pythonsoftwarefoundation.python.3.11_qbz5n2kfra8p0\\localcache\\local-packages\\python311\\site-packages (from nbformat) (5.5.0)\n",
      "Requirement already satisfied: traitlets>=5.1 in c:\\users\\reede\\appdata\\local\\packages\\pythonsoftwarefoundation.python.3.11_qbz5n2kfra8p0\\localcache\\local-packages\\python311\\site-packages (from nbformat) (5.14.0)\n",
      "Requirement already satisfied: attrs>=22.2.0 in c:\\users\\reede\\appdata\\local\\packages\\pythonsoftwarefoundation.python.3.11_qbz5n2kfra8p0\\localcache\\local-packages\\python311\\site-packages (from jsonschema>=2.6->nbformat) (23.1.0)\n",
      "Requirement already satisfied: jsonschema-specifications>=2023.03.6 in c:\\users\\reede\\appdata\\local\\packages\\pythonsoftwarefoundation.python.3.11_qbz5n2kfra8p0\\localcache\\local-packages\\python311\\site-packages (from jsonschema>=2.6->nbformat) (2023.11.2)\n",
      "Requirement already satisfied: referencing>=0.28.4 in c:\\users\\reede\\appdata\\local\\packages\\pythonsoftwarefoundation.python.3.11_qbz5n2kfra8p0\\localcache\\local-packages\\python311\\site-packages (from jsonschema>=2.6->nbformat) (0.31.1)\n",
      "Requirement already satisfied: rpds-py>=0.7.1 in c:\\users\\reede\\appdata\\local\\packages\\pythonsoftwarefoundation.python.3.11_qbz5n2kfra8p0\\localcache\\local-packages\\python311\\site-packages (from jsonschema>=2.6->nbformat) (0.13.2)\n",
      "Requirement already satisfied: platformdirs>=2.5 in c:\\users\\reede\\appdata\\local\\packages\\pythonsoftwarefoundation.python.3.11_qbz5n2kfra8p0\\localcache\\local-packages\\python311\\site-packages (from jupyter-core->nbformat) (4.0.0)\n",
      "Requirement already satisfied: pywin32>=300 in c:\\users\\reede\\appdata\\local\\packages\\pythonsoftwarefoundation.python.3.11_qbz5n2kfra8p0\\localcache\\local-packages\\python311\\site-packages (from jupyter-core->nbformat) (306)\n",
      "Note: you may need to restart the kernel to use updated packages.\n"
     ]
    },
    {
     "name": "stderr",
     "output_type": "stream",
     "text": [
      "\n",
      "[notice] A new release of pip is available: 23.2.1 -> 23.3.1\n",
      "[notice] To update, run: C:\\Users\\reede\\AppData\\Local\\Microsoft\\WindowsApps\\PythonSoftwareFoundation.Python.3.11_qbz5n2kfra8p0\\python.exe -m pip install --upgrade pip\n"
     ]
    },
    {
     "name": "stdout",
     "output_type": "stream",
     "text": [
      "Note: you may need to restart the kernel to use updated packages.\n"
     ]
    },
    {
     "name": "stderr",
     "output_type": "stream",
     "text": [
      "ERROR: Invalid requirement: '%upgrade'\n",
      "\n",
      "[notice] A new release of pip is available: 23.2.1 -> 23.3.1\n",
      "[notice] To update, run: C:\\Users\\reede\\AppData\\Local\\Microsoft\\WindowsApps\\PythonSoftwareFoundation.Python.3.11_qbz5n2kfra8p0\\python.exe -m pip install --upgrade pip\n"
     ]
    }
   ],
   "source": [
    "try: \n",
    "    import plotly.graph_objects as go\n",
    "except:\n",
    "    %pip install plotly\n",
    "    import plotly.graph_objects as go\n",
    "import pandas as pd\n",
    "import numpy as np\n",
    "import plotly.express as px\n",
    "import plotly.subplots as sp\n",
    "\n",
    "import os\n",
    "import json\n",
    "try:\n",
    "    import seaborn as sns\n",
    "except:\n",
    "    %pip install seaborn\n",
    "    import seaborn as sns\n",
    "\n",
    "%pip install nbformat\n",
    "\n",
    "%pip install %upgrade pip"
   ]
  },
  {
   "cell_type": "code",
   "execution_count": 3,
   "metadata": {},
   "outputs": [],
   "source": [
    "cwd = os.getcwd()\n",
    "os.chdir('C:\\\\Users\\\\reede\\\\OneDrive\\\\Documents\\\\GitHub\\\\Data_Vis_Final_Football\\\\data')\n",
    "#os.chdir('c:\\\\Users\\\\Nick\\\\Dropbox\\\\PC\\\\Documents\\\\GitHub\\\\Data_Vis_Final_Football\\\\data')\n",
    "with open('NFL_Stats.json', 'r') as f:\n",
    "  data = json.load(f)\n",
    "\n",
    "os.chdir('C:\\\\Users\\\\reede\\\\OneDrive\\\\Documents\\\\GitHub\\\\Data_Vis_Final_Football\\\\viz_testing_notebooks')\n",
    "#os.chdir('c:\\\\Users\\\\Nick\\\\Dropbox\\\\PC\\\\Documents\\\\GitHub\\\\Data_Vis_Final_Football\\\\viz_testing_notebooks')\n"
   ]
  },
  {
   "cell_type": "markdown",
   "metadata": {},
   "source": []
  },
  {
   "cell_type": "code",
   "execution_count": 4,
   "metadata": {},
   "outputs": [
    {
     "name": "stdout",
     "output_type": "stream",
     "text": [
      "dict_keys(['rush_off_general', 'rush_def_general', 'pass_off_general', 'pass_def_general', 'rush_off_by_team', 'rush_def_by_team', 'pass_off_by_team', 'pass_def_by_team'])\n"
     ]
    }
   ],
   "source": [
    "print(data['BLT'].keys())"
   ]
  },
  {
   "cell_type": "markdown",
   "metadata": {},
   "source": [
    "### Looking at the league overall\n",
    "\n",
    "# Two scatter plots consisting of a team offensive and defensive efficencies"
   ]
  },
  {
   "cell_type": "code",
   "execution_count": 5,
   "metadata": {},
   "outputs": [
    {
     "data": {
      "text/plain": [
       "dict_keys(['BLT', 'DEN', 'NE', 'BUF', 'CAR', 'SEA', 'CHI', 'CIN', 'CLV', 'MIA', 'DET', 'MIN', 'OAK', 'IND', 'KC', 'JAX', 'ATL', 'NO', 'TB', 'NYJ', 'PIT', 'TEN', 'GB', 'SF', 'SL', 'ARZ', 'DAL', 'NYG', 'PHI', 'WAS', 'SD', 'HST', 'LA', 'LAC', 'LV'])"
      ]
     },
     "execution_count": 5,
     "metadata": {},
     "output_type": "execute_result"
    }
   ],
   "source": [
    "data.keys()"
   ]
  },
  {
   "cell_type": "code",
   "execution_count": 57,
   "metadata": {},
   "outputs": [],
   "source": [
    "AFC_E = ['NE', 'BUF', 'MIA', 'NYJ']\n",
    "AFC_W = ['DEN', 'OAK', 'KC', 'LAC', 'SD', 'LV']\n",
    "AFC_N = ['BLT', 'CIN', 'CLV', 'PIT'] \n",
    "AFC_S = ['IND', 'JAX', 'TEN', 'HST']\n",
    "\n",
    "NFC_E = ['PHI', 'WAS', 'DAL', 'NYG']\n",
    "NFC_W = ['SEA', 'LA', 'SF', 'ARZ', 'SL']\n",
    "NFC_N = ['CHI', 'DET', 'MIN', 'GB']\n",
    "NFC_S = ['CAR', 'ATL', 'TB', 'NO']\n",
    "\n",
    "afc = AFC_E + AFC_N + AFC_S + AFC_W\n",
    "nfc = NFC_E +NFC_N + NFC_S + NFC_W"
   ]
  },
  {
   "cell_type": "code",
   "execution_count": 58,
   "metadata": {},
   "outputs": [],
   "source": [
    "team_code_dict = {\n",
    "'ARZ':\t'Arizona Cardinals',\n",
    "'ATL':\t'Atlanta Falcons',\n",
    "'BLT':\t'Baltimore Ravens',\n",
    "'BUF':\t'Buffalo Bills',\n",
    "'CAR':\t'Carolina Panthers',\n",
    "'CHI':\t'Chicago Bears',\n",
    "'CIN':\t'Cincinnati Bengals',\n",
    "'CLV':\t'Cleveland Browns',\n",
    "'DAL':\t'Dallas Cowboys',\n",
    "'DEN':\t'Denver Broncos',\n",
    "'DET':\t'Detroit Lions',\n",
    "'GB':\t'Green Bay Packers',\n",
    "'HST':\t'Houston Texans',\n",
    "'IND':\t'Indianapolis Colts',\n",
    "'JAX':\t'Jacksonville Jaguars',\n",
    "'KC':\t'Kansas City Chiefs',\n",
    "'LV':\t'Las Vegas Raiders',\n",
    "'LAC':\t'Los Angeles Chargers',\n",
    "'LA':\t'Los Angeles Rams',\n",
    "'MIA':\t'Miami Dolphins',\n",
    "'MIN':\t'Minnesota Vikings',\n",
    "'NE':\t'New England Patriots',\n",
    "'NO':\t'New Orleans Saints',\n",
    "'NYG':\t'New York Giants',\n",
    "'NYJ':\t'New York Jets',\n",
    "'PHI':\t'Philadelphia Eagles',\n",
    "'PIT':\t'Pittsburgh Steelers',\n",
    "'SF':\t'San Francisco 49ers',\n",
    "'SEA':\t'Seattle Seahawks',\n",
    "'TB':\t'Tampa Bay Buccaneers',\n",
    "'TEN':'Tennessee Titans',\n",
    "'WAS':\t'Washington Commanders'\n",
    "}"
   ]
  },
  {
   "cell_type": "code",
   "execution_count": 59,
   "metadata": {},
   "outputs": [
    {
     "ename": "KeyError",
     "evalue": "'OAK'",
     "output_type": "error",
     "traceback": [
      "\u001b[1;31m---------------------------------------------------------------------------\u001b[0m",
      "\u001b[1;31mKeyError\u001b[0m                                  Traceback (most recent call last)",
      "Cell \u001b[1;32mIn[59], line 5\u001b[0m\n\u001b[0;32m      3\u001b[0m full_name \u001b[38;5;241m=\u001b[39m []\n\u001b[0;32m      4\u001b[0m \u001b[38;5;28;01mfor\u001b[39;00m team \u001b[38;5;129;01min\u001b[39;00m data\u001b[38;5;241m.\u001b[39mkeys():\n\u001b[1;32m----> 5\u001b[0m     full_name\u001b[38;5;241m.\u001b[39mappend(\u001b[43mteam_code_dict\u001b[49m\u001b[43m[\u001b[49m\u001b[43mteam\u001b[49m\u001b[43m]\u001b[49m)\n\u001b[0;32m      6\u001b[0m     \u001b[38;5;28;01mif\u001b[39;00m team \u001b[38;5;129;01min\u001b[39;00m AFC_E:\n\u001b[0;32m      7\u001b[0m         divs\u001b[38;5;241m.\u001b[39mappend(\u001b[38;5;124m'\u001b[39m\u001b[38;5;124mAFC East\u001b[39m\u001b[38;5;124m'\u001b[39m)\n",
      "\u001b[1;31mKeyError\u001b[0m: 'OAK'"
     ]
    }
   ],
   "source": [
    "divs = []\n",
    "symbol = []\n",
    "full_name = []\n",
    "for team in data.keys():\n",
    "    full_name.append(team_code_dict[team])\n",
    "    if team in AFC_E:\n",
    "        divs.append('AFC East')\n",
    "        symbol.append('circle')\n",
    "    elif team in AFC_N:\n",
    "        divs.append('AFC North')\n",
    "        symbol.append('circle')\n",
    "    elif team in AFC_S:\n",
    "        divs.append('AFC South')\n",
    "        symbol.append('circle')\n",
    "    elif team in AFC_W:\n",
    "        divs.append('AFC West')\n",
    "        symbol.append('circle')\n",
    "    elif team in NFC_E:\n",
    "        divs.append('NFC East')\n",
    "        symbol.append('diamond')\n",
    "    elif team in NFC_N:\n",
    "        divs.append('NFC North')\n",
    "        symbol.append('diamond')\n",
    "    elif team in NFC_S:\n",
    "        divs.append('NFC South')\n",
    "        symbol.append('diamond')\n",
    "    elif team in NFC_W:\n",
    "        symbol.append('diamond')\n",
    "        divs.append('NFC West')\n",
    "    else:\n",
    "        print(team)"
   ]
  },
  {
   "cell_type": "code",
   "execution_count": 56,
   "metadata": {},
   "outputs": [],
   "source": []
  },
  {
   "cell_type": "code",
   "execution_count": 38,
   "metadata": {},
   "outputs": [],
   "source": [
    "rush_off = []\n",
    "rush_def = []\n",
    "pass_off = []\n",
    "pass_def = []\n",
    "for team in data.keys():\n",
    "    rush_off.append(data[team]['rush_off_general']['avg_yard'])\n",
    "    rush_def.append(data[team]['rush_def_general']['avg_yards_conceded'])\n",
    "    pass_off.append(data[team]['pass_off_general']['avg_yard'])\n",
    "    pass_def.append(data[team]['pass_def_general']['avg_yards_conceded'])\n",
    "\n",
    "plotting_data = pd.DataFrame(columns=['team', 'rush_off', 'rush_def', 'pass_off', 'pass_def', 'Divs'])\n",
    "\n",
    "plotting_data['team'] = data.keys()\n",
    "plotting_data['rush_off'] = [float(x) for x in rush_off]\n",
    "plotting_data['rush_def'] = [float(x) for x in rush_def]\n",
    "plotting_data['pass_off'] = [float(x) for x in pass_off]\n",
    "plotting_data['pass_def'] = [float(x) for x in pass_def]\n",
    "plotting_data['Divs'] = divs\n",
    "plotting_data['Symbol'] = symbol\n",
    "\n",
    "\n"
   ]
  },
  {
   "cell_type": "code",
   "execution_count": 40,
   "metadata": {},
   "outputs": [],
   "source": [
    "plotting_data.sort_values(by=['Divs'], inplace= True)\n",
    "plotting_data.reset_index(inplace = True, drop = True)"
   ]
  },
  {
   "cell_type": "markdown",
   "metadata": {},
   "source": []
  },
  {
   "cell_type": "code",
   "execution_count": 20,
   "metadata": {},
   "outputs": [],
   "source": [
    "rush_off_avg = np.mean(plotting_data['rush_off'])\n",
    "rush_def_avg = np.mean(plotting_data['rush_def'])\n",
    "pass_off_avg = np.mean(plotting_data['pass_off'])\n",
    "pass_def_avg = np.mean(plotting_data['pass_def'])\n",
    "\n",
    "offense_groups = []\n",
    "defense_groups = []\n",
    "for index, row in plotting_data.iterrows():\n",
    "    if row['rush_off'] > rush_off_avg and row['pass_off'] > pass_off_avg: #Both above average\n",
    "        offense_groups.append('Both above average')\n",
    "    elif row['rush_off'] > rush_off_avg: #Only rush offense is above average\n",
    "        offense_groups.append('Rushing above average')\n",
    "    elif row['pass_off'] > pass_off_avg: #Only pass offense is above average\n",
    "        offense_groups.append('Passing above average')\n",
    "    else: #Both are below average\n",
    "        offense_groups.append('Both below average')\n",
    "\n",
    "    if row['rush_def'] > rush_def_avg and row['pass_def'] > pass_def_avg: #Both above average\n",
    "        defense_groups.append('Both above average')\n",
    "    elif row['rush_def'] > rush_def_avg: #Only rush offense is above average\n",
    "        defense_groups.append('Rushing above average')\n",
    "    elif row['pass_def'] > pass_def_avg: #Only pass offense is above average\n",
    "        defense_groups.append('Passing above average')\n",
    "    else: #Both are below average\n",
    "        defense_groups.append('Both below average')\n",
    "\n",
    "\n",
    "plotting_data['offense_groups'] = offense_groups\n",
    "plotting_data['defense_groups'] = defense_groups\n",
    "    \n",
    "\n"
   ]
  },
  {
   "cell_type": "code",
   "execution_count": 55,
   "metadata": {},
   "outputs": [
    {
     "data": {
      "application/vnd.plotly.v1+json": {
       "config": {
        "plotlyServerURL": "https://plot.ly"
       },
       "data": [
        {
         "customdata": [
          [
           "NE",
           6.584,
           16.406,
           "AFC East",
           "circle"
          ],
          [
           "BUF",
           6.915,
           16.03,
           "AFC East",
           "circle"
          ],
          [
           "MIA",
           6.767,
           17.25,
           "AFC East",
           "circle"
          ],
          [
           "NYJ",
           6.126,
           16.663,
           "AFC East",
           "circle"
          ]
         ],
         "hovertemplate": "Division=%{customdata[3]}<br>Rushing Output=%{x}<br>Passing Output=%{y}<br>Team Code=%{customdata[0]}<extra></extra>",
         "legendgroup": "AFC East, circle",
         "marker": {
          "color": "#ff0000",
          "size": 8,
          "symbol": "circle"
         },
         "mode": "markers",
         "name": "AFC East, circle",
         "orientation": "v",
         "showlegend": true,
         "type": "scatter",
         "x": [
          6.521,
          6.526,
          6.552,
          6.497
         ],
         "xaxis": "x",
         "y": [
          16.921,
          16.119,
          15.948,
          16.567
         ],
         "yaxis": "y"
        },
        {
         "customdata": [
          [
           "BLT",
           6.167,
           16.426,
           "AFC North",
           "circle"
          ],
          [
           "PIT",
           6.535,
           16.52,
           "AFC North",
           "circle"
          ],
          [
           "CIN",
           6.914,
           16.419,
           "AFC North",
           "circle"
          ],
          [
           "CLV",
           6.797,
           16.493,
           "AFC North",
           "circle"
          ]
         ],
         "hovertemplate": "Division=%{customdata[3]}<br>Rushing Output=%{x}<br>Passing Output=%{y}<br>Team Code=%{customdata[0]}<extra></extra>",
         "legendgroup": "AFC North, circle",
         "marker": {
          "color": "#0000ff",
          "size": 8,
          "symbol": "circle"
         },
         "mode": "markers",
         "name": "AFC North, circle",
         "orientation": "v",
         "showlegend": true,
         "type": "scatter",
         "x": [
          6.848,
          6.415,
          6.31,
          7.219
         ],
         "xaxis": "x",
         "y": [
          15.508,
          16.214,
          16.733,
          16.854
         ],
         "yaxis": "y"
        },
        {
         "customdata": [
          [
           "HST",
           6.933,
           16.979,
           "AFC South",
           "circle"
          ],
          [
           "TEN",
           6.318,
           16.482,
           "AFC South",
           "circle"
          ],
          [
           "JAX",
           6.545,
           16.65,
           "AFC South",
           "circle"
          ],
          [
           "IND",
           6.454,
           16.614,
           "AFC South",
           "circle"
          ]
         ],
         "hovertemplate": "Division=%{customdata[3]}<br>Rushing Output=%{x}<br>Passing Output=%{y}<br>Team Code=%{customdata[0]}<extra></extra>",
         "legendgroup": "AFC South, circle",
         "marker": {
          "color": "#00802b",
          "size": 8,
          "symbol": "circle"
         },
         "mode": "markers",
         "name": "AFC South, circle",
         "orientation": "v",
         "showlegend": true,
         "type": "scatter",
         "x": [
          6.192,
          7.133,
          6.486,
          6.516
         ],
         "xaxis": "x",
         "y": [
          16.017,
          16.717,
          16.136,
          16.371
         ],
         "yaxis": "y"
        },
        {
         "customdata": [
          [
           "SD",
           6.454,
           17.64,
           "AFC West",
           "circle"
          ],
          [
           "LAC",
           7.529,
           16,
           "AFC West",
           "circle"
          ],
          [
           "LV",
           7.11,
           15.763,
           "AFC West",
           "circle"
          ],
          [
           "OAK",
           6.374,
           17.862,
           "AFC West",
           "circle"
          ],
          [
           "DEN",
           6.269,
           16.229,
           "AFC West",
           "circle"
          ],
          [
           "KC",
           6.98,
           16.736,
           "AFC West",
           "circle"
          ]
         ],
         "hovertemplate": "Division=%{customdata[3]}<br>Rushing Output=%{x}<br>Passing Output=%{y}<br>Team Code=%{customdata[0]}<extra></extra>",
         "legendgroup": "AFC West, circle",
         "marker": {
          "color": "#cc7a00",
          "size": 8,
          "symbol": "circle"
         },
         "mode": "markers",
         "name": "AFC West, circle",
         "orientation": "v",
         "showlegend": true,
         "type": "scatter",
         "x": [
          5.886,
          6.548,
          7.19,
          6.674,
          6.592,
          6.684
         ],
         "xaxis": "x",
         "y": [
          17.231,
          17.03,
          16.939,
          16.211,
          16.505,
          17.701
         ],
         "yaxis": "y"
        },
        {
         "customdata": [
          [
           "WAS",
           6.74,
           16.872,
           "NFC East",
           "diamond"
          ],
          [
           "PHI",
           6.608,
           16.666,
           "NFC East",
           "diamond"
          ],
          [
           "NYG",
           6.589,
           16.765,
           "NFC East",
           "diamond"
          ],
          [
           "DAL",
           6.78,
           16.594,
           "NFC East",
           "diamond"
          ]
         ],
         "hovertemplate": "Division=%{customdata[3]}<br>Rushing Output=%{x}<br>Passing Output=%{y}<br>Team Code=%{customdata[0]}<extra></extra>",
         "legendgroup": "NFC East, diamond",
         "marker": {
          "color": "#ff0000",
          "size": 8,
          "symbol": "diamond"
         },
         "mode": "markers",
         "name": "NFC East, diamond",
         "orientation": "v",
         "showlegend": true,
         "type": "scatter",
         "x": [
          6.593,
          6.725,
          6.452,
          7.215
         ],
         "xaxis": "x",
         "y": [
          16.551,
          16.717,
          15.906,
          16.457
         ],
         "yaxis": "y"
        },
        {
         "customdata": [
          [
           "MIN",
           6.571,
           16.397,
           "NFC North",
           "diamond"
          ],
          [
           "DET",
           6.771,
           16.879,
           "NFC North",
           "diamond"
          ],
          [
           "CHI",
           6.689,
           16.482,
           "NFC North",
           "diamond"
          ],
          [
           "GB",
           6.836,
           17.409,
           "NFC North",
           "diamond"
          ]
         ],
         "hovertemplate": "Division=%{customdata[3]}<br>Rushing Output=%{x}<br>Passing Output=%{y}<br>Team Code=%{customdata[0]}<extra></extra>",
         "legendgroup": "NFC North, diamond",
         "marker": {
          "color": "#0000ff",
          "size": 8,
          "symbol": "diamond"
         },
         "mode": "markers",
         "name": "NFC North, diamond",
         "orientation": "v",
         "showlegend": true,
         "type": "scatter",
         "x": [
          6.801,
          6.339,
          6.456,
          6.951
         ],
         "xaxis": "x",
         "y": [
          16.148,
          16.998,
          15.743,
          17.113
         ],
         "yaxis": "y"
        },
        {
         "customdata": [
          [
           "CAR",
           6.829,
           15.842,
           "NFC South",
           "diamond"
          ],
          [
           "NO",
           6.557,
           16.957,
           "NFC South",
           "diamond"
          ],
          [
           "TB",
           6.39,
           15.924,
           "NFC South",
           "diamond"
          ],
          [
           "ATL",
           6.806,
           16.462,
           "NFC South",
           "diamond"
          ]
         ],
         "hovertemplate": "Division=%{customdata[3]}<br>Rushing Output=%{x}<br>Passing Output=%{y}<br>Team Code=%{customdata[0]}<extra></extra>",
         "legendgroup": "NFC South, diamond",
         "marker": {
          "color": "#00802b",
          "size": 8,
          "symbol": "diamond"
         },
         "mode": "markers",
         "name": "NFC South, diamond",
         "orientation": "v",
         "showlegend": true,
         "type": "scatter",
         "x": [
          6.598,
          6.74,
          6.327,
          6.511
         ],
         "xaxis": "x",
         "y": [
          16.896,
          16.41,
          16.488,
          16.275
         ],
         "yaxis": "y"
        },
        {
         "customdata": [
          [
           "SF",
           6.253,
           16.078,
           "NFC West",
           "diamond"
          ],
          [
           "SEA",
           6.272,
           16.078,
           "NFC West",
           "diamond"
          ],
          [
           "LA",
           6.707,
           16.288,
           "NFC West",
           "diamond"
          ],
          [
           "ARZ",
           6.722,
           16.618,
           "NFC West",
           "diamond"
          ],
          [
           "SL",
           6.163,
           17.309,
           "NFC West",
           "diamond"
          ]
         ],
         "hovertemplate": "Division=%{customdata[3]}<br>Rushing Output=%{x}<br>Passing Output=%{y}<br>Team Code=%{customdata[0]}<extra></extra>",
         "legendgroup": "NFC West, diamond",
         "marker": {
          "color": "#cc7a00",
          "size": 8,
          "symbol": "diamond"
         },
         "mode": "markers",
         "name": "NFC West, diamond",
         "orientation": "v",
         "showlegend": true,
         "type": "scatter",
         "x": [
          6.718,
          6.986,
          6.618,
          6.219,
          6.451
         ],
         "xaxis": "x",
         "y": [
          18.058,
          17.195,
          17.161,
          16.207,
          16.761
         ],
         "yaxis": "y"
        }
       ],
       "layout": {
        "annotations": [
         {
          "showarrow": false,
          "text": "average passing output",
          "x": 0,
          "xanchor": "left",
          "xref": "x domain",
          "y": 16.59445714285714,
          "yanchor": "bottom",
          "yref": "y"
         },
         {
          "showarrow": false,
          "text": "average rushing output",
          "x": 6.6139714285714275,
          "xanchor": "right",
          "xref": "x",
          "y": 1,
          "yanchor": "top",
          "yref": "y domain"
         }
        ],
        "legend": {
         "title": {
          "text": "Division, Symbol"
         },
         "tracegroupgap": 0
        },
        "margin": {
         "b": 30,
         "l": 30,
         "r": 30,
         "t": 30
        },
        "shapes": [
         {
          "line": {
           "color": "gray",
           "dash": "dash"
          },
          "opacity": 0.7,
          "type": "line",
          "x0": 0,
          "x1": 1,
          "xref": "x domain",
          "y0": 16.59445714285714,
          "y1": 16.59445714285714,
          "yref": "y"
         },
         {
          "line": {
           "color": "gray",
           "dash": "dash"
          },
          "opacity": 0.7,
          "type": "line",
          "x0": 6.6139714285714275,
          "x1": 6.6139714285714275,
          "xref": "x",
          "y0": 0,
          "y1": 1,
          "yref": "y domain"
         }
        ],
        "template": {
         "data": {
          "bar": [
           {
            "error_x": {
             "color": "#2a3f5f"
            },
            "error_y": {
             "color": "#2a3f5f"
            },
            "marker": {
             "line": {
              "color": "white",
              "width": 0.5
             },
             "pattern": {
              "fillmode": "overlay",
              "size": 10,
              "solidity": 0.2
             }
            },
            "type": "bar"
           }
          ],
          "barpolar": [
           {
            "marker": {
             "line": {
              "color": "white",
              "width": 0.5
             },
             "pattern": {
              "fillmode": "overlay",
              "size": 10,
              "solidity": 0.2
             }
            },
            "type": "barpolar"
           }
          ],
          "carpet": [
           {
            "aaxis": {
             "endlinecolor": "#2a3f5f",
             "gridcolor": "#C8D4E3",
             "linecolor": "#C8D4E3",
             "minorgridcolor": "#C8D4E3",
             "startlinecolor": "#2a3f5f"
            },
            "baxis": {
             "endlinecolor": "#2a3f5f",
             "gridcolor": "#C8D4E3",
             "linecolor": "#C8D4E3",
             "minorgridcolor": "#C8D4E3",
             "startlinecolor": "#2a3f5f"
            },
            "type": "carpet"
           }
          ],
          "choropleth": [
           {
            "colorbar": {
             "outlinewidth": 0,
             "ticks": ""
            },
            "type": "choropleth"
           }
          ],
          "contour": [
           {
            "colorbar": {
             "outlinewidth": 0,
             "ticks": ""
            },
            "colorscale": [
             [
              0,
              "#0d0887"
             ],
             [
              0.1111111111111111,
              "#46039f"
             ],
             [
              0.2222222222222222,
              "#7201a8"
             ],
             [
              0.3333333333333333,
              "#9c179e"
             ],
             [
              0.4444444444444444,
              "#bd3786"
             ],
             [
              0.5555555555555556,
              "#d8576b"
             ],
             [
              0.6666666666666666,
              "#ed7953"
             ],
             [
              0.7777777777777778,
              "#fb9f3a"
             ],
             [
              0.8888888888888888,
              "#fdca26"
             ],
             [
              1,
              "#f0f921"
             ]
            ],
            "type": "contour"
           }
          ],
          "contourcarpet": [
           {
            "colorbar": {
             "outlinewidth": 0,
             "ticks": ""
            },
            "type": "contourcarpet"
           }
          ],
          "heatmap": [
           {
            "colorbar": {
             "outlinewidth": 0,
             "ticks": ""
            },
            "colorscale": [
             [
              0,
              "#0d0887"
             ],
             [
              0.1111111111111111,
              "#46039f"
             ],
             [
              0.2222222222222222,
              "#7201a8"
             ],
             [
              0.3333333333333333,
              "#9c179e"
             ],
             [
              0.4444444444444444,
              "#bd3786"
             ],
             [
              0.5555555555555556,
              "#d8576b"
             ],
             [
              0.6666666666666666,
              "#ed7953"
             ],
             [
              0.7777777777777778,
              "#fb9f3a"
             ],
             [
              0.8888888888888888,
              "#fdca26"
             ],
             [
              1,
              "#f0f921"
             ]
            ],
            "type": "heatmap"
           }
          ],
          "heatmapgl": [
           {
            "colorbar": {
             "outlinewidth": 0,
             "ticks": ""
            },
            "colorscale": [
             [
              0,
              "#0d0887"
             ],
             [
              0.1111111111111111,
              "#46039f"
             ],
             [
              0.2222222222222222,
              "#7201a8"
             ],
             [
              0.3333333333333333,
              "#9c179e"
             ],
             [
              0.4444444444444444,
              "#bd3786"
             ],
             [
              0.5555555555555556,
              "#d8576b"
             ],
             [
              0.6666666666666666,
              "#ed7953"
             ],
             [
              0.7777777777777778,
              "#fb9f3a"
             ],
             [
              0.8888888888888888,
              "#fdca26"
             ],
             [
              1,
              "#f0f921"
             ]
            ],
            "type": "heatmapgl"
           }
          ],
          "histogram": [
           {
            "marker": {
             "pattern": {
              "fillmode": "overlay",
              "size": 10,
              "solidity": 0.2
             }
            },
            "type": "histogram"
           }
          ],
          "histogram2d": [
           {
            "colorbar": {
             "outlinewidth": 0,
             "ticks": ""
            },
            "colorscale": [
             [
              0,
              "#0d0887"
             ],
             [
              0.1111111111111111,
              "#46039f"
             ],
             [
              0.2222222222222222,
              "#7201a8"
             ],
             [
              0.3333333333333333,
              "#9c179e"
             ],
             [
              0.4444444444444444,
              "#bd3786"
             ],
             [
              0.5555555555555556,
              "#d8576b"
             ],
             [
              0.6666666666666666,
              "#ed7953"
             ],
             [
              0.7777777777777778,
              "#fb9f3a"
             ],
             [
              0.8888888888888888,
              "#fdca26"
             ],
             [
              1,
              "#f0f921"
             ]
            ],
            "type": "histogram2d"
           }
          ],
          "histogram2dcontour": [
           {
            "colorbar": {
             "outlinewidth": 0,
             "ticks": ""
            },
            "colorscale": [
             [
              0,
              "#0d0887"
             ],
             [
              0.1111111111111111,
              "#46039f"
             ],
             [
              0.2222222222222222,
              "#7201a8"
             ],
             [
              0.3333333333333333,
              "#9c179e"
             ],
             [
              0.4444444444444444,
              "#bd3786"
             ],
             [
              0.5555555555555556,
              "#d8576b"
             ],
             [
              0.6666666666666666,
              "#ed7953"
             ],
             [
              0.7777777777777778,
              "#fb9f3a"
             ],
             [
              0.8888888888888888,
              "#fdca26"
             ],
             [
              1,
              "#f0f921"
             ]
            ],
            "type": "histogram2dcontour"
           }
          ],
          "mesh3d": [
           {
            "colorbar": {
             "outlinewidth": 0,
             "ticks": ""
            },
            "type": "mesh3d"
           }
          ],
          "parcoords": [
           {
            "line": {
             "colorbar": {
              "outlinewidth": 0,
              "ticks": ""
             }
            },
            "type": "parcoords"
           }
          ],
          "pie": [
           {
            "automargin": true,
            "type": "pie"
           }
          ],
          "scatter": [
           {
            "fillpattern": {
             "fillmode": "overlay",
             "size": 10,
             "solidity": 0.2
            },
            "type": "scatter"
           }
          ],
          "scatter3d": [
           {
            "line": {
             "colorbar": {
              "outlinewidth": 0,
              "ticks": ""
             }
            },
            "marker": {
             "colorbar": {
              "outlinewidth": 0,
              "ticks": ""
             }
            },
            "type": "scatter3d"
           }
          ],
          "scattercarpet": [
           {
            "marker": {
             "colorbar": {
              "outlinewidth": 0,
              "ticks": ""
             }
            },
            "type": "scattercarpet"
           }
          ],
          "scattergeo": [
           {
            "marker": {
             "colorbar": {
              "outlinewidth": 0,
              "ticks": ""
             }
            },
            "type": "scattergeo"
           }
          ],
          "scattergl": [
           {
            "marker": {
             "colorbar": {
              "outlinewidth": 0,
              "ticks": ""
             }
            },
            "type": "scattergl"
           }
          ],
          "scattermapbox": [
           {
            "marker": {
             "colorbar": {
              "outlinewidth": 0,
              "ticks": ""
             }
            },
            "type": "scattermapbox"
           }
          ],
          "scatterpolar": [
           {
            "marker": {
             "colorbar": {
              "outlinewidth": 0,
              "ticks": ""
             }
            },
            "type": "scatterpolar"
           }
          ],
          "scatterpolargl": [
           {
            "marker": {
             "colorbar": {
              "outlinewidth": 0,
              "ticks": ""
             }
            },
            "type": "scatterpolargl"
           }
          ],
          "scatterternary": [
           {
            "marker": {
             "colorbar": {
              "outlinewidth": 0,
              "ticks": ""
             }
            },
            "type": "scatterternary"
           }
          ],
          "surface": [
           {
            "colorbar": {
             "outlinewidth": 0,
             "ticks": ""
            },
            "colorscale": [
             [
              0,
              "#0d0887"
             ],
             [
              0.1111111111111111,
              "#46039f"
             ],
             [
              0.2222222222222222,
              "#7201a8"
             ],
             [
              0.3333333333333333,
              "#9c179e"
             ],
             [
              0.4444444444444444,
              "#bd3786"
             ],
             [
              0.5555555555555556,
              "#d8576b"
             ],
             [
              0.6666666666666666,
              "#ed7953"
             ],
             [
              0.7777777777777778,
              "#fb9f3a"
             ],
             [
              0.8888888888888888,
              "#fdca26"
             ],
             [
              1,
              "#f0f921"
             ]
            ],
            "type": "surface"
           }
          ],
          "table": [
           {
            "cells": {
             "fill": {
              "color": "#EBF0F8"
             },
             "line": {
              "color": "white"
             }
            },
            "header": {
             "fill": {
              "color": "#C8D4E3"
             },
             "line": {
              "color": "white"
             }
            },
            "type": "table"
           }
          ]
         },
         "layout": {
          "annotationdefaults": {
           "arrowcolor": "#2a3f5f",
           "arrowhead": 0,
           "arrowwidth": 1
          },
          "autotypenumbers": "strict",
          "coloraxis": {
           "colorbar": {
            "outlinewidth": 0,
            "ticks": ""
           }
          },
          "colorscale": {
           "diverging": [
            [
             0,
             "#8e0152"
            ],
            [
             0.1,
             "#c51b7d"
            ],
            [
             0.2,
             "#de77ae"
            ],
            [
             0.3,
             "#f1b6da"
            ],
            [
             0.4,
             "#fde0ef"
            ],
            [
             0.5,
             "#f7f7f7"
            ],
            [
             0.6,
             "#e6f5d0"
            ],
            [
             0.7,
             "#b8e186"
            ],
            [
             0.8,
             "#7fbc41"
            ],
            [
             0.9,
             "#4d9221"
            ],
            [
             1,
             "#276419"
            ]
           ],
           "sequential": [
            [
             0,
             "#0d0887"
            ],
            [
             0.1111111111111111,
             "#46039f"
            ],
            [
             0.2222222222222222,
             "#7201a8"
            ],
            [
             0.3333333333333333,
             "#9c179e"
            ],
            [
             0.4444444444444444,
             "#bd3786"
            ],
            [
             0.5555555555555556,
             "#d8576b"
            ],
            [
             0.6666666666666666,
             "#ed7953"
            ],
            [
             0.7777777777777778,
             "#fb9f3a"
            ],
            [
             0.8888888888888888,
             "#fdca26"
            ],
            [
             1,
             "#f0f921"
            ]
           ],
           "sequentialminus": [
            [
             0,
             "#0d0887"
            ],
            [
             0.1111111111111111,
             "#46039f"
            ],
            [
             0.2222222222222222,
             "#7201a8"
            ],
            [
             0.3333333333333333,
             "#9c179e"
            ],
            [
             0.4444444444444444,
             "#bd3786"
            ],
            [
             0.5555555555555556,
             "#d8576b"
            ],
            [
             0.6666666666666666,
             "#ed7953"
            ],
            [
             0.7777777777777778,
             "#fb9f3a"
            ],
            [
             0.8888888888888888,
             "#fdca26"
            ],
            [
             1,
             "#f0f921"
            ]
           ]
          },
          "colorway": [
           "#636efa",
           "#EF553B",
           "#00cc96",
           "#ab63fa",
           "#FFA15A",
           "#19d3f3",
           "#FF6692",
           "#B6E880",
           "#FF97FF",
           "#FECB52"
          ],
          "font": {
           "color": "#2a3f5f"
          },
          "geo": {
           "bgcolor": "white",
           "lakecolor": "white",
           "landcolor": "white",
           "showlakes": true,
           "showland": true,
           "subunitcolor": "#C8D4E3"
          },
          "hoverlabel": {
           "align": "left"
          },
          "hovermode": "closest",
          "mapbox": {
           "style": "light"
          },
          "paper_bgcolor": "white",
          "plot_bgcolor": "white",
          "polar": {
           "angularaxis": {
            "gridcolor": "#EBF0F8",
            "linecolor": "#EBF0F8",
            "ticks": ""
           },
           "bgcolor": "white",
           "radialaxis": {
            "gridcolor": "#EBF0F8",
            "linecolor": "#EBF0F8",
            "ticks": ""
           }
          },
          "scene": {
           "xaxis": {
            "backgroundcolor": "white",
            "gridcolor": "#DFE8F3",
            "gridwidth": 2,
            "linecolor": "#EBF0F8",
            "showbackground": true,
            "ticks": "",
            "zerolinecolor": "#EBF0F8"
           },
           "yaxis": {
            "backgroundcolor": "white",
            "gridcolor": "#DFE8F3",
            "gridwidth": 2,
            "linecolor": "#EBF0F8",
            "showbackground": true,
            "ticks": "",
            "zerolinecolor": "#EBF0F8"
           },
           "zaxis": {
            "backgroundcolor": "white",
            "gridcolor": "#DFE8F3",
            "gridwidth": 2,
            "linecolor": "#EBF0F8",
            "showbackground": true,
            "ticks": "",
            "zerolinecolor": "#EBF0F8"
           }
          },
          "shapedefaults": {
           "line": {
            "color": "#2a3f5f"
           }
          },
          "ternary": {
           "aaxis": {
            "gridcolor": "#DFE8F3",
            "linecolor": "#A2B1C6",
            "ticks": ""
           },
           "baxis": {
            "gridcolor": "#DFE8F3",
            "linecolor": "#A2B1C6",
            "ticks": ""
           },
           "bgcolor": "white",
           "caxis": {
            "gridcolor": "#DFE8F3",
            "linecolor": "#A2B1C6",
            "ticks": ""
           }
          },
          "title": {
           "x": 0.05
          },
          "xaxis": {
           "automargin": true,
           "gridcolor": "#EBF0F8",
           "linecolor": "#EBF0F8",
           "ticks": "",
           "title": {
            "standoff": 15
           },
           "zerolinecolor": "#EBF0F8",
           "zerolinewidth": 2
          },
          "yaxis": {
           "automargin": true,
           "gridcolor": "#EBF0F8",
           "linecolor": "#EBF0F8",
           "ticks": "",
           "title": {
            "standoff": 15
           },
           "zerolinecolor": "#EBF0F8",
           "zerolinewidth": 2
          }
         }
        },
        "title": {
         "text": "Offensive output"
        },
        "xaxis": {
         "anchor": "y",
         "domain": [
          0,
          1
         ],
         "title": {
          "text": "Rushing Output"
         }
        },
        "yaxis": {
         "anchor": "x",
         "domain": [
          0,
          1
         ],
         "title": {
          "text": "Passing Output"
         }
        }
       }
      }
     },
     "metadata": {},
     "output_type": "display_data"
    }
   ],
   "source": [
    "sns.set_theme(style = 'white')\n",
    "sns.set_style('ticks')\n",
    "sns.set_style({'font.family':'serif', 'font.serif':['Helvetica']})\n",
    "\n",
    "custom_colors = [\n",
    "                '#ff0000', # AFC E, red\n",
    "                '#0000ff', # AFC N, blue \n",
    "                '#00802b', # AFC S, green\n",
    "                '#cc7a00', # AFC W, orange\n",
    "                \n",
    "                '#ff0000', # NFC E, red\n",
    "                '#0000ff', # NFC N, blue \n",
    "                '#00802b', # NFC S, green\n",
    "                '#cc7a00', # NFC W, orange\n",
    "        \n",
    "                ]\n",
    "\n",
    "\n",
    "\n",
    "\n",
    "fig = px.scatter(plotting_data, x = 'rush_off', y='pass_off',\n",
    "                 color = 'Divs', \n",
    "                 color_discrete_sequence= custom_colors, \n",
    "                 symbol= 'Symbol',\n",
    "                 \n",
    "                 hover_data={\n",
    "                     'team':True,\n",
    "                     'rush_off': True,\n",
    "                     'pass_off': True,\n",
    "                     'rush_def': False,\n",
    "                     'pass_def': False,\n",
    "                     'Divs': True,\n",
    "                     'Symbol' : False\n",
    "                 },\n",
    "                 labels={\n",
    "                     'team': 'Team Code',\n",
    "                     'Divs': 'Division',\n",
    "                     'rush_off': 'Rushing Output',\n",
    "                     'pass_off': 'Passing Output'\n",
    "                 },\n",
    "                 template = 'plotly_white')\n",
    "\n",
    "fig.update_traces(\n",
    "    marker = dict(size = 8)\n",
    ")\n",
    "\n",
    "\n",
    "fig.add_hline(y = pass_off_avg, line_color = 'gray', line_dash = 'dash',\n",
    "              annotation_text = 'average passing output',\n",
    "              annotation_position = 'top left', opacity = 0.7)\n",
    "fig.add_vline(x = rush_off_avg, line_color = 'gray', line_dash = 'dash',\n",
    "              annotation_text = 'average rushing output',\n",
    "              annotation_position = 'top left', opacity = 0.7)\n",
    "\n",
    "\n",
    "fig.update_layout(margin=dict(l=30, r=30, t=30, b=30),\n",
    "                    title = 'Offensive output')"
   ]
  },
  {
   "cell_type": "code",
   "execution_count": 52,
   "metadata": {},
   "outputs": [
    {
     "data": {
      "application/vnd.plotly.v1+json": {
       "config": {
        "plotlyServerURL": "https://plot.ly"
       },
       "data": [
        {
         "customdata": [
          [
           "NE",
           6.521,
           16.921,
           "AFC East",
           "circle"
          ],
          [
           "BUF",
           6.526,
           16.119,
           "AFC East",
           "circle"
          ],
          [
           "MIA",
           6.552,
           15.948,
           "AFC East",
           "circle"
          ],
          [
           "NYJ",
           6.497,
           16.567,
           "AFC East",
           "circle"
          ]
         ],
         "hovertemplate": "Division=%{customdata[3]}<br>Team Code=%{customdata[0]}<br>Rushing Output=%{customdata[1]}<br>Passing Output=%{customdata[2]}<extra></extra>",
         "legendgroup": "AFC East, circle",
         "marker": {
          "color": "#ff0000",
          "size": 8,
          "symbol": "circle"
         },
         "mode": "markers",
         "name": "AFC East, circle",
         "orientation": "v",
         "showlegend": true,
         "type": "scatter",
         "x": [
          6.584,
          6.915,
          6.767,
          6.126
         ],
         "xaxis": "x",
         "y": [
          16.406,
          16.03,
          17.25,
          16.663
         ],
         "yaxis": "y"
        },
        {
         "customdata": [
          [
           "BLT",
           6.848,
           15.508,
           "AFC North",
           "circle"
          ],
          [
           "PIT",
           6.415,
           16.214,
           "AFC North",
           "circle"
          ],
          [
           "CIN",
           6.31,
           16.733,
           "AFC North",
           "circle"
          ],
          [
           "CLV",
           7.219,
           16.854,
           "AFC North",
           "circle"
          ]
         ],
         "hovertemplate": "Division=%{customdata[3]}<br>Team Code=%{customdata[0]}<br>Rushing Output=%{customdata[1]}<br>Passing Output=%{customdata[2]}<extra></extra>",
         "legendgroup": "AFC North, circle",
         "marker": {
          "color": "#0000ff",
          "size": 8,
          "symbol": "circle"
         },
         "mode": "markers",
         "name": "AFC North, circle",
         "orientation": "v",
         "showlegend": true,
         "type": "scatter",
         "x": [
          6.167,
          6.535,
          6.914,
          6.797
         ],
         "xaxis": "x",
         "y": [
          16.426,
          16.52,
          16.419,
          16.493
         ],
         "yaxis": "y"
        },
        {
         "customdata": [
          [
           "HST",
           6.192,
           16.017,
           "AFC South",
           "circle"
          ],
          [
           "TEN",
           7.133,
           16.717,
           "AFC South",
           "circle"
          ],
          [
           "JAX",
           6.486,
           16.136,
           "AFC South",
           "circle"
          ],
          [
           "IND",
           6.516,
           16.371,
           "AFC South",
           "circle"
          ]
         ],
         "hovertemplate": "Division=%{customdata[3]}<br>Team Code=%{customdata[0]}<br>Rushing Output=%{customdata[1]}<br>Passing Output=%{customdata[2]}<extra></extra>",
         "legendgroup": "AFC South, circle",
         "marker": {
          "color": "#00802b",
          "size": 8,
          "symbol": "circle"
         },
         "mode": "markers",
         "name": "AFC South, circle",
         "orientation": "v",
         "showlegend": true,
         "type": "scatter",
         "x": [
          6.933,
          6.318,
          6.545,
          6.454
         ],
         "xaxis": "x",
         "y": [
          16.979,
          16.482,
          16.65,
          16.614
         ],
         "yaxis": "y"
        },
        {
         "customdata": [
          [
           "SD",
           5.886,
           17.231,
           "AFC West",
           "circle"
          ],
          [
           "LAC",
           6.548,
           17.03,
           "AFC West",
           "circle"
          ],
          [
           "LV",
           7.19,
           16.939,
           "AFC West",
           "circle"
          ],
          [
           "OAK",
           6.674,
           16.211,
           "AFC West",
           "circle"
          ],
          [
           "DEN",
           6.592,
           16.505,
           "AFC West",
           "circle"
          ],
          [
           "KC",
           6.684,
           17.701,
           "AFC West",
           "circle"
          ]
         ],
         "hovertemplate": "Division=%{customdata[3]}<br>Team Code=%{customdata[0]}<br>Rushing Output=%{customdata[1]}<br>Passing Output=%{customdata[2]}<extra></extra>",
         "legendgroup": "AFC West, circle",
         "marker": {
          "color": "#cc7a00",
          "size": 8,
          "symbol": "circle"
         },
         "mode": "markers",
         "name": "AFC West, circle",
         "orientation": "v",
         "showlegend": true,
         "type": "scatter",
         "x": [
          6.454,
          7.529,
          7.11,
          6.374,
          6.269,
          6.98
         ],
         "xaxis": "x",
         "y": [
          17.64,
          16,
          15.763,
          17.862,
          16.229,
          16.736
         ],
         "yaxis": "y"
        },
        {
         "customdata": [
          [
           "WAS",
           6.593,
           16.551,
           "NFC East",
           "diamond"
          ],
          [
           "PHI",
           6.725,
           16.717,
           "NFC East",
           "diamond"
          ],
          [
           "NYG",
           6.452,
           15.906,
           "NFC East",
           "diamond"
          ],
          [
           "DAL",
           7.215,
           16.457,
           "NFC East",
           "diamond"
          ]
         ],
         "hovertemplate": "Division=%{customdata[3]}<br>Team Code=%{customdata[0]}<br>Rushing Output=%{customdata[1]}<br>Passing Output=%{customdata[2]}<extra></extra>",
         "legendgroup": "NFC East, diamond",
         "marker": {
          "color": "#ff0000",
          "size": 8,
          "symbol": "diamond"
         },
         "mode": "markers",
         "name": "NFC East, diamond",
         "orientation": "v",
         "showlegend": true,
         "type": "scatter",
         "x": [
          6.74,
          6.608,
          6.589,
          6.78
         ],
         "xaxis": "x",
         "y": [
          16.872,
          16.666,
          16.765,
          16.594
         ],
         "yaxis": "y"
        },
        {
         "customdata": [
          [
           "MIN",
           6.801,
           16.148,
           "NFC North",
           "diamond"
          ],
          [
           "DET",
           6.339,
           16.998,
           "NFC North",
           "diamond"
          ],
          [
           "CHI",
           6.456,
           15.743,
           "NFC North",
           "diamond"
          ],
          [
           "GB",
           6.951,
           17.113,
           "NFC North",
           "diamond"
          ]
         ],
         "hovertemplate": "Division=%{customdata[3]}<br>Team Code=%{customdata[0]}<br>Rushing Output=%{customdata[1]}<br>Passing Output=%{customdata[2]}<extra></extra>",
         "legendgroup": "NFC North, diamond",
         "marker": {
          "color": "#0000ff",
          "size": 8,
          "symbol": "diamond"
         },
         "mode": "markers",
         "name": "NFC North, diamond",
         "orientation": "v",
         "showlegend": true,
         "type": "scatter",
         "x": [
          6.571,
          6.771,
          6.689,
          6.836
         ],
         "xaxis": "x",
         "y": [
          16.397,
          16.879,
          16.482,
          17.409
         ],
         "yaxis": "y"
        },
        {
         "customdata": [
          [
           "CAR",
           6.598,
           16.896,
           "NFC South",
           "diamond"
          ],
          [
           "NO",
           6.74,
           16.41,
           "NFC South",
           "diamond"
          ],
          [
           "TB",
           6.327,
           16.488,
           "NFC South",
           "diamond"
          ],
          [
           "ATL",
           6.511,
           16.275,
           "NFC South",
           "diamond"
          ]
         ],
         "hovertemplate": "Division=%{customdata[3]}<br>Team Code=%{customdata[0]}<br>Rushing Output=%{customdata[1]}<br>Passing Output=%{customdata[2]}<extra></extra>",
         "legendgroup": "NFC South, diamond",
         "marker": {
          "color": "#00802b",
          "size": 8,
          "symbol": "diamond"
         },
         "mode": "markers",
         "name": "NFC South, diamond",
         "orientation": "v",
         "showlegend": true,
         "type": "scatter",
         "x": [
          6.829,
          6.557,
          6.39,
          6.806
         ],
         "xaxis": "x",
         "y": [
          15.842,
          16.957,
          15.924,
          16.462
         ],
         "yaxis": "y"
        },
        {
         "customdata": [
          [
           "SF",
           6.718,
           18.058,
           "NFC West",
           "diamond"
          ],
          [
           "SEA",
           6.986,
           17.195,
           "NFC West",
           "diamond"
          ],
          [
           "LA",
           6.618,
           17.161,
           "NFC West",
           "diamond"
          ],
          [
           "ARZ",
           6.219,
           16.207,
           "NFC West",
           "diamond"
          ],
          [
           "SL",
           6.451,
           16.761,
           "NFC West",
           "diamond"
          ]
         ],
         "hovertemplate": "Division=%{customdata[3]}<br>Team Code=%{customdata[0]}<br>Rushing Output=%{customdata[1]}<br>Passing Output=%{customdata[2]}<extra></extra>",
         "legendgroup": "NFC West, diamond",
         "marker": {
          "color": "#cc7a00",
          "size": 8,
          "symbol": "diamond"
         },
         "mode": "markers",
         "name": "NFC West, diamond",
         "orientation": "v",
         "showlegend": true,
         "type": "scatter",
         "x": [
          6.253,
          6.272,
          6.707,
          6.722,
          6.163
         ],
         "xaxis": "x",
         "y": [
          16.078,
          16.078,
          16.288,
          16.618,
          17.309
         ],
         "yaxis": "y"
        }
       ],
       "layout": {
        "annotations": [
         {
          "showarrow": false,
          "text": "average passing concesssion",
          "x": 0,
          "xanchor": "left",
          "xref": "x domain",
          "y": 16.59377142857143,
          "yanchor": "bottom",
          "yref": "y"
         },
         {
          "showarrow": false,
          "text": "average rushing concesssion",
          "x": 6.630114285714287,
          "xanchor": "right",
          "xref": "x",
          "y": 1,
          "yanchor": "top",
          "yref": "y domain"
         }
        ],
        "legend": {
         "title": {
          "text": "Division, Symbol"
         },
         "tracegroupgap": 0
        },
        "margin": {
         "b": 30,
         "l": 30,
         "r": 30,
         "t": 30
        },
        "shapes": [
         {
          "line": {
           "color": "gray",
           "dash": "dash"
          },
          "opacity": 0.7,
          "type": "line",
          "x0": 0,
          "x1": 1,
          "xref": "x domain",
          "y0": 16.59377142857143,
          "y1": 16.59377142857143,
          "yref": "y"
         },
         {
          "line": {
           "color": "gray",
           "dash": "dash"
          },
          "opacity": 0.7,
          "type": "line",
          "x0": 6.630114285714287,
          "x1": 6.630114285714287,
          "xref": "x",
          "y0": 0,
          "y1": 1,
          "yref": "y domain"
         }
        ],
        "template": {
         "data": {
          "bar": [
           {
            "error_x": {
             "color": "#2a3f5f"
            },
            "error_y": {
             "color": "#2a3f5f"
            },
            "marker": {
             "line": {
              "color": "white",
              "width": 0.5
             },
             "pattern": {
              "fillmode": "overlay",
              "size": 10,
              "solidity": 0.2
             }
            },
            "type": "bar"
           }
          ],
          "barpolar": [
           {
            "marker": {
             "line": {
              "color": "white",
              "width": 0.5
             },
             "pattern": {
              "fillmode": "overlay",
              "size": 10,
              "solidity": 0.2
             }
            },
            "type": "barpolar"
           }
          ],
          "carpet": [
           {
            "aaxis": {
             "endlinecolor": "#2a3f5f",
             "gridcolor": "#C8D4E3",
             "linecolor": "#C8D4E3",
             "minorgridcolor": "#C8D4E3",
             "startlinecolor": "#2a3f5f"
            },
            "baxis": {
             "endlinecolor": "#2a3f5f",
             "gridcolor": "#C8D4E3",
             "linecolor": "#C8D4E3",
             "minorgridcolor": "#C8D4E3",
             "startlinecolor": "#2a3f5f"
            },
            "type": "carpet"
           }
          ],
          "choropleth": [
           {
            "colorbar": {
             "outlinewidth": 0,
             "ticks": ""
            },
            "type": "choropleth"
           }
          ],
          "contour": [
           {
            "colorbar": {
             "outlinewidth": 0,
             "ticks": ""
            },
            "colorscale": [
             [
              0,
              "#0d0887"
             ],
             [
              0.1111111111111111,
              "#46039f"
             ],
             [
              0.2222222222222222,
              "#7201a8"
             ],
             [
              0.3333333333333333,
              "#9c179e"
             ],
             [
              0.4444444444444444,
              "#bd3786"
             ],
             [
              0.5555555555555556,
              "#d8576b"
             ],
             [
              0.6666666666666666,
              "#ed7953"
             ],
             [
              0.7777777777777778,
              "#fb9f3a"
             ],
             [
              0.8888888888888888,
              "#fdca26"
             ],
             [
              1,
              "#f0f921"
             ]
            ],
            "type": "contour"
           }
          ],
          "contourcarpet": [
           {
            "colorbar": {
             "outlinewidth": 0,
             "ticks": ""
            },
            "type": "contourcarpet"
           }
          ],
          "heatmap": [
           {
            "colorbar": {
             "outlinewidth": 0,
             "ticks": ""
            },
            "colorscale": [
             [
              0,
              "#0d0887"
             ],
             [
              0.1111111111111111,
              "#46039f"
             ],
             [
              0.2222222222222222,
              "#7201a8"
             ],
             [
              0.3333333333333333,
              "#9c179e"
             ],
             [
              0.4444444444444444,
              "#bd3786"
             ],
             [
              0.5555555555555556,
              "#d8576b"
             ],
             [
              0.6666666666666666,
              "#ed7953"
             ],
             [
              0.7777777777777778,
              "#fb9f3a"
             ],
             [
              0.8888888888888888,
              "#fdca26"
             ],
             [
              1,
              "#f0f921"
             ]
            ],
            "type": "heatmap"
           }
          ],
          "heatmapgl": [
           {
            "colorbar": {
             "outlinewidth": 0,
             "ticks": ""
            },
            "colorscale": [
             [
              0,
              "#0d0887"
             ],
             [
              0.1111111111111111,
              "#46039f"
             ],
             [
              0.2222222222222222,
              "#7201a8"
             ],
             [
              0.3333333333333333,
              "#9c179e"
             ],
             [
              0.4444444444444444,
              "#bd3786"
             ],
             [
              0.5555555555555556,
              "#d8576b"
             ],
             [
              0.6666666666666666,
              "#ed7953"
             ],
             [
              0.7777777777777778,
              "#fb9f3a"
             ],
             [
              0.8888888888888888,
              "#fdca26"
             ],
             [
              1,
              "#f0f921"
             ]
            ],
            "type": "heatmapgl"
           }
          ],
          "histogram": [
           {
            "marker": {
             "pattern": {
              "fillmode": "overlay",
              "size": 10,
              "solidity": 0.2
             }
            },
            "type": "histogram"
           }
          ],
          "histogram2d": [
           {
            "colorbar": {
             "outlinewidth": 0,
             "ticks": ""
            },
            "colorscale": [
             [
              0,
              "#0d0887"
             ],
             [
              0.1111111111111111,
              "#46039f"
             ],
             [
              0.2222222222222222,
              "#7201a8"
             ],
             [
              0.3333333333333333,
              "#9c179e"
             ],
             [
              0.4444444444444444,
              "#bd3786"
             ],
             [
              0.5555555555555556,
              "#d8576b"
             ],
             [
              0.6666666666666666,
              "#ed7953"
             ],
             [
              0.7777777777777778,
              "#fb9f3a"
             ],
             [
              0.8888888888888888,
              "#fdca26"
             ],
             [
              1,
              "#f0f921"
             ]
            ],
            "type": "histogram2d"
           }
          ],
          "histogram2dcontour": [
           {
            "colorbar": {
             "outlinewidth": 0,
             "ticks": ""
            },
            "colorscale": [
             [
              0,
              "#0d0887"
             ],
             [
              0.1111111111111111,
              "#46039f"
             ],
             [
              0.2222222222222222,
              "#7201a8"
             ],
             [
              0.3333333333333333,
              "#9c179e"
             ],
             [
              0.4444444444444444,
              "#bd3786"
             ],
             [
              0.5555555555555556,
              "#d8576b"
             ],
             [
              0.6666666666666666,
              "#ed7953"
             ],
             [
              0.7777777777777778,
              "#fb9f3a"
             ],
             [
              0.8888888888888888,
              "#fdca26"
             ],
             [
              1,
              "#f0f921"
             ]
            ],
            "type": "histogram2dcontour"
           }
          ],
          "mesh3d": [
           {
            "colorbar": {
             "outlinewidth": 0,
             "ticks": ""
            },
            "type": "mesh3d"
           }
          ],
          "parcoords": [
           {
            "line": {
             "colorbar": {
              "outlinewidth": 0,
              "ticks": ""
             }
            },
            "type": "parcoords"
           }
          ],
          "pie": [
           {
            "automargin": true,
            "type": "pie"
           }
          ],
          "scatter": [
           {
            "fillpattern": {
             "fillmode": "overlay",
             "size": 10,
             "solidity": 0.2
            },
            "type": "scatter"
           }
          ],
          "scatter3d": [
           {
            "line": {
             "colorbar": {
              "outlinewidth": 0,
              "ticks": ""
             }
            },
            "marker": {
             "colorbar": {
              "outlinewidth": 0,
              "ticks": ""
             }
            },
            "type": "scatter3d"
           }
          ],
          "scattercarpet": [
           {
            "marker": {
             "colorbar": {
              "outlinewidth": 0,
              "ticks": ""
             }
            },
            "type": "scattercarpet"
           }
          ],
          "scattergeo": [
           {
            "marker": {
             "colorbar": {
              "outlinewidth": 0,
              "ticks": ""
             }
            },
            "type": "scattergeo"
           }
          ],
          "scattergl": [
           {
            "marker": {
             "colorbar": {
              "outlinewidth": 0,
              "ticks": ""
             }
            },
            "type": "scattergl"
           }
          ],
          "scattermapbox": [
           {
            "marker": {
             "colorbar": {
              "outlinewidth": 0,
              "ticks": ""
             }
            },
            "type": "scattermapbox"
           }
          ],
          "scatterpolar": [
           {
            "marker": {
             "colorbar": {
              "outlinewidth": 0,
              "ticks": ""
             }
            },
            "type": "scatterpolar"
           }
          ],
          "scatterpolargl": [
           {
            "marker": {
             "colorbar": {
              "outlinewidth": 0,
              "ticks": ""
             }
            },
            "type": "scatterpolargl"
           }
          ],
          "scatterternary": [
           {
            "marker": {
             "colorbar": {
              "outlinewidth": 0,
              "ticks": ""
             }
            },
            "type": "scatterternary"
           }
          ],
          "surface": [
           {
            "colorbar": {
             "outlinewidth": 0,
             "ticks": ""
            },
            "colorscale": [
             [
              0,
              "#0d0887"
             ],
             [
              0.1111111111111111,
              "#46039f"
             ],
             [
              0.2222222222222222,
              "#7201a8"
             ],
             [
              0.3333333333333333,
              "#9c179e"
             ],
             [
              0.4444444444444444,
              "#bd3786"
             ],
             [
              0.5555555555555556,
              "#d8576b"
             ],
             [
              0.6666666666666666,
              "#ed7953"
             ],
             [
              0.7777777777777778,
              "#fb9f3a"
             ],
             [
              0.8888888888888888,
              "#fdca26"
             ],
             [
              1,
              "#f0f921"
             ]
            ],
            "type": "surface"
           }
          ],
          "table": [
           {
            "cells": {
             "fill": {
              "color": "#EBF0F8"
             },
             "line": {
              "color": "white"
             }
            },
            "header": {
             "fill": {
              "color": "#C8D4E3"
             },
             "line": {
              "color": "white"
             }
            },
            "type": "table"
           }
          ]
         },
         "layout": {
          "annotationdefaults": {
           "arrowcolor": "#2a3f5f",
           "arrowhead": 0,
           "arrowwidth": 1
          },
          "autotypenumbers": "strict",
          "coloraxis": {
           "colorbar": {
            "outlinewidth": 0,
            "ticks": ""
           }
          },
          "colorscale": {
           "diverging": [
            [
             0,
             "#8e0152"
            ],
            [
             0.1,
             "#c51b7d"
            ],
            [
             0.2,
             "#de77ae"
            ],
            [
             0.3,
             "#f1b6da"
            ],
            [
             0.4,
             "#fde0ef"
            ],
            [
             0.5,
             "#f7f7f7"
            ],
            [
             0.6,
             "#e6f5d0"
            ],
            [
             0.7,
             "#b8e186"
            ],
            [
             0.8,
             "#7fbc41"
            ],
            [
             0.9,
             "#4d9221"
            ],
            [
             1,
             "#276419"
            ]
           ],
           "sequential": [
            [
             0,
             "#0d0887"
            ],
            [
             0.1111111111111111,
             "#46039f"
            ],
            [
             0.2222222222222222,
             "#7201a8"
            ],
            [
             0.3333333333333333,
             "#9c179e"
            ],
            [
             0.4444444444444444,
             "#bd3786"
            ],
            [
             0.5555555555555556,
             "#d8576b"
            ],
            [
             0.6666666666666666,
             "#ed7953"
            ],
            [
             0.7777777777777778,
             "#fb9f3a"
            ],
            [
             0.8888888888888888,
             "#fdca26"
            ],
            [
             1,
             "#f0f921"
            ]
           ],
           "sequentialminus": [
            [
             0,
             "#0d0887"
            ],
            [
             0.1111111111111111,
             "#46039f"
            ],
            [
             0.2222222222222222,
             "#7201a8"
            ],
            [
             0.3333333333333333,
             "#9c179e"
            ],
            [
             0.4444444444444444,
             "#bd3786"
            ],
            [
             0.5555555555555556,
             "#d8576b"
            ],
            [
             0.6666666666666666,
             "#ed7953"
            ],
            [
             0.7777777777777778,
             "#fb9f3a"
            ],
            [
             0.8888888888888888,
             "#fdca26"
            ],
            [
             1,
             "#f0f921"
            ]
           ]
          },
          "colorway": [
           "#636efa",
           "#EF553B",
           "#00cc96",
           "#ab63fa",
           "#FFA15A",
           "#19d3f3",
           "#FF6692",
           "#B6E880",
           "#FF97FF",
           "#FECB52"
          ],
          "font": {
           "color": "#2a3f5f"
          },
          "geo": {
           "bgcolor": "white",
           "lakecolor": "white",
           "landcolor": "white",
           "showlakes": true,
           "showland": true,
           "subunitcolor": "#C8D4E3"
          },
          "hoverlabel": {
           "align": "left"
          },
          "hovermode": "closest",
          "mapbox": {
           "style": "light"
          },
          "paper_bgcolor": "white",
          "plot_bgcolor": "white",
          "polar": {
           "angularaxis": {
            "gridcolor": "#EBF0F8",
            "linecolor": "#EBF0F8",
            "ticks": ""
           },
           "bgcolor": "white",
           "radialaxis": {
            "gridcolor": "#EBF0F8",
            "linecolor": "#EBF0F8",
            "ticks": ""
           }
          },
          "scene": {
           "xaxis": {
            "backgroundcolor": "white",
            "gridcolor": "#DFE8F3",
            "gridwidth": 2,
            "linecolor": "#EBF0F8",
            "showbackground": true,
            "ticks": "",
            "zerolinecolor": "#EBF0F8"
           },
           "yaxis": {
            "backgroundcolor": "white",
            "gridcolor": "#DFE8F3",
            "gridwidth": 2,
            "linecolor": "#EBF0F8",
            "showbackground": true,
            "ticks": "",
            "zerolinecolor": "#EBF0F8"
           },
           "zaxis": {
            "backgroundcolor": "white",
            "gridcolor": "#DFE8F3",
            "gridwidth": 2,
            "linecolor": "#EBF0F8",
            "showbackground": true,
            "ticks": "",
            "zerolinecolor": "#EBF0F8"
           }
          },
          "shapedefaults": {
           "line": {
            "color": "#2a3f5f"
           }
          },
          "ternary": {
           "aaxis": {
            "gridcolor": "#DFE8F3",
            "linecolor": "#A2B1C6",
            "ticks": ""
           },
           "baxis": {
            "gridcolor": "#DFE8F3",
            "linecolor": "#A2B1C6",
            "ticks": ""
           },
           "bgcolor": "white",
           "caxis": {
            "gridcolor": "#DFE8F3",
            "linecolor": "#A2B1C6",
            "ticks": ""
           }
          },
          "title": {
           "x": 0.05
          },
          "xaxis": {
           "automargin": true,
           "gridcolor": "#EBF0F8",
           "linecolor": "#EBF0F8",
           "ticks": "",
           "title": {
            "standoff": 15
           },
           "zerolinecolor": "#EBF0F8",
           "zerolinewidth": 2
          },
          "yaxis": {
           "automargin": true,
           "gridcolor": "#EBF0F8",
           "linecolor": "#EBF0F8",
           "ticks": "",
           "title": {
            "standoff": 15
           },
           "zerolinecolor": "#EBF0F8",
           "zerolinewidth": 2
          }
         }
        },
        "title": {
         "text": "Defensive Concessions"
        },
        "xaxis": {
         "anchor": "y",
         "domain": [
          0,
          1
         ],
         "title": {
          "text": "rush_def"
         }
        },
        "yaxis": {
         "anchor": "x",
         "domain": [
          0,
          1
         ],
         "title": {
          "text": "pass_def"
         }
        }
       }
      }
     },
     "metadata": {},
     "output_type": "display_data"
    }
   ],
   "source": [
    "sns.set_theme(style = 'white')\n",
    "sns.set_style('ticks')\n",
    "sns.set_style({'font.family':'serif', 'font.serif':['Helvetica']})\n",
    "\n",
    "\n",
    "custom_colors = [\n",
    "                '#ff0000', # AFC E, red\n",
    "                '#0000ff', # AFC N, blue \n",
    "                '#00802b', # AFC S, green\n",
    "                '#cc7a00', # AFC W, orange\n",
    "                \n",
    "                '#ff0000', # NFC E, red\n",
    "                '#0000ff', # NFC N, blue \n",
    "                '#00802b', # NFC S, green\n",
    "                '#cc7a00', # NFC W, orange\n",
    "        \n",
    "                ]\n",
    "\n",
    "\n",
    "fig = px.scatter(plotting_data, x = 'rush_def', y='pass_def',\n",
    "                 color = 'Divs',\n",
    "                 color_discrete_sequence= custom_colors, \n",
    "                 symbol= 'Symbol',\n",
    "                 hover_data={\n",
    "                     'team':True,\n",
    "                     'rush_off': True,\n",
    "                     'pass_off': True,\n",
    "                     'rush_def': False,\n",
    "                     'pass_def': False,\n",
    "                     'Divs': True,\n",
    "                     'Symbol' : False\n",
    "                 },\n",
    "                 labels={\n",
    "                     'team': 'Team Code',\n",
    "                     'Divs': 'Division',\n",
    "                     'rush_off': 'Rushing Concession',\n",
    "                     'pass_off': 'Passing Concession'\n",
    "                 },\n",
    "                 template = 'plotly_white')\n",
    "\n",
    "fig.update_traces(\n",
    "    marker = dict(size = 8)\n",
    ")\n",
    "fig.add_hline(y = pass_def_avg, line_color = 'gray', line_dash = 'dash',\n",
    "              annotation_text = 'average passing concesssion',\n",
    "              annotation_position = 'top left', opacity = 0.7)\n",
    "fig.add_vline(x = rush_def_avg, line_color = 'gray', line_dash = 'dash',\n",
    "              annotation_text = 'average rushing concesssion',\n",
    "              annotation_position = 'top left', opacity = 0.7)\n",
    "\n",
    "\n",
    "fig.update_layout(margin=dict(l=30, r=30, t=30, b=30),\n",
    "                    title = 'Defensive Concessions')"
   ]
  },
  {
   "cell_type": "markdown",
   "metadata": {},
   "source": [
    "## To Do 12/6\n",
    "\n",
    "* Defense Scatter\n",
    "* Adjust Scatter\n",
    "* Output over time"
   ]
  },
  {
   "cell_type": "code",
   "execution_count": 24,
   "metadata": {},
   "outputs": [
    {
     "data": {
      "text/plain": [
       "['circle',\n",
       " 'circle',\n",
       " 'circle',\n",
       " 'circle',\n",
       " 'diamond',\n",
       " 'diamond',\n",
       " 'diamond',\n",
       " 'diamond']"
      ]
     },
     "execution_count": 24,
     "metadata": {},
     "output_type": "execute_result"
    }
   ],
   "source": [
    "custom_makers = (['circle']*4) + ['diamond']*4\n",
    "custom_makers"
   ]
  },
  {
   "cell_type": "code",
   "execution_count": null,
   "metadata": {},
   "outputs": [],
   "source": []
  }
 ],
 "metadata": {
  "kernelspec": {
   "display_name": "base",
   "language": "python",
   "name": "python3"
  },
  "language_info": {
   "codemirror_mode": {
    "name": "ipython",
    "version": 3
   },
   "file_extension": ".py",
   "mimetype": "text/x-python",
   "name": "python",
   "nbconvert_exporter": "python",
   "pygments_lexer": "ipython3",
   "version": "3.11.6"
  }
 },
 "nbformat": 4,
 "nbformat_minor": 2
}
