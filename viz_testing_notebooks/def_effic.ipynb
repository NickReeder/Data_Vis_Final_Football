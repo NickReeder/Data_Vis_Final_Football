{
 "cells": [
  {
   "cell_type": "code",
   "execution_count": 120,
   "metadata": {},
   "outputs": [],
   "source": [
    "try: \n",
    "    import plotly.graph_objects as go\n",
    "except:\n",
    "    %pip install plotly\n",
    "    import plotly.graph_objects as go\n",
    "import pandas as pd\n",
    "import numpy as np\n",
    "import plotly.express as px\n",
    "import plotly.subplots as sp\n",
    "\n",
    "import os\n",
    "import json\n",
    "import seaborn as sns"
   ]
  },
  {
   "cell_type": "code",
   "execution_count": 44,
   "metadata": {},
   "outputs": [],
   "source": [
    "cwd = os.getcwd()\n",
    "os.chdir('c:\\\\Users\\\\Nick\\\\Dropbox\\\\PC\\\\Documents\\\\GitHub\\\\Data_Vis_Final_Football\\\\data')\n",
    "cwd = os.getcwd()\n",
    "os.chdir('c:\\\\Users\\\\Nick\\\\Dropbox\\\\PC\\\\Documents\\\\GitHub\\\\Data_Vis_Final_Football\\\\viz_testing_notebooks')\n"
   ]
  },
  {
   "cell_type": "code",
   "execution_count": 45,
   "metadata": {},
   "outputs": [
    {
     "ename": "FileNotFoundError",
     "evalue": "[Errno 2] No such file or directory: 'NFL_Stats.json'",
     "output_type": "error",
     "traceback": [
      "\u001b[1;31m---------------------------------------------------------------------------\u001b[0m",
      "\u001b[1;31mFileNotFoundError\u001b[0m                         Traceback (most recent call last)",
      "\u001b[1;32m<ipython-input-45-b6be8852b8fa>\u001b[0m in \u001b[0;36m<module>\u001b[1;34m\u001b[0m\n\u001b[1;32m----> 1\u001b[1;33m \u001b[1;32mwith\u001b[0m \u001b[0mopen\u001b[0m\u001b[1;33m(\u001b[0m\u001b[1;34m'NFL_Stats.json'\u001b[0m\u001b[1;33m,\u001b[0m \u001b[1;34m'r'\u001b[0m\u001b[1;33m)\u001b[0m \u001b[1;32mas\u001b[0m \u001b[0mf\u001b[0m\u001b[1;33m:\u001b[0m\u001b[1;33m\u001b[0m\u001b[1;33m\u001b[0m\u001b[0m\n\u001b[0m\u001b[0;32m      2\u001b[0m   \u001b[0mdata\u001b[0m \u001b[1;33m=\u001b[0m \u001b[0mjson\u001b[0m\u001b[1;33m.\u001b[0m\u001b[0mload\u001b[0m\u001b[1;33m(\u001b[0m\u001b[0mf\u001b[0m\u001b[1;33m)\u001b[0m\u001b[1;33m\u001b[0m\u001b[1;33m\u001b[0m\u001b[0m\n\u001b[0;32m      3\u001b[0m \u001b[1;33m\u001b[0m\u001b[0m\n",
      "\u001b[1;31mFileNotFoundError\u001b[0m: [Errno 2] No such file or directory: 'NFL_Stats.json'"
     ]
    }
   ],
   "source": [
    "with open('NFL_Stats.json', 'r') as f:\n",
    "  data = json.load(f)\n",
    "  "
   ]
  },
  {
   "cell_type": "code",
   "execution_count": 46,
   "metadata": {},
   "outputs": [
    {
     "name": "stdout",
     "output_type": "stream",
     "text": [
      "dict_keys(['rush_off_general', 'rush_def_general', 'pass_off_general', 'pass_def_general', 'rush_off_by_team', 'rush_def_by_team', 'pass_off_by_team', 'pass_def_by_team'])\n"
     ]
    }
   ],
   "source": [
    "print(data['BLT'].keys())"
   ]
  },
  {
   "cell_type": "markdown",
   "metadata": {},
   "source": [
    "### Looking at the league overall\n",
    "\n",
    "# Two scatter plots consisting of a team offensive and defensive efficencies"
   ]
  },
  {
   "cell_type": "code",
   "execution_count": 60,
   "metadata": {},
   "outputs": [],
   "source": [
    "rush_off = []\n",
    "rush_def = []\n",
    "pass_off = []\n",
    "pass_def = []\n",
    "for team in data.keys():\n",
    "    rush_off.append(data[team]['rush_off_general']['avg_yard'])\n",
    "    rush_def.append(data[team]['rush_def_general']['avg_yards_conceded'])\n",
    "    pass_off.append(data[team]['pass_off_general']['avg_yard'])\n",
    "    pass_def.append(data[team]['pass_def_general']['avg_yards_conceded'])\n",
    "\n",
    "plotting_data = pd.DataFrame(columns=['team', 'rush_off', 'rush_def', 'pass_off', 'pass_def', 'col'])\n",
    "\n",
    "plotting_data['team'] = data.keys()\n",
    "plotting_data['rush_off'] = [float(x) for x in rush_off]\n",
    "plotting_data['rush_def'] = [float(x) for x in rush_def]\n",
    "plotting_data['pass_off'] = [float(x) for x in pass_off]\n",
    "plotting_data['pass_def'] = [float(x) for x in pass_def]\n"
   ]
  },
  {
   "cell_type": "code",
   "execution_count": 62,
   "metadata": {},
   "outputs": [
    {
     "data": {
      "text/html": [
       "<div>\n",
       "<style scoped>\n",
       "    .dataframe tbody tr th:only-of-type {\n",
       "        vertical-align: middle;\n",
       "    }\n",
       "\n",
       "    .dataframe tbody tr th {\n",
       "        vertical-align: top;\n",
       "    }\n",
       "\n",
       "    .dataframe thead th {\n",
       "        text-align: right;\n",
       "    }\n",
       "</style>\n",
       "<table border=\"1\" class=\"dataframe\">\n",
       "  <thead>\n",
       "    <tr style=\"text-align: right;\">\n",
       "      <th></th>\n",
       "      <th>team</th>\n",
       "      <th>rush_off</th>\n",
       "      <th>rush_def</th>\n",
       "      <th>pass_off</th>\n",
       "      <th>pass_def</th>\n",
       "    </tr>\n",
       "  </thead>\n",
       "  <tbody>\n",
       "    <tr>\n",
       "      <th>0</th>\n",
       "      <td>BLT</td>\n",
       "      <td>6.848</td>\n",
       "      <td>6.167</td>\n",
       "      <td>15.508</td>\n",
       "      <td>16.426</td>\n",
       "    </tr>\n",
       "    <tr>\n",
       "      <th>1</th>\n",
       "      <td>DEN</td>\n",
       "      <td>6.592</td>\n",
       "      <td>6.269</td>\n",
       "      <td>16.505</td>\n",
       "      <td>16.229</td>\n",
       "    </tr>\n",
       "    <tr>\n",
       "      <th>2</th>\n",
       "      <td>NE</td>\n",
       "      <td>6.521</td>\n",
       "      <td>6.584</td>\n",
       "      <td>16.921</td>\n",
       "      <td>16.406</td>\n",
       "    </tr>\n",
       "    <tr>\n",
       "      <th>3</th>\n",
       "      <td>BUF</td>\n",
       "      <td>6.526</td>\n",
       "      <td>6.915</td>\n",
       "      <td>16.119</td>\n",
       "      <td>16.030</td>\n",
       "    </tr>\n",
       "    <tr>\n",
       "      <th>4</th>\n",
       "      <td>CAR</td>\n",
       "      <td>6.598</td>\n",
       "      <td>6.829</td>\n",
       "      <td>16.896</td>\n",
       "      <td>15.842</td>\n",
       "    </tr>\n",
       "    <tr>\n",
       "      <th>5</th>\n",
       "      <td>SEA</td>\n",
       "      <td>6.986</td>\n",
       "      <td>6.272</td>\n",
       "      <td>17.195</td>\n",
       "      <td>16.078</td>\n",
       "    </tr>\n",
       "    <tr>\n",
       "      <th>6</th>\n",
       "      <td>CHI</td>\n",
       "      <td>6.456</td>\n",
       "      <td>6.689</td>\n",
       "      <td>15.743</td>\n",
       "      <td>16.482</td>\n",
       "    </tr>\n",
       "    <tr>\n",
       "      <th>7</th>\n",
       "      <td>CIN</td>\n",
       "      <td>6.310</td>\n",
       "      <td>6.914</td>\n",
       "      <td>16.733</td>\n",
       "      <td>16.419</td>\n",
       "    </tr>\n",
       "    <tr>\n",
       "      <th>8</th>\n",
       "      <td>CLV</td>\n",
       "      <td>7.219</td>\n",
       "      <td>6.797</td>\n",
       "      <td>16.854</td>\n",
       "      <td>16.493</td>\n",
       "    </tr>\n",
       "    <tr>\n",
       "      <th>9</th>\n",
       "      <td>MIA</td>\n",
       "      <td>6.552</td>\n",
       "      <td>6.767</td>\n",
       "      <td>15.948</td>\n",
       "      <td>17.250</td>\n",
       "    </tr>\n",
       "    <tr>\n",
       "      <th>10</th>\n",
       "      <td>DET</td>\n",
       "      <td>6.339</td>\n",
       "      <td>6.771</td>\n",
       "      <td>16.998</td>\n",
       "      <td>16.879</td>\n",
       "    </tr>\n",
       "    <tr>\n",
       "      <th>11</th>\n",
       "      <td>MIN</td>\n",
       "      <td>6.801</td>\n",
       "      <td>6.571</td>\n",
       "      <td>16.148</td>\n",
       "      <td>16.397</td>\n",
       "    </tr>\n",
       "    <tr>\n",
       "      <th>12</th>\n",
       "      <td>OAK</td>\n",
       "      <td>6.674</td>\n",
       "      <td>6.374</td>\n",
       "      <td>16.211</td>\n",
       "      <td>17.862</td>\n",
       "    </tr>\n",
       "    <tr>\n",
       "      <th>13</th>\n",
       "      <td>IND</td>\n",
       "      <td>6.516</td>\n",
       "      <td>6.454</td>\n",
       "      <td>16.371</td>\n",
       "      <td>16.614</td>\n",
       "    </tr>\n",
       "    <tr>\n",
       "      <th>14</th>\n",
       "      <td>KC</td>\n",
       "      <td>6.684</td>\n",
       "      <td>6.980</td>\n",
       "      <td>17.701</td>\n",
       "      <td>16.736</td>\n",
       "    </tr>\n",
       "    <tr>\n",
       "      <th>15</th>\n",
       "      <td>JAX</td>\n",
       "      <td>6.486</td>\n",
       "      <td>6.545</td>\n",
       "      <td>16.136</td>\n",
       "      <td>16.650</td>\n",
       "    </tr>\n",
       "    <tr>\n",
       "      <th>16</th>\n",
       "      <td>ATL</td>\n",
       "      <td>6.511</td>\n",
       "      <td>6.806</td>\n",
       "      <td>16.275</td>\n",
       "      <td>16.462</td>\n",
       "    </tr>\n",
       "    <tr>\n",
       "      <th>17</th>\n",
       "      <td>NO</td>\n",
       "      <td>6.740</td>\n",
       "      <td>6.557</td>\n",
       "      <td>16.410</td>\n",
       "      <td>16.957</td>\n",
       "    </tr>\n",
       "    <tr>\n",
       "      <th>18</th>\n",
       "      <td>TB</td>\n",
       "      <td>6.327</td>\n",
       "      <td>6.390</td>\n",
       "      <td>16.488</td>\n",
       "      <td>15.924</td>\n",
       "    </tr>\n",
       "    <tr>\n",
       "      <th>19</th>\n",
       "      <td>NYJ</td>\n",
       "      <td>6.497</td>\n",
       "      <td>6.126</td>\n",
       "      <td>16.567</td>\n",
       "      <td>16.663</td>\n",
       "    </tr>\n",
       "    <tr>\n",
       "      <th>20</th>\n",
       "      <td>PIT</td>\n",
       "      <td>6.415</td>\n",
       "      <td>6.535</td>\n",
       "      <td>16.214</td>\n",
       "      <td>16.520</td>\n",
       "    </tr>\n",
       "    <tr>\n",
       "      <th>21</th>\n",
       "      <td>TEN</td>\n",
       "      <td>7.133</td>\n",
       "      <td>6.318</td>\n",
       "      <td>16.717</td>\n",
       "      <td>16.482</td>\n",
       "    </tr>\n",
       "    <tr>\n",
       "      <th>22</th>\n",
       "      <td>GB</td>\n",
       "      <td>6.951</td>\n",
       "      <td>6.836</td>\n",
       "      <td>17.113</td>\n",
       "      <td>17.409</td>\n",
       "    </tr>\n",
       "    <tr>\n",
       "      <th>23</th>\n",
       "      <td>SF</td>\n",
       "      <td>6.718</td>\n",
       "      <td>6.253</td>\n",
       "      <td>18.058</td>\n",
       "      <td>16.078</td>\n",
       "    </tr>\n",
       "    <tr>\n",
       "      <th>24</th>\n",
       "      <td>SL</td>\n",
       "      <td>6.451</td>\n",
       "      <td>6.163</td>\n",
       "      <td>16.761</td>\n",
       "      <td>17.309</td>\n",
       "    </tr>\n",
       "    <tr>\n",
       "      <th>25</th>\n",
       "      <td>ARZ</td>\n",
       "      <td>6.219</td>\n",
       "      <td>6.722</td>\n",
       "      <td>16.207</td>\n",
       "      <td>16.618</td>\n",
       "    </tr>\n",
       "    <tr>\n",
       "      <th>26</th>\n",
       "      <td>DAL</td>\n",
       "      <td>7.215</td>\n",
       "      <td>6.780</td>\n",
       "      <td>16.457</td>\n",
       "      <td>16.594</td>\n",
       "    </tr>\n",
       "    <tr>\n",
       "      <th>27</th>\n",
       "      <td>NYG</td>\n",
       "      <td>6.452</td>\n",
       "      <td>6.589</td>\n",
       "      <td>15.906</td>\n",
       "      <td>16.765</td>\n",
       "    </tr>\n",
       "    <tr>\n",
       "      <th>28</th>\n",
       "      <td>PHI</td>\n",
       "      <td>6.725</td>\n",
       "      <td>6.608</td>\n",
       "      <td>16.717</td>\n",
       "      <td>16.666</td>\n",
       "    </tr>\n",
       "    <tr>\n",
       "      <th>29</th>\n",
       "      <td>WAS</td>\n",
       "      <td>6.593</td>\n",
       "      <td>6.740</td>\n",
       "      <td>16.551</td>\n",
       "      <td>16.872</td>\n",
       "    </tr>\n",
       "    <tr>\n",
       "      <th>30</th>\n",
       "      <td>SD</td>\n",
       "      <td>5.886</td>\n",
       "      <td>6.454</td>\n",
       "      <td>17.231</td>\n",
       "      <td>17.640</td>\n",
       "    </tr>\n",
       "    <tr>\n",
       "      <th>31</th>\n",
       "      <td>HST</td>\n",
       "      <td>6.192</td>\n",
       "      <td>6.933</td>\n",
       "      <td>16.017</td>\n",
       "      <td>16.979</td>\n",
       "    </tr>\n",
       "    <tr>\n",
       "      <th>32</th>\n",
       "      <td>LA</td>\n",
       "      <td>6.618</td>\n",
       "      <td>6.707</td>\n",
       "      <td>17.161</td>\n",
       "      <td>16.288</td>\n",
       "    </tr>\n",
       "    <tr>\n",
       "      <th>33</th>\n",
       "      <td>LAC</td>\n",
       "      <td>6.548</td>\n",
       "      <td>7.529</td>\n",
       "      <td>17.030</td>\n",
       "      <td>16.000</td>\n",
       "    </tr>\n",
       "    <tr>\n",
       "      <th>34</th>\n",
       "      <td>LV</td>\n",
       "      <td>7.190</td>\n",
       "      <td>7.110</td>\n",
       "      <td>16.939</td>\n",
       "      <td>15.763</td>\n",
       "    </tr>\n",
       "  </tbody>\n",
       "</table>\n",
       "</div>"
      ],
      "text/plain": [
       "   team  rush_off  rush_def  pass_off  pass_def\n",
       "0   BLT     6.848     6.167    15.508    16.426\n",
       "1   DEN     6.592     6.269    16.505    16.229\n",
       "2    NE     6.521     6.584    16.921    16.406\n",
       "3   BUF     6.526     6.915    16.119    16.030\n",
       "4   CAR     6.598     6.829    16.896    15.842\n",
       "5   SEA     6.986     6.272    17.195    16.078\n",
       "6   CHI     6.456     6.689    15.743    16.482\n",
       "7   CIN     6.310     6.914    16.733    16.419\n",
       "8   CLV     7.219     6.797    16.854    16.493\n",
       "9   MIA     6.552     6.767    15.948    17.250\n",
       "10  DET     6.339     6.771    16.998    16.879\n",
       "11  MIN     6.801     6.571    16.148    16.397\n",
       "12  OAK     6.674     6.374    16.211    17.862\n",
       "13  IND     6.516     6.454    16.371    16.614\n",
       "14   KC     6.684     6.980    17.701    16.736\n",
       "15  JAX     6.486     6.545    16.136    16.650\n",
       "16  ATL     6.511     6.806    16.275    16.462\n",
       "17   NO     6.740     6.557    16.410    16.957\n",
       "18   TB     6.327     6.390    16.488    15.924\n",
       "19  NYJ     6.497     6.126    16.567    16.663\n",
       "20  PIT     6.415     6.535    16.214    16.520\n",
       "21  TEN     7.133     6.318    16.717    16.482\n",
       "22   GB     6.951     6.836    17.113    17.409\n",
       "23   SF     6.718     6.253    18.058    16.078\n",
       "24   SL     6.451     6.163    16.761    17.309\n",
       "25  ARZ     6.219     6.722    16.207    16.618\n",
       "26  DAL     7.215     6.780    16.457    16.594\n",
       "27  NYG     6.452     6.589    15.906    16.765\n",
       "28  PHI     6.725     6.608    16.717    16.666\n",
       "29  WAS     6.593     6.740    16.551    16.872\n",
       "30   SD     5.886     6.454    17.231    17.640\n",
       "31  HST     6.192     6.933    16.017    16.979\n",
       "32   LA     6.618     6.707    17.161    16.288\n",
       "33  LAC     6.548     7.529    17.030    16.000\n",
       "34   LV     7.190     7.110    16.939    15.763"
      ]
     },
     "execution_count": 62,
     "metadata": {},
     "output_type": "execute_result"
    }
   ],
   "source": [
    "plotting_data"
   ]
  },
  {
   "cell_type": "markdown",
   "metadata": {},
   "source": []
  },
  {
   "cell_type": "code",
   "execution_count": 134,
   "metadata": {},
   "outputs": [],
   "source": [
    "rush_off_avg = np.mean(plotting_data['rush_off'])\n",
    "rush_def_avg = np.mean(plotting_data['rush_def'])\n",
    "pass_off_avg = np.mean(plotting_data['pass_off'])\n",
    "pass_def_avg = np.mean(plotting_data['pass_def'])\n",
    "\n",
    "offense_groups = []\n",
    "defense_groups = []\n",
    "for index, row in plotting_data.iterrows():\n",
    "    if row['rush_off'] > rush_off_avg and row['pass_off'] > pass_off_avg: #Both above average\n",
    "        offense_groups.append('Both above average')\n",
    "    elif row['rush_off'] > rush_off_avg: #Only rush offense is above average\n",
    "        offense_groups.append('Rushing above average')\n",
    "    elif row['pass_off'] > pass_off_avg: #Only pass offense is above average\n",
    "        offense_groups.append('Passing above average')\n",
    "    else: #Both are below average\n",
    "        offense_groups.append('Both below average')\n",
    "\n",
    "    if row['rush_def'] > rush_def_avg and row['pass_def'] > pass_def_avg: #Both above average\n",
    "        defense_groups.append('Both above average')\n",
    "    elif row['rush_def'] > rush_def_avg: #Only rush offense is above average\n",
    "        defense_groups.append('Rushing above average')\n",
    "    elif row['pass_def'] > pass_def_avg: #Only pass offense is above average\n",
    "        defense_groups.append('Passing above average')\n",
    "    else: #Both are below average\n",
    "        defense_groups.append('Both below average')\n",
    "\n",
    "\n",
    "plotting_data['offense_groups'] = offense_groups\n",
    "plotting_data['defense_groups'] = defense_groups\n",
    "    \n",
    "\n"
   ]
  },
  {
   "cell_type": "code",
   "execution_count": 144,
   "metadata": {},
   "outputs": [
    {
     "data": {
      "application/vnd.plotly.v1+json": {
       "config": {
        "plotlyServerURL": "https://plot.ly"
       },
       "data": [
        {
         "customdata": [
          [
           "BLT",
           6.167,
           16.426,
           "Rushing above average",
           "Both below average"
          ],
          [
           "MIN",
           6.571,
           16.397,
           "Rushing above average",
           "Both below average"
          ],
          [
           "OAK",
           6.374,
           17.862,
           "Rushing above average",
           "Passing above average"
          ],
          [
           "NO",
           6.557,
           16.957,
           "Rushing above average",
           "Passing above average"
          ],
          [
           "DAL",
           6.78,
           16.594,
           "Rushing above average",
           "Both above average"
          ]
         ],
         "hovertemplate": "Rushing Output=%{x}<br>Passing Output=%{y}<br>Team Code=%{customdata[0]}<extra></extra>",
         "legendgroup": "Rushing above average",
         "marker": {
          "color": "#636efa",
          "symbol": "circle"
         },
         "mode": "markers",
         "name": "Rushing above average",
         "orientation": "v",
         "showlegend": true,
         "type": "scatter",
         "x": [
          6.848,
          6.801,
          6.674,
          6.74,
          7.215
         ],
         "xaxis": "x",
         "y": [
          15.508,
          16.148,
          16.211,
          16.41,
          16.457
         ],
         "yaxis": "y"
        },
        {
         "customdata": [
          [
           "DEN",
           6.269,
           16.229,
           "Both below average",
           "Both below average"
          ],
          [
           "BUF",
           6.915,
           16.03,
           "Both below average",
           "Rushing above average"
          ],
          [
           "CHI",
           6.689,
           16.482,
           "Both below average",
           "Rushing above average"
          ],
          [
           "MIA",
           6.767,
           17.25,
           "Both below average",
           "Both above average"
          ],
          [
           "IND",
           6.454,
           16.614,
           "Both below average",
           "Passing above average"
          ],
          [
           "JAX",
           6.545,
           16.65,
           "Both below average",
           "Passing above average"
          ],
          [
           "ATL",
           6.806,
           16.462,
           "Both below average",
           "Rushing above average"
          ],
          [
           "TB",
           6.39,
           15.924,
           "Both below average",
           "Both below average"
          ],
          [
           "NYJ",
           6.126,
           16.663,
           "Both below average",
           "Passing above average"
          ],
          [
           "PIT",
           6.535,
           16.52,
           "Both below average",
           "Both below average"
          ],
          [
           "ARZ",
           6.722,
           16.618,
           "Both below average",
           "Both above average"
          ],
          [
           "NYG",
           6.589,
           16.765,
           "Both below average",
           "Passing above average"
          ],
          [
           "WAS",
           6.74,
           16.872,
           "Both below average",
           "Both above average"
          ],
          [
           "HST",
           6.933,
           16.979,
           "Both below average",
           "Both above average"
          ]
         ],
         "hovertemplate": "Rushing Output=%{x}<br>Passing Output=%{y}<br>Team Code=%{customdata[0]}<extra></extra>",
         "legendgroup": "Both below average",
         "marker": {
          "color": "#EF553B",
          "symbol": "circle"
         },
         "mode": "markers",
         "name": "Both below average",
         "orientation": "v",
         "showlegend": true,
         "type": "scatter",
         "x": [
          6.592,
          6.526,
          6.456,
          6.552,
          6.516,
          6.486,
          6.511,
          6.327,
          6.497,
          6.415,
          6.219,
          6.452,
          6.593,
          6.192
         ],
         "xaxis": "x",
         "y": [
          16.505,
          16.119,
          15.743,
          15.948,
          16.371,
          16.136,
          16.275,
          16.488,
          16.567,
          16.214,
          16.207,
          15.906,
          16.551,
          16.017
         ],
         "yaxis": "y"
        },
        {
         "customdata": [
          [
           "NE",
           6.584,
           16.406,
           "Passing above average",
           "Both below average"
          ],
          [
           "CAR",
           6.829,
           15.842,
           "Passing above average",
           "Rushing above average"
          ],
          [
           "CIN",
           6.914,
           16.419,
           "Passing above average",
           "Rushing above average"
          ],
          [
           "DET",
           6.771,
           16.879,
           "Passing above average",
           "Both above average"
          ],
          [
           "SL",
           6.163,
           17.309,
           "Passing above average",
           "Passing above average"
          ],
          [
           "SD",
           6.454,
           17.64,
           "Passing above average",
           "Passing above average"
          ],
          [
           "LAC",
           7.529,
           16,
           "Passing above average",
           "Rushing above average"
          ]
         ],
         "hovertemplate": "Rushing Output=%{x}<br>Passing Output=%{y}<br>Team Code=%{customdata[0]}<extra></extra>",
         "legendgroup": "Passing above average",
         "marker": {
          "color": "#00cc96",
          "symbol": "circle"
         },
         "mode": "markers",
         "name": "Passing above average",
         "orientation": "v",
         "showlegend": true,
         "type": "scatter",
         "x": [
          6.521,
          6.598,
          6.31,
          6.339,
          6.451,
          5.886,
          6.548
         ],
         "xaxis": "x",
         "y": [
          16.921,
          16.896,
          16.733,
          16.998,
          16.761,
          17.231,
          17.03
         ],
         "yaxis": "y"
        },
        {
         "customdata": [
          [
           "SEA",
           6.272,
           16.078,
           "Both above average",
           "Both below average"
          ],
          [
           "CLV",
           6.797,
           16.493,
           "Both above average",
           "Rushing above average"
          ],
          [
           "KC",
           6.98,
           16.736,
           "Both above average",
           "Both above average"
          ],
          [
           "TEN",
           6.318,
           16.482,
           "Both above average",
           "Both below average"
          ],
          [
           "GB",
           6.836,
           17.409,
           "Both above average",
           "Both above average"
          ],
          [
           "SF",
           6.253,
           16.078,
           "Both above average",
           "Both below average"
          ],
          [
           "PHI",
           6.608,
           16.666,
           "Both above average",
           "Passing above average"
          ],
          [
           "LA",
           6.707,
           16.288,
           "Both above average",
           "Rushing above average"
          ],
          [
           "LV",
           7.11,
           15.763,
           "Both above average",
           "Rushing above average"
          ]
         ],
         "hovertemplate": "Rushing Output=%{x}<br>Passing Output=%{y}<br>Team Code=%{customdata[0]}<extra></extra>",
         "legendgroup": "Both above average",
         "marker": {
          "color": "#ab63fa",
          "symbol": "circle"
         },
         "mode": "markers",
         "name": "Both above average",
         "orientation": "v",
         "showlegend": true,
         "type": "scatter",
         "x": [
          6.986,
          7.219,
          6.684,
          7.133,
          6.951,
          6.718,
          6.725,
          6.618,
          7.19
         ],
         "xaxis": "x",
         "y": [
          17.195,
          16.854,
          17.701,
          16.717,
          17.113,
          18.058,
          16.717,
          17.161,
          16.939
         ],
         "yaxis": "y"
        }
       ],
       "layout": {
        "annotations": [
         {
          "showarrow": false,
          "text": "average passing output",
          "x": 0,
          "xanchor": "left",
          "xref": "x domain",
          "y": 16.59445714285714,
          "yanchor": "bottom",
          "yref": "y"
         },
         {
          "showarrow": false,
          "text": "average rushing output",
          "x": 6.613971428571428,
          "xanchor": "right",
          "xref": "x",
          "y": 1,
          "yanchor": "top",
          "yref": "y domain"
         }
        ],
        "legend": {
         "title": {
          "text": "offense_groups"
         },
         "tracegroupgap": 0
        },
        "margin": {
         "b": 20,
         "l": 20,
         "r": 20,
         "t": 20
        },
        "shapes": [
         {
          "line": {
           "color": "gray",
           "dash": "dash"
          },
          "opacity": 0.7,
          "type": "line",
          "x0": 0,
          "x1": 1,
          "xref": "x domain",
          "y0": 16.59445714285714,
          "y1": 16.59445714285714,
          "yref": "y"
         },
         {
          "line": {
           "color": "gray",
           "dash": "dash"
          },
          "opacity": 0.7,
          "type": "line",
          "x0": 6.613971428571428,
          "x1": 6.613971428571428,
          "xref": "x",
          "y0": 0,
          "y1": 1,
          "yref": "y domain"
         }
        ],
        "template": {
         "data": {
          "bar": [
           {
            "error_x": {
             "color": "#2a3f5f"
            },
            "error_y": {
             "color": "#2a3f5f"
            },
            "marker": {
             "line": {
              "color": "#E5ECF6",
              "width": 0.5
             },
             "pattern": {
              "fillmode": "overlay",
              "size": 10,
              "solidity": 0.2
             }
            },
            "type": "bar"
           }
          ],
          "barpolar": [
           {
            "marker": {
             "line": {
              "color": "#E5ECF6",
              "width": 0.5
             },
             "pattern": {
              "fillmode": "overlay",
              "size": 10,
              "solidity": 0.2
             }
            },
            "type": "barpolar"
           }
          ],
          "carpet": [
           {
            "aaxis": {
             "endlinecolor": "#2a3f5f",
             "gridcolor": "white",
             "linecolor": "white",
             "minorgridcolor": "white",
             "startlinecolor": "#2a3f5f"
            },
            "baxis": {
             "endlinecolor": "#2a3f5f",
             "gridcolor": "white",
             "linecolor": "white",
             "minorgridcolor": "white",
             "startlinecolor": "#2a3f5f"
            },
            "type": "carpet"
           }
          ],
          "choropleth": [
           {
            "colorbar": {
             "outlinewidth": 0,
             "ticks": ""
            },
            "type": "choropleth"
           }
          ],
          "contour": [
           {
            "colorbar": {
             "outlinewidth": 0,
             "ticks": ""
            },
            "colorscale": [
             [
              0,
              "#0d0887"
             ],
             [
              0.1111111111111111,
              "#46039f"
             ],
             [
              0.2222222222222222,
              "#7201a8"
             ],
             [
              0.3333333333333333,
              "#9c179e"
             ],
             [
              0.4444444444444444,
              "#bd3786"
             ],
             [
              0.5555555555555556,
              "#d8576b"
             ],
             [
              0.6666666666666666,
              "#ed7953"
             ],
             [
              0.7777777777777778,
              "#fb9f3a"
             ],
             [
              0.8888888888888888,
              "#fdca26"
             ],
             [
              1,
              "#f0f921"
             ]
            ],
            "type": "contour"
           }
          ],
          "contourcarpet": [
           {
            "colorbar": {
             "outlinewidth": 0,
             "ticks": ""
            },
            "type": "contourcarpet"
           }
          ],
          "heatmap": [
           {
            "colorbar": {
             "outlinewidth": 0,
             "ticks": ""
            },
            "colorscale": [
             [
              0,
              "#0d0887"
             ],
             [
              0.1111111111111111,
              "#46039f"
             ],
             [
              0.2222222222222222,
              "#7201a8"
             ],
             [
              0.3333333333333333,
              "#9c179e"
             ],
             [
              0.4444444444444444,
              "#bd3786"
             ],
             [
              0.5555555555555556,
              "#d8576b"
             ],
             [
              0.6666666666666666,
              "#ed7953"
             ],
             [
              0.7777777777777778,
              "#fb9f3a"
             ],
             [
              0.8888888888888888,
              "#fdca26"
             ],
             [
              1,
              "#f0f921"
             ]
            ],
            "type": "heatmap"
           }
          ],
          "heatmapgl": [
           {
            "colorbar": {
             "outlinewidth": 0,
             "ticks": ""
            },
            "colorscale": [
             [
              0,
              "#0d0887"
             ],
             [
              0.1111111111111111,
              "#46039f"
             ],
             [
              0.2222222222222222,
              "#7201a8"
             ],
             [
              0.3333333333333333,
              "#9c179e"
             ],
             [
              0.4444444444444444,
              "#bd3786"
             ],
             [
              0.5555555555555556,
              "#d8576b"
             ],
             [
              0.6666666666666666,
              "#ed7953"
             ],
             [
              0.7777777777777778,
              "#fb9f3a"
             ],
             [
              0.8888888888888888,
              "#fdca26"
             ],
             [
              1,
              "#f0f921"
             ]
            ],
            "type": "heatmapgl"
           }
          ],
          "histogram": [
           {
            "marker": {
             "pattern": {
              "fillmode": "overlay",
              "size": 10,
              "solidity": 0.2
             }
            },
            "type": "histogram"
           }
          ],
          "histogram2d": [
           {
            "colorbar": {
             "outlinewidth": 0,
             "ticks": ""
            },
            "colorscale": [
             [
              0,
              "#0d0887"
             ],
             [
              0.1111111111111111,
              "#46039f"
             ],
             [
              0.2222222222222222,
              "#7201a8"
             ],
             [
              0.3333333333333333,
              "#9c179e"
             ],
             [
              0.4444444444444444,
              "#bd3786"
             ],
             [
              0.5555555555555556,
              "#d8576b"
             ],
             [
              0.6666666666666666,
              "#ed7953"
             ],
             [
              0.7777777777777778,
              "#fb9f3a"
             ],
             [
              0.8888888888888888,
              "#fdca26"
             ],
             [
              1,
              "#f0f921"
             ]
            ],
            "type": "histogram2d"
           }
          ],
          "histogram2dcontour": [
           {
            "colorbar": {
             "outlinewidth": 0,
             "ticks": ""
            },
            "colorscale": [
             [
              0,
              "#0d0887"
             ],
             [
              0.1111111111111111,
              "#46039f"
             ],
             [
              0.2222222222222222,
              "#7201a8"
             ],
             [
              0.3333333333333333,
              "#9c179e"
             ],
             [
              0.4444444444444444,
              "#bd3786"
             ],
             [
              0.5555555555555556,
              "#d8576b"
             ],
             [
              0.6666666666666666,
              "#ed7953"
             ],
             [
              0.7777777777777778,
              "#fb9f3a"
             ],
             [
              0.8888888888888888,
              "#fdca26"
             ],
             [
              1,
              "#f0f921"
             ]
            ],
            "type": "histogram2dcontour"
           }
          ],
          "mesh3d": [
           {
            "colorbar": {
             "outlinewidth": 0,
             "ticks": ""
            },
            "type": "mesh3d"
           }
          ],
          "parcoords": [
           {
            "line": {
             "colorbar": {
              "outlinewidth": 0,
              "ticks": ""
             }
            },
            "type": "parcoords"
           }
          ],
          "pie": [
           {
            "automargin": true,
            "type": "pie"
           }
          ],
          "scatter": [
           {
            "fillpattern": {
             "fillmode": "overlay",
             "size": 10,
             "solidity": 0.2
            },
            "type": "scatter"
           }
          ],
          "scatter3d": [
           {
            "line": {
             "colorbar": {
              "outlinewidth": 0,
              "ticks": ""
             }
            },
            "marker": {
             "colorbar": {
              "outlinewidth": 0,
              "ticks": ""
             }
            },
            "type": "scatter3d"
           }
          ],
          "scattercarpet": [
           {
            "marker": {
             "colorbar": {
              "outlinewidth": 0,
              "ticks": ""
             }
            },
            "type": "scattercarpet"
           }
          ],
          "scattergeo": [
           {
            "marker": {
             "colorbar": {
              "outlinewidth": 0,
              "ticks": ""
             }
            },
            "type": "scattergeo"
           }
          ],
          "scattergl": [
           {
            "marker": {
             "colorbar": {
              "outlinewidth": 0,
              "ticks": ""
             }
            },
            "type": "scattergl"
           }
          ],
          "scattermapbox": [
           {
            "marker": {
             "colorbar": {
              "outlinewidth": 0,
              "ticks": ""
             }
            },
            "type": "scattermapbox"
           }
          ],
          "scatterpolar": [
           {
            "marker": {
             "colorbar": {
              "outlinewidth": 0,
              "ticks": ""
             }
            },
            "type": "scatterpolar"
           }
          ],
          "scatterpolargl": [
           {
            "marker": {
             "colorbar": {
              "outlinewidth": 0,
              "ticks": ""
             }
            },
            "type": "scatterpolargl"
           }
          ],
          "scatterternary": [
           {
            "marker": {
             "colorbar": {
              "outlinewidth": 0,
              "ticks": ""
             }
            },
            "type": "scatterternary"
           }
          ],
          "surface": [
           {
            "colorbar": {
             "outlinewidth": 0,
             "ticks": ""
            },
            "colorscale": [
             [
              0,
              "#0d0887"
             ],
             [
              0.1111111111111111,
              "#46039f"
             ],
             [
              0.2222222222222222,
              "#7201a8"
             ],
             [
              0.3333333333333333,
              "#9c179e"
             ],
             [
              0.4444444444444444,
              "#bd3786"
             ],
             [
              0.5555555555555556,
              "#d8576b"
             ],
             [
              0.6666666666666666,
              "#ed7953"
             ],
             [
              0.7777777777777778,
              "#fb9f3a"
             ],
             [
              0.8888888888888888,
              "#fdca26"
             ],
             [
              1,
              "#f0f921"
             ]
            ],
            "type": "surface"
           }
          ],
          "table": [
           {
            "cells": {
             "fill": {
              "color": "#EBF0F8"
             },
             "line": {
              "color": "white"
             }
            },
            "header": {
             "fill": {
              "color": "#C8D4E3"
             },
             "line": {
              "color": "white"
             }
            },
            "type": "table"
           }
          ]
         },
         "layout": {
          "annotationdefaults": {
           "arrowcolor": "#2a3f5f",
           "arrowhead": 0,
           "arrowwidth": 1
          },
          "autotypenumbers": "strict",
          "coloraxis": {
           "colorbar": {
            "outlinewidth": 0,
            "ticks": ""
           }
          },
          "colorscale": {
           "diverging": [
            [
             0,
             "#8e0152"
            ],
            [
             0.1,
             "#c51b7d"
            ],
            [
             0.2,
             "#de77ae"
            ],
            [
             0.3,
             "#f1b6da"
            ],
            [
             0.4,
             "#fde0ef"
            ],
            [
             0.5,
             "#f7f7f7"
            ],
            [
             0.6,
             "#e6f5d0"
            ],
            [
             0.7,
             "#b8e186"
            ],
            [
             0.8,
             "#7fbc41"
            ],
            [
             0.9,
             "#4d9221"
            ],
            [
             1,
             "#276419"
            ]
           ],
           "sequential": [
            [
             0,
             "#0d0887"
            ],
            [
             0.1111111111111111,
             "#46039f"
            ],
            [
             0.2222222222222222,
             "#7201a8"
            ],
            [
             0.3333333333333333,
             "#9c179e"
            ],
            [
             0.4444444444444444,
             "#bd3786"
            ],
            [
             0.5555555555555556,
             "#d8576b"
            ],
            [
             0.6666666666666666,
             "#ed7953"
            ],
            [
             0.7777777777777778,
             "#fb9f3a"
            ],
            [
             0.8888888888888888,
             "#fdca26"
            ],
            [
             1,
             "#f0f921"
            ]
           ],
           "sequentialminus": [
            [
             0,
             "#0d0887"
            ],
            [
             0.1111111111111111,
             "#46039f"
            ],
            [
             0.2222222222222222,
             "#7201a8"
            ],
            [
             0.3333333333333333,
             "#9c179e"
            ],
            [
             0.4444444444444444,
             "#bd3786"
            ],
            [
             0.5555555555555556,
             "#d8576b"
            ],
            [
             0.6666666666666666,
             "#ed7953"
            ],
            [
             0.7777777777777778,
             "#fb9f3a"
            ],
            [
             0.8888888888888888,
             "#fdca26"
            ],
            [
             1,
             "#f0f921"
            ]
           ]
          },
          "colorway": [
           "#636efa",
           "#EF553B",
           "#00cc96",
           "#ab63fa",
           "#FFA15A",
           "#19d3f3",
           "#FF6692",
           "#B6E880",
           "#FF97FF",
           "#FECB52"
          ],
          "font": {
           "color": "#2a3f5f"
          },
          "geo": {
           "bgcolor": "white",
           "lakecolor": "white",
           "landcolor": "#E5ECF6",
           "showlakes": true,
           "showland": true,
           "subunitcolor": "white"
          },
          "hoverlabel": {
           "align": "left"
          },
          "hovermode": "closest",
          "mapbox": {
           "style": "light"
          },
          "paper_bgcolor": "white",
          "plot_bgcolor": "#E5ECF6",
          "polar": {
           "angularaxis": {
            "gridcolor": "white",
            "linecolor": "white",
            "ticks": ""
           },
           "bgcolor": "#E5ECF6",
           "radialaxis": {
            "gridcolor": "white",
            "linecolor": "white",
            "ticks": ""
           }
          },
          "scene": {
           "xaxis": {
            "backgroundcolor": "#E5ECF6",
            "gridcolor": "white",
            "gridwidth": 2,
            "linecolor": "white",
            "showbackground": true,
            "ticks": "",
            "zerolinecolor": "white"
           },
           "yaxis": {
            "backgroundcolor": "#E5ECF6",
            "gridcolor": "white",
            "gridwidth": 2,
            "linecolor": "white",
            "showbackground": true,
            "ticks": "",
            "zerolinecolor": "white"
           },
           "zaxis": {
            "backgroundcolor": "#E5ECF6",
            "gridcolor": "white",
            "gridwidth": 2,
            "linecolor": "white",
            "showbackground": true,
            "ticks": "",
            "zerolinecolor": "white"
           }
          },
          "shapedefaults": {
           "line": {
            "color": "#2a3f5f"
           }
          },
          "ternary": {
           "aaxis": {
            "gridcolor": "white",
            "linecolor": "white",
            "ticks": ""
           },
           "baxis": {
            "gridcolor": "white",
            "linecolor": "white",
            "ticks": ""
           },
           "bgcolor": "#E5ECF6",
           "caxis": {
            "gridcolor": "white",
            "linecolor": "white",
            "ticks": ""
           }
          },
          "title": {
           "x": 0.05
          },
          "xaxis": {
           "automargin": true,
           "gridcolor": "white",
           "linecolor": "white",
           "ticks": "",
           "title": {
            "standoff": 15
           },
           "zerolinecolor": "white",
           "zerolinewidth": 2
          },
          "yaxis": {
           "automargin": true,
           "gridcolor": "white",
           "linecolor": "white",
           "ticks": "",
           "title": {
            "standoff": 15
           },
           "zerolinecolor": "white",
           "zerolinewidth": 2
          }
         }
        },
        "xaxis": {
         "anchor": "y",
         "domain": [
          0,
          1
         ],
         "title": {
          "text": "Rushing Output"
         }
        },
        "yaxis": {
         "anchor": "x",
         "domain": [
          0,
          1
         ],
         "title": {
          "text": "Passing Output"
         }
        }
       }
      }
     },
     "metadata": {},
     "output_type": "display_data"
    }
   ],
   "source": [
    "sns.set_theme(style = 'white')\n",
    "sns.set_style('ticks')\n",
    "sns.set_style({'font.family':'serif', 'font.serif':['Helvetica']})\n",
    "\n",
    "#Temp\n",
    "#custom_colors = ['#44bcd8', '#cce7e8', '#042f66', '#D3D3D3']\n",
    "\n",
    "\n",
    "\n",
    "fig = px.scatter(plotting_data, x = 'rush_off', y='pass_off',\n",
    "                 color = 'offense_groups', \n",
    "                 #color_discrete_sequence= custom_colors,\n",
    "                 hover_data={\n",
    "                     'team':True,\n",
    "                     'rush_off': True,\n",
    "                     'pass_off': True,\n",
    "                     'rush_def': False,\n",
    "                     'pass_def': False,\n",
    "                     'offense_groups': False,\n",
    "                     'defense_groups': False\n",
    "                 },\n",
    "                 labels={\n",
    "                     'team': 'Team Code',\n",
    "                     'rush_off': 'Rushing Output',\n",
    "                     'pass_off': 'Passing Output'\n",
    "                 })\n",
    "fig.add_hline(y = pass_off_avg, line_color = 'gray', line_dash = 'dash',\n",
    "              annotation_text = 'average passing output',\n",
    "              annotation_position = 'top left', opacity = 0.7)\n",
    "fig.add_vline(x = rush_off_avg, line_color = 'gray', line_dash = 'dash',\n",
    "              annotation_text = 'average rushing output',\n",
    "              annotation_position = 'top left', opacity = 0.7)\n",
    "\n",
    "\n",
    "\n",
    "# ax.set_xlabel('Average yards gained on rushing plays')\n",
    "# ax.set_ylabel('Average yards gained on passing plays')\n",
    "# ax.set_title('Offensive output of NFL Teams')\n",
    "\n",
    "\n",
    "fig.update_layout(margin=dict(l=20, r=20, t=20, b=20))"
   ]
  },
  {
   "cell_type": "code",
   "execution_count": null,
   "metadata": {},
   "outputs": [],
   "source": []
  }
 ],
 "metadata": {
  "kernelspec": {
   "display_name": "base",
   "language": "python",
   "name": "python3"
  },
  "language_info": {
   "codemirror_mode": {
    "name": "ipython",
    "version": 3
   },
   "file_extension": ".py",
   "mimetype": "text/x-python",
   "name": "python",
   "nbconvert_exporter": "python",
   "pygments_lexer": "ipython3",
   "version": "3.8.8"
  }
 },
 "nbformat": 4,
 "nbformat_minor": 2
}
