{
 "cells": [
  {
   "cell_type": "code",
   "execution_count": 44,
   "metadata": {},
   "outputs": [
    {
     "name": "stdout",
     "output_type": "stream",
     "text": [
      "Requirement already satisfied: nbformat in c:\\users\\reede\\appdata\\local\\packages\\pythonsoftwarefoundation.python.3.11_qbz5n2kfra8p0\\localcache\\local-packages\\python311\\site-packages (5.9.2)\n",
      "Requirement already satisfied: fastjsonschema in c:\\users\\reede\\appdata\\local\\packages\\pythonsoftwarefoundation.python.3.11_qbz5n2kfra8p0\\localcache\\local-packages\\python311\\site-packages (from nbformat) (2.19.0)\n",
      "Requirement already satisfied: jsonschema>=2.6 in c:\\users\\reede\\appdata\\local\\packages\\pythonsoftwarefoundation.python.3.11_qbz5n2kfra8p0\\localcache\\local-packages\\python311\\site-packages (from nbformat) (4.20.0)\n",
      "Requirement already satisfied: jupyter-core in c:\\users\\reede\\appdata\\local\\packages\\pythonsoftwarefoundation.python.3.11_qbz5n2kfra8p0\\localcache\\local-packages\\python311\\site-packages (from nbformat) (5.5.0)\n",
      "Requirement already satisfied: traitlets>=5.1 in c:\\users\\reede\\appdata\\local\\packages\\pythonsoftwarefoundation.python.3.11_qbz5n2kfra8p0\\localcache\\local-packages\\python311\\site-packages (from nbformat) (5.14.0)\n",
      "Requirement already satisfied: attrs>=22.2.0 in c:\\users\\reede\\appdata\\local\\packages\\pythonsoftwarefoundation.python.3.11_qbz5n2kfra8p0\\localcache\\local-packages\\python311\\site-packages (from jsonschema>=2.6->nbformat) (23.1.0)\n",
      "Requirement already satisfied: jsonschema-specifications>=2023.03.6 in c:\\users\\reede\\appdata\\local\\packages\\pythonsoftwarefoundation.python.3.11_qbz5n2kfra8p0\\localcache\\local-packages\\python311\\site-packages (from jsonschema>=2.6->nbformat) (2023.11.2)\n",
      "Requirement already satisfied: referencing>=0.28.4 in c:\\users\\reede\\appdata\\local\\packages\\pythonsoftwarefoundation.python.3.11_qbz5n2kfra8p0\\localcache\\local-packages\\python311\\site-packages (from jsonschema>=2.6->nbformat) (0.31.1)\n",
      "Requirement already satisfied: rpds-py>=0.7.1 in c:\\users\\reede\\appdata\\local\\packages\\pythonsoftwarefoundation.python.3.11_qbz5n2kfra8p0\\localcache\\local-packages\\python311\\site-packages (from jsonschema>=2.6->nbformat) (0.13.2)\n",
      "Requirement already satisfied: platformdirs>=2.5 in c:\\users\\reede\\appdata\\local\\packages\\pythonsoftwarefoundation.python.3.11_qbz5n2kfra8p0\\localcache\\local-packages\\python311\\site-packages (from jupyter-core->nbformat) (4.0.0)\n",
      "Requirement already satisfied: pywin32>=300 in c:\\users\\reede\\appdata\\local\\packages\\pythonsoftwarefoundation.python.3.11_qbz5n2kfra8p0\\localcache\\local-packages\\python311\\site-packages (from jupyter-core->nbformat) (306)\n",
      "Note: you may need to restart the kernel to use updated packages.\n"
     ]
    },
    {
     "name": "stderr",
     "output_type": "stream",
     "text": [
      "\n",
      "[notice] A new release of pip is available: 23.2.1 -> 23.3.1\n",
      "[notice] To update, run: C:\\Users\\reede\\AppData\\Local\\Microsoft\\WindowsApps\\PythonSoftwareFoundation.Python.3.11_qbz5n2kfra8p0\\python.exe -m pip install --upgrade pip\n"
     ]
    },
    {
     "name": "stdout",
     "output_type": "stream",
     "text": [
      "Note: you may need to restart the kernel to use updated packages.\n"
     ]
    },
    {
     "name": "stderr",
     "output_type": "stream",
     "text": [
      "ERROR: Invalid requirement: '%upgrade'\n",
      "\n",
      "[notice] A new release of pip is available: 23.2.1 -> 23.3.1\n",
      "[notice] To update, run: C:\\Users\\reede\\AppData\\Local\\Microsoft\\WindowsApps\\PythonSoftwareFoundation.Python.3.11_qbz5n2kfra8p0\\python.exe -m pip install --upgrade pip\n"
     ]
    }
   ],
   "source": [
    "try: \n",
    "    import plotly.graph_objects as go\n",
    "except:\n",
    "    %pip install plotly\n",
    "    import plotly.graph_objects as go\n",
    "import pandas as pd\n",
    "import numpy as np\n",
    "import plotly.express as px\n",
    "import plotly.subplots as sp\n",
    "\n",
    "import os\n",
    "import json\n",
    "try:\n",
    "    import seaborn as sns\n",
    "except:\n",
    "    %pip install seaborn\n",
    "    import seaborn as sns\n",
    "\n",
    "%pip install nbformat\n",
    "\n",
    "%pip install %upgrade pip"
   ]
  },
  {
   "cell_type": "code",
   "execution_count": 13,
   "metadata": {},
   "outputs": [],
   "source": [
    "cwd = os.getcwd()\n",
    "os.chdir('C:\\\\Users\\\\reede\\\\OneDrive\\\\Documents\\\\GitHub\\\\Data_Vis_Final_Football\\\\data')\n",
    "#os.chdir('c:\\\\Users\\\\Nick\\\\Dropbox\\\\PC\\\\Documents\\\\GitHub\\\\Data_Vis_Final_Football\\\\data')\n",
    "with open('NFL_Stats.json', 'r') as f:\n",
    "  data = json.load(f)\n",
    "\n",
    "os.chdir('C:\\\\Users\\\\reede\\\\OneDrive\\\\Documents\\\\GitHub\\\\Data_Vis_Final_Football\\\\viz_testing_notebooks')\n",
    "#os.chdir('c:\\\\Users\\\\Nick\\\\Dropbox\\\\PC\\\\Documents\\\\GitHub\\\\Data_Vis_Final_Football\\\\viz_testing_notebooks')\n"
   ]
  },
  {
   "cell_type": "markdown",
   "metadata": {},
   "source": []
  },
  {
   "cell_type": "code",
   "execution_count": 14,
   "metadata": {},
   "outputs": [
    {
     "name": "stdout",
     "output_type": "stream",
     "text": [
      "dict_keys(['rush_off_general', 'rush_def_general', 'pass_off_general', 'pass_def_general', 'rush_off_by_team', 'rush_def_by_team', 'pass_off_by_team', 'pass_def_by_team'])\n"
     ]
    }
   ],
   "source": [
    "print(data['BLT'].keys())"
   ]
  },
  {
   "cell_type": "markdown",
   "metadata": {},
   "source": [
    "### Looking at the league overall\n",
    "\n",
    "# Two scatter plots consisting of a team offensive and defensive efficencies"
   ]
  },
  {
   "cell_type": "code",
   "execution_count": 23,
   "metadata": {},
   "outputs": [
    {
     "data": {
      "text/plain": [
       "dict_keys(['BLT', 'DEN', 'NE', 'BUF', 'CAR', 'SEA', 'CHI', 'CIN', 'CLV', 'MIA', 'DET', 'MIN', 'OAK', 'IND', 'KC', 'JAX', 'ATL', 'NO', 'TB', 'NYJ', 'PIT', 'TEN', 'GB', 'SF', 'SL', 'ARZ', 'DAL', 'NYG', 'PHI', 'WAS', 'SD', 'HST', 'LA', 'LAC', 'LV'])"
      ]
     },
     "execution_count": 23,
     "metadata": {},
     "output_type": "execute_result"
    }
   ],
   "source": [
    "data.keys()"
   ]
  },
  {
   "cell_type": "code",
   "execution_count": 27,
   "metadata": {},
   "outputs": [],
   "source": [
    "AFC_E = ['NE', 'BUF', 'MIA', 'NYJ']\n",
    "AFC_W = ['DEN', 'OAK', 'KC', 'LAC', 'SD', 'LV']\n",
    "AFC_N = ['BLT', 'CIN', 'CLV', 'PIT'] \n",
    "AFC_S = ['IND', 'JAX', 'TEN', 'HST']\n",
    "\n",
    "NFC_E = ['PHI', 'WAS', 'DAL', 'NYG']\n",
    "NFC_W = ['SEA', 'LA', 'SF', 'ARZ', 'SL']\n",
    "NFC_N = ['CHI', 'DET', 'MIN', 'GB']\n",
    "NFC_S = ['CAR', 'ATL', 'TB', 'NO']\n",
    "\n",
    "afc = AFC_E + AFC_N + AFC_S + AFC_W\n",
    "nfc = NFC_E +NFC_N + NFC_S + NFC_W"
   ]
  },
  {
   "cell_type": "code",
   "execution_count": 32,
   "metadata": {},
   "outputs": [],
   "source": [
    "divs = []\n",
    "for team in data.keys():\n",
    "    if team in AFC_E:\n",
    "        divs.append('AFC East')\n",
    "    elif team in AFC_N:\n",
    "        divs.append('AFC North')\n",
    "    elif team in AFC_S:\n",
    "        divs.append('AFC South')\n",
    "    elif team in AFC_W:\n",
    "        divs.append('AFC West')\n",
    "    elif team in NFC_E:\n",
    "        divs.append('NFC East')\n",
    "    elif team in NFC_N:\n",
    "        divs.append('NFC North')\n",
    "    elif team in NFC_S:\n",
    "        divs.append('NFC South')\n",
    "    elif team in NFC_W:\n",
    "        divs.append('NFC West')\n",
    "    else:\n",
    "        print(team)"
   ]
  },
  {
   "cell_type": "code",
   "execution_count": null,
   "metadata": {},
   "outputs": [],
   "source": []
  },
  {
   "cell_type": "code",
   "execution_count": 64,
   "metadata": {},
   "outputs": [],
   "source": [
    "rush_off = []\n",
    "rush_def = []\n",
    "pass_off = []\n",
    "pass_def = []\n",
    "for team in data.keys():\n",
    "    rush_off.append(data[team]['rush_off_general']['avg_yard'])\n",
    "    rush_def.append(data[team]['rush_def_general']['avg_yards_conceded'])\n",
    "    pass_off.append(data[team]['pass_off_general']['avg_yard'])\n",
    "    pass_def.append(data[team]['pass_def_general']['avg_yards_conceded'])\n",
    "\n",
    "plotting_data = pd.DataFrame(columns=['team', 'rush_off', 'rush_def', 'pass_off', 'pass_def', 'Divs'])\n",
    "\n",
    "plotting_data['team'] = data.keys()\n",
    "plotting_data['rush_off'] = [float(x) for x in rush_off]\n",
    "plotting_data['rush_def'] = [float(x) for x in rush_def]\n",
    "plotting_data['pass_off'] = [float(x) for x in pass_off]\n",
    "plotting_data['pass_def'] = [float(x) for x in pass_def]\n",
    "plotting_data['Divs'] = divs\n",
    "\n",
    "\n"
   ]
  },
  {
   "cell_type": "code",
   "execution_count": 71,
   "metadata": {},
   "outputs": [
    {
     "ename": "AttributeError",
     "evalue": "'NoneType' object has no attribute 'reset_index'",
     "output_type": "error",
     "traceback": [
      "\u001b[1;31m---------------------------------------------------------------------------\u001b[0m",
      "\u001b[1;31mAttributeError\u001b[0m                            Traceback (most recent call last)",
      "\u001b[1;32mc:\\Users\\reede\\OneDrive\\Documents\\GitHub\\Data_Vis_Final_Football\\viz_testing_notebooks\\def_effic.ipynb Cell 11\u001b[0m line \u001b[0;36m1\n\u001b[1;32m----> <a href='vscode-notebook-cell:/c%3A/Users/reede/OneDrive/Documents/GitHub/Data_Vis_Final_Football/viz_testing_notebooks/def_effic.ipynb#W6sZmlsZQ%3D%3D?line=0'>1</a>\u001b[0m plotting_data\u001b[39m.\u001b[39;49msort_values(by\u001b[39m=\u001b[39;49m[\u001b[39m'\u001b[39;49m\u001b[39mDivs\u001b[39;49m\u001b[39m'\u001b[39;49m], inplace\u001b[39m=\u001b[39;49m \u001b[39mTrue\u001b[39;49;00m)\u001b[39m.\u001b[39;49mreset_index(inplace \u001b[39m=\u001b[39m \u001b[39mTrue\u001b[39;00m, drop \u001b[39m=\u001b[39m \u001b[39mTrue\u001b[39;00m)\n",
      "\u001b[1;31mAttributeError\u001b[0m: 'NoneType' object has no attribute 'reset_index'"
     ]
    }
   ],
   "source": [
    "plotting_data.sort_values(by=['Divs'], inplace= True).reset_index(inplace = True, drop = True)"
   ]
  },
  {
   "cell_type": "code",
   "execution_count": 72,
   "metadata": {},
   "outputs": [
    {
     "data": {
      "text/html": [
       "<div>\n",
       "<style scoped>\n",
       "    .dataframe tbody tr th:only-of-type {\n",
       "        vertical-align: middle;\n",
       "    }\n",
       "\n",
       "    .dataframe tbody tr th {\n",
       "        vertical-align: top;\n",
       "    }\n",
       "\n",
       "    .dataframe thead th {\n",
       "        text-align: right;\n",
       "    }\n",
       "</style>\n",
       "<table border=\"1\" class=\"dataframe\">\n",
       "  <thead>\n",
       "    <tr style=\"text-align: right;\">\n",
       "      <th></th>\n",
       "      <th>team</th>\n",
       "      <th>rush_off</th>\n",
       "      <th>rush_def</th>\n",
       "      <th>pass_off</th>\n",
       "      <th>pass_def</th>\n",
       "      <th>Divs</th>\n",
       "      <th>offense_groups</th>\n",
       "      <th>defense_groups</th>\n",
       "    </tr>\n",
       "  </thead>\n",
       "  <tbody>\n",
       "    <tr>\n",
       "      <th>2</th>\n",
       "      <td>NE</td>\n",
       "      <td>6.521</td>\n",
       "      <td>6.584</td>\n",
       "      <td>16.921</td>\n",
       "      <td>16.406</td>\n",
       "      <td>AFC East</td>\n",
       "      <td>Passing above average</td>\n",
       "      <td>Both below average</td>\n",
       "    </tr>\n",
       "    <tr>\n",
       "      <th>3</th>\n",
       "      <td>BUF</td>\n",
       "      <td>6.526</td>\n",
       "      <td>6.915</td>\n",
       "      <td>16.119</td>\n",
       "      <td>16.030</td>\n",
       "      <td>AFC East</td>\n",
       "      <td>Both below average</td>\n",
       "      <td>Rushing above average</td>\n",
       "    </tr>\n",
       "    <tr>\n",
       "      <th>9</th>\n",
       "      <td>MIA</td>\n",
       "      <td>6.552</td>\n",
       "      <td>6.767</td>\n",
       "      <td>15.948</td>\n",
       "      <td>17.250</td>\n",
       "      <td>AFC East</td>\n",
       "      <td>Both below average</td>\n",
       "      <td>Both above average</td>\n",
       "    </tr>\n",
       "    <tr>\n",
       "      <th>19</th>\n",
       "      <td>NYJ</td>\n",
       "      <td>6.497</td>\n",
       "      <td>6.126</td>\n",
       "      <td>16.567</td>\n",
       "      <td>16.663</td>\n",
       "      <td>AFC East</td>\n",
       "      <td>Both below average</td>\n",
       "      <td>Passing above average</td>\n",
       "    </tr>\n",
       "    <tr>\n",
       "      <th>0</th>\n",
       "      <td>BLT</td>\n",
       "      <td>6.848</td>\n",
       "      <td>6.167</td>\n",
       "      <td>15.508</td>\n",
       "      <td>16.426</td>\n",
       "      <td>AFC North</td>\n",
       "      <td>Rushing above average</td>\n",
       "      <td>Both below average</td>\n",
       "    </tr>\n",
       "    <tr>\n",
       "      <th>20</th>\n",
       "      <td>PIT</td>\n",
       "      <td>6.415</td>\n",
       "      <td>6.535</td>\n",
       "      <td>16.214</td>\n",
       "      <td>16.520</td>\n",
       "      <td>AFC North</td>\n",
       "      <td>Both below average</td>\n",
       "      <td>Both below average</td>\n",
       "    </tr>\n",
       "    <tr>\n",
       "      <th>7</th>\n",
       "      <td>CIN</td>\n",
       "      <td>6.310</td>\n",
       "      <td>6.914</td>\n",
       "      <td>16.733</td>\n",
       "      <td>16.419</td>\n",
       "      <td>AFC North</td>\n",
       "      <td>Passing above average</td>\n",
       "      <td>Rushing above average</td>\n",
       "    </tr>\n",
       "    <tr>\n",
       "      <th>8</th>\n",
       "      <td>CLV</td>\n",
       "      <td>7.219</td>\n",
       "      <td>6.797</td>\n",
       "      <td>16.854</td>\n",
       "      <td>16.493</td>\n",
       "      <td>AFC North</td>\n",
       "      <td>Both above average</td>\n",
       "      <td>Rushing above average</td>\n",
       "    </tr>\n",
       "    <tr>\n",
       "      <th>31</th>\n",
       "      <td>HST</td>\n",
       "      <td>6.192</td>\n",
       "      <td>6.933</td>\n",
       "      <td>16.017</td>\n",
       "      <td>16.979</td>\n",
       "      <td>AFC South</td>\n",
       "      <td>Both below average</td>\n",
       "      <td>Both above average</td>\n",
       "    </tr>\n",
       "    <tr>\n",
       "      <th>21</th>\n",
       "      <td>TEN</td>\n",
       "      <td>7.133</td>\n",
       "      <td>6.318</td>\n",
       "      <td>16.717</td>\n",
       "      <td>16.482</td>\n",
       "      <td>AFC South</td>\n",
       "      <td>Both above average</td>\n",
       "      <td>Both below average</td>\n",
       "    </tr>\n",
       "    <tr>\n",
       "      <th>15</th>\n",
       "      <td>JAX</td>\n",
       "      <td>6.486</td>\n",
       "      <td>6.545</td>\n",
       "      <td>16.136</td>\n",
       "      <td>16.650</td>\n",
       "      <td>AFC South</td>\n",
       "      <td>Both below average</td>\n",
       "      <td>Passing above average</td>\n",
       "    </tr>\n",
       "    <tr>\n",
       "      <th>13</th>\n",
       "      <td>IND</td>\n",
       "      <td>6.516</td>\n",
       "      <td>6.454</td>\n",
       "      <td>16.371</td>\n",
       "      <td>16.614</td>\n",
       "      <td>AFC South</td>\n",
       "      <td>Both below average</td>\n",
       "      <td>Passing above average</td>\n",
       "    </tr>\n",
       "    <tr>\n",
       "      <th>30</th>\n",
       "      <td>SD</td>\n",
       "      <td>5.886</td>\n",
       "      <td>6.454</td>\n",
       "      <td>17.231</td>\n",
       "      <td>17.640</td>\n",
       "      <td>AFC West</td>\n",
       "      <td>Passing above average</td>\n",
       "      <td>Passing above average</td>\n",
       "    </tr>\n",
       "    <tr>\n",
       "      <th>33</th>\n",
       "      <td>LAC</td>\n",
       "      <td>6.548</td>\n",
       "      <td>7.529</td>\n",
       "      <td>17.030</td>\n",
       "      <td>16.000</td>\n",
       "      <td>AFC West</td>\n",
       "      <td>Passing above average</td>\n",
       "      <td>Rushing above average</td>\n",
       "    </tr>\n",
       "    <tr>\n",
       "      <th>34</th>\n",
       "      <td>LV</td>\n",
       "      <td>7.190</td>\n",
       "      <td>7.110</td>\n",
       "      <td>16.939</td>\n",
       "      <td>15.763</td>\n",
       "      <td>AFC West</td>\n",
       "      <td>Both above average</td>\n",
       "      <td>Rushing above average</td>\n",
       "    </tr>\n",
       "    <tr>\n",
       "      <th>12</th>\n",
       "      <td>OAK</td>\n",
       "      <td>6.674</td>\n",
       "      <td>6.374</td>\n",
       "      <td>16.211</td>\n",
       "      <td>17.862</td>\n",
       "      <td>AFC West</td>\n",
       "      <td>Rushing above average</td>\n",
       "      <td>Passing above average</td>\n",
       "    </tr>\n",
       "    <tr>\n",
       "      <th>1</th>\n",
       "      <td>DEN</td>\n",
       "      <td>6.592</td>\n",
       "      <td>6.269</td>\n",
       "      <td>16.505</td>\n",
       "      <td>16.229</td>\n",
       "      <td>AFC West</td>\n",
       "      <td>Both below average</td>\n",
       "      <td>Both below average</td>\n",
       "    </tr>\n",
       "    <tr>\n",
       "      <th>14</th>\n",
       "      <td>KC</td>\n",
       "      <td>6.684</td>\n",
       "      <td>6.980</td>\n",
       "      <td>17.701</td>\n",
       "      <td>16.736</td>\n",
       "      <td>AFC West</td>\n",
       "      <td>Both above average</td>\n",
       "      <td>Both above average</td>\n",
       "    </tr>\n",
       "    <tr>\n",
       "      <th>29</th>\n",
       "      <td>WAS</td>\n",
       "      <td>6.593</td>\n",
       "      <td>6.740</td>\n",
       "      <td>16.551</td>\n",
       "      <td>16.872</td>\n",
       "      <td>NFC East</td>\n",
       "      <td>Both below average</td>\n",
       "      <td>Both above average</td>\n",
       "    </tr>\n",
       "    <tr>\n",
       "      <th>28</th>\n",
       "      <td>PHI</td>\n",
       "      <td>6.725</td>\n",
       "      <td>6.608</td>\n",
       "      <td>16.717</td>\n",
       "      <td>16.666</td>\n",
       "      <td>NFC East</td>\n",
       "      <td>Both above average</td>\n",
       "      <td>Passing above average</td>\n",
       "    </tr>\n",
       "    <tr>\n",
       "      <th>27</th>\n",
       "      <td>NYG</td>\n",
       "      <td>6.452</td>\n",
       "      <td>6.589</td>\n",
       "      <td>15.906</td>\n",
       "      <td>16.765</td>\n",
       "      <td>NFC East</td>\n",
       "      <td>Both below average</td>\n",
       "      <td>Passing above average</td>\n",
       "    </tr>\n",
       "    <tr>\n",
       "      <th>26</th>\n",
       "      <td>DAL</td>\n",
       "      <td>7.215</td>\n",
       "      <td>6.780</td>\n",
       "      <td>16.457</td>\n",
       "      <td>16.594</td>\n",
       "      <td>NFC East</td>\n",
       "      <td>Rushing above average</td>\n",
       "      <td>Both above average</td>\n",
       "    </tr>\n",
       "    <tr>\n",
       "      <th>11</th>\n",
       "      <td>MIN</td>\n",
       "      <td>6.801</td>\n",
       "      <td>6.571</td>\n",
       "      <td>16.148</td>\n",
       "      <td>16.397</td>\n",
       "      <td>NFC North</td>\n",
       "      <td>Rushing above average</td>\n",
       "      <td>Both below average</td>\n",
       "    </tr>\n",
       "    <tr>\n",
       "      <th>10</th>\n",
       "      <td>DET</td>\n",
       "      <td>6.339</td>\n",
       "      <td>6.771</td>\n",
       "      <td>16.998</td>\n",
       "      <td>16.879</td>\n",
       "      <td>NFC North</td>\n",
       "      <td>Passing above average</td>\n",
       "      <td>Both above average</td>\n",
       "    </tr>\n",
       "    <tr>\n",
       "      <th>6</th>\n",
       "      <td>CHI</td>\n",
       "      <td>6.456</td>\n",
       "      <td>6.689</td>\n",
       "      <td>15.743</td>\n",
       "      <td>16.482</td>\n",
       "      <td>NFC North</td>\n",
       "      <td>Both below average</td>\n",
       "      <td>Rushing above average</td>\n",
       "    </tr>\n",
       "    <tr>\n",
       "      <th>22</th>\n",
       "      <td>GB</td>\n",
       "      <td>6.951</td>\n",
       "      <td>6.836</td>\n",
       "      <td>17.113</td>\n",
       "      <td>17.409</td>\n",
       "      <td>NFC North</td>\n",
       "      <td>Both above average</td>\n",
       "      <td>Both above average</td>\n",
       "    </tr>\n",
       "    <tr>\n",
       "      <th>4</th>\n",
       "      <td>CAR</td>\n",
       "      <td>6.598</td>\n",
       "      <td>6.829</td>\n",
       "      <td>16.896</td>\n",
       "      <td>15.842</td>\n",
       "      <td>NFC South</td>\n",
       "      <td>Passing above average</td>\n",
       "      <td>Rushing above average</td>\n",
       "    </tr>\n",
       "    <tr>\n",
       "      <th>17</th>\n",
       "      <td>NO</td>\n",
       "      <td>6.740</td>\n",
       "      <td>6.557</td>\n",
       "      <td>16.410</td>\n",
       "      <td>16.957</td>\n",
       "      <td>NFC South</td>\n",
       "      <td>Rushing above average</td>\n",
       "      <td>Passing above average</td>\n",
       "    </tr>\n",
       "    <tr>\n",
       "      <th>18</th>\n",
       "      <td>TB</td>\n",
       "      <td>6.327</td>\n",
       "      <td>6.390</td>\n",
       "      <td>16.488</td>\n",
       "      <td>15.924</td>\n",
       "      <td>NFC South</td>\n",
       "      <td>Both below average</td>\n",
       "      <td>Both below average</td>\n",
       "    </tr>\n",
       "    <tr>\n",
       "      <th>16</th>\n",
       "      <td>ATL</td>\n",
       "      <td>6.511</td>\n",
       "      <td>6.806</td>\n",
       "      <td>16.275</td>\n",
       "      <td>16.462</td>\n",
       "      <td>NFC South</td>\n",
       "      <td>Both below average</td>\n",
       "      <td>Rushing above average</td>\n",
       "    </tr>\n",
       "    <tr>\n",
       "      <th>23</th>\n",
       "      <td>SF</td>\n",
       "      <td>6.718</td>\n",
       "      <td>6.253</td>\n",
       "      <td>18.058</td>\n",
       "      <td>16.078</td>\n",
       "      <td>NFC West</td>\n",
       "      <td>Both above average</td>\n",
       "      <td>Both below average</td>\n",
       "    </tr>\n",
       "    <tr>\n",
       "      <th>5</th>\n",
       "      <td>SEA</td>\n",
       "      <td>6.986</td>\n",
       "      <td>6.272</td>\n",
       "      <td>17.195</td>\n",
       "      <td>16.078</td>\n",
       "      <td>NFC West</td>\n",
       "      <td>Both above average</td>\n",
       "      <td>Both below average</td>\n",
       "    </tr>\n",
       "    <tr>\n",
       "      <th>32</th>\n",
       "      <td>LA</td>\n",
       "      <td>6.618</td>\n",
       "      <td>6.707</td>\n",
       "      <td>17.161</td>\n",
       "      <td>16.288</td>\n",
       "      <td>NFC West</td>\n",
       "      <td>Both above average</td>\n",
       "      <td>Rushing above average</td>\n",
       "    </tr>\n",
       "    <tr>\n",
       "      <th>25</th>\n",
       "      <td>ARZ</td>\n",
       "      <td>6.219</td>\n",
       "      <td>6.722</td>\n",
       "      <td>16.207</td>\n",
       "      <td>16.618</td>\n",
       "      <td>NFC West</td>\n",
       "      <td>Both below average</td>\n",
       "      <td>Both above average</td>\n",
       "    </tr>\n",
       "    <tr>\n",
       "      <th>24</th>\n",
       "      <td>SL</td>\n",
       "      <td>6.451</td>\n",
       "      <td>6.163</td>\n",
       "      <td>16.761</td>\n",
       "      <td>17.309</td>\n",
       "      <td>NFC West</td>\n",
       "      <td>Passing above average</td>\n",
       "      <td>Passing above average</td>\n",
       "    </tr>\n",
       "  </tbody>\n",
       "</table>\n",
       "</div>"
      ],
      "text/plain": [
       "   team  rush_off  rush_def  pass_off  pass_def       Divs  \\\n",
       "2    NE     6.521     6.584    16.921    16.406   AFC East   \n",
       "3   BUF     6.526     6.915    16.119    16.030   AFC East   \n",
       "9   MIA     6.552     6.767    15.948    17.250   AFC East   \n",
       "19  NYJ     6.497     6.126    16.567    16.663   AFC East   \n",
       "0   BLT     6.848     6.167    15.508    16.426  AFC North   \n",
       "20  PIT     6.415     6.535    16.214    16.520  AFC North   \n",
       "7   CIN     6.310     6.914    16.733    16.419  AFC North   \n",
       "8   CLV     7.219     6.797    16.854    16.493  AFC North   \n",
       "31  HST     6.192     6.933    16.017    16.979  AFC South   \n",
       "21  TEN     7.133     6.318    16.717    16.482  AFC South   \n",
       "15  JAX     6.486     6.545    16.136    16.650  AFC South   \n",
       "13  IND     6.516     6.454    16.371    16.614  AFC South   \n",
       "30   SD     5.886     6.454    17.231    17.640   AFC West   \n",
       "33  LAC     6.548     7.529    17.030    16.000   AFC West   \n",
       "34   LV     7.190     7.110    16.939    15.763   AFC West   \n",
       "12  OAK     6.674     6.374    16.211    17.862   AFC West   \n",
       "1   DEN     6.592     6.269    16.505    16.229   AFC West   \n",
       "14   KC     6.684     6.980    17.701    16.736   AFC West   \n",
       "29  WAS     6.593     6.740    16.551    16.872   NFC East   \n",
       "28  PHI     6.725     6.608    16.717    16.666   NFC East   \n",
       "27  NYG     6.452     6.589    15.906    16.765   NFC East   \n",
       "26  DAL     7.215     6.780    16.457    16.594   NFC East   \n",
       "11  MIN     6.801     6.571    16.148    16.397  NFC North   \n",
       "10  DET     6.339     6.771    16.998    16.879  NFC North   \n",
       "6   CHI     6.456     6.689    15.743    16.482  NFC North   \n",
       "22   GB     6.951     6.836    17.113    17.409  NFC North   \n",
       "4   CAR     6.598     6.829    16.896    15.842  NFC South   \n",
       "17   NO     6.740     6.557    16.410    16.957  NFC South   \n",
       "18   TB     6.327     6.390    16.488    15.924  NFC South   \n",
       "16  ATL     6.511     6.806    16.275    16.462  NFC South   \n",
       "23   SF     6.718     6.253    18.058    16.078   NFC West   \n",
       "5   SEA     6.986     6.272    17.195    16.078   NFC West   \n",
       "32   LA     6.618     6.707    17.161    16.288   NFC West   \n",
       "25  ARZ     6.219     6.722    16.207    16.618   NFC West   \n",
       "24   SL     6.451     6.163    16.761    17.309   NFC West   \n",
       "\n",
       "           offense_groups         defense_groups  \n",
       "2   Passing above average     Both below average  \n",
       "3      Both below average  Rushing above average  \n",
       "9      Both below average     Both above average  \n",
       "19     Both below average  Passing above average  \n",
       "0   Rushing above average     Both below average  \n",
       "20     Both below average     Both below average  \n",
       "7   Passing above average  Rushing above average  \n",
       "8      Both above average  Rushing above average  \n",
       "31     Both below average     Both above average  \n",
       "21     Both above average     Both below average  \n",
       "15     Both below average  Passing above average  \n",
       "13     Both below average  Passing above average  \n",
       "30  Passing above average  Passing above average  \n",
       "33  Passing above average  Rushing above average  \n",
       "34     Both above average  Rushing above average  \n",
       "12  Rushing above average  Passing above average  \n",
       "1      Both below average     Both below average  \n",
       "14     Both above average     Both above average  \n",
       "29     Both below average     Both above average  \n",
       "28     Both above average  Passing above average  \n",
       "27     Both below average  Passing above average  \n",
       "26  Rushing above average     Both above average  \n",
       "11  Rushing above average     Both below average  \n",
       "10  Passing above average     Both above average  \n",
       "6      Both below average  Rushing above average  \n",
       "22     Both above average     Both above average  \n",
       "4   Passing above average  Rushing above average  \n",
       "17  Rushing above average  Passing above average  \n",
       "18     Both below average     Both below average  \n",
       "16     Both below average  Rushing above average  \n",
       "23     Both above average     Both below average  \n",
       "5      Both above average     Both below average  \n",
       "32     Both above average  Rushing above average  \n",
       "25     Both below average     Both above average  \n",
       "24  Passing above average  Passing above average  "
      ]
     },
     "execution_count": 72,
     "metadata": {},
     "output_type": "execute_result"
    }
   ],
   "source": [
    "plotting_data"
   ]
  },
  {
   "cell_type": "markdown",
   "metadata": {},
   "source": []
  },
  {
   "cell_type": "code",
   "execution_count": 73,
   "metadata": {},
   "outputs": [],
   "source": [
    "rush_off_avg = np.mean(plotting_data['rush_off'])\n",
    "rush_def_avg = np.mean(plotting_data['rush_def'])\n",
    "pass_off_avg = np.mean(plotting_data['pass_off'])\n",
    "pass_def_avg = np.mean(plotting_data['pass_def'])\n",
    "\n",
    "offense_groups = []\n",
    "defense_groups = []\n",
    "for index, row in plotting_data.iterrows():\n",
    "    if row['rush_off'] > rush_off_avg and row['pass_off'] > pass_off_avg: #Both above average\n",
    "        offense_groups.append('Both above average')\n",
    "    elif row['rush_off'] > rush_off_avg: #Only rush offense is above average\n",
    "        offense_groups.append('Rushing above average')\n",
    "    elif row['pass_off'] > pass_off_avg: #Only pass offense is above average\n",
    "        offense_groups.append('Passing above average')\n",
    "    else: #Both are below average\n",
    "        offense_groups.append('Both below average')\n",
    "\n",
    "    if row['rush_def'] > rush_def_avg and row['pass_def'] > pass_def_avg: #Both above average\n",
    "        defense_groups.append('Both above average')\n",
    "    elif row['rush_def'] > rush_def_avg: #Only rush offense is above average\n",
    "        defense_groups.append('Rushing above average')\n",
    "    elif row['pass_def'] > pass_def_avg: #Only pass offense is above average\n",
    "        defense_groups.append('Passing above average')\n",
    "    else: #Both are below average\n",
    "        defense_groups.append('Both below average')\n",
    "\n",
    "\n",
    "plotting_data['offense_groups'] = offense_groups\n",
    "plotting_data['defense_groups'] = defense_groups\n",
    "    \n",
    "\n"
   ]
  },
  {
   "cell_type": "code",
   "execution_count": 77,
   "metadata": {},
   "outputs": [
    {
     "ename": "ValueError",
     "evalue": "Mime type rendering requires nbformat>=4.2.0 but it is not installed",
     "output_type": "error",
     "traceback": [
      "\u001b[1;31m---------------------------------------------------------------------------\u001b[0m",
      "\u001b[1;31mValueError\u001b[0m                                Traceback (most recent call last)",
      "File \u001b[1;32m~\\AppData\\Local\\Packages\\PythonSoftwareFoundation.Python.3.11_qbz5n2kfra8p0\\LocalCache\\local-packages\\Python311\\site-packages\\IPython\\core\\formatters.py:922\u001b[0m, in \u001b[0;36mIPythonDisplayFormatter.__call__\u001b[1;34m(self, obj)\u001b[0m\n\u001b[0;32m    920\u001b[0m method \u001b[39m=\u001b[39m get_real_method(obj, \u001b[39mself\u001b[39m\u001b[39m.\u001b[39mprint_method)\n\u001b[0;32m    921\u001b[0m \u001b[39mif\u001b[39;00m method \u001b[39mis\u001b[39;00m \u001b[39mnot\u001b[39;00m \u001b[39mNone\u001b[39;00m:\n\u001b[1;32m--> 922\u001b[0m     method()\n\u001b[0;32m    923\u001b[0m     \u001b[39mreturn\u001b[39;00m \u001b[39mTrue\u001b[39;00m\n",
      "File \u001b[1;32m~\\AppData\\Local\\Packages\\PythonSoftwareFoundation.Python.3.11_qbz5n2kfra8p0\\LocalCache\\local-packages\\Python311\\site-packages\\plotly\\basedatatypes.py:832\u001b[0m, in \u001b[0;36mBaseFigure._ipython_display_\u001b[1;34m(self)\u001b[0m\n\u001b[0;32m    829\u001b[0m \u001b[39mimport\u001b[39;00m \u001b[39mplotly\u001b[39;00m\u001b[39m.\u001b[39;00m\u001b[39mio\u001b[39;00m \u001b[39mas\u001b[39;00m \u001b[39mpio\u001b[39;00m\n\u001b[0;32m    831\u001b[0m \u001b[39mif\u001b[39;00m pio\u001b[39m.\u001b[39mrenderers\u001b[39m.\u001b[39mrender_on_display \u001b[39mand\u001b[39;00m pio\u001b[39m.\u001b[39mrenderers\u001b[39m.\u001b[39mdefault:\n\u001b[1;32m--> 832\u001b[0m     pio\u001b[39m.\u001b[39;49mshow(\u001b[39mself\u001b[39;49m)\n\u001b[0;32m    833\u001b[0m \u001b[39melse\u001b[39;00m:\n\u001b[0;32m    834\u001b[0m     \u001b[39mprint\u001b[39m(\u001b[39mrepr\u001b[39m(\u001b[39mself\u001b[39m))\n",
      "File \u001b[1;32m~\\AppData\\Local\\Packages\\PythonSoftwareFoundation.Python.3.11_qbz5n2kfra8p0\\LocalCache\\local-packages\\Python311\\site-packages\\plotly\\io\\_renderers.py:394\u001b[0m, in \u001b[0;36mshow\u001b[1;34m(fig, renderer, validate, **kwargs)\u001b[0m\n\u001b[0;32m    389\u001b[0m         \u001b[39mraise\u001b[39;00m \u001b[39mValueError\u001b[39;00m(\n\u001b[0;32m    390\u001b[0m             \u001b[39m\"\u001b[39m\u001b[39mMime type rendering requires ipython but it is not installed\u001b[39m\u001b[39m\"\u001b[39m\n\u001b[0;32m    391\u001b[0m         )\n\u001b[0;32m    393\u001b[0m     \u001b[39mif\u001b[39;00m \u001b[39mnot\u001b[39;00m nbformat \u001b[39mor\u001b[39;00m Version(nbformat\u001b[39m.\u001b[39m__version__) \u001b[39m<\u001b[39m Version(\u001b[39m\"\u001b[39m\u001b[39m4.2.0\u001b[39m\u001b[39m\"\u001b[39m):\n\u001b[1;32m--> 394\u001b[0m         \u001b[39mraise\u001b[39;00m \u001b[39mValueError\u001b[39;00m(\n\u001b[0;32m    395\u001b[0m             \u001b[39m\"\u001b[39m\u001b[39mMime type rendering requires nbformat>=4.2.0 but it is not installed\u001b[39m\u001b[39m\"\u001b[39m\n\u001b[0;32m    396\u001b[0m         )\n\u001b[0;32m    398\u001b[0m     ipython_display\u001b[39m.\u001b[39mdisplay(bundle, raw\u001b[39m=\u001b[39m\u001b[39mTrue\u001b[39;00m)\n\u001b[0;32m    400\u001b[0m \u001b[39m# external renderers\u001b[39;00m\n",
      "\u001b[1;31mValueError\u001b[0m: Mime type rendering requires nbformat>=4.2.0 but it is not installed"
     ]
    },
    {
     "data": {
      "application/vnd.plotly.v1+json": {
       "config": {
        "plotlyServerURL": "https://plot.ly"
       },
       "data": [
        {
         "customdata": [
          [
           "NE",
           6.584,
           16.406,
           "AFC East"
          ],
          [
           "BUF",
           6.915,
           16.03,
           "AFC East"
          ],
          [
           "MIA",
           6.767,
           17.25,
           "AFC East"
          ],
          [
           "NYJ",
           6.126,
           16.663,
           "AFC East"
          ]
         ],
         "hovertemplate": "Division=%{customdata[3]}<br>Rushing Output=%{x}<br>Passing Output=%{y}<br>Team Code=%{customdata[0]}<extra></extra>",
         "legendgroup": "AFC East",
         "marker": {
          "color": "#800000",
          "symbol": "circle"
         },
         "mode": "markers",
         "name": "AFC East",
         "orientation": "v",
         "showlegend": true,
         "type": "scatter",
         "x": [
          6.521,
          6.526,
          6.552,
          6.497
         ],
         "xaxis": "x",
         "y": [
          16.921,
          16.119,
          15.948,
          16.567
         ],
         "yaxis": "y"
        },
        {
         "customdata": [
          [
           "BLT",
           6.167,
           16.426,
           "AFC North"
          ],
          [
           "PIT",
           6.535,
           16.52,
           "AFC North"
          ],
          [
           "CIN",
           6.914,
           16.419,
           "AFC North"
          ],
          [
           "CLV",
           6.797,
           16.493,
           "AFC North"
          ]
         ],
         "hovertemplate": "Division=%{customdata[3]}<br>Rushing Output=%{x}<br>Passing Output=%{y}<br>Team Code=%{customdata[0]}<extra></extra>",
         "legendgroup": "AFC North",
         "marker": {
          "color": "#e60000",
          "symbol": "circle"
         },
         "mode": "markers",
         "name": "AFC North",
         "orientation": "v",
         "showlegend": true,
         "type": "scatter",
         "x": [
          6.848,
          6.415,
          6.31,
          7.219
         ],
         "xaxis": "x",
         "y": [
          15.508,
          16.214,
          16.733,
          16.854
         ],
         "yaxis": "y"
        },
        {
         "customdata": [
          [
           "HST",
           6.933,
           16.979,
           "AFC South"
          ],
          [
           "TEN",
           6.318,
           16.482,
           "AFC South"
          ],
          [
           "JAX",
           6.545,
           16.65,
           "AFC South"
          ],
          [
           "IND",
           6.454,
           16.614,
           "AFC South"
          ]
         ],
         "hovertemplate": "Division=%{customdata[3]}<br>Rushing Output=%{x}<br>Passing Output=%{y}<br>Team Code=%{customdata[0]}<extra></extra>",
         "legendgroup": "AFC South",
         "marker": {
          "color": "#ff4d4d",
          "symbol": "circle"
         },
         "mode": "markers",
         "name": "AFC South",
         "orientation": "v",
         "showlegend": true,
         "type": "scatter",
         "x": [
          6.192,
          7.133,
          6.486,
          6.516
         ],
         "xaxis": "x",
         "y": [
          16.017,
          16.717,
          16.136,
          16.371
         ],
         "yaxis": "y"
        },
        {
         "customdata": [
          [
           "SD",
           6.454,
           17.64,
           "AFC West"
          ],
          [
           "LAC",
           7.529,
           16,
           "AFC West"
          ],
          [
           "LV",
           7.11,
           15.763,
           "AFC West"
          ],
          [
           "OAK",
           6.374,
           17.862,
           "AFC West"
          ],
          [
           "DEN",
           6.269,
           16.229,
           "AFC West"
          ],
          [
           "KC",
           6.98,
           16.736,
           "AFC West"
          ]
         ],
         "hovertemplate": "Division=%{customdata[3]}<br>Rushing Output=%{x}<br>Passing Output=%{y}<br>Team Code=%{customdata[0]}<extra></extra>",
         "legendgroup": "AFC West",
         "marker": {
          "color": "#ff6666",
          "symbol": "circle"
         },
         "mode": "markers",
         "name": "AFC West",
         "orientation": "v",
         "showlegend": true,
         "type": "scatter",
         "x": [
          5.886,
          6.548,
          7.19,
          6.674,
          6.592,
          6.684
         ],
         "xaxis": "x",
         "y": [
          17.231,
          17.03,
          16.939,
          16.211,
          16.505,
          17.701
         ],
         "yaxis": "y"
        },
        {
         "customdata": [
          [
           "WAS",
           6.74,
           16.872,
           "NFC East"
          ],
          [
           "PHI",
           6.608,
           16.666,
           "NFC East"
          ],
          [
           "NYG",
           6.589,
           16.765,
           "NFC East"
          ],
          [
           "DAL",
           6.78,
           16.594,
           "NFC East"
          ]
         ],
         "hovertemplate": "Division=%{customdata[3]}<br>Rushing Output=%{x}<br>Passing Output=%{y}<br>Team Code=%{customdata[0]}<extra></extra>",
         "legendgroup": "NFC East",
         "marker": {
          "color": "#0000cc",
          "symbol": "circle"
         },
         "mode": "markers",
         "name": "NFC East",
         "orientation": "v",
         "showlegend": true,
         "type": "scatter",
         "x": [
          6.593,
          6.725,
          6.452,
          7.215
         ],
         "xaxis": "x",
         "y": [
          16.551,
          16.717,
          15.906,
          16.457
         ],
         "yaxis": "y"
        },
        {
         "customdata": [
          [
           "MIN",
           6.571,
           16.397,
           "NFC North"
          ],
          [
           "DET",
           6.771,
           16.879,
           "NFC North"
          ],
          [
           "CHI",
           6.689,
           16.482,
           "NFC North"
          ],
          [
           "GB",
           6.836,
           17.409,
           "NFC North"
          ]
         ],
         "hovertemplate": "Division=%{customdata[3]}<br>Rushing Output=%{x}<br>Passing Output=%{y}<br>Team Code=%{customdata[0]}<extra></extra>",
         "legendgroup": "NFC North",
         "marker": {
          "color": "#00001a",
          "symbol": "circle"
         },
         "mode": "markers",
         "name": "NFC North",
         "orientation": "v",
         "showlegend": true,
         "type": "scatter",
         "x": [
          6.801,
          6.339,
          6.456,
          6.951
         ],
         "xaxis": "x",
         "y": [
          16.148,
          16.998,
          15.743,
          17.113
         ],
         "yaxis": "y"
        },
        {
         "customdata": [
          [
           "CAR",
           6.829,
           15.842,
           "NFC South"
          ],
          [
           "NO",
           6.557,
           16.957,
           "NFC South"
          ],
          [
           "TB",
           6.39,
           15.924,
           "NFC South"
          ],
          [
           "ATL",
           6.806,
           16.462,
           "NFC South"
          ]
         ],
         "hovertemplate": "Division=%{customdata[3]}<br>Rushing Output=%{x}<br>Passing Output=%{y}<br>Team Code=%{customdata[0]}<extra></extra>",
         "legendgroup": "NFC South",
         "marker": {
          "color": "#000066",
          "symbol": "circle"
         },
         "mode": "markers",
         "name": "NFC South",
         "orientation": "v",
         "showlegend": true,
         "type": "scatter",
         "x": [
          6.598,
          6.74,
          6.327,
          6.511
         ],
         "xaxis": "x",
         "y": [
          16.896,
          16.41,
          16.488,
          16.275
         ],
         "yaxis": "y"
        },
        {
         "customdata": [
          [
           "SF",
           6.253,
           16.078,
           "NFC West"
          ],
          [
           "SEA",
           6.272,
           16.078,
           "NFC West"
          ],
          [
           "LA",
           6.707,
           16.288,
           "NFC West"
          ],
          [
           "ARZ",
           6.722,
           16.618,
           "NFC West"
          ],
          [
           "SL",
           6.163,
           17.309,
           "NFC West"
          ]
         ],
         "hovertemplate": "Division=%{customdata[3]}<br>Rushing Output=%{x}<br>Passing Output=%{y}<br>Team Code=%{customdata[0]}<extra></extra>",
         "legendgroup": "NFC West",
         "marker": {
          "color": "#9999ff",
          "symbol": "circle"
         },
         "mode": "markers",
         "name": "NFC West",
         "orientation": "v",
         "showlegend": true,
         "type": "scatter",
         "x": [
          6.718,
          6.986,
          6.618,
          6.219,
          6.451
         ],
         "xaxis": "x",
         "y": [
          18.058,
          17.195,
          17.161,
          16.207,
          16.761
         ],
         "yaxis": "y"
        }
       ],
       "layout": {
        "annotations": [
         {
          "showarrow": false,
          "text": "average passing output",
          "x": 0,
          "xanchor": "left",
          "xref": "x domain",
          "y": 16.59445714285714,
          "yanchor": "bottom",
          "yref": "y"
         },
         {
          "showarrow": false,
          "text": "average rushing output",
          "x": 6.6139714285714275,
          "xanchor": "right",
          "xref": "x",
          "y": 1,
          "yanchor": "top",
          "yref": "y domain"
         }
        ],
        "legend": {
         "title": {
          "text": "Division"
         },
         "tracegroupgap": 0
        },
        "margin": {
         "b": 30,
         "l": 30,
         "r": 30,
         "t": 30
        },
        "shapes": [
         {
          "line": {
           "color": "gray",
           "dash": "dash"
          },
          "opacity": 0.7,
          "type": "line",
          "x0": 0,
          "x1": 1,
          "xref": "x domain",
          "y0": 16.59445714285714,
          "y1": 16.59445714285714,
          "yref": "y"
         },
         {
          "line": {
           "color": "gray",
           "dash": "dash"
          },
          "opacity": 0.7,
          "type": "line",
          "x0": 6.6139714285714275,
          "x1": 6.6139714285714275,
          "xref": "x",
          "y0": 0,
          "y1": 1,
          "yref": "y domain"
         }
        ],
        "template": {
         "data": {
          "bar": [
           {
            "error_x": {
             "color": "#2a3f5f"
            },
            "error_y": {
             "color": "#2a3f5f"
            },
            "marker": {
             "line": {
              "color": "white",
              "width": 0.5
             },
             "pattern": {
              "fillmode": "overlay",
              "size": 10,
              "solidity": 0.2
             }
            },
            "type": "bar"
           }
          ],
          "barpolar": [
           {
            "marker": {
             "line": {
              "color": "white",
              "width": 0.5
             },
             "pattern": {
              "fillmode": "overlay",
              "size": 10,
              "solidity": 0.2
             }
            },
            "type": "barpolar"
           }
          ],
          "carpet": [
           {
            "aaxis": {
             "endlinecolor": "#2a3f5f",
             "gridcolor": "#C8D4E3",
             "linecolor": "#C8D4E3",
             "minorgridcolor": "#C8D4E3",
             "startlinecolor": "#2a3f5f"
            },
            "baxis": {
             "endlinecolor": "#2a3f5f",
             "gridcolor": "#C8D4E3",
             "linecolor": "#C8D4E3",
             "minorgridcolor": "#C8D4E3",
             "startlinecolor": "#2a3f5f"
            },
            "type": "carpet"
           }
          ],
          "choropleth": [
           {
            "colorbar": {
             "outlinewidth": 0,
             "ticks": ""
            },
            "type": "choropleth"
           }
          ],
          "contour": [
           {
            "colorbar": {
             "outlinewidth": 0,
             "ticks": ""
            },
            "colorscale": [
             [
              0,
              "#0d0887"
             ],
             [
              0.1111111111111111,
              "#46039f"
             ],
             [
              0.2222222222222222,
              "#7201a8"
             ],
             [
              0.3333333333333333,
              "#9c179e"
             ],
             [
              0.4444444444444444,
              "#bd3786"
             ],
             [
              0.5555555555555556,
              "#d8576b"
             ],
             [
              0.6666666666666666,
              "#ed7953"
             ],
             [
              0.7777777777777778,
              "#fb9f3a"
             ],
             [
              0.8888888888888888,
              "#fdca26"
             ],
             [
              1,
              "#f0f921"
             ]
            ],
            "type": "contour"
           }
          ],
          "contourcarpet": [
           {
            "colorbar": {
             "outlinewidth": 0,
             "ticks": ""
            },
            "type": "contourcarpet"
           }
          ],
          "heatmap": [
           {
            "colorbar": {
             "outlinewidth": 0,
             "ticks": ""
            },
            "colorscale": [
             [
              0,
              "#0d0887"
             ],
             [
              0.1111111111111111,
              "#46039f"
             ],
             [
              0.2222222222222222,
              "#7201a8"
             ],
             [
              0.3333333333333333,
              "#9c179e"
             ],
             [
              0.4444444444444444,
              "#bd3786"
             ],
             [
              0.5555555555555556,
              "#d8576b"
             ],
             [
              0.6666666666666666,
              "#ed7953"
             ],
             [
              0.7777777777777778,
              "#fb9f3a"
             ],
             [
              0.8888888888888888,
              "#fdca26"
             ],
             [
              1,
              "#f0f921"
             ]
            ],
            "type": "heatmap"
           }
          ],
          "heatmapgl": [
           {
            "colorbar": {
             "outlinewidth": 0,
             "ticks": ""
            },
            "colorscale": [
             [
              0,
              "#0d0887"
             ],
             [
              0.1111111111111111,
              "#46039f"
             ],
             [
              0.2222222222222222,
              "#7201a8"
             ],
             [
              0.3333333333333333,
              "#9c179e"
             ],
             [
              0.4444444444444444,
              "#bd3786"
             ],
             [
              0.5555555555555556,
              "#d8576b"
             ],
             [
              0.6666666666666666,
              "#ed7953"
             ],
             [
              0.7777777777777778,
              "#fb9f3a"
             ],
             [
              0.8888888888888888,
              "#fdca26"
             ],
             [
              1,
              "#f0f921"
             ]
            ],
            "type": "heatmapgl"
           }
          ],
          "histogram": [
           {
            "marker": {
             "pattern": {
              "fillmode": "overlay",
              "size": 10,
              "solidity": 0.2
             }
            },
            "type": "histogram"
           }
          ],
          "histogram2d": [
           {
            "colorbar": {
             "outlinewidth": 0,
             "ticks": ""
            },
            "colorscale": [
             [
              0,
              "#0d0887"
             ],
             [
              0.1111111111111111,
              "#46039f"
             ],
             [
              0.2222222222222222,
              "#7201a8"
             ],
             [
              0.3333333333333333,
              "#9c179e"
             ],
             [
              0.4444444444444444,
              "#bd3786"
             ],
             [
              0.5555555555555556,
              "#d8576b"
             ],
             [
              0.6666666666666666,
              "#ed7953"
             ],
             [
              0.7777777777777778,
              "#fb9f3a"
             ],
             [
              0.8888888888888888,
              "#fdca26"
             ],
             [
              1,
              "#f0f921"
             ]
            ],
            "type": "histogram2d"
           }
          ],
          "histogram2dcontour": [
           {
            "colorbar": {
             "outlinewidth": 0,
             "ticks": ""
            },
            "colorscale": [
             [
              0,
              "#0d0887"
             ],
             [
              0.1111111111111111,
              "#46039f"
             ],
             [
              0.2222222222222222,
              "#7201a8"
             ],
             [
              0.3333333333333333,
              "#9c179e"
             ],
             [
              0.4444444444444444,
              "#bd3786"
             ],
             [
              0.5555555555555556,
              "#d8576b"
             ],
             [
              0.6666666666666666,
              "#ed7953"
             ],
             [
              0.7777777777777778,
              "#fb9f3a"
             ],
             [
              0.8888888888888888,
              "#fdca26"
             ],
             [
              1,
              "#f0f921"
             ]
            ],
            "type": "histogram2dcontour"
           }
          ],
          "mesh3d": [
           {
            "colorbar": {
             "outlinewidth": 0,
             "ticks": ""
            },
            "type": "mesh3d"
           }
          ],
          "parcoords": [
           {
            "line": {
             "colorbar": {
              "outlinewidth": 0,
              "ticks": ""
             }
            },
            "type": "parcoords"
           }
          ],
          "pie": [
           {
            "automargin": true,
            "type": "pie"
           }
          ],
          "scatter": [
           {
            "fillpattern": {
             "fillmode": "overlay",
             "size": 10,
             "solidity": 0.2
            },
            "type": "scatter"
           }
          ],
          "scatter3d": [
           {
            "line": {
             "colorbar": {
              "outlinewidth": 0,
              "ticks": ""
             }
            },
            "marker": {
             "colorbar": {
              "outlinewidth": 0,
              "ticks": ""
             }
            },
            "type": "scatter3d"
           }
          ],
          "scattercarpet": [
           {
            "marker": {
             "colorbar": {
              "outlinewidth": 0,
              "ticks": ""
             }
            },
            "type": "scattercarpet"
           }
          ],
          "scattergeo": [
           {
            "marker": {
             "colorbar": {
              "outlinewidth": 0,
              "ticks": ""
             }
            },
            "type": "scattergeo"
           }
          ],
          "scattergl": [
           {
            "marker": {
             "colorbar": {
              "outlinewidth": 0,
              "ticks": ""
             }
            },
            "type": "scattergl"
           }
          ],
          "scattermapbox": [
           {
            "marker": {
             "colorbar": {
              "outlinewidth": 0,
              "ticks": ""
             }
            },
            "type": "scattermapbox"
           }
          ],
          "scatterpolar": [
           {
            "marker": {
             "colorbar": {
              "outlinewidth": 0,
              "ticks": ""
             }
            },
            "type": "scatterpolar"
           }
          ],
          "scatterpolargl": [
           {
            "marker": {
             "colorbar": {
              "outlinewidth": 0,
              "ticks": ""
             }
            },
            "type": "scatterpolargl"
           }
          ],
          "scatterternary": [
           {
            "marker": {
             "colorbar": {
              "outlinewidth": 0,
              "ticks": ""
             }
            },
            "type": "scatterternary"
           }
          ],
          "surface": [
           {
            "colorbar": {
             "outlinewidth": 0,
             "ticks": ""
            },
            "colorscale": [
             [
              0,
              "#0d0887"
             ],
             [
              0.1111111111111111,
              "#46039f"
             ],
             [
              0.2222222222222222,
              "#7201a8"
             ],
             [
              0.3333333333333333,
              "#9c179e"
             ],
             [
              0.4444444444444444,
              "#bd3786"
             ],
             [
              0.5555555555555556,
              "#d8576b"
             ],
             [
              0.6666666666666666,
              "#ed7953"
             ],
             [
              0.7777777777777778,
              "#fb9f3a"
             ],
             [
              0.8888888888888888,
              "#fdca26"
             ],
             [
              1,
              "#f0f921"
             ]
            ],
            "type": "surface"
           }
          ],
          "table": [
           {
            "cells": {
             "fill": {
              "color": "#EBF0F8"
             },
             "line": {
              "color": "white"
             }
            },
            "header": {
             "fill": {
              "color": "#C8D4E3"
             },
             "line": {
              "color": "white"
             }
            },
            "type": "table"
           }
          ]
         },
         "layout": {
          "annotationdefaults": {
           "arrowcolor": "#2a3f5f",
           "arrowhead": 0,
           "arrowwidth": 1
          },
          "autotypenumbers": "strict",
          "coloraxis": {
           "colorbar": {
            "outlinewidth": 0,
            "ticks": ""
           }
          },
          "colorscale": {
           "diverging": [
            [
             0,
             "#8e0152"
            ],
            [
             0.1,
             "#c51b7d"
            ],
            [
             0.2,
             "#de77ae"
            ],
            [
             0.3,
             "#f1b6da"
            ],
            [
             0.4,
             "#fde0ef"
            ],
            [
             0.5,
             "#f7f7f7"
            ],
            [
             0.6,
             "#e6f5d0"
            ],
            [
             0.7,
             "#b8e186"
            ],
            [
             0.8,
             "#7fbc41"
            ],
            [
             0.9,
             "#4d9221"
            ],
            [
             1,
             "#276419"
            ]
           ],
           "sequential": [
            [
             0,
             "#0d0887"
            ],
            [
             0.1111111111111111,
             "#46039f"
            ],
            [
             0.2222222222222222,
             "#7201a8"
            ],
            [
             0.3333333333333333,
             "#9c179e"
            ],
            [
             0.4444444444444444,
             "#bd3786"
            ],
            [
             0.5555555555555556,
             "#d8576b"
            ],
            [
             0.6666666666666666,
             "#ed7953"
            ],
            [
             0.7777777777777778,
             "#fb9f3a"
            ],
            [
             0.8888888888888888,
             "#fdca26"
            ],
            [
             1,
             "#f0f921"
            ]
           ],
           "sequentialminus": [
            [
             0,
             "#0d0887"
            ],
            [
             0.1111111111111111,
             "#46039f"
            ],
            [
             0.2222222222222222,
             "#7201a8"
            ],
            [
             0.3333333333333333,
             "#9c179e"
            ],
            [
             0.4444444444444444,
             "#bd3786"
            ],
            [
             0.5555555555555556,
             "#d8576b"
            ],
            [
             0.6666666666666666,
             "#ed7953"
            ],
            [
             0.7777777777777778,
             "#fb9f3a"
            ],
            [
             0.8888888888888888,
             "#fdca26"
            ],
            [
             1,
             "#f0f921"
            ]
           ]
          },
          "colorway": [
           "#636efa",
           "#EF553B",
           "#00cc96",
           "#ab63fa",
           "#FFA15A",
           "#19d3f3",
           "#FF6692",
           "#B6E880",
           "#FF97FF",
           "#FECB52"
          ],
          "font": {
           "color": "#2a3f5f"
          },
          "geo": {
           "bgcolor": "white",
           "lakecolor": "white",
           "landcolor": "white",
           "showlakes": true,
           "showland": true,
           "subunitcolor": "#C8D4E3"
          },
          "hoverlabel": {
           "align": "left"
          },
          "hovermode": "closest",
          "mapbox": {
           "style": "light"
          },
          "paper_bgcolor": "white",
          "plot_bgcolor": "white",
          "polar": {
           "angularaxis": {
            "gridcolor": "#EBF0F8",
            "linecolor": "#EBF0F8",
            "ticks": ""
           },
           "bgcolor": "white",
           "radialaxis": {
            "gridcolor": "#EBF0F8",
            "linecolor": "#EBF0F8",
            "ticks": ""
           }
          },
          "scene": {
           "xaxis": {
            "backgroundcolor": "white",
            "gridcolor": "#DFE8F3",
            "gridwidth": 2,
            "linecolor": "#EBF0F8",
            "showbackground": true,
            "ticks": "",
            "zerolinecolor": "#EBF0F8"
           },
           "yaxis": {
            "backgroundcolor": "white",
            "gridcolor": "#DFE8F3",
            "gridwidth": 2,
            "linecolor": "#EBF0F8",
            "showbackground": true,
            "ticks": "",
            "zerolinecolor": "#EBF0F8"
           },
           "zaxis": {
            "backgroundcolor": "white",
            "gridcolor": "#DFE8F3",
            "gridwidth": 2,
            "linecolor": "#EBF0F8",
            "showbackground": true,
            "ticks": "",
            "zerolinecolor": "#EBF0F8"
           }
          },
          "shapedefaults": {
           "line": {
            "color": "#2a3f5f"
           }
          },
          "ternary": {
           "aaxis": {
            "gridcolor": "#DFE8F3",
            "linecolor": "#A2B1C6",
            "ticks": ""
           },
           "baxis": {
            "gridcolor": "#DFE8F3",
            "linecolor": "#A2B1C6",
            "ticks": ""
           },
           "bgcolor": "white",
           "caxis": {
            "gridcolor": "#DFE8F3",
            "linecolor": "#A2B1C6",
            "ticks": ""
           }
          },
          "title": {
           "x": 0.05
          },
          "xaxis": {
           "automargin": true,
           "gridcolor": "#EBF0F8",
           "linecolor": "#EBF0F8",
           "ticks": "",
           "title": {
            "standoff": 15
           },
           "zerolinecolor": "#EBF0F8",
           "zerolinewidth": 2
          },
          "yaxis": {
           "automargin": true,
           "gridcolor": "#EBF0F8",
           "linecolor": "#EBF0F8",
           "ticks": "",
           "title": {
            "standoff": 15
           },
           "zerolinecolor": "#EBF0F8",
           "zerolinewidth": 2
          }
         }
        },
        "title": {
         "text": "Offensive output"
        },
        "xaxis": {
         "anchor": "y",
         "domain": [
          0,
          1
         ],
         "title": {
          "text": "Rushing Output"
         }
        },
        "yaxis": {
         "anchor": "x",
         "domain": [
          0,
          1
         ],
         "title": {
          "text": "Passing Output"
         }
        }
       }
      },
      "text/html": [
       "<div>                        <script type=\"text/javascript\">window.PlotlyConfig = {MathJaxConfig: 'local'};</script>\n",
       "        <script charset=\"utf-8\" src=\"https://cdn.plot.ly/plotly-2.27.0.min.js\"></script>                <div id=\"916728e1-f0bf-4db3-acb6-8999326b0151\" class=\"plotly-graph-div\" style=\"height:100%; width:100%;\"></div>            <script type=\"text/javascript\">                                    window.PLOTLYENV=window.PLOTLYENV || {};                                    if (document.getElementById(\"916728e1-f0bf-4db3-acb6-8999326b0151\")) {                    Plotly.newPlot(                        \"916728e1-f0bf-4db3-acb6-8999326b0151\",                        [{\"customdata\":[[\"NE\",6.584,16.406,\"AFC East\"],[\"BUF\",6.915,16.03,\"AFC East\"],[\"MIA\",6.767,17.25,\"AFC East\"],[\"NYJ\",6.126,16.663,\"AFC East\"]],\"hovertemplate\":\"Division=%{customdata[3]}\\u003cbr\\u003eRushing Output=%{x}\\u003cbr\\u003ePassing Output=%{y}\\u003cbr\\u003eTeam Code=%{customdata[0]}\\u003cextra\\u003e\\u003c\\u002fextra\\u003e\",\"legendgroup\":\"AFC East\",\"marker\":{\"color\":\"#800000\",\"symbol\":\"circle\"},\"mode\":\"markers\",\"name\":\"AFC East\",\"orientation\":\"v\",\"showlegend\":true,\"x\":[6.521,6.526,6.552,6.497],\"xaxis\":\"x\",\"y\":[16.921,16.119,15.948,16.567],\"yaxis\":\"y\",\"type\":\"scatter\"},{\"customdata\":[[\"BLT\",6.167,16.426,\"AFC North\"],[\"PIT\",6.535,16.52,\"AFC North\"],[\"CIN\",6.914,16.419,\"AFC North\"],[\"CLV\",6.797,16.493,\"AFC North\"]],\"hovertemplate\":\"Division=%{customdata[3]}\\u003cbr\\u003eRushing Output=%{x}\\u003cbr\\u003ePassing Output=%{y}\\u003cbr\\u003eTeam Code=%{customdata[0]}\\u003cextra\\u003e\\u003c\\u002fextra\\u003e\",\"legendgroup\":\"AFC North\",\"marker\":{\"color\":\"#e60000\",\"symbol\":\"circle\"},\"mode\":\"markers\",\"name\":\"AFC North\",\"orientation\":\"v\",\"showlegend\":true,\"x\":[6.848,6.415,6.31,7.219],\"xaxis\":\"x\",\"y\":[15.508,16.214,16.733,16.854],\"yaxis\":\"y\",\"type\":\"scatter\"},{\"customdata\":[[\"HST\",6.933,16.979,\"AFC South\"],[\"TEN\",6.318,16.482,\"AFC South\"],[\"JAX\",6.545,16.65,\"AFC South\"],[\"IND\",6.454,16.614,\"AFC South\"]],\"hovertemplate\":\"Division=%{customdata[3]}\\u003cbr\\u003eRushing Output=%{x}\\u003cbr\\u003ePassing Output=%{y}\\u003cbr\\u003eTeam Code=%{customdata[0]}\\u003cextra\\u003e\\u003c\\u002fextra\\u003e\",\"legendgroup\":\"AFC South\",\"marker\":{\"color\":\"#ff4d4d\",\"symbol\":\"circle\"},\"mode\":\"markers\",\"name\":\"AFC South\",\"orientation\":\"v\",\"showlegend\":true,\"x\":[6.192,7.133,6.486,6.516],\"xaxis\":\"x\",\"y\":[16.017,16.717,16.136,16.371],\"yaxis\":\"y\",\"type\":\"scatter\"},{\"customdata\":[[\"SD\",6.454,17.64,\"AFC West\"],[\"LAC\",7.529,16.0,\"AFC West\"],[\"LV\",7.11,15.763,\"AFC West\"],[\"OAK\",6.374,17.862,\"AFC West\"],[\"DEN\",6.269,16.229,\"AFC West\"],[\"KC\",6.98,16.736,\"AFC West\"]],\"hovertemplate\":\"Division=%{customdata[3]}\\u003cbr\\u003eRushing Output=%{x}\\u003cbr\\u003ePassing Output=%{y}\\u003cbr\\u003eTeam Code=%{customdata[0]}\\u003cextra\\u003e\\u003c\\u002fextra\\u003e\",\"legendgroup\":\"AFC West\",\"marker\":{\"color\":\"#ff6666\",\"symbol\":\"circle\"},\"mode\":\"markers\",\"name\":\"AFC West\",\"orientation\":\"v\",\"showlegend\":true,\"x\":[5.886,6.548,7.19,6.674,6.592,6.684],\"xaxis\":\"x\",\"y\":[17.231,17.03,16.939,16.211,16.505,17.701],\"yaxis\":\"y\",\"type\":\"scatter\"},{\"customdata\":[[\"WAS\",6.74,16.872,\"NFC East\"],[\"PHI\",6.608,16.666,\"NFC East\"],[\"NYG\",6.589,16.765,\"NFC East\"],[\"DAL\",6.78,16.594,\"NFC East\"]],\"hovertemplate\":\"Division=%{customdata[3]}\\u003cbr\\u003eRushing Output=%{x}\\u003cbr\\u003ePassing Output=%{y}\\u003cbr\\u003eTeam Code=%{customdata[0]}\\u003cextra\\u003e\\u003c\\u002fextra\\u003e\",\"legendgroup\":\"NFC East\",\"marker\":{\"color\":\"#0000cc\",\"symbol\":\"circle\"},\"mode\":\"markers\",\"name\":\"NFC East\",\"orientation\":\"v\",\"showlegend\":true,\"x\":[6.593,6.725,6.452,7.215],\"xaxis\":\"x\",\"y\":[16.551,16.717,15.906,16.457],\"yaxis\":\"y\",\"type\":\"scatter\"},{\"customdata\":[[\"MIN\",6.571,16.397,\"NFC North\"],[\"DET\",6.771,16.879,\"NFC North\"],[\"CHI\",6.689,16.482,\"NFC North\"],[\"GB\",6.836,17.409,\"NFC North\"]],\"hovertemplate\":\"Division=%{customdata[3]}\\u003cbr\\u003eRushing Output=%{x}\\u003cbr\\u003ePassing Output=%{y}\\u003cbr\\u003eTeam Code=%{customdata[0]}\\u003cextra\\u003e\\u003c\\u002fextra\\u003e\",\"legendgroup\":\"NFC North\",\"marker\":{\"color\":\"#00001a\",\"symbol\":\"circle\"},\"mode\":\"markers\",\"name\":\"NFC North\",\"orientation\":\"v\",\"showlegend\":true,\"x\":[6.801,6.339,6.456,6.951],\"xaxis\":\"x\",\"y\":[16.148,16.998,15.743,17.113],\"yaxis\":\"y\",\"type\":\"scatter\"},{\"customdata\":[[\"CAR\",6.829,15.842,\"NFC South\"],[\"NO\",6.557,16.957,\"NFC South\"],[\"TB\",6.39,15.924,\"NFC South\"],[\"ATL\",6.806,16.462,\"NFC South\"]],\"hovertemplate\":\"Division=%{customdata[3]}\\u003cbr\\u003eRushing Output=%{x}\\u003cbr\\u003ePassing Output=%{y}\\u003cbr\\u003eTeam Code=%{customdata[0]}\\u003cextra\\u003e\\u003c\\u002fextra\\u003e\",\"legendgroup\":\"NFC South\",\"marker\":{\"color\":\"#000066\",\"symbol\":\"circle\"},\"mode\":\"markers\",\"name\":\"NFC South\",\"orientation\":\"v\",\"showlegend\":true,\"x\":[6.598,6.74,6.327,6.511],\"xaxis\":\"x\",\"y\":[16.896,16.41,16.488,16.275],\"yaxis\":\"y\",\"type\":\"scatter\"},{\"customdata\":[[\"SF\",6.253,16.078,\"NFC West\"],[\"SEA\",6.272,16.078,\"NFC West\"],[\"LA\",6.707,16.288,\"NFC West\"],[\"ARZ\",6.722,16.618,\"NFC West\"],[\"SL\",6.163,17.309,\"NFC West\"]],\"hovertemplate\":\"Division=%{customdata[3]}\\u003cbr\\u003eRushing Output=%{x}\\u003cbr\\u003ePassing Output=%{y}\\u003cbr\\u003eTeam Code=%{customdata[0]}\\u003cextra\\u003e\\u003c\\u002fextra\\u003e\",\"legendgroup\":\"NFC West\",\"marker\":{\"color\":\"#9999ff\",\"symbol\":\"circle\"},\"mode\":\"markers\",\"name\":\"NFC West\",\"orientation\":\"v\",\"showlegend\":true,\"x\":[6.718,6.986,6.618,6.219,6.451],\"xaxis\":\"x\",\"y\":[18.058,17.195,17.161,16.207,16.761],\"yaxis\":\"y\",\"type\":\"scatter\"}],                        {\"template\":{\"data\":{\"barpolar\":[{\"marker\":{\"line\":{\"color\":\"white\",\"width\":0.5},\"pattern\":{\"fillmode\":\"overlay\",\"size\":10,\"solidity\":0.2}},\"type\":\"barpolar\"}],\"bar\":[{\"error_x\":{\"color\":\"#2a3f5f\"},\"error_y\":{\"color\":\"#2a3f5f\"},\"marker\":{\"line\":{\"color\":\"white\",\"width\":0.5},\"pattern\":{\"fillmode\":\"overlay\",\"size\":10,\"solidity\":0.2}},\"type\":\"bar\"}],\"carpet\":[{\"aaxis\":{\"endlinecolor\":\"#2a3f5f\",\"gridcolor\":\"#C8D4E3\",\"linecolor\":\"#C8D4E3\",\"minorgridcolor\":\"#C8D4E3\",\"startlinecolor\":\"#2a3f5f\"},\"baxis\":{\"endlinecolor\":\"#2a3f5f\",\"gridcolor\":\"#C8D4E3\",\"linecolor\":\"#C8D4E3\",\"minorgridcolor\":\"#C8D4E3\",\"startlinecolor\":\"#2a3f5f\"},\"type\":\"carpet\"}],\"choropleth\":[{\"colorbar\":{\"outlinewidth\":0,\"ticks\":\"\"},\"type\":\"choropleth\"}],\"contourcarpet\":[{\"colorbar\":{\"outlinewidth\":0,\"ticks\":\"\"},\"type\":\"contourcarpet\"}],\"contour\":[{\"colorbar\":{\"outlinewidth\":0,\"ticks\":\"\"},\"colorscale\":[[0.0,\"#0d0887\"],[0.1111111111111111,\"#46039f\"],[0.2222222222222222,\"#7201a8\"],[0.3333333333333333,\"#9c179e\"],[0.4444444444444444,\"#bd3786\"],[0.5555555555555556,\"#d8576b\"],[0.6666666666666666,\"#ed7953\"],[0.7777777777777778,\"#fb9f3a\"],[0.8888888888888888,\"#fdca26\"],[1.0,\"#f0f921\"]],\"type\":\"contour\"}],\"heatmapgl\":[{\"colorbar\":{\"outlinewidth\":0,\"ticks\":\"\"},\"colorscale\":[[0.0,\"#0d0887\"],[0.1111111111111111,\"#46039f\"],[0.2222222222222222,\"#7201a8\"],[0.3333333333333333,\"#9c179e\"],[0.4444444444444444,\"#bd3786\"],[0.5555555555555556,\"#d8576b\"],[0.6666666666666666,\"#ed7953\"],[0.7777777777777778,\"#fb9f3a\"],[0.8888888888888888,\"#fdca26\"],[1.0,\"#f0f921\"]],\"type\":\"heatmapgl\"}],\"heatmap\":[{\"colorbar\":{\"outlinewidth\":0,\"ticks\":\"\"},\"colorscale\":[[0.0,\"#0d0887\"],[0.1111111111111111,\"#46039f\"],[0.2222222222222222,\"#7201a8\"],[0.3333333333333333,\"#9c179e\"],[0.4444444444444444,\"#bd3786\"],[0.5555555555555556,\"#d8576b\"],[0.6666666666666666,\"#ed7953\"],[0.7777777777777778,\"#fb9f3a\"],[0.8888888888888888,\"#fdca26\"],[1.0,\"#f0f921\"]],\"type\":\"heatmap\"}],\"histogram2dcontour\":[{\"colorbar\":{\"outlinewidth\":0,\"ticks\":\"\"},\"colorscale\":[[0.0,\"#0d0887\"],[0.1111111111111111,\"#46039f\"],[0.2222222222222222,\"#7201a8\"],[0.3333333333333333,\"#9c179e\"],[0.4444444444444444,\"#bd3786\"],[0.5555555555555556,\"#d8576b\"],[0.6666666666666666,\"#ed7953\"],[0.7777777777777778,\"#fb9f3a\"],[0.8888888888888888,\"#fdca26\"],[1.0,\"#f0f921\"]],\"type\":\"histogram2dcontour\"}],\"histogram2d\":[{\"colorbar\":{\"outlinewidth\":0,\"ticks\":\"\"},\"colorscale\":[[0.0,\"#0d0887\"],[0.1111111111111111,\"#46039f\"],[0.2222222222222222,\"#7201a8\"],[0.3333333333333333,\"#9c179e\"],[0.4444444444444444,\"#bd3786\"],[0.5555555555555556,\"#d8576b\"],[0.6666666666666666,\"#ed7953\"],[0.7777777777777778,\"#fb9f3a\"],[0.8888888888888888,\"#fdca26\"],[1.0,\"#f0f921\"]],\"type\":\"histogram2d\"}],\"histogram\":[{\"marker\":{\"pattern\":{\"fillmode\":\"overlay\",\"size\":10,\"solidity\":0.2}},\"type\":\"histogram\"}],\"mesh3d\":[{\"colorbar\":{\"outlinewidth\":0,\"ticks\":\"\"},\"type\":\"mesh3d\"}],\"parcoords\":[{\"line\":{\"colorbar\":{\"outlinewidth\":0,\"ticks\":\"\"}},\"type\":\"parcoords\"}],\"pie\":[{\"automargin\":true,\"type\":\"pie\"}],\"scatter3d\":[{\"line\":{\"colorbar\":{\"outlinewidth\":0,\"ticks\":\"\"}},\"marker\":{\"colorbar\":{\"outlinewidth\":0,\"ticks\":\"\"}},\"type\":\"scatter3d\"}],\"scattercarpet\":[{\"marker\":{\"colorbar\":{\"outlinewidth\":0,\"ticks\":\"\"}},\"type\":\"scattercarpet\"}],\"scattergeo\":[{\"marker\":{\"colorbar\":{\"outlinewidth\":0,\"ticks\":\"\"}},\"type\":\"scattergeo\"}],\"scattergl\":[{\"marker\":{\"colorbar\":{\"outlinewidth\":0,\"ticks\":\"\"}},\"type\":\"scattergl\"}],\"scattermapbox\":[{\"marker\":{\"colorbar\":{\"outlinewidth\":0,\"ticks\":\"\"}},\"type\":\"scattermapbox\"}],\"scatterpolargl\":[{\"marker\":{\"colorbar\":{\"outlinewidth\":0,\"ticks\":\"\"}},\"type\":\"scatterpolargl\"}],\"scatterpolar\":[{\"marker\":{\"colorbar\":{\"outlinewidth\":0,\"ticks\":\"\"}},\"type\":\"scatterpolar\"}],\"scatter\":[{\"fillpattern\":{\"fillmode\":\"overlay\",\"size\":10,\"solidity\":0.2},\"type\":\"scatter\"}],\"scatterternary\":[{\"marker\":{\"colorbar\":{\"outlinewidth\":0,\"ticks\":\"\"}},\"type\":\"scatterternary\"}],\"surface\":[{\"colorbar\":{\"outlinewidth\":0,\"ticks\":\"\"},\"colorscale\":[[0.0,\"#0d0887\"],[0.1111111111111111,\"#46039f\"],[0.2222222222222222,\"#7201a8\"],[0.3333333333333333,\"#9c179e\"],[0.4444444444444444,\"#bd3786\"],[0.5555555555555556,\"#d8576b\"],[0.6666666666666666,\"#ed7953\"],[0.7777777777777778,\"#fb9f3a\"],[0.8888888888888888,\"#fdca26\"],[1.0,\"#f0f921\"]],\"type\":\"surface\"}],\"table\":[{\"cells\":{\"fill\":{\"color\":\"#EBF0F8\"},\"line\":{\"color\":\"white\"}},\"header\":{\"fill\":{\"color\":\"#C8D4E3\"},\"line\":{\"color\":\"white\"}},\"type\":\"table\"}]},\"layout\":{\"annotationdefaults\":{\"arrowcolor\":\"#2a3f5f\",\"arrowhead\":0,\"arrowwidth\":1},\"autotypenumbers\":\"strict\",\"coloraxis\":{\"colorbar\":{\"outlinewidth\":0,\"ticks\":\"\"}},\"colorscale\":{\"diverging\":[[0,\"#8e0152\"],[0.1,\"#c51b7d\"],[0.2,\"#de77ae\"],[0.3,\"#f1b6da\"],[0.4,\"#fde0ef\"],[0.5,\"#f7f7f7\"],[0.6,\"#e6f5d0\"],[0.7,\"#b8e186\"],[0.8,\"#7fbc41\"],[0.9,\"#4d9221\"],[1,\"#276419\"]],\"sequential\":[[0.0,\"#0d0887\"],[0.1111111111111111,\"#46039f\"],[0.2222222222222222,\"#7201a8\"],[0.3333333333333333,\"#9c179e\"],[0.4444444444444444,\"#bd3786\"],[0.5555555555555556,\"#d8576b\"],[0.6666666666666666,\"#ed7953\"],[0.7777777777777778,\"#fb9f3a\"],[0.8888888888888888,\"#fdca26\"],[1.0,\"#f0f921\"]],\"sequentialminus\":[[0.0,\"#0d0887\"],[0.1111111111111111,\"#46039f\"],[0.2222222222222222,\"#7201a8\"],[0.3333333333333333,\"#9c179e\"],[0.4444444444444444,\"#bd3786\"],[0.5555555555555556,\"#d8576b\"],[0.6666666666666666,\"#ed7953\"],[0.7777777777777778,\"#fb9f3a\"],[0.8888888888888888,\"#fdca26\"],[1.0,\"#f0f921\"]]},\"colorway\":[\"#636efa\",\"#EF553B\",\"#00cc96\",\"#ab63fa\",\"#FFA15A\",\"#19d3f3\",\"#FF6692\",\"#B6E880\",\"#FF97FF\",\"#FECB52\"],\"font\":{\"color\":\"#2a3f5f\"},\"geo\":{\"bgcolor\":\"white\",\"lakecolor\":\"white\",\"landcolor\":\"white\",\"showlakes\":true,\"showland\":true,\"subunitcolor\":\"#C8D4E3\"},\"hoverlabel\":{\"align\":\"left\"},\"hovermode\":\"closest\",\"mapbox\":{\"style\":\"light\"},\"paper_bgcolor\":\"white\",\"plot_bgcolor\":\"white\",\"polar\":{\"angularaxis\":{\"gridcolor\":\"#EBF0F8\",\"linecolor\":\"#EBF0F8\",\"ticks\":\"\"},\"bgcolor\":\"white\",\"radialaxis\":{\"gridcolor\":\"#EBF0F8\",\"linecolor\":\"#EBF0F8\",\"ticks\":\"\"}},\"scene\":{\"xaxis\":{\"backgroundcolor\":\"white\",\"gridcolor\":\"#DFE8F3\",\"gridwidth\":2,\"linecolor\":\"#EBF0F8\",\"showbackground\":true,\"ticks\":\"\",\"zerolinecolor\":\"#EBF0F8\"},\"yaxis\":{\"backgroundcolor\":\"white\",\"gridcolor\":\"#DFE8F3\",\"gridwidth\":2,\"linecolor\":\"#EBF0F8\",\"showbackground\":true,\"ticks\":\"\",\"zerolinecolor\":\"#EBF0F8\"},\"zaxis\":{\"backgroundcolor\":\"white\",\"gridcolor\":\"#DFE8F3\",\"gridwidth\":2,\"linecolor\":\"#EBF0F8\",\"showbackground\":true,\"ticks\":\"\",\"zerolinecolor\":\"#EBF0F8\"}},\"shapedefaults\":{\"line\":{\"color\":\"#2a3f5f\"}},\"ternary\":{\"aaxis\":{\"gridcolor\":\"#DFE8F3\",\"linecolor\":\"#A2B1C6\",\"ticks\":\"\"},\"baxis\":{\"gridcolor\":\"#DFE8F3\",\"linecolor\":\"#A2B1C6\",\"ticks\":\"\"},\"bgcolor\":\"white\",\"caxis\":{\"gridcolor\":\"#DFE8F3\",\"linecolor\":\"#A2B1C6\",\"ticks\":\"\"}},\"title\":{\"x\":0.05},\"xaxis\":{\"automargin\":true,\"gridcolor\":\"#EBF0F8\",\"linecolor\":\"#EBF0F8\",\"ticks\":\"\",\"title\":{\"standoff\":15},\"zerolinecolor\":\"#EBF0F8\",\"zerolinewidth\":2},\"yaxis\":{\"automargin\":true,\"gridcolor\":\"#EBF0F8\",\"linecolor\":\"#EBF0F8\",\"ticks\":\"\",\"title\":{\"standoff\":15},\"zerolinecolor\":\"#EBF0F8\",\"zerolinewidth\":2}}},\"xaxis\":{\"anchor\":\"y\",\"domain\":[0.0,1.0],\"title\":{\"text\":\"Rushing Output\"}},\"yaxis\":{\"anchor\":\"x\",\"domain\":[0.0,1.0],\"title\":{\"text\":\"Passing Output\"}},\"legend\":{\"title\":{\"text\":\"Division\"},\"tracegroupgap\":0},\"margin\":{\"t\":30,\"l\":30,\"r\":30,\"b\":30},\"shapes\":[{\"line\":{\"color\":\"gray\",\"dash\":\"dash\"},\"opacity\":0.7,\"type\":\"line\",\"x0\":0,\"x1\":1,\"xref\":\"x domain\",\"y0\":16.59445714285714,\"y1\":16.59445714285714,\"yref\":\"y\"},{\"line\":{\"color\":\"gray\",\"dash\":\"dash\"},\"opacity\":0.7,\"type\":\"line\",\"x0\":6.6139714285714275,\"x1\":6.6139714285714275,\"xref\":\"x\",\"y0\":0,\"y1\":1,\"yref\":\"y domain\"}],\"annotations\":[{\"showarrow\":false,\"text\":\"average passing output\",\"x\":0,\"xanchor\":\"left\",\"xref\":\"x domain\",\"y\":16.59445714285714,\"yanchor\":\"bottom\",\"yref\":\"y\"},{\"showarrow\":false,\"text\":\"average rushing output\",\"x\":6.6139714285714275,\"xanchor\":\"right\",\"xref\":\"x\",\"y\":1,\"yanchor\":\"top\",\"yref\":\"y domain\"}],\"title\":{\"text\":\"Offensive output\"}},                        {\"responsive\": true}                    )                };                            </script>        </div>"
      ],
      "text/plain": [
       "Figure({\n",
       "    'data': [{'customdata': array([['NE', 6.584, 16.406, 'AFC East'],\n",
       "                                   ['BUF', 6.915, 16.03, 'AFC East'],\n",
       "                                   ['MIA', 6.767, 17.25, 'AFC East'],\n",
       "                                   ['NYJ', 6.126, 16.663, 'AFC East']], dtype=object),\n",
       "              'hovertemplate': ('Division=%{customdata[3]}<br>R' ... '{customdata[0]}<extra></extra>'),\n",
       "              'legendgroup': 'AFC East',\n",
       "              'marker': {'color': '#800000', 'symbol': 'circle'},\n",
       "              'mode': 'markers',\n",
       "              'name': 'AFC East',\n",
       "              'orientation': 'v',\n",
       "              'showlegend': True,\n",
       "              'type': 'scatter',\n",
       "              'x': array([6.521, 6.526, 6.552, 6.497]),\n",
       "              'xaxis': 'x',\n",
       "              'y': array([16.921, 16.119, 15.948, 16.567]),\n",
       "              'yaxis': 'y'},\n",
       "             {'customdata': array([['BLT', 6.167, 16.426, 'AFC North'],\n",
       "                                   ['PIT', 6.535, 16.52, 'AFC North'],\n",
       "                                   ['CIN', 6.914, 16.419, 'AFC North'],\n",
       "                                   ['CLV', 6.797, 16.493, 'AFC North']], dtype=object),\n",
       "              'hovertemplate': ('Division=%{customdata[3]}<br>R' ... '{customdata[0]}<extra></extra>'),\n",
       "              'legendgroup': 'AFC North',\n",
       "              'marker': {'color': '#e60000', 'symbol': 'circle'},\n",
       "              'mode': 'markers',\n",
       "              'name': 'AFC North',\n",
       "              'orientation': 'v',\n",
       "              'showlegend': True,\n",
       "              'type': 'scatter',\n",
       "              'x': array([6.848, 6.415, 6.31 , 7.219]),\n",
       "              'xaxis': 'x',\n",
       "              'y': array([15.508, 16.214, 16.733, 16.854]),\n",
       "              'yaxis': 'y'},\n",
       "             {'customdata': array([['HST', 6.933, 16.979, 'AFC South'],\n",
       "                                   ['TEN', 6.318, 16.482, 'AFC South'],\n",
       "                                   ['JAX', 6.545, 16.65, 'AFC South'],\n",
       "                                   ['IND', 6.454, 16.614, 'AFC South']], dtype=object),\n",
       "              'hovertemplate': ('Division=%{customdata[3]}<br>R' ... '{customdata[0]}<extra></extra>'),\n",
       "              'legendgroup': 'AFC South',\n",
       "              'marker': {'color': '#ff4d4d', 'symbol': 'circle'},\n",
       "              'mode': 'markers',\n",
       "              'name': 'AFC South',\n",
       "              'orientation': 'v',\n",
       "              'showlegend': True,\n",
       "              'type': 'scatter',\n",
       "              'x': array([6.192, 7.133, 6.486, 6.516]),\n",
       "              'xaxis': 'x',\n",
       "              'y': array([16.017, 16.717, 16.136, 16.371]),\n",
       "              'yaxis': 'y'},\n",
       "             {'customdata': array([['SD', 6.454, 17.64, 'AFC West'],\n",
       "                                   ['LAC', 7.529, 16.0, 'AFC West'],\n",
       "                                   ['LV', 7.11, 15.763, 'AFC West'],\n",
       "                                   ['OAK', 6.374, 17.862, 'AFC West'],\n",
       "                                   ['DEN', 6.269, 16.229, 'AFC West'],\n",
       "                                   ['KC', 6.98, 16.736, 'AFC West']], dtype=object),\n",
       "              'hovertemplate': ('Division=%{customdata[3]}<br>R' ... '{customdata[0]}<extra></extra>'),\n",
       "              'legendgroup': 'AFC West',\n",
       "              'marker': {'color': '#ff6666', 'symbol': 'circle'},\n",
       "              'mode': 'markers',\n",
       "              'name': 'AFC West',\n",
       "              'orientation': 'v',\n",
       "              'showlegend': True,\n",
       "              'type': 'scatter',\n",
       "              'x': array([5.886, 6.548, 7.19 , 6.674, 6.592, 6.684]),\n",
       "              'xaxis': 'x',\n",
       "              'y': array([17.231, 17.03 , 16.939, 16.211, 16.505, 17.701]),\n",
       "              'yaxis': 'y'},\n",
       "             {'customdata': array([['WAS', 6.74, 16.872, 'NFC East'],\n",
       "                                   ['PHI', 6.608, 16.666, 'NFC East'],\n",
       "                                   ['NYG', 6.589, 16.765, 'NFC East'],\n",
       "                                   ['DAL', 6.78, 16.594, 'NFC East']], dtype=object),\n",
       "              'hovertemplate': ('Division=%{customdata[3]}<br>R' ... '{customdata[0]}<extra></extra>'),\n",
       "              'legendgroup': 'NFC East',\n",
       "              'marker': {'color': '#0000cc', 'symbol': 'circle'},\n",
       "              'mode': 'markers',\n",
       "              'name': 'NFC East',\n",
       "              'orientation': 'v',\n",
       "              'showlegend': True,\n",
       "              'type': 'scatter',\n",
       "              'x': array([6.593, 6.725, 6.452, 7.215]),\n",
       "              'xaxis': 'x',\n",
       "              'y': array([16.551, 16.717, 15.906, 16.457]),\n",
       "              'yaxis': 'y'},\n",
       "             {'customdata': array([['MIN', 6.571, 16.397, 'NFC North'],\n",
       "                                   ['DET', 6.771, 16.879, 'NFC North'],\n",
       "                                   ['CHI', 6.689, 16.482, 'NFC North'],\n",
       "                                   ['GB', 6.836, 17.409, 'NFC North']], dtype=object),\n",
       "              'hovertemplate': ('Division=%{customdata[3]}<br>R' ... '{customdata[0]}<extra></extra>'),\n",
       "              'legendgroup': 'NFC North',\n",
       "              'marker': {'color': '#00001a', 'symbol': 'circle'},\n",
       "              'mode': 'markers',\n",
       "              'name': 'NFC North',\n",
       "              'orientation': 'v',\n",
       "              'showlegend': True,\n",
       "              'type': 'scatter',\n",
       "              'x': array([6.801, 6.339, 6.456, 6.951]),\n",
       "              'xaxis': 'x',\n",
       "              'y': array([16.148, 16.998, 15.743, 17.113]),\n",
       "              'yaxis': 'y'},\n",
       "             {'customdata': array([['CAR', 6.829, 15.842, 'NFC South'],\n",
       "                                   ['NO', 6.557, 16.957, 'NFC South'],\n",
       "                                   ['TB', 6.39, 15.924, 'NFC South'],\n",
       "                                   ['ATL', 6.806, 16.462, 'NFC South']], dtype=object),\n",
       "              'hovertemplate': ('Division=%{customdata[3]}<br>R' ... '{customdata[0]}<extra></extra>'),\n",
       "              'legendgroup': 'NFC South',\n",
       "              'marker': {'color': '#000066', 'symbol': 'circle'},\n",
       "              'mode': 'markers',\n",
       "              'name': 'NFC South',\n",
       "              'orientation': 'v',\n",
       "              'showlegend': True,\n",
       "              'type': 'scatter',\n",
       "              'x': array([6.598, 6.74 , 6.327, 6.511]),\n",
       "              'xaxis': 'x',\n",
       "              'y': array([16.896, 16.41 , 16.488, 16.275]),\n",
       "              'yaxis': 'y'},\n",
       "             {'customdata': array([['SF', 6.253, 16.078, 'NFC West'],\n",
       "                                   ['SEA', 6.272, 16.078, 'NFC West'],\n",
       "                                   ['LA', 6.707, 16.288, 'NFC West'],\n",
       "                                   ['ARZ', 6.722, 16.618, 'NFC West'],\n",
       "                                   ['SL', 6.163, 17.309, 'NFC West']], dtype=object),\n",
       "              'hovertemplate': ('Division=%{customdata[3]}<br>R' ... '{customdata[0]}<extra></extra>'),\n",
       "              'legendgroup': 'NFC West',\n",
       "              'marker': {'color': '#9999ff', 'symbol': 'circle'},\n",
       "              'mode': 'markers',\n",
       "              'name': 'NFC West',\n",
       "              'orientation': 'v',\n",
       "              'showlegend': True,\n",
       "              'type': 'scatter',\n",
       "              'x': array([6.718, 6.986, 6.618, 6.219, 6.451]),\n",
       "              'xaxis': 'x',\n",
       "              'y': array([18.058, 17.195, 17.161, 16.207, 16.761]),\n",
       "              'yaxis': 'y'}],\n",
       "    'layout': {'annotations': [{'showarrow': False,\n",
       "                                'text': 'average passing output',\n",
       "                                'x': 0,\n",
       "                                'xanchor': 'left',\n",
       "                                'xref': 'x domain',\n",
       "                                'y': 16.59445714285714,\n",
       "                                'yanchor': 'bottom',\n",
       "                                'yref': 'y'},\n",
       "                               {'showarrow': False,\n",
       "                                'text': 'average rushing output',\n",
       "                                'x': 6.6139714285714275,\n",
       "                                'xanchor': 'right',\n",
       "                                'xref': 'x',\n",
       "                                'y': 1,\n",
       "                                'yanchor': 'top',\n",
       "                                'yref': 'y domain'}],\n",
       "               'legend': {'title': {'text': 'Division'}, 'tracegroupgap': 0},\n",
       "               'margin': {'b': 30, 'l': 30, 'r': 30, 't': 30},\n",
       "               'shapes': [{'line': {'color': 'gray', 'dash': 'dash'},\n",
       "                           'opacity': 0.7,\n",
       "                           'type': 'line',\n",
       "                           'x0': 0,\n",
       "                           'x1': 1,\n",
       "                           'xref': 'x domain',\n",
       "                           'y0': 16.59445714285714,\n",
       "                           'y1': 16.59445714285714,\n",
       "                           'yref': 'y'},\n",
       "                          {'line': {'color': 'gray', 'dash': 'dash'},\n",
       "                           'opacity': 0.7,\n",
       "                           'type': 'line',\n",
       "                           'x0': 6.6139714285714275,\n",
       "                           'x1': 6.6139714285714275,\n",
       "                           'xref': 'x',\n",
       "                           'y0': 0,\n",
       "                           'y1': 1,\n",
       "                           'yref': 'y domain'}],\n",
       "               'template': '...',\n",
       "               'title': {'text': 'Offensive output'},\n",
       "               'xaxis': {'anchor': 'y', 'domain': [0.0, 1.0], 'title': {'text': 'Rushing Output'}},\n",
       "               'yaxis': {'anchor': 'x', 'domain': [0.0, 1.0], 'title': {'text': 'Passing Output'}}}\n",
       "})"
      ]
     },
     "execution_count": 77,
     "metadata": {},
     "output_type": "execute_result"
    }
   ],
   "source": [
    "sns.set_theme(style = 'white')\n",
    "sns.set_style('ticks')\n",
    "sns.set_style({'font.family':'serif', 'font.serif':['Helvetica']})\n",
    "\n",
    "custom_colors = [\n",
    "                '#800000', # AFC E\n",
    "                '#e60000', # AFC N \n",
    "                '#ff4d4d', # AFC S\n",
    "                '#ff6666', # AFC W\n",
    "                \n",
    "                '#0000cc', # NFC E\n",
    "                '#00001a', # NFC N\n",
    "                '#000066', # NFC S\n",
    "                '#9999ff' # NFC W \n",
    "                ] \n",
    "\n",
    "\n",
    "fig = px.scatter(plotting_data, x = 'rush_off', y='pass_off',\n",
    "                 color = 'Divs', \n",
    "                 color_discrete_sequence= custom_colors,\n",
    "                 hover_data={\n",
    "                     'team':True,\n",
    "                     'rush_off': True,\n",
    "                     'pass_off': True,\n",
    "                     'rush_def': False,\n",
    "                     'pass_def': False,\n",
    "                     'Divs': True\n",
    "                 },\n",
    "                 labels={\n",
    "                     'team': 'Team Code',\n",
    "                     'Divs': 'Division',\n",
    "                     'rush_off': 'Rushing Output',\n",
    "                     'pass_off': 'Passing Output'\n",
    "                 },\n",
    "                 template = 'plotly_white')\n",
    "fig.add_hline(y = pass_off_avg, line_color = 'gray', line_dash = 'dash',\n",
    "              annotation_text = 'average passing output',\n",
    "              annotation_position = 'top left', opacity = 0.7)\n",
    "fig.add_vline(x = rush_off_avg, line_color = 'gray', line_dash = 'dash',\n",
    "              annotation_text = 'average rushing output',\n",
    "              annotation_position = 'top left', opacity = 0.7)\n",
    "\n",
    "\n",
    "fig.update_layout(margin=dict(l=30, r=30, t=30, b=30),\n",
    "                    title = 'Offensive output')"
   ]
  },
  {
   "cell_type": "code",
   "execution_count": 79,
   "metadata": {},
   "outputs": [
    {
     "ename": "ValueError",
     "evalue": "Mime type rendering requires nbformat>=4.2.0 but it is not installed",
     "output_type": "error",
     "traceback": [
      "\u001b[1;31m---------------------------------------------------------------------------\u001b[0m",
      "\u001b[1;31mValueError\u001b[0m                                Traceback (most recent call last)",
      "File \u001b[1;32m~\\AppData\\Local\\Packages\\PythonSoftwareFoundation.Python.3.11_qbz5n2kfra8p0\\LocalCache\\local-packages\\Python311\\site-packages\\IPython\\core\\formatters.py:922\u001b[0m, in \u001b[0;36mIPythonDisplayFormatter.__call__\u001b[1;34m(self, obj)\u001b[0m\n\u001b[0;32m    920\u001b[0m method \u001b[39m=\u001b[39m get_real_method(obj, \u001b[39mself\u001b[39m\u001b[39m.\u001b[39mprint_method)\n\u001b[0;32m    921\u001b[0m \u001b[39mif\u001b[39;00m method \u001b[39mis\u001b[39;00m \u001b[39mnot\u001b[39;00m \u001b[39mNone\u001b[39;00m:\n\u001b[1;32m--> 922\u001b[0m     method()\n\u001b[0;32m    923\u001b[0m     \u001b[39mreturn\u001b[39;00m \u001b[39mTrue\u001b[39;00m\n",
      "File \u001b[1;32m~\\AppData\\Local\\Packages\\PythonSoftwareFoundation.Python.3.11_qbz5n2kfra8p0\\LocalCache\\local-packages\\Python311\\site-packages\\plotly\\basedatatypes.py:832\u001b[0m, in \u001b[0;36mBaseFigure._ipython_display_\u001b[1;34m(self)\u001b[0m\n\u001b[0;32m    829\u001b[0m \u001b[39mimport\u001b[39;00m \u001b[39mplotly\u001b[39;00m\u001b[39m.\u001b[39;00m\u001b[39mio\u001b[39;00m \u001b[39mas\u001b[39;00m \u001b[39mpio\u001b[39;00m\n\u001b[0;32m    831\u001b[0m \u001b[39mif\u001b[39;00m pio\u001b[39m.\u001b[39mrenderers\u001b[39m.\u001b[39mrender_on_display \u001b[39mand\u001b[39;00m pio\u001b[39m.\u001b[39mrenderers\u001b[39m.\u001b[39mdefault:\n\u001b[1;32m--> 832\u001b[0m     pio\u001b[39m.\u001b[39;49mshow(\u001b[39mself\u001b[39;49m)\n\u001b[0;32m    833\u001b[0m \u001b[39melse\u001b[39;00m:\n\u001b[0;32m    834\u001b[0m     \u001b[39mprint\u001b[39m(\u001b[39mrepr\u001b[39m(\u001b[39mself\u001b[39m))\n",
      "File \u001b[1;32m~\\AppData\\Local\\Packages\\PythonSoftwareFoundation.Python.3.11_qbz5n2kfra8p0\\LocalCache\\local-packages\\Python311\\site-packages\\plotly\\io\\_renderers.py:394\u001b[0m, in \u001b[0;36mshow\u001b[1;34m(fig, renderer, validate, **kwargs)\u001b[0m\n\u001b[0;32m    389\u001b[0m         \u001b[39mraise\u001b[39;00m \u001b[39mValueError\u001b[39;00m(\n\u001b[0;32m    390\u001b[0m             \u001b[39m\"\u001b[39m\u001b[39mMime type rendering requires ipython but it is not installed\u001b[39m\u001b[39m\"\u001b[39m\n\u001b[0;32m    391\u001b[0m         )\n\u001b[0;32m    393\u001b[0m     \u001b[39mif\u001b[39;00m \u001b[39mnot\u001b[39;00m nbformat \u001b[39mor\u001b[39;00m Version(nbformat\u001b[39m.\u001b[39m__version__) \u001b[39m<\u001b[39m Version(\u001b[39m\"\u001b[39m\u001b[39m4.2.0\u001b[39m\u001b[39m\"\u001b[39m):\n\u001b[1;32m--> 394\u001b[0m         \u001b[39mraise\u001b[39;00m \u001b[39mValueError\u001b[39;00m(\n\u001b[0;32m    395\u001b[0m             \u001b[39m\"\u001b[39m\u001b[39mMime type rendering requires nbformat>=4.2.0 but it is not installed\u001b[39m\u001b[39m\"\u001b[39m\n\u001b[0;32m    396\u001b[0m         )\n\u001b[0;32m    398\u001b[0m     ipython_display\u001b[39m.\u001b[39mdisplay(bundle, raw\u001b[39m=\u001b[39m\u001b[39mTrue\u001b[39;00m)\n\u001b[0;32m    400\u001b[0m \u001b[39m# external renderers\u001b[39;00m\n",
      "\u001b[1;31mValueError\u001b[0m: Mime type rendering requires nbformat>=4.2.0 but it is not installed"
     ]
    },
    {
     "data": {
      "application/vnd.plotly.v1+json": {
       "config": {
        "plotlyServerURL": "https://plot.ly"
       },
       "data": [
        {
         "customdata": [
          [
           "NE",
           6.521,
           16.921,
           "AFC East"
          ],
          [
           "BUF",
           6.526,
           16.119,
           "AFC East"
          ],
          [
           "MIA",
           6.552,
           15.948,
           "AFC East"
          ],
          [
           "NYJ",
           6.497,
           16.567,
           "AFC East"
          ]
         ],
         "hovertemplate": "Division=%{customdata[3]}<br>Team Code=%{customdata[0]}<br>Rushing Output=%{customdata[1]}<br>Passing Output=%{customdata[2]}<extra></extra>",
         "legendgroup": "AFC East",
         "marker": {
          "color": "#800000",
          "symbol": "circle"
         },
         "mode": "markers",
         "name": "AFC East",
         "orientation": "v",
         "showlegend": true,
         "type": "scatter",
         "x": [
          6.584,
          6.915,
          6.767,
          6.126
         ],
         "xaxis": "x",
         "y": [
          16.406,
          16.03,
          17.25,
          16.663
         ],
         "yaxis": "y"
        },
        {
         "customdata": [
          [
           "BLT",
           6.848,
           15.508,
           "AFC North"
          ],
          [
           "PIT",
           6.415,
           16.214,
           "AFC North"
          ],
          [
           "CIN",
           6.31,
           16.733,
           "AFC North"
          ],
          [
           "CLV",
           7.219,
           16.854,
           "AFC North"
          ]
         ],
         "hovertemplate": "Division=%{customdata[3]}<br>Team Code=%{customdata[0]}<br>Rushing Output=%{customdata[1]}<br>Passing Output=%{customdata[2]}<extra></extra>",
         "legendgroup": "AFC North",
         "marker": {
          "color": "#e60000",
          "symbol": "circle"
         },
         "mode": "markers",
         "name": "AFC North",
         "orientation": "v",
         "showlegend": true,
         "type": "scatter",
         "x": [
          6.167,
          6.535,
          6.914,
          6.797
         ],
         "xaxis": "x",
         "y": [
          16.426,
          16.52,
          16.419,
          16.493
         ],
         "yaxis": "y"
        },
        {
         "customdata": [
          [
           "HST",
           6.192,
           16.017,
           "AFC South"
          ],
          [
           "TEN",
           7.133,
           16.717,
           "AFC South"
          ],
          [
           "JAX",
           6.486,
           16.136,
           "AFC South"
          ],
          [
           "IND",
           6.516,
           16.371,
           "AFC South"
          ]
         ],
         "hovertemplate": "Division=%{customdata[3]}<br>Team Code=%{customdata[0]}<br>Rushing Output=%{customdata[1]}<br>Passing Output=%{customdata[2]}<extra></extra>",
         "legendgroup": "AFC South",
         "marker": {
          "color": "#ff4d4d",
          "symbol": "circle"
         },
         "mode": "markers",
         "name": "AFC South",
         "orientation": "v",
         "showlegend": true,
         "type": "scatter",
         "x": [
          6.933,
          6.318,
          6.545,
          6.454
         ],
         "xaxis": "x",
         "y": [
          16.979,
          16.482,
          16.65,
          16.614
         ],
         "yaxis": "y"
        },
        {
         "customdata": [
          [
           "SD",
           5.886,
           17.231,
           "AFC West"
          ],
          [
           "LAC",
           6.548,
           17.03,
           "AFC West"
          ],
          [
           "LV",
           7.19,
           16.939,
           "AFC West"
          ],
          [
           "OAK",
           6.674,
           16.211,
           "AFC West"
          ],
          [
           "DEN",
           6.592,
           16.505,
           "AFC West"
          ],
          [
           "KC",
           6.684,
           17.701,
           "AFC West"
          ]
         ],
         "hovertemplate": "Division=%{customdata[3]}<br>Team Code=%{customdata[0]}<br>Rushing Output=%{customdata[1]}<br>Passing Output=%{customdata[2]}<extra></extra>",
         "legendgroup": "AFC West",
         "marker": {
          "color": "#ff6666",
          "symbol": "circle"
         },
         "mode": "markers",
         "name": "AFC West",
         "orientation": "v",
         "showlegend": true,
         "type": "scatter",
         "x": [
          6.454,
          7.529,
          7.11,
          6.374,
          6.269,
          6.98
         ],
         "xaxis": "x",
         "y": [
          17.64,
          16,
          15.763,
          17.862,
          16.229,
          16.736
         ],
         "yaxis": "y"
        },
        {
         "customdata": [
          [
           "WAS",
           6.593,
           16.551,
           "NFC East"
          ],
          [
           "PHI",
           6.725,
           16.717,
           "NFC East"
          ],
          [
           "NYG",
           6.452,
           15.906,
           "NFC East"
          ],
          [
           "DAL",
           7.215,
           16.457,
           "NFC East"
          ]
         ],
         "hovertemplate": "Division=%{customdata[3]}<br>Team Code=%{customdata[0]}<br>Rushing Output=%{customdata[1]}<br>Passing Output=%{customdata[2]}<extra></extra>",
         "legendgroup": "NFC East",
         "marker": {
          "color": "#0000cc",
          "symbol": "circle"
         },
         "mode": "markers",
         "name": "NFC East",
         "orientation": "v",
         "showlegend": true,
         "type": "scatter",
         "x": [
          6.74,
          6.608,
          6.589,
          6.78
         ],
         "xaxis": "x",
         "y": [
          16.872,
          16.666,
          16.765,
          16.594
         ],
         "yaxis": "y"
        },
        {
         "customdata": [
          [
           "MIN",
           6.801,
           16.148,
           "NFC North"
          ],
          [
           "DET",
           6.339,
           16.998,
           "NFC North"
          ],
          [
           "CHI",
           6.456,
           15.743,
           "NFC North"
          ],
          [
           "GB",
           6.951,
           17.113,
           "NFC North"
          ]
         ],
         "hovertemplate": "Division=%{customdata[3]}<br>Team Code=%{customdata[0]}<br>Rushing Output=%{customdata[1]}<br>Passing Output=%{customdata[2]}<extra></extra>",
         "legendgroup": "NFC North",
         "marker": {
          "color": "#00001a",
          "symbol": "circle"
         },
         "mode": "markers",
         "name": "NFC North",
         "orientation": "v",
         "showlegend": true,
         "type": "scatter",
         "x": [
          6.571,
          6.771,
          6.689,
          6.836
         ],
         "xaxis": "x",
         "y": [
          16.397,
          16.879,
          16.482,
          17.409
         ],
         "yaxis": "y"
        },
        {
         "customdata": [
          [
           "CAR",
           6.598,
           16.896,
           "NFC South"
          ],
          [
           "NO",
           6.74,
           16.41,
           "NFC South"
          ],
          [
           "TB",
           6.327,
           16.488,
           "NFC South"
          ],
          [
           "ATL",
           6.511,
           16.275,
           "NFC South"
          ]
         ],
         "hovertemplate": "Division=%{customdata[3]}<br>Team Code=%{customdata[0]}<br>Rushing Output=%{customdata[1]}<br>Passing Output=%{customdata[2]}<extra></extra>",
         "legendgroup": "NFC South",
         "marker": {
          "color": "#000066",
          "symbol": "circle"
         },
         "mode": "markers",
         "name": "NFC South",
         "orientation": "v",
         "showlegend": true,
         "type": "scatter",
         "x": [
          6.829,
          6.557,
          6.39,
          6.806
         ],
         "xaxis": "x",
         "y": [
          15.842,
          16.957,
          15.924,
          16.462
         ],
         "yaxis": "y"
        },
        {
         "customdata": [
          [
           "SF",
           6.718,
           18.058,
           "NFC West"
          ],
          [
           "SEA",
           6.986,
           17.195,
           "NFC West"
          ],
          [
           "LA",
           6.618,
           17.161,
           "NFC West"
          ],
          [
           "ARZ",
           6.219,
           16.207,
           "NFC West"
          ],
          [
           "SL",
           6.451,
           16.761,
           "NFC West"
          ]
         ],
         "hovertemplate": "Division=%{customdata[3]}<br>Team Code=%{customdata[0]}<br>Rushing Output=%{customdata[1]}<br>Passing Output=%{customdata[2]}<extra></extra>",
         "legendgroup": "NFC West",
         "marker": {
          "color": "#9999ff",
          "symbol": "circle"
         },
         "mode": "markers",
         "name": "NFC West",
         "orientation": "v",
         "showlegend": true,
         "type": "scatter",
         "x": [
          6.253,
          6.272,
          6.707,
          6.722,
          6.163
         ],
         "xaxis": "x",
         "y": [
          16.078,
          16.078,
          16.288,
          16.618,
          17.309
         ],
         "yaxis": "y"
        }
       ],
       "layout": {
        "annotations": [
         {
          "showarrow": false,
          "text": "average passing concesssion",
          "x": 0,
          "xanchor": "left",
          "xref": "x domain",
          "y": 16.59377142857143,
          "yanchor": "bottom",
          "yref": "y"
         },
         {
          "showarrow": false,
          "text": "average rushing concesssion",
          "x": 6.630114285714286,
          "xanchor": "right",
          "xref": "x",
          "y": 1,
          "yanchor": "top",
          "yref": "y domain"
         }
        ],
        "legend": {
         "title": {
          "text": "Division"
         },
         "tracegroupgap": 0
        },
        "margin": {
         "b": 30,
         "l": 30,
         "r": 30,
         "t": 30
        },
        "shapes": [
         {
          "line": {
           "color": "gray",
           "dash": "dash"
          },
          "opacity": 0.7,
          "type": "line",
          "x0": 0,
          "x1": 1,
          "xref": "x domain",
          "y0": 16.59377142857143,
          "y1": 16.59377142857143,
          "yref": "y"
         },
         {
          "line": {
           "color": "gray",
           "dash": "dash"
          },
          "opacity": 0.7,
          "type": "line",
          "x0": 6.630114285714286,
          "x1": 6.630114285714286,
          "xref": "x",
          "y0": 0,
          "y1": 1,
          "yref": "y domain"
         }
        ],
        "template": {
         "data": {
          "bar": [
           {
            "error_x": {
             "color": "#2a3f5f"
            },
            "error_y": {
             "color": "#2a3f5f"
            },
            "marker": {
             "line": {
              "color": "white",
              "width": 0.5
             },
             "pattern": {
              "fillmode": "overlay",
              "size": 10,
              "solidity": 0.2
             }
            },
            "type": "bar"
           }
          ],
          "barpolar": [
           {
            "marker": {
             "line": {
              "color": "white",
              "width": 0.5
             },
             "pattern": {
              "fillmode": "overlay",
              "size": 10,
              "solidity": 0.2
             }
            },
            "type": "barpolar"
           }
          ],
          "carpet": [
           {
            "aaxis": {
             "endlinecolor": "#2a3f5f",
             "gridcolor": "#C8D4E3",
             "linecolor": "#C8D4E3",
             "minorgridcolor": "#C8D4E3",
             "startlinecolor": "#2a3f5f"
            },
            "baxis": {
             "endlinecolor": "#2a3f5f",
             "gridcolor": "#C8D4E3",
             "linecolor": "#C8D4E3",
             "minorgridcolor": "#C8D4E3",
             "startlinecolor": "#2a3f5f"
            },
            "type": "carpet"
           }
          ],
          "choropleth": [
           {
            "colorbar": {
             "outlinewidth": 0,
             "ticks": ""
            },
            "type": "choropleth"
           }
          ],
          "contour": [
           {
            "colorbar": {
             "outlinewidth": 0,
             "ticks": ""
            },
            "colorscale": [
             [
              0,
              "#0d0887"
             ],
             [
              0.1111111111111111,
              "#46039f"
             ],
             [
              0.2222222222222222,
              "#7201a8"
             ],
             [
              0.3333333333333333,
              "#9c179e"
             ],
             [
              0.4444444444444444,
              "#bd3786"
             ],
             [
              0.5555555555555556,
              "#d8576b"
             ],
             [
              0.6666666666666666,
              "#ed7953"
             ],
             [
              0.7777777777777778,
              "#fb9f3a"
             ],
             [
              0.8888888888888888,
              "#fdca26"
             ],
             [
              1,
              "#f0f921"
             ]
            ],
            "type": "contour"
           }
          ],
          "contourcarpet": [
           {
            "colorbar": {
             "outlinewidth": 0,
             "ticks": ""
            },
            "type": "contourcarpet"
           }
          ],
          "heatmap": [
           {
            "colorbar": {
             "outlinewidth": 0,
             "ticks": ""
            },
            "colorscale": [
             [
              0,
              "#0d0887"
             ],
             [
              0.1111111111111111,
              "#46039f"
             ],
             [
              0.2222222222222222,
              "#7201a8"
             ],
             [
              0.3333333333333333,
              "#9c179e"
             ],
             [
              0.4444444444444444,
              "#bd3786"
             ],
             [
              0.5555555555555556,
              "#d8576b"
             ],
             [
              0.6666666666666666,
              "#ed7953"
             ],
             [
              0.7777777777777778,
              "#fb9f3a"
             ],
             [
              0.8888888888888888,
              "#fdca26"
             ],
             [
              1,
              "#f0f921"
             ]
            ],
            "type": "heatmap"
           }
          ],
          "heatmapgl": [
           {
            "colorbar": {
             "outlinewidth": 0,
             "ticks": ""
            },
            "colorscale": [
             [
              0,
              "#0d0887"
             ],
             [
              0.1111111111111111,
              "#46039f"
             ],
             [
              0.2222222222222222,
              "#7201a8"
             ],
             [
              0.3333333333333333,
              "#9c179e"
             ],
             [
              0.4444444444444444,
              "#bd3786"
             ],
             [
              0.5555555555555556,
              "#d8576b"
             ],
             [
              0.6666666666666666,
              "#ed7953"
             ],
             [
              0.7777777777777778,
              "#fb9f3a"
             ],
             [
              0.8888888888888888,
              "#fdca26"
             ],
             [
              1,
              "#f0f921"
             ]
            ],
            "type": "heatmapgl"
           }
          ],
          "histogram": [
           {
            "marker": {
             "pattern": {
              "fillmode": "overlay",
              "size": 10,
              "solidity": 0.2
             }
            },
            "type": "histogram"
           }
          ],
          "histogram2d": [
           {
            "colorbar": {
             "outlinewidth": 0,
             "ticks": ""
            },
            "colorscale": [
             [
              0,
              "#0d0887"
             ],
             [
              0.1111111111111111,
              "#46039f"
             ],
             [
              0.2222222222222222,
              "#7201a8"
             ],
             [
              0.3333333333333333,
              "#9c179e"
             ],
             [
              0.4444444444444444,
              "#bd3786"
             ],
             [
              0.5555555555555556,
              "#d8576b"
             ],
             [
              0.6666666666666666,
              "#ed7953"
             ],
             [
              0.7777777777777778,
              "#fb9f3a"
             ],
             [
              0.8888888888888888,
              "#fdca26"
             ],
             [
              1,
              "#f0f921"
             ]
            ],
            "type": "histogram2d"
           }
          ],
          "histogram2dcontour": [
           {
            "colorbar": {
             "outlinewidth": 0,
             "ticks": ""
            },
            "colorscale": [
             [
              0,
              "#0d0887"
             ],
             [
              0.1111111111111111,
              "#46039f"
             ],
             [
              0.2222222222222222,
              "#7201a8"
             ],
             [
              0.3333333333333333,
              "#9c179e"
             ],
             [
              0.4444444444444444,
              "#bd3786"
             ],
             [
              0.5555555555555556,
              "#d8576b"
             ],
             [
              0.6666666666666666,
              "#ed7953"
             ],
             [
              0.7777777777777778,
              "#fb9f3a"
             ],
             [
              0.8888888888888888,
              "#fdca26"
             ],
             [
              1,
              "#f0f921"
             ]
            ],
            "type": "histogram2dcontour"
           }
          ],
          "mesh3d": [
           {
            "colorbar": {
             "outlinewidth": 0,
             "ticks": ""
            },
            "type": "mesh3d"
           }
          ],
          "parcoords": [
           {
            "line": {
             "colorbar": {
              "outlinewidth": 0,
              "ticks": ""
             }
            },
            "type": "parcoords"
           }
          ],
          "pie": [
           {
            "automargin": true,
            "type": "pie"
           }
          ],
          "scatter": [
           {
            "fillpattern": {
             "fillmode": "overlay",
             "size": 10,
             "solidity": 0.2
            },
            "type": "scatter"
           }
          ],
          "scatter3d": [
           {
            "line": {
             "colorbar": {
              "outlinewidth": 0,
              "ticks": ""
             }
            },
            "marker": {
             "colorbar": {
              "outlinewidth": 0,
              "ticks": ""
             }
            },
            "type": "scatter3d"
           }
          ],
          "scattercarpet": [
           {
            "marker": {
             "colorbar": {
              "outlinewidth": 0,
              "ticks": ""
             }
            },
            "type": "scattercarpet"
           }
          ],
          "scattergeo": [
           {
            "marker": {
             "colorbar": {
              "outlinewidth": 0,
              "ticks": ""
             }
            },
            "type": "scattergeo"
           }
          ],
          "scattergl": [
           {
            "marker": {
             "colorbar": {
              "outlinewidth": 0,
              "ticks": ""
             }
            },
            "type": "scattergl"
           }
          ],
          "scattermapbox": [
           {
            "marker": {
             "colorbar": {
              "outlinewidth": 0,
              "ticks": ""
             }
            },
            "type": "scattermapbox"
           }
          ],
          "scatterpolar": [
           {
            "marker": {
             "colorbar": {
              "outlinewidth": 0,
              "ticks": ""
             }
            },
            "type": "scatterpolar"
           }
          ],
          "scatterpolargl": [
           {
            "marker": {
             "colorbar": {
              "outlinewidth": 0,
              "ticks": ""
             }
            },
            "type": "scatterpolargl"
           }
          ],
          "scatterternary": [
           {
            "marker": {
             "colorbar": {
              "outlinewidth": 0,
              "ticks": ""
             }
            },
            "type": "scatterternary"
           }
          ],
          "surface": [
           {
            "colorbar": {
             "outlinewidth": 0,
             "ticks": ""
            },
            "colorscale": [
             [
              0,
              "#0d0887"
             ],
             [
              0.1111111111111111,
              "#46039f"
             ],
             [
              0.2222222222222222,
              "#7201a8"
             ],
             [
              0.3333333333333333,
              "#9c179e"
             ],
             [
              0.4444444444444444,
              "#bd3786"
             ],
             [
              0.5555555555555556,
              "#d8576b"
             ],
             [
              0.6666666666666666,
              "#ed7953"
             ],
             [
              0.7777777777777778,
              "#fb9f3a"
             ],
             [
              0.8888888888888888,
              "#fdca26"
             ],
             [
              1,
              "#f0f921"
             ]
            ],
            "type": "surface"
           }
          ],
          "table": [
           {
            "cells": {
             "fill": {
              "color": "#EBF0F8"
             },
             "line": {
              "color": "white"
             }
            },
            "header": {
             "fill": {
              "color": "#C8D4E3"
             },
             "line": {
              "color": "white"
             }
            },
            "type": "table"
           }
          ]
         },
         "layout": {
          "annotationdefaults": {
           "arrowcolor": "#2a3f5f",
           "arrowhead": 0,
           "arrowwidth": 1
          },
          "autotypenumbers": "strict",
          "coloraxis": {
           "colorbar": {
            "outlinewidth": 0,
            "ticks": ""
           }
          },
          "colorscale": {
           "diverging": [
            [
             0,
             "#8e0152"
            ],
            [
             0.1,
             "#c51b7d"
            ],
            [
             0.2,
             "#de77ae"
            ],
            [
             0.3,
             "#f1b6da"
            ],
            [
             0.4,
             "#fde0ef"
            ],
            [
             0.5,
             "#f7f7f7"
            ],
            [
             0.6,
             "#e6f5d0"
            ],
            [
             0.7,
             "#b8e186"
            ],
            [
             0.8,
             "#7fbc41"
            ],
            [
             0.9,
             "#4d9221"
            ],
            [
             1,
             "#276419"
            ]
           ],
           "sequential": [
            [
             0,
             "#0d0887"
            ],
            [
             0.1111111111111111,
             "#46039f"
            ],
            [
             0.2222222222222222,
             "#7201a8"
            ],
            [
             0.3333333333333333,
             "#9c179e"
            ],
            [
             0.4444444444444444,
             "#bd3786"
            ],
            [
             0.5555555555555556,
             "#d8576b"
            ],
            [
             0.6666666666666666,
             "#ed7953"
            ],
            [
             0.7777777777777778,
             "#fb9f3a"
            ],
            [
             0.8888888888888888,
             "#fdca26"
            ],
            [
             1,
             "#f0f921"
            ]
           ],
           "sequentialminus": [
            [
             0,
             "#0d0887"
            ],
            [
             0.1111111111111111,
             "#46039f"
            ],
            [
             0.2222222222222222,
             "#7201a8"
            ],
            [
             0.3333333333333333,
             "#9c179e"
            ],
            [
             0.4444444444444444,
             "#bd3786"
            ],
            [
             0.5555555555555556,
             "#d8576b"
            ],
            [
             0.6666666666666666,
             "#ed7953"
            ],
            [
             0.7777777777777778,
             "#fb9f3a"
            ],
            [
             0.8888888888888888,
             "#fdca26"
            ],
            [
             1,
             "#f0f921"
            ]
           ]
          },
          "colorway": [
           "#636efa",
           "#EF553B",
           "#00cc96",
           "#ab63fa",
           "#FFA15A",
           "#19d3f3",
           "#FF6692",
           "#B6E880",
           "#FF97FF",
           "#FECB52"
          ],
          "font": {
           "color": "#2a3f5f"
          },
          "geo": {
           "bgcolor": "white",
           "lakecolor": "white",
           "landcolor": "white",
           "showlakes": true,
           "showland": true,
           "subunitcolor": "#C8D4E3"
          },
          "hoverlabel": {
           "align": "left"
          },
          "hovermode": "closest",
          "mapbox": {
           "style": "light"
          },
          "paper_bgcolor": "white",
          "plot_bgcolor": "white",
          "polar": {
           "angularaxis": {
            "gridcolor": "#EBF0F8",
            "linecolor": "#EBF0F8",
            "ticks": ""
           },
           "bgcolor": "white",
           "radialaxis": {
            "gridcolor": "#EBF0F8",
            "linecolor": "#EBF0F8",
            "ticks": ""
           }
          },
          "scene": {
           "xaxis": {
            "backgroundcolor": "white",
            "gridcolor": "#DFE8F3",
            "gridwidth": 2,
            "linecolor": "#EBF0F8",
            "showbackground": true,
            "ticks": "",
            "zerolinecolor": "#EBF0F8"
           },
           "yaxis": {
            "backgroundcolor": "white",
            "gridcolor": "#DFE8F3",
            "gridwidth": 2,
            "linecolor": "#EBF0F8",
            "showbackground": true,
            "ticks": "",
            "zerolinecolor": "#EBF0F8"
           },
           "zaxis": {
            "backgroundcolor": "white",
            "gridcolor": "#DFE8F3",
            "gridwidth": 2,
            "linecolor": "#EBF0F8",
            "showbackground": true,
            "ticks": "",
            "zerolinecolor": "#EBF0F8"
           }
          },
          "shapedefaults": {
           "line": {
            "color": "#2a3f5f"
           }
          },
          "ternary": {
           "aaxis": {
            "gridcolor": "#DFE8F3",
            "linecolor": "#A2B1C6",
            "ticks": ""
           },
           "baxis": {
            "gridcolor": "#DFE8F3",
            "linecolor": "#A2B1C6",
            "ticks": ""
           },
           "bgcolor": "white",
           "caxis": {
            "gridcolor": "#DFE8F3",
            "linecolor": "#A2B1C6",
            "ticks": ""
           }
          },
          "title": {
           "x": 0.05
          },
          "xaxis": {
           "automargin": true,
           "gridcolor": "#EBF0F8",
           "linecolor": "#EBF0F8",
           "ticks": "",
           "title": {
            "standoff": 15
           },
           "zerolinecolor": "#EBF0F8",
           "zerolinewidth": 2
          },
          "yaxis": {
           "automargin": true,
           "gridcolor": "#EBF0F8",
           "linecolor": "#EBF0F8",
           "ticks": "",
           "title": {
            "standoff": 15
           },
           "zerolinecolor": "#EBF0F8",
           "zerolinewidth": 2
          }
         }
        },
        "title": {
         "text": "Defensive Concessions"
        },
        "xaxis": {
         "anchor": "y",
         "domain": [
          0,
          1
         ],
         "title": {
          "text": "rush_def"
         }
        },
        "yaxis": {
         "anchor": "x",
         "domain": [
          0,
          1
         ],
         "title": {
          "text": "pass_def"
         }
        }
       }
      },
      "text/html": [
       "<div>                        <script type=\"text/javascript\">window.PlotlyConfig = {MathJaxConfig: 'local'};</script>\n",
       "        <script charset=\"utf-8\" src=\"https://cdn.plot.ly/plotly-2.27.0.min.js\"></script>                <div id=\"51dbe54e-ce33-4483-a4b1-51e1051d0285\" class=\"plotly-graph-div\" style=\"height:100%; width:100%;\"></div>            <script type=\"text/javascript\">                                    window.PLOTLYENV=window.PLOTLYENV || {};                                    if (document.getElementById(\"51dbe54e-ce33-4483-a4b1-51e1051d0285\")) {                    Plotly.newPlot(                        \"51dbe54e-ce33-4483-a4b1-51e1051d0285\",                        [{\"customdata\":[[\"NE\",6.521,16.921,\"AFC East\"],[\"BUF\",6.526,16.119,\"AFC East\"],[\"MIA\",6.552,15.948,\"AFC East\"],[\"NYJ\",6.497,16.567,\"AFC East\"]],\"hovertemplate\":\"Division=%{customdata[3]}\\u003cbr\\u003eTeam Code=%{customdata[0]}\\u003cbr\\u003eRushing Output=%{customdata[1]}\\u003cbr\\u003ePassing Output=%{customdata[2]}\\u003cextra\\u003e\\u003c\\u002fextra\\u003e\",\"legendgroup\":\"AFC East\",\"marker\":{\"color\":\"#800000\",\"symbol\":\"circle\"},\"mode\":\"markers\",\"name\":\"AFC East\",\"orientation\":\"v\",\"showlegend\":true,\"x\":[6.584,6.915,6.767,6.126],\"xaxis\":\"x\",\"y\":[16.406,16.03,17.25,16.663],\"yaxis\":\"y\",\"type\":\"scatter\"},{\"customdata\":[[\"BLT\",6.848,15.508,\"AFC North\"],[\"PIT\",6.415,16.214,\"AFC North\"],[\"CIN\",6.31,16.733,\"AFC North\"],[\"CLV\",7.219,16.854,\"AFC North\"]],\"hovertemplate\":\"Division=%{customdata[3]}\\u003cbr\\u003eTeam Code=%{customdata[0]}\\u003cbr\\u003eRushing Output=%{customdata[1]}\\u003cbr\\u003ePassing Output=%{customdata[2]}\\u003cextra\\u003e\\u003c\\u002fextra\\u003e\",\"legendgroup\":\"AFC North\",\"marker\":{\"color\":\"#e60000\",\"symbol\":\"circle\"},\"mode\":\"markers\",\"name\":\"AFC North\",\"orientation\":\"v\",\"showlegend\":true,\"x\":[6.167,6.535,6.914,6.797],\"xaxis\":\"x\",\"y\":[16.426,16.52,16.419,16.493],\"yaxis\":\"y\",\"type\":\"scatter\"},{\"customdata\":[[\"HST\",6.192,16.017,\"AFC South\"],[\"TEN\",7.133,16.717,\"AFC South\"],[\"JAX\",6.486,16.136,\"AFC South\"],[\"IND\",6.516,16.371,\"AFC South\"]],\"hovertemplate\":\"Division=%{customdata[3]}\\u003cbr\\u003eTeam Code=%{customdata[0]}\\u003cbr\\u003eRushing Output=%{customdata[1]}\\u003cbr\\u003ePassing Output=%{customdata[2]}\\u003cextra\\u003e\\u003c\\u002fextra\\u003e\",\"legendgroup\":\"AFC South\",\"marker\":{\"color\":\"#ff4d4d\",\"symbol\":\"circle\"},\"mode\":\"markers\",\"name\":\"AFC South\",\"orientation\":\"v\",\"showlegend\":true,\"x\":[6.933,6.318,6.545,6.454],\"xaxis\":\"x\",\"y\":[16.979,16.482,16.65,16.614],\"yaxis\":\"y\",\"type\":\"scatter\"},{\"customdata\":[[\"SD\",5.886,17.231,\"AFC West\"],[\"LAC\",6.548,17.03,\"AFC West\"],[\"LV\",7.19,16.939,\"AFC West\"],[\"OAK\",6.674,16.211,\"AFC West\"],[\"DEN\",6.592,16.505,\"AFC West\"],[\"KC\",6.684,17.701,\"AFC West\"]],\"hovertemplate\":\"Division=%{customdata[3]}\\u003cbr\\u003eTeam Code=%{customdata[0]}\\u003cbr\\u003eRushing Output=%{customdata[1]}\\u003cbr\\u003ePassing Output=%{customdata[2]}\\u003cextra\\u003e\\u003c\\u002fextra\\u003e\",\"legendgroup\":\"AFC West\",\"marker\":{\"color\":\"#ff6666\",\"symbol\":\"circle\"},\"mode\":\"markers\",\"name\":\"AFC West\",\"orientation\":\"v\",\"showlegend\":true,\"x\":[6.454,7.529,7.11,6.374,6.269,6.98],\"xaxis\":\"x\",\"y\":[17.64,16.0,15.763,17.862,16.229,16.736],\"yaxis\":\"y\",\"type\":\"scatter\"},{\"customdata\":[[\"WAS\",6.593,16.551,\"NFC East\"],[\"PHI\",6.725,16.717,\"NFC East\"],[\"NYG\",6.452,15.906,\"NFC East\"],[\"DAL\",7.215,16.457,\"NFC East\"]],\"hovertemplate\":\"Division=%{customdata[3]}\\u003cbr\\u003eTeam Code=%{customdata[0]}\\u003cbr\\u003eRushing Output=%{customdata[1]}\\u003cbr\\u003ePassing Output=%{customdata[2]}\\u003cextra\\u003e\\u003c\\u002fextra\\u003e\",\"legendgroup\":\"NFC East\",\"marker\":{\"color\":\"#0000cc\",\"symbol\":\"circle\"},\"mode\":\"markers\",\"name\":\"NFC East\",\"orientation\":\"v\",\"showlegend\":true,\"x\":[6.74,6.608,6.589,6.78],\"xaxis\":\"x\",\"y\":[16.872,16.666,16.765,16.594],\"yaxis\":\"y\",\"type\":\"scatter\"},{\"customdata\":[[\"MIN\",6.801,16.148,\"NFC North\"],[\"DET\",6.339,16.998,\"NFC North\"],[\"CHI\",6.456,15.743,\"NFC North\"],[\"GB\",6.951,17.113,\"NFC North\"]],\"hovertemplate\":\"Division=%{customdata[3]}\\u003cbr\\u003eTeam Code=%{customdata[0]}\\u003cbr\\u003eRushing Output=%{customdata[1]}\\u003cbr\\u003ePassing Output=%{customdata[2]}\\u003cextra\\u003e\\u003c\\u002fextra\\u003e\",\"legendgroup\":\"NFC North\",\"marker\":{\"color\":\"#00001a\",\"symbol\":\"circle\"},\"mode\":\"markers\",\"name\":\"NFC North\",\"orientation\":\"v\",\"showlegend\":true,\"x\":[6.571,6.771,6.689,6.836],\"xaxis\":\"x\",\"y\":[16.397,16.879,16.482,17.409],\"yaxis\":\"y\",\"type\":\"scatter\"},{\"customdata\":[[\"CAR\",6.598,16.896,\"NFC South\"],[\"NO\",6.74,16.41,\"NFC South\"],[\"TB\",6.327,16.488,\"NFC South\"],[\"ATL\",6.511,16.275,\"NFC South\"]],\"hovertemplate\":\"Division=%{customdata[3]}\\u003cbr\\u003eTeam Code=%{customdata[0]}\\u003cbr\\u003eRushing Output=%{customdata[1]}\\u003cbr\\u003ePassing Output=%{customdata[2]}\\u003cextra\\u003e\\u003c\\u002fextra\\u003e\",\"legendgroup\":\"NFC South\",\"marker\":{\"color\":\"#000066\",\"symbol\":\"circle\"},\"mode\":\"markers\",\"name\":\"NFC South\",\"orientation\":\"v\",\"showlegend\":true,\"x\":[6.829,6.557,6.39,6.806],\"xaxis\":\"x\",\"y\":[15.842,16.957,15.924,16.462],\"yaxis\":\"y\",\"type\":\"scatter\"},{\"customdata\":[[\"SF\",6.718,18.058,\"NFC West\"],[\"SEA\",6.986,17.195,\"NFC West\"],[\"LA\",6.618,17.161,\"NFC West\"],[\"ARZ\",6.219,16.207,\"NFC West\"],[\"SL\",6.451,16.761,\"NFC West\"]],\"hovertemplate\":\"Division=%{customdata[3]}\\u003cbr\\u003eTeam Code=%{customdata[0]}\\u003cbr\\u003eRushing Output=%{customdata[1]}\\u003cbr\\u003ePassing Output=%{customdata[2]}\\u003cextra\\u003e\\u003c\\u002fextra\\u003e\",\"legendgroup\":\"NFC West\",\"marker\":{\"color\":\"#9999ff\",\"symbol\":\"circle\"},\"mode\":\"markers\",\"name\":\"NFC West\",\"orientation\":\"v\",\"showlegend\":true,\"x\":[6.253,6.272,6.707,6.722,6.163],\"xaxis\":\"x\",\"y\":[16.078,16.078,16.288,16.618,17.309],\"yaxis\":\"y\",\"type\":\"scatter\"}],                        {\"template\":{\"data\":{\"barpolar\":[{\"marker\":{\"line\":{\"color\":\"white\",\"width\":0.5},\"pattern\":{\"fillmode\":\"overlay\",\"size\":10,\"solidity\":0.2}},\"type\":\"barpolar\"}],\"bar\":[{\"error_x\":{\"color\":\"#2a3f5f\"},\"error_y\":{\"color\":\"#2a3f5f\"},\"marker\":{\"line\":{\"color\":\"white\",\"width\":0.5},\"pattern\":{\"fillmode\":\"overlay\",\"size\":10,\"solidity\":0.2}},\"type\":\"bar\"}],\"carpet\":[{\"aaxis\":{\"endlinecolor\":\"#2a3f5f\",\"gridcolor\":\"#C8D4E3\",\"linecolor\":\"#C8D4E3\",\"minorgridcolor\":\"#C8D4E3\",\"startlinecolor\":\"#2a3f5f\"},\"baxis\":{\"endlinecolor\":\"#2a3f5f\",\"gridcolor\":\"#C8D4E3\",\"linecolor\":\"#C8D4E3\",\"minorgridcolor\":\"#C8D4E3\",\"startlinecolor\":\"#2a3f5f\"},\"type\":\"carpet\"}],\"choropleth\":[{\"colorbar\":{\"outlinewidth\":0,\"ticks\":\"\"},\"type\":\"choropleth\"}],\"contourcarpet\":[{\"colorbar\":{\"outlinewidth\":0,\"ticks\":\"\"},\"type\":\"contourcarpet\"}],\"contour\":[{\"colorbar\":{\"outlinewidth\":0,\"ticks\":\"\"},\"colorscale\":[[0.0,\"#0d0887\"],[0.1111111111111111,\"#46039f\"],[0.2222222222222222,\"#7201a8\"],[0.3333333333333333,\"#9c179e\"],[0.4444444444444444,\"#bd3786\"],[0.5555555555555556,\"#d8576b\"],[0.6666666666666666,\"#ed7953\"],[0.7777777777777778,\"#fb9f3a\"],[0.8888888888888888,\"#fdca26\"],[1.0,\"#f0f921\"]],\"type\":\"contour\"}],\"heatmapgl\":[{\"colorbar\":{\"outlinewidth\":0,\"ticks\":\"\"},\"colorscale\":[[0.0,\"#0d0887\"],[0.1111111111111111,\"#46039f\"],[0.2222222222222222,\"#7201a8\"],[0.3333333333333333,\"#9c179e\"],[0.4444444444444444,\"#bd3786\"],[0.5555555555555556,\"#d8576b\"],[0.6666666666666666,\"#ed7953\"],[0.7777777777777778,\"#fb9f3a\"],[0.8888888888888888,\"#fdca26\"],[1.0,\"#f0f921\"]],\"type\":\"heatmapgl\"}],\"heatmap\":[{\"colorbar\":{\"outlinewidth\":0,\"ticks\":\"\"},\"colorscale\":[[0.0,\"#0d0887\"],[0.1111111111111111,\"#46039f\"],[0.2222222222222222,\"#7201a8\"],[0.3333333333333333,\"#9c179e\"],[0.4444444444444444,\"#bd3786\"],[0.5555555555555556,\"#d8576b\"],[0.6666666666666666,\"#ed7953\"],[0.7777777777777778,\"#fb9f3a\"],[0.8888888888888888,\"#fdca26\"],[1.0,\"#f0f921\"]],\"type\":\"heatmap\"}],\"histogram2dcontour\":[{\"colorbar\":{\"outlinewidth\":0,\"ticks\":\"\"},\"colorscale\":[[0.0,\"#0d0887\"],[0.1111111111111111,\"#46039f\"],[0.2222222222222222,\"#7201a8\"],[0.3333333333333333,\"#9c179e\"],[0.4444444444444444,\"#bd3786\"],[0.5555555555555556,\"#d8576b\"],[0.6666666666666666,\"#ed7953\"],[0.7777777777777778,\"#fb9f3a\"],[0.8888888888888888,\"#fdca26\"],[1.0,\"#f0f921\"]],\"type\":\"histogram2dcontour\"}],\"histogram2d\":[{\"colorbar\":{\"outlinewidth\":0,\"ticks\":\"\"},\"colorscale\":[[0.0,\"#0d0887\"],[0.1111111111111111,\"#46039f\"],[0.2222222222222222,\"#7201a8\"],[0.3333333333333333,\"#9c179e\"],[0.4444444444444444,\"#bd3786\"],[0.5555555555555556,\"#d8576b\"],[0.6666666666666666,\"#ed7953\"],[0.7777777777777778,\"#fb9f3a\"],[0.8888888888888888,\"#fdca26\"],[1.0,\"#f0f921\"]],\"type\":\"histogram2d\"}],\"histogram\":[{\"marker\":{\"pattern\":{\"fillmode\":\"overlay\",\"size\":10,\"solidity\":0.2}},\"type\":\"histogram\"}],\"mesh3d\":[{\"colorbar\":{\"outlinewidth\":0,\"ticks\":\"\"},\"type\":\"mesh3d\"}],\"parcoords\":[{\"line\":{\"colorbar\":{\"outlinewidth\":0,\"ticks\":\"\"}},\"type\":\"parcoords\"}],\"pie\":[{\"automargin\":true,\"type\":\"pie\"}],\"scatter3d\":[{\"line\":{\"colorbar\":{\"outlinewidth\":0,\"ticks\":\"\"}},\"marker\":{\"colorbar\":{\"outlinewidth\":0,\"ticks\":\"\"}},\"type\":\"scatter3d\"}],\"scattercarpet\":[{\"marker\":{\"colorbar\":{\"outlinewidth\":0,\"ticks\":\"\"}},\"type\":\"scattercarpet\"}],\"scattergeo\":[{\"marker\":{\"colorbar\":{\"outlinewidth\":0,\"ticks\":\"\"}},\"type\":\"scattergeo\"}],\"scattergl\":[{\"marker\":{\"colorbar\":{\"outlinewidth\":0,\"ticks\":\"\"}},\"type\":\"scattergl\"}],\"scattermapbox\":[{\"marker\":{\"colorbar\":{\"outlinewidth\":0,\"ticks\":\"\"}},\"type\":\"scattermapbox\"}],\"scatterpolargl\":[{\"marker\":{\"colorbar\":{\"outlinewidth\":0,\"ticks\":\"\"}},\"type\":\"scatterpolargl\"}],\"scatterpolar\":[{\"marker\":{\"colorbar\":{\"outlinewidth\":0,\"ticks\":\"\"}},\"type\":\"scatterpolar\"}],\"scatter\":[{\"fillpattern\":{\"fillmode\":\"overlay\",\"size\":10,\"solidity\":0.2},\"type\":\"scatter\"}],\"scatterternary\":[{\"marker\":{\"colorbar\":{\"outlinewidth\":0,\"ticks\":\"\"}},\"type\":\"scatterternary\"}],\"surface\":[{\"colorbar\":{\"outlinewidth\":0,\"ticks\":\"\"},\"colorscale\":[[0.0,\"#0d0887\"],[0.1111111111111111,\"#46039f\"],[0.2222222222222222,\"#7201a8\"],[0.3333333333333333,\"#9c179e\"],[0.4444444444444444,\"#bd3786\"],[0.5555555555555556,\"#d8576b\"],[0.6666666666666666,\"#ed7953\"],[0.7777777777777778,\"#fb9f3a\"],[0.8888888888888888,\"#fdca26\"],[1.0,\"#f0f921\"]],\"type\":\"surface\"}],\"table\":[{\"cells\":{\"fill\":{\"color\":\"#EBF0F8\"},\"line\":{\"color\":\"white\"}},\"header\":{\"fill\":{\"color\":\"#C8D4E3\"},\"line\":{\"color\":\"white\"}},\"type\":\"table\"}]},\"layout\":{\"annotationdefaults\":{\"arrowcolor\":\"#2a3f5f\",\"arrowhead\":0,\"arrowwidth\":1},\"autotypenumbers\":\"strict\",\"coloraxis\":{\"colorbar\":{\"outlinewidth\":0,\"ticks\":\"\"}},\"colorscale\":{\"diverging\":[[0,\"#8e0152\"],[0.1,\"#c51b7d\"],[0.2,\"#de77ae\"],[0.3,\"#f1b6da\"],[0.4,\"#fde0ef\"],[0.5,\"#f7f7f7\"],[0.6,\"#e6f5d0\"],[0.7,\"#b8e186\"],[0.8,\"#7fbc41\"],[0.9,\"#4d9221\"],[1,\"#276419\"]],\"sequential\":[[0.0,\"#0d0887\"],[0.1111111111111111,\"#46039f\"],[0.2222222222222222,\"#7201a8\"],[0.3333333333333333,\"#9c179e\"],[0.4444444444444444,\"#bd3786\"],[0.5555555555555556,\"#d8576b\"],[0.6666666666666666,\"#ed7953\"],[0.7777777777777778,\"#fb9f3a\"],[0.8888888888888888,\"#fdca26\"],[1.0,\"#f0f921\"]],\"sequentialminus\":[[0.0,\"#0d0887\"],[0.1111111111111111,\"#46039f\"],[0.2222222222222222,\"#7201a8\"],[0.3333333333333333,\"#9c179e\"],[0.4444444444444444,\"#bd3786\"],[0.5555555555555556,\"#d8576b\"],[0.6666666666666666,\"#ed7953\"],[0.7777777777777778,\"#fb9f3a\"],[0.8888888888888888,\"#fdca26\"],[1.0,\"#f0f921\"]]},\"colorway\":[\"#636efa\",\"#EF553B\",\"#00cc96\",\"#ab63fa\",\"#FFA15A\",\"#19d3f3\",\"#FF6692\",\"#B6E880\",\"#FF97FF\",\"#FECB52\"],\"font\":{\"color\":\"#2a3f5f\"},\"geo\":{\"bgcolor\":\"white\",\"lakecolor\":\"white\",\"landcolor\":\"white\",\"showlakes\":true,\"showland\":true,\"subunitcolor\":\"#C8D4E3\"},\"hoverlabel\":{\"align\":\"left\"},\"hovermode\":\"closest\",\"mapbox\":{\"style\":\"light\"},\"paper_bgcolor\":\"white\",\"plot_bgcolor\":\"white\",\"polar\":{\"angularaxis\":{\"gridcolor\":\"#EBF0F8\",\"linecolor\":\"#EBF0F8\",\"ticks\":\"\"},\"bgcolor\":\"white\",\"radialaxis\":{\"gridcolor\":\"#EBF0F8\",\"linecolor\":\"#EBF0F8\",\"ticks\":\"\"}},\"scene\":{\"xaxis\":{\"backgroundcolor\":\"white\",\"gridcolor\":\"#DFE8F3\",\"gridwidth\":2,\"linecolor\":\"#EBF0F8\",\"showbackground\":true,\"ticks\":\"\",\"zerolinecolor\":\"#EBF0F8\"},\"yaxis\":{\"backgroundcolor\":\"white\",\"gridcolor\":\"#DFE8F3\",\"gridwidth\":2,\"linecolor\":\"#EBF0F8\",\"showbackground\":true,\"ticks\":\"\",\"zerolinecolor\":\"#EBF0F8\"},\"zaxis\":{\"backgroundcolor\":\"white\",\"gridcolor\":\"#DFE8F3\",\"gridwidth\":2,\"linecolor\":\"#EBF0F8\",\"showbackground\":true,\"ticks\":\"\",\"zerolinecolor\":\"#EBF0F8\"}},\"shapedefaults\":{\"line\":{\"color\":\"#2a3f5f\"}},\"ternary\":{\"aaxis\":{\"gridcolor\":\"#DFE8F3\",\"linecolor\":\"#A2B1C6\",\"ticks\":\"\"},\"baxis\":{\"gridcolor\":\"#DFE8F3\",\"linecolor\":\"#A2B1C6\",\"ticks\":\"\"},\"bgcolor\":\"white\",\"caxis\":{\"gridcolor\":\"#DFE8F3\",\"linecolor\":\"#A2B1C6\",\"ticks\":\"\"}},\"title\":{\"x\":0.05},\"xaxis\":{\"automargin\":true,\"gridcolor\":\"#EBF0F8\",\"linecolor\":\"#EBF0F8\",\"ticks\":\"\",\"title\":{\"standoff\":15},\"zerolinecolor\":\"#EBF0F8\",\"zerolinewidth\":2},\"yaxis\":{\"automargin\":true,\"gridcolor\":\"#EBF0F8\",\"linecolor\":\"#EBF0F8\",\"ticks\":\"\",\"title\":{\"standoff\":15},\"zerolinecolor\":\"#EBF0F8\",\"zerolinewidth\":2}}},\"xaxis\":{\"anchor\":\"y\",\"domain\":[0.0,1.0],\"title\":{\"text\":\"rush_def\"}},\"yaxis\":{\"anchor\":\"x\",\"domain\":[0.0,1.0],\"title\":{\"text\":\"pass_def\"}},\"legend\":{\"title\":{\"text\":\"Division\"},\"tracegroupgap\":0},\"margin\":{\"t\":30,\"l\":30,\"r\":30,\"b\":30},\"shapes\":[{\"line\":{\"color\":\"gray\",\"dash\":\"dash\"},\"opacity\":0.7,\"type\":\"line\",\"x0\":0,\"x1\":1,\"xref\":\"x domain\",\"y0\":16.59377142857143,\"y1\":16.59377142857143,\"yref\":\"y\"},{\"line\":{\"color\":\"gray\",\"dash\":\"dash\"},\"opacity\":0.7,\"type\":\"line\",\"x0\":6.630114285714286,\"x1\":6.630114285714286,\"xref\":\"x\",\"y0\":0,\"y1\":1,\"yref\":\"y domain\"}],\"annotations\":[{\"showarrow\":false,\"text\":\"average passing concesssion\",\"x\":0,\"xanchor\":\"left\",\"xref\":\"x domain\",\"y\":16.59377142857143,\"yanchor\":\"bottom\",\"yref\":\"y\"},{\"showarrow\":false,\"text\":\"average rushing concesssion\",\"x\":6.630114285714286,\"xanchor\":\"right\",\"xref\":\"x\",\"y\":1,\"yanchor\":\"top\",\"yref\":\"y domain\"}],\"title\":{\"text\":\"Defensive Concessions\"}},                        {\"responsive\": true}                    )                };                            </script>        </div>"
      ],
      "text/plain": [
       "Figure({\n",
       "    'data': [{'customdata': array([['NE', 6.521, 16.921, 'AFC East'],\n",
       "                                   ['BUF', 6.526, 16.119, 'AFC East'],\n",
       "                                   ['MIA', 6.552, 15.948, 'AFC East'],\n",
       "                                   ['NYJ', 6.497, 16.567, 'AFC East']], dtype=object),\n",
       "              'hovertemplate': ('Division=%{customdata[3]}<br>T' ... '{customdata[2]}<extra></extra>'),\n",
       "              'legendgroup': 'AFC East',\n",
       "              'marker': {'color': '#800000', 'symbol': 'circle'},\n",
       "              'mode': 'markers',\n",
       "              'name': 'AFC East',\n",
       "              'orientation': 'v',\n",
       "              'showlegend': True,\n",
       "              'type': 'scatter',\n",
       "              'x': array([6.584, 6.915, 6.767, 6.126]),\n",
       "              'xaxis': 'x',\n",
       "              'y': array([16.406, 16.03 , 17.25 , 16.663]),\n",
       "              'yaxis': 'y'},\n",
       "             {'customdata': array([['BLT', 6.848, 15.508, 'AFC North'],\n",
       "                                   ['PIT', 6.415, 16.214, 'AFC North'],\n",
       "                                   ['CIN', 6.31, 16.733, 'AFC North'],\n",
       "                                   ['CLV', 7.219, 16.854, 'AFC North']], dtype=object),\n",
       "              'hovertemplate': ('Division=%{customdata[3]}<br>T' ... '{customdata[2]}<extra></extra>'),\n",
       "              'legendgroup': 'AFC North',\n",
       "              'marker': {'color': '#e60000', 'symbol': 'circle'},\n",
       "              'mode': 'markers',\n",
       "              'name': 'AFC North',\n",
       "              'orientation': 'v',\n",
       "              'showlegend': True,\n",
       "              'type': 'scatter',\n",
       "              'x': array([6.167, 6.535, 6.914, 6.797]),\n",
       "              'xaxis': 'x',\n",
       "              'y': array([16.426, 16.52 , 16.419, 16.493]),\n",
       "              'yaxis': 'y'},\n",
       "             {'customdata': array([['HST', 6.192, 16.017, 'AFC South'],\n",
       "                                   ['TEN', 7.133, 16.717, 'AFC South'],\n",
       "                                   ['JAX', 6.486, 16.136, 'AFC South'],\n",
       "                                   ['IND', 6.516, 16.371, 'AFC South']], dtype=object),\n",
       "              'hovertemplate': ('Division=%{customdata[3]}<br>T' ... '{customdata[2]}<extra></extra>'),\n",
       "              'legendgroup': 'AFC South',\n",
       "              'marker': {'color': '#ff4d4d', 'symbol': 'circle'},\n",
       "              'mode': 'markers',\n",
       "              'name': 'AFC South',\n",
       "              'orientation': 'v',\n",
       "              'showlegend': True,\n",
       "              'type': 'scatter',\n",
       "              'x': array([6.933, 6.318, 6.545, 6.454]),\n",
       "              'xaxis': 'x',\n",
       "              'y': array([16.979, 16.482, 16.65 , 16.614]),\n",
       "              'yaxis': 'y'},\n",
       "             {'customdata': array([['SD', 5.886, 17.231, 'AFC West'],\n",
       "                                   ['LAC', 6.548, 17.03, 'AFC West'],\n",
       "                                   ['LV', 7.19, 16.939, 'AFC West'],\n",
       "                                   ['OAK', 6.674, 16.211, 'AFC West'],\n",
       "                                   ['DEN', 6.592, 16.505, 'AFC West'],\n",
       "                                   ['KC', 6.684, 17.701, 'AFC West']], dtype=object),\n",
       "              'hovertemplate': ('Division=%{customdata[3]}<br>T' ... '{customdata[2]}<extra></extra>'),\n",
       "              'legendgroup': 'AFC West',\n",
       "              'marker': {'color': '#ff6666', 'symbol': 'circle'},\n",
       "              'mode': 'markers',\n",
       "              'name': 'AFC West',\n",
       "              'orientation': 'v',\n",
       "              'showlegend': True,\n",
       "              'type': 'scatter',\n",
       "              'x': array([6.454, 7.529, 7.11 , 6.374, 6.269, 6.98 ]),\n",
       "              'xaxis': 'x',\n",
       "              'y': array([17.64 , 16.   , 15.763, 17.862, 16.229, 16.736]),\n",
       "              'yaxis': 'y'},\n",
       "             {'customdata': array([['WAS', 6.593, 16.551, 'NFC East'],\n",
       "                                   ['PHI', 6.725, 16.717, 'NFC East'],\n",
       "                                   ['NYG', 6.452, 15.906, 'NFC East'],\n",
       "                                   ['DAL', 7.215, 16.457, 'NFC East']], dtype=object),\n",
       "              'hovertemplate': ('Division=%{customdata[3]}<br>T' ... '{customdata[2]}<extra></extra>'),\n",
       "              'legendgroup': 'NFC East',\n",
       "              'marker': {'color': '#0000cc', 'symbol': 'circle'},\n",
       "              'mode': 'markers',\n",
       "              'name': 'NFC East',\n",
       "              'orientation': 'v',\n",
       "              'showlegend': True,\n",
       "              'type': 'scatter',\n",
       "              'x': array([6.74 , 6.608, 6.589, 6.78 ]),\n",
       "              'xaxis': 'x',\n",
       "              'y': array([16.872, 16.666, 16.765, 16.594]),\n",
       "              'yaxis': 'y'},\n",
       "             {'customdata': array([['MIN', 6.801, 16.148, 'NFC North'],\n",
       "                                   ['DET', 6.339, 16.998, 'NFC North'],\n",
       "                                   ['CHI', 6.456, 15.743, 'NFC North'],\n",
       "                                   ['GB', 6.951, 17.113, 'NFC North']], dtype=object),\n",
       "              'hovertemplate': ('Division=%{customdata[3]}<br>T' ... '{customdata[2]}<extra></extra>'),\n",
       "              'legendgroup': 'NFC North',\n",
       "              'marker': {'color': '#00001a', 'symbol': 'circle'},\n",
       "              'mode': 'markers',\n",
       "              'name': 'NFC North',\n",
       "              'orientation': 'v',\n",
       "              'showlegend': True,\n",
       "              'type': 'scatter',\n",
       "              'x': array([6.571, 6.771, 6.689, 6.836]),\n",
       "              'xaxis': 'x',\n",
       "              'y': array([16.397, 16.879, 16.482, 17.409]),\n",
       "              'yaxis': 'y'},\n",
       "             {'customdata': array([['CAR', 6.598, 16.896, 'NFC South'],\n",
       "                                   ['NO', 6.74, 16.41, 'NFC South'],\n",
       "                                   ['TB', 6.327, 16.488, 'NFC South'],\n",
       "                                   ['ATL', 6.511, 16.275, 'NFC South']], dtype=object),\n",
       "              'hovertemplate': ('Division=%{customdata[3]}<br>T' ... '{customdata[2]}<extra></extra>'),\n",
       "              'legendgroup': 'NFC South',\n",
       "              'marker': {'color': '#000066', 'symbol': 'circle'},\n",
       "              'mode': 'markers',\n",
       "              'name': 'NFC South',\n",
       "              'orientation': 'v',\n",
       "              'showlegend': True,\n",
       "              'type': 'scatter',\n",
       "              'x': array([6.829, 6.557, 6.39 , 6.806]),\n",
       "              'xaxis': 'x',\n",
       "              'y': array([15.842, 16.957, 15.924, 16.462]),\n",
       "              'yaxis': 'y'},\n",
       "             {'customdata': array([['SF', 6.718, 18.058, 'NFC West'],\n",
       "                                   ['SEA', 6.986, 17.195, 'NFC West'],\n",
       "                                   ['LA', 6.618, 17.161, 'NFC West'],\n",
       "                                   ['ARZ', 6.219, 16.207, 'NFC West'],\n",
       "                                   ['SL', 6.451, 16.761, 'NFC West']], dtype=object),\n",
       "              'hovertemplate': ('Division=%{customdata[3]}<br>T' ... '{customdata[2]}<extra></extra>'),\n",
       "              'legendgroup': 'NFC West',\n",
       "              'marker': {'color': '#9999ff', 'symbol': 'circle'},\n",
       "              'mode': 'markers',\n",
       "              'name': 'NFC West',\n",
       "              'orientation': 'v',\n",
       "              'showlegend': True,\n",
       "              'type': 'scatter',\n",
       "              'x': array([6.253, 6.272, 6.707, 6.722, 6.163]),\n",
       "              'xaxis': 'x',\n",
       "              'y': array([16.078, 16.078, 16.288, 16.618, 17.309]),\n",
       "              'yaxis': 'y'}],\n",
       "    'layout': {'annotations': [{'showarrow': False,\n",
       "                                'text': 'average passing concesssion',\n",
       "                                'x': 0,\n",
       "                                'xanchor': 'left',\n",
       "                                'xref': 'x domain',\n",
       "                                'y': 16.59377142857143,\n",
       "                                'yanchor': 'bottom',\n",
       "                                'yref': 'y'},\n",
       "                               {'showarrow': False,\n",
       "                                'text': 'average rushing concesssion',\n",
       "                                'x': 6.630114285714286,\n",
       "                                'xanchor': 'right',\n",
       "                                'xref': 'x',\n",
       "                                'y': 1,\n",
       "                                'yanchor': 'top',\n",
       "                                'yref': 'y domain'}],\n",
       "               'legend': {'title': {'text': 'Division'}, 'tracegroupgap': 0},\n",
       "               'margin': {'b': 30, 'l': 30, 'r': 30, 't': 30},\n",
       "               'shapes': [{'line': {'color': 'gray', 'dash': 'dash'},\n",
       "                           'opacity': 0.7,\n",
       "                           'type': 'line',\n",
       "                           'x0': 0,\n",
       "                           'x1': 1,\n",
       "                           'xref': 'x domain',\n",
       "                           'y0': 16.59377142857143,\n",
       "                           'y1': 16.59377142857143,\n",
       "                           'yref': 'y'},\n",
       "                          {'line': {'color': 'gray', 'dash': 'dash'},\n",
       "                           'opacity': 0.7,\n",
       "                           'type': 'line',\n",
       "                           'x0': 6.630114285714286,\n",
       "                           'x1': 6.630114285714286,\n",
       "                           'xref': 'x',\n",
       "                           'y0': 0,\n",
       "                           'y1': 1,\n",
       "                           'yref': 'y domain'}],\n",
       "               'template': '...',\n",
       "               'title': {'text': 'Defensive Concessions'},\n",
       "               'xaxis': {'anchor': 'y', 'domain': [0.0, 1.0], 'title': {'text': 'rush_def'}},\n",
       "               'yaxis': {'anchor': 'x', 'domain': [0.0, 1.0], 'title': {'text': 'pass_def'}}}\n",
       "})"
      ]
     },
     "execution_count": 79,
     "metadata": {},
     "output_type": "execute_result"
    }
   ],
   "source": [
    "sns.set_theme(style = 'white')\n",
    "sns.set_style('ticks')\n",
    "sns.set_style({'font.family':'serif', 'font.serif':['Helvetica']})\n",
    "\n",
    "\n",
    "custom_colors = [\n",
    "                '#800000', # AFC E\n",
    "                '#e60000', # AFC N \n",
    "                '#ff4d4d', # AFC S\n",
    "                '#ff6666', # AFC W\n",
    "                \n",
    "                '#0000cc', # NFC E\n",
    "                '#00001a', # NFC N\n",
    "                '#000066', # NFC S\n",
    "                '#9999ff' # NFC W \n",
    "                ] \n",
    "\n",
    "\n",
    "fig = px.scatter(plotting_data, x = 'rush_def', y='pass_def',\n",
    "                 color = 'Divs', \n",
    "                 color_discrete_sequence= custom_colors,\n",
    "                 hover_data={\n",
    "                     'team':True,\n",
    "                     'rush_off': True,\n",
    "                     'pass_off': True,\n",
    "                     'rush_def': False,\n",
    "                     'pass_def': False,\n",
    "                     'Divs': True\n",
    "                 },\n",
    "                 labels={\n",
    "                     'team': 'Team Code',\n",
    "                     'Divs': 'Division',\n",
    "                     'rush_off': 'Rushing Output',\n",
    "                     'pass_off': 'Passing Output'\n",
    "                 },\n",
    "                 template = 'plotly_white')\n",
    "fig.add_hline(y = pass_def_avg, line_color = 'gray', line_dash = 'dash',\n",
    "              annotation_text = 'average passing concesssion',\n",
    "              annotation_position = 'top left', opacity = 0.7)\n",
    "fig.add_vline(x = rush_def_avg, line_color = 'gray', line_dash = 'dash',\n",
    "              annotation_text = 'average rushing concesssion',\n",
    "              annotation_position = 'top left', opacity = 0.7)\n",
    "\n",
    "\n",
    "fig.update_layout(margin=dict(l=30, r=30, t=30, b=30),\n",
    "                    title = 'Defensive Concessions')"
   ]
  },
  {
   "cell_type": "markdown",
   "metadata": {},
   "source": [
    "## To Do 12/6\n",
    "\n",
    "* Defense Scatter\n",
    "* Adjust Scatter\n",
    "* Output over time"
   ]
  },
  {
   "cell_type": "code",
   "execution_count": null,
   "metadata": {},
   "outputs": [],
   "source": []
  }
 ],
 "metadata": {
  "kernelspec": {
   "display_name": "base",
   "language": "python",
   "name": "python3"
  },
  "language_info": {
   "codemirror_mode": {
    "name": "ipython",
    "version": 3
   },
   "file_extension": ".py",
   "mimetype": "text/x-python",
   "name": "python",
   "nbconvert_exporter": "python",
   "pygments_lexer": "ipython3",
   "version": "3.11.6"
  }
 },
 "nbformat": 4,
 "nbformat_minor": 2
}
